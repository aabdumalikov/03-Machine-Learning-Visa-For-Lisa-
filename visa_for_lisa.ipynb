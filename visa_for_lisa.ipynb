{
 "cells": [
  {
   "cell_type": "code",
   "outputs": [
    {
     "name": "stdout",
     "output_type": "stream",
     "text": [
      "Requirement already satisfied: scikit-learn in /home/aziz/PycharmProjects/LinearRegression/.venv/lib/python3.11/site-packages (1.4.1.post1)\r\n",
      "Requirement already satisfied: numpy<2.0,>=1.19.5 in /home/aziz/PycharmProjects/LinearRegression/.venv/lib/python3.11/site-packages (from scikit-learn) (1.26.4)\r\n",
      "Requirement already satisfied: scipy>=1.6.0 in /home/aziz/PycharmProjects/LinearRegression/.venv/lib/python3.11/site-packages (from scikit-learn) (1.12.0)\r\n",
      "Requirement already satisfied: joblib>=1.2.0 in /home/aziz/PycharmProjects/LinearRegression/.venv/lib/python3.11/site-packages (from scikit-learn) (1.3.2)\r\n",
      "Requirement already satisfied: threadpoolctl>=2.0.0 in /home/aziz/PycharmProjects/LinearRegression/.venv/lib/python3.11/site-packages (from scikit-learn) (3.3.0)\r\n",
      "\r\n",
      "\u001B[1m[\u001B[0m\u001B[34;49mnotice\u001B[0m\u001B[1;39;49m]\u001B[0m\u001B[39;49m A new release of pip is available: \u001B[0m\u001B[31;49m23.3.2\u001B[0m\u001B[39;49m -> \u001B[0m\u001B[32;49m24.0\u001B[0m\r\n",
      "\u001B[1m[\u001B[0m\u001B[34;49mnotice\u001B[0m\u001B[1;39;49m]\u001B[0m\u001B[39;49m To update, run: \u001B[0m\u001B[32;49mpip install --upgrade pip\u001B[0m\r\n",
      "Note: you may need to restart the kernel to use updated packages.\n"
     ]
    }
   ],
   "source": [
    "%pip install scikit-learn"
   ],
   "metadata": {
    "collapsed": false,
    "ExecuteTime": {
     "end_time": "2024-03-17T07:26:52.061654Z",
     "start_time": "2024-03-17T07:26:50.309981Z"
    }
   },
   "id": "95a520631a95691f",
   "execution_count": 124
  },
  {
   "cell_type": "code",
   "outputs": [],
   "source": [
    "import pandas as pd\n",
    "import numpy as np\n",
    "import plotly_express as px\n",
    "import matplotlib.pyplot as plt\n",
    "import warnings\n",
    "warnings.filterwarnings('ignore')\n",
    "from sklearn.model_selection import train_test_split\n",
    "from sklearn.metrics import accuracy_score, mean_squared_error, confusion_matrix, ConfusionMatrixDisplay\n",
    "from sklearn.model_selection import cross_val_score\n",
    "from sklearn.linear_model import LogisticRegression\n",
    "from sklearn.tree import DecisionTreeClassifier\n",
    "from sklearn.ensemble import RandomForestClassifier\n",
    "from sklearn.svm import SVC\n",
    "from sklearn.neighbors import KNeighborsClassifier\n",
    "from sklearn.discriminant_analysis import LinearDiscriminantAnalysis\n",
    "from sklearn.naive_bayes import GaussianNB"
   ],
   "metadata": {
    "collapsed": false,
    "ExecuteTime": {
     "end_time": "2024-03-17T11:14:29.979622Z",
     "start_time": "2024-03-17T11:14:29.973767Z"
    }
   },
   "id": "8e00e21f75e99a30",
   "execution_count": 194
  },
  {
   "cell_type": "code",
   "outputs": [],
   "source": [
    "data = pd.read_csv('Visa_For_Lisa_Loan_Modelling.csv')"
   ],
   "metadata": {
    "collapsed": true,
    "ExecuteTime": {
     "end_time": "2024-03-17T06:40:07.022524Z",
     "start_time": "2024-03-17T06:40:07.015995Z"
    }
   },
   "id": "initial_id",
   "execution_count": 64
  },
  {
   "cell_type": "markdown",
   "source": [
    "## Dataset"
   ],
   "metadata": {
    "collapsed": false
   },
   "id": "9bf0bedf3f7ee036"
  },
  {
   "cell_type": "code",
   "outputs": [],
   "source": [
    "data.drop('ID', axis=1, inplace=True)"
   ],
   "metadata": {
    "collapsed": false,
    "ExecuteTime": {
     "end_time": "2024-03-17T09:11:08.917143Z",
     "start_time": "2024-03-17T09:11:08.912307Z"
    }
   },
   "id": "607cb72dc7420692",
   "execution_count": 181
  },
  {
   "cell_type": "code",
   "outputs": [
    {
     "data": {
      "text/plain": "      Age  Experience  Income  ZIP Code  Family  CCAvg  Education  Mortgage  \\\n0      25           1      49     91107       4    1.6          1         0   \n1      45          19      34     90089       3    1.5          1         0   \n2      39          15      11     94720       1    1.0          1         0   \n3      35           9     100     94112       1    2.7          2         0   \n4      35           8      45     91330       4    1.0          2         0   \n...   ...         ...     ...       ...     ...    ...        ...       ...   \n4995   29           3      40     92697       1    1.9          3         0   \n4996   30           4      15     92037       4    0.4          1        85   \n4997   63          39      24     93023       2    0.3          3         0   \n4998   65          40      49     90034       3    0.5          2         0   \n4999   28           4      83     92612       3    0.8          1         0   \n\n      Personal Loan  Securities Account  CD Account  Online  CreditCard  \\\n0                 0                   1           0       0           0   \n1                 0                   1           0       0           0   \n2                 0                   0           0       0           0   \n3                 0                   0           0       0           0   \n4                 0                   0           0       0           1   \n...             ...                 ...         ...     ...         ...   \n4995              0                   0           0       1           0   \n4996              0                   0           0       1           0   \n4997              0                   0           0       0           0   \n4998              0                   0           0       1           0   \n4999              0                   0           0       1           1   \n\n      Target  \n0         49  \n1         34  \n2         11  \n3        100  \n4         45  \n...      ...  \n4995      40  \n4996      15  \n4997      24  \n4998      49  \n4999      83  \n\n[5000 rows x 14 columns]",
      "text/html": "<div>\n<style scoped>\n    .dataframe tbody tr th:only-of-type {\n        vertical-align: middle;\n    }\n\n    .dataframe tbody tr th {\n        vertical-align: top;\n    }\n\n    .dataframe thead th {\n        text-align: right;\n    }\n</style>\n<table border=\"1\" class=\"dataframe\">\n  <thead>\n    <tr style=\"text-align: right;\">\n      <th></th>\n      <th>Age</th>\n      <th>Experience</th>\n      <th>Income</th>\n      <th>ZIP Code</th>\n      <th>Family</th>\n      <th>CCAvg</th>\n      <th>Education</th>\n      <th>Mortgage</th>\n      <th>Personal Loan</th>\n      <th>Securities Account</th>\n      <th>CD Account</th>\n      <th>Online</th>\n      <th>CreditCard</th>\n      <th>Target</th>\n    </tr>\n  </thead>\n  <tbody>\n    <tr>\n      <th>0</th>\n      <td>25</td>\n      <td>1</td>\n      <td>49</td>\n      <td>91107</td>\n      <td>4</td>\n      <td>1.6</td>\n      <td>1</td>\n      <td>0</td>\n      <td>0</td>\n      <td>1</td>\n      <td>0</td>\n      <td>0</td>\n      <td>0</td>\n      <td>49</td>\n    </tr>\n    <tr>\n      <th>1</th>\n      <td>45</td>\n      <td>19</td>\n      <td>34</td>\n      <td>90089</td>\n      <td>3</td>\n      <td>1.5</td>\n      <td>1</td>\n      <td>0</td>\n      <td>0</td>\n      <td>1</td>\n      <td>0</td>\n      <td>0</td>\n      <td>0</td>\n      <td>34</td>\n    </tr>\n    <tr>\n      <th>2</th>\n      <td>39</td>\n      <td>15</td>\n      <td>11</td>\n      <td>94720</td>\n      <td>1</td>\n      <td>1.0</td>\n      <td>1</td>\n      <td>0</td>\n      <td>0</td>\n      <td>0</td>\n      <td>0</td>\n      <td>0</td>\n      <td>0</td>\n      <td>11</td>\n    </tr>\n    <tr>\n      <th>3</th>\n      <td>35</td>\n      <td>9</td>\n      <td>100</td>\n      <td>94112</td>\n      <td>1</td>\n      <td>2.7</td>\n      <td>2</td>\n      <td>0</td>\n      <td>0</td>\n      <td>0</td>\n      <td>0</td>\n      <td>0</td>\n      <td>0</td>\n      <td>100</td>\n    </tr>\n    <tr>\n      <th>4</th>\n      <td>35</td>\n      <td>8</td>\n      <td>45</td>\n      <td>91330</td>\n      <td>4</td>\n      <td>1.0</td>\n      <td>2</td>\n      <td>0</td>\n      <td>0</td>\n      <td>0</td>\n      <td>0</td>\n      <td>0</td>\n      <td>1</td>\n      <td>45</td>\n    </tr>\n    <tr>\n      <th>...</th>\n      <td>...</td>\n      <td>...</td>\n      <td>...</td>\n      <td>...</td>\n      <td>...</td>\n      <td>...</td>\n      <td>...</td>\n      <td>...</td>\n      <td>...</td>\n      <td>...</td>\n      <td>...</td>\n      <td>...</td>\n      <td>...</td>\n      <td>...</td>\n    </tr>\n    <tr>\n      <th>4995</th>\n      <td>29</td>\n      <td>3</td>\n      <td>40</td>\n      <td>92697</td>\n      <td>1</td>\n      <td>1.9</td>\n      <td>3</td>\n      <td>0</td>\n      <td>0</td>\n      <td>0</td>\n      <td>0</td>\n      <td>1</td>\n      <td>0</td>\n      <td>40</td>\n    </tr>\n    <tr>\n      <th>4996</th>\n      <td>30</td>\n      <td>4</td>\n      <td>15</td>\n      <td>92037</td>\n      <td>4</td>\n      <td>0.4</td>\n      <td>1</td>\n      <td>85</td>\n      <td>0</td>\n      <td>0</td>\n      <td>0</td>\n      <td>1</td>\n      <td>0</td>\n      <td>15</td>\n    </tr>\n    <tr>\n      <th>4997</th>\n      <td>63</td>\n      <td>39</td>\n      <td>24</td>\n      <td>93023</td>\n      <td>2</td>\n      <td>0.3</td>\n      <td>3</td>\n      <td>0</td>\n      <td>0</td>\n      <td>0</td>\n      <td>0</td>\n      <td>0</td>\n      <td>0</td>\n      <td>24</td>\n    </tr>\n    <tr>\n      <th>4998</th>\n      <td>65</td>\n      <td>40</td>\n      <td>49</td>\n      <td>90034</td>\n      <td>3</td>\n      <td>0.5</td>\n      <td>2</td>\n      <td>0</td>\n      <td>0</td>\n      <td>0</td>\n      <td>0</td>\n      <td>1</td>\n      <td>0</td>\n      <td>49</td>\n    </tr>\n    <tr>\n      <th>4999</th>\n      <td>28</td>\n      <td>4</td>\n      <td>83</td>\n      <td>92612</td>\n      <td>3</td>\n      <td>0.8</td>\n      <td>1</td>\n      <td>0</td>\n      <td>0</td>\n      <td>0</td>\n      <td>0</td>\n      <td>1</td>\n      <td>1</td>\n      <td>83</td>\n    </tr>\n  </tbody>\n</table>\n<p>5000 rows × 14 columns</p>\n</div>"
     },
     "execution_count": 182,
     "metadata": {},
     "output_type": "execute_result"
    }
   ],
   "source": [
    "data"
   ],
   "metadata": {
    "collapsed": false,
    "ExecuteTime": {
     "end_time": "2024-03-17T09:11:16.733957Z",
     "start_time": "2024-03-17T09:11:16.723304Z"
    }
   },
   "id": "38ee6c7de0c55f86",
   "execution_count": 182
  },
  {
   "cell_type": "markdown",
   "source": [
    "## Statistics of Dataset"
   ],
   "metadata": {
    "collapsed": false
   },
   "id": "2cda2a556311605c"
  },
  {
   "cell_type": "code",
   "outputs": [
    {
     "name": "stdout",
     "output_type": "stream",
     "text": [
      "<class 'pandas.core.frame.DataFrame'>\n",
      "RangeIndex: 5000 entries, 0 to 4999\n",
      "Data columns (total 14 columns):\n",
      " #   Column              Non-Null Count  Dtype  \n",
      "---  ------              --------------  -----  \n",
      " 0   Age                 5000 non-null   int64  \n",
      " 1   Experience          5000 non-null   int64  \n",
      " 2   Income              5000 non-null   int64  \n",
      " 3   ZIP Code            5000 non-null   int64  \n",
      " 4   Family              5000 non-null   int64  \n",
      " 5   CCAvg               5000 non-null   float64\n",
      " 6   Education           5000 non-null   int64  \n",
      " 7   Mortgage            5000 non-null   int64  \n",
      " 8   Personal Loan       5000 non-null   int64  \n",
      " 9   Securities Account  5000 non-null   int64  \n",
      " 10  CD Account          5000 non-null   int64  \n",
      " 11  Online              5000 non-null   int64  \n",
      " 12  CreditCard          5000 non-null   int64  \n",
      " 13  Target              5000 non-null   int64  \n",
      "dtypes: float64(1), int64(13)\n",
      "memory usage: 547.0 KB\n",
      "None\n",
      "\n",
      "               Age   Experience       Income      ZIP Code       Family  \\\n",
      "count  5000.000000  5000.000000  5000.000000   5000.000000  5000.000000   \n",
      "mean     45.338400    20.104600    73.774200  93152.503000     2.396400   \n",
      "std      11.463166    11.467954    46.033729   2121.852197     1.147663   \n",
      "min      23.000000    -3.000000     8.000000   9307.000000     1.000000   \n",
      "25%      35.000000    10.000000    39.000000  91911.000000     1.000000   \n",
      "50%      45.000000    20.000000    64.000000  93437.000000     2.000000   \n",
      "75%      55.000000    30.000000    98.000000  94608.000000     3.000000   \n",
      "max      67.000000    43.000000   224.000000  96651.000000     4.000000   \n",
      "\n",
      "             CCAvg    Education     Mortgage  Personal Loan  \\\n",
      "count  5000.000000  5000.000000  5000.000000    5000.000000   \n",
      "mean      1.937938     1.881000    56.498800       0.096000   \n",
      "std       1.747659     0.839869   101.713802       0.294621   \n",
      "min       0.000000     1.000000     0.000000       0.000000   \n",
      "25%       0.700000     1.000000     0.000000       0.000000   \n",
      "50%       1.500000     2.000000     0.000000       0.000000   \n",
      "75%       2.500000     3.000000   101.000000       0.000000   \n",
      "max      10.000000     3.000000   635.000000       1.000000   \n",
      "\n",
      "       Securities Account  CD Account       Online   CreditCard       Target  \n",
      "count         5000.000000  5000.00000  5000.000000  5000.000000  5000.000000  \n",
      "mean             0.104400     0.06040     0.596800     0.294000    73.870200  \n",
      "std              0.305809     0.23825     0.490589     0.455637    46.182468  \n",
      "min              0.000000     0.00000     0.000000     0.000000     8.000000  \n",
      "25%              0.000000     0.00000     0.000000     0.000000    39.000000  \n",
      "50%              0.000000     0.00000     1.000000     0.000000    64.000000  \n",
      "75%              0.000000     0.00000     1.000000     1.000000    98.000000  \n",
      "max              1.000000     1.00000     1.000000     1.000000   224.000000  \n"
     ]
    }
   ],
   "source": [
    "print(data.info())\n",
    "print()\n",
    "print(data.describe())"
   ],
   "metadata": {
    "collapsed": false,
    "ExecuteTime": {
     "end_time": "2024-03-17T09:13:47.785594Z",
     "start_time": "2024-03-17T09:13:47.756992Z"
    }
   },
   "id": "bce90449efe189c",
   "execution_count": 183
  },
  {
   "cell_type": "code",
   "outputs": [
    {
     "data": {
      "text/plain": "Age                   0\nExperience            0\nIncome                0\nZIP Code              0\nFamily                0\nCCAvg                 0\nEducation             0\nMortgage              0\nPersonal Loan         0\nSecurities Account    0\nCD Account            0\nOnline                0\nCreditCard            0\nTarget                0\ndtype: int64"
     },
     "execution_count": 185,
     "metadata": {},
     "output_type": "execute_result"
    }
   ],
   "source": [
    "data.isnull().sum()"
   ],
   "metadata": {
    "collapsed": false,
    "ExecuteTime": {
     "end_time": "2024-03-17T09:15:39.699316Z",
     "start_time": "2024-03-17T09:15:39.691426Z"
    }
   },
   "id": "1e021b0d25bcedcc",
   "execution_count": 185
  },
  {
   "cell_type": "markdown",
   "source": [
    "## Visualizations"
   ],
   "metadata": {
    "collapsed": false
   },
   "id": "3afcdda19b2cb2ca"
  },
  {
   "cell_type": "code",
   "outputs": [
    {
     "data": {
      "application/vnd.plotly.v1+json": {
       "data": [
        {
         "coloraxis": "coloraxis",
         "name": "0",
         "texttemplate": "%{z}",
         "x": [
          "Age",
          "Experience",
          "Income",
          "ZIP Code",
          "Family",
          "CCAvg",
          "Education",
          "Mortgage",
          "Personal Loan",
          "Securities Account",
          "CD Account",
          "Online",
          "CreditCard",
          "Target"
         ],
         "y": [
          "Age",
          "Experience",
          "Income",
          "ZIP Code",
          "Family",
          "CCAvg",
          "Education",
          "Mortgage",
          "Personal Loan",
          "Securities Account",
          "CD Account",
          "Online",
          "CreditCard",
          "Target"
         ],
         "z": [
          [
           1.0,
           0.9942148569683337,
           -0.0552686181799852,
           -0.0292162873968533,
           -0.046417663585597714,
           -0.05201217908143043,
           0.04133438336063453,
           -0.012538586859834017,
           -0.007725617173534203,
           -4.362422234353478E-4,
           0.008042552147187281,
           0.013702402055123448,
           0.007681036758939914,
           -0.05513990193543692
          ],
          [
           0.9942148569683337,
           1.0,
           -0.04657417765298205,
           -0.028625547987431565,
           -0.05256314713644557,
           -0.05007651057794994,
           0.013151812889482055,
           -0.010581552418193354,
           -0.007413098076770269,
           -0.0012321344074537719,
           0.01035333115086068,
           0.013897899571362267,
           0.008967447335361397,
           -0.046471469584495245
          ],
          [
           -0.0552686181799852,
           -0.04657417765298205,
           1.0,
           -0.016409811655448032,
           -0.15750078548216204,
           0.6459836696249658,
           -0.18752425737223893,
           0.2068062278031723,
           0.502462292494936,
           -0.002616496702662834,
           0.16973808030221557,
           0.01420591931782577,
           -0.0023850077511430737,
           0.9999847883910733
          ],
          [
           -0.0292162873968533,
           -0.028625547987431565,
           -0.016409811655448032,
           1.0,
           0.011778204901610793,
           -0.004060684903435167,
           -0.017376756421595724,
           0.007383377752004523,
           1.0737635433683682E-4,
           0.0047042396060559336,
           0.0199719123090438,
           0.016990066647717,
           0.007691394839549369,
           -0.016356276125768024
          ],
          [
           -0.046417663585597714,
           -0.05256314713644557,
           -0.15750078548216204,
           0.011778204901610793,
           1.0,
           -0.10927450575713345,
           0.06492891355581228,
           -0.020444930961873057,
           0.06136704401190959,
           0.0199940797696391,
           0.014110364815959373,
           0.010354036168282245,
           0.011588066109776357,
           -0.15660203745501383
          ],
          [
           -0.05201217908143043,
           -0.05007651057794994,
           0.6459836696249658,
           -0.004060684903435167,
           -0.10927450575713345,
           1.0,
           -0.13612392209012478,
           0.10990472333482998,
           0.3668887355370784,
           0.015086311385122161,
           0.13653365549526048,
           -0.003611009456394712,
           -0.006689494411293675,
           0.6462437358973833
          ],
          [
           0.04133438336063453,
           0.013151812889482055,
           -0.18752425737223893,
           -0.017376756421595724,
           0.06492891355581228,
           -0.13612392209012478,
           1.0,
           -0.033327124629950466,
           0.13672155003028066,
           -0.010812013603974574,
           0.013933888212947438,
           -0.015003820555225846,
           -0.011014133979204536,
           -0.18604809026306973
          ],
          [
           -0.012538586859834017,
           -0.010581552418193354,
           0.2068062278031723,
           0.007383377752004523,
           -0.020444930961873057,
           0.10990472333482998,
           -0.033327124629950466,
           1.0,
           0.14209523632788268,
           -0.0054109700472621544,
           0.08931105824156661,
           -0.005994898357871135,
           -0.00723091942589323,
           0.20704666950374837
          ],
          [
           -0.007725617173534203,
           -0.007413098076770269,
           0.502462292494936,
           1.0737635433683682E-4,
           0.06136704401190959,
           0.3668887355370784,
           0.13672155003028066,
           0.14209523632788268,
           1.0,
           0.021953882216311445,
           0.3163548294144036,
           0.0062778153967586675,
           0.002801508841556002,
           0.5072235217541944
          ],
          [
           -4.362422234353478E-4,
           -0.0012321344074537719,
           -0.002616496702662834,
           0.0047042396060559336,
           0.0199940797696391,
           0.015086311385122161,
           -0.010812013603974574,
           -0.0054109700472621544,
           0.021953882216311445,
           1.0,
           0.31703441568066154,
           0.012627470353373395,
           -0.01502831889730028,
           -0.0024680152136937333
          ],
          [
           0.008042552147187281,
           0.01035333115086068,
           0.16973808030221557,
           0.0199719123090438,
           0.014110364815959373,
           0.13653365549526048,
           0.013933888212947438,
           0.08931105824156661,
           0.3163548294144036,
           0.31703441568066154,
           1.0,
           0.17588001598343864,
           0.27864436461471453,
           0.17120959389327897
          ],
          [
           0.013702402055123448,
           0.013897899571362267,
           0.01420591931782577,
           0.016990066647717,
           0.010354036168282245,
           -0.003611009456394712,
           -0.015003820555225846,
           -0.005994898357871135,
           0.0062778153967586675,
           0.012627470353373395,
           0.17588001598343864,
           1.0,
           0.004209656154684401,
           0.01420021607221819
          ],
          [
           0.007681036758939914,
           0.008967447335361397,
           -0.0023850077511430737,
           0.007691394839549369,
           0.011588066109776357,
           -0.006689494411293675,
           -0.011014133979204536,
           -0.00723091942589323,
           0.002801508841556002,
           -0.01502831889730028,
           0.27864436461471453,
           0.004209656154684401,
           1.0,
           -0.0023594542330478705
          ],
          [
           -0.05513990193543692,
           -0.046471469584495245,
           0.9999847883910733,
           -0.016356276125768024,
           -0.15660203745501383,
           0.6462437358973833,
           -0.18604809026306973,
           0.20704666950374837,
           0.5072235217541944,
           -0.0024680152136937333,
           0.17120959389327897,
           0.01420021607221819,
           -0.0023594542330478705,
           1.0
          ]
         ],
         "type": "heatmap",
         "xaxis": "x",
         "yaxis": "y",
         "hovertemplate": "x: %{x}<br>y: %{y}<br>color: %{z}<extra></extra>"
        }
       ],
       "layout": {
        "template": {
         "data": {
          "histogram2dcontour": [
           {
            "type": "histogram2dcontour",
            "colorbar": {
             "outlinewidth": 0,
             "ticks": ""
            },
            "colorscale": [
             [
              0.0,
              "#0d0887"
             ],
             [
              0.1111111111111111,
              "#46039f"
             ],
             [
              0.2222222222222222,
              "#7201a8"
             ],
             [
              0.3333333333333333,
              "#9c179e"
             ],
             [
              0.4444444444444444,
              "#bd3786"
             ],
             [
              0.5555555555555556,
              "#d8576b"
             ],
             [
              0.6666666666666666,
              "#ed7953"
             ],
             [
              0.7777777777777778,
              "#fb9f3a"
             ],
             [
              0.8888888888888888,
              "#fdca26"
             ],
             [
              1.0,
              "#f0f921"
             ]
            ]
           }
          ],
          "choropleth": [
           {
            "type": "choropleth",
            "colorbar": {
             "outlinewidth": 0,
             "ticks": ""
            }
           }
          ],
          "histogram2d": [
           {
            "type": "histogram2d",
            "colorbar": {
             "outlinewidth": 0,
             "ticks": ""
            },
            "colorscale": [
             [
              0.0,
              "#0d0887"
             ],
             [
              0.1111111111111111,
              "#46039f"
             ],
             [
              0.2222222222222222,
              "#7201a8"
             ],
             [
              0.3333333333333333,
              "#9c179e"
             ],
             [
              0.4444444444444444,
              "#bd3786"
             ],
             [
              0.5555555555555556,
              "#d8576b"
             ],
             [
              0.6666666666666666,
              "#ed7953"
             ],
             [
              0.7777777777777778,
              "#fb9f3a"
             ],
             [
              0.8888888888888888,
              "#fdca26"
             ],
             [
              1.0,
              "#f0f921"
             ]
            ]
           }
          ],
          "heatmap": [
           {
            "type": "heatmap",
            "colorbar": {
             "outlinewidth": 0,
             "ticks": ""
            },
            "colorscale": [
             [
              0.0,
              "#0d0887"
             ],
             [
              0.1111111111111111,
              "#46039f"
             ],
             [
              0.2222222222222222,
              "#7201a8"
             ],
             [
              0.3333333333333333,
              "#9c179e"
             ],
             [
              0.4444444444444444,
              "#bd3786"
             ],
             [
              0.5555555555555556,
              "#d8576b"
             ],
             [
              0.6666666666666666,
              "#ed7953"
             ],
             [
              0.7777777777777778,
              "#fb9f3a"
             ],
             [
              0.8888888888888888,
              "#fdca26"
             ],
             [
              1.0,
              "#f0f921"
             ]
            ]
           }
          ],
          "heatmapgl": [
           {
            "type": "heatmapgl",
            "colorbar": {
             "outlinewidth": 0,
             "ticks": ""
            },
            "colorscale": [
             [
              0.0,
              "#0d0887"
             ],
             [
              0.1111111111111111,
              "#46039f"
             ],
             [
              0.2222222222222222,
              "#7201a8"
             ],
             [
              0.3333333333333333,
              "#9c179e"
             ],
             [
              0.4444444444444444,
              "#bd3786"
             ],
             [
              0.5555555555555556,
              "#d8576b"
             ],
             [
              0.6666666666666666,
              "#ed7953"
             ],
             [
              0.7777777777777778,
              "#fb9f3a"
             ],
             [
              0.8888888888888888,
              "#fdca26"
             ],
             [
              1.0,
              "#f0f921"
             ]
            ]
           }
          ],
          "contourcarpet": [
           {
            "type": "contourcarpet",
            "colorbar": {
             "outlinewidth": 0,
             "ticks": ""
            }
           }
          ],
          "contour": [
           {
            "type": "contour",
            "colorbar": {
             "outlinewidth": 0,
             "ticks": ""
            },
            "colorscale": [
             [
              0.0,
              "#0d0887"
             ],
             [
              0.1111111111111111,
              "#46039f"
             ],
             [
              0.2222222222222222,
              "#7201a8"
             ],
             [
              0.3333333333333333,
              "#9c179e"
             ],
             [
              0.4444444444444444,
              "#bd3786"
             ],
             [
              0.5555555555555556,
              "#d8576b"
             ],
             [
              0.6666666666666666,
              "#ed7953"
             ],
             [
              0.7777777777777778,
              "#fb9f3a"
             ],
             [
              0.8888888888888888,
              "#fdca26"
             ],
             [
              1.0,
              "#f0f921"
             ]
            ]
           }
          ],
          "surface": [
           {
            "type": "surface",
            "colorbar": {
             "outlinewidth": 0,
             "ticks": ""
            },
            "colorscale": [
             [
              0.0,
              "#0d0887"
             ],
             [
              0.1111111111111111,
              "#46039f"
             ],
             [
              0.2222222222222222,
              "#7201a8"
             ],
             [
              0.3333333333333333,
              "#9c179e"
             ],
             [
              0.4444444444444444,
              "#bd3786"
             ],
             [
              0.5555555555555556,
              "#d8576b"
             ],
             [
              0.6666666666666666,
              "#ed7953"
             ],
             [
              0.7777777777777778,
              "#fb9f3a"
             ],
             [
              0.8888888888888888,
              "#fdca26"
             ],
             [
              1.0,
              "#f0f921"
             ]
            ]
           }
          ],
          "mesh3d": [
           {
            "type": "mesh3d",
            "colorbar": {
             "outlinewidth": 0,
             "ticks": ""
            }
           }
          ],
          "scatter": [
           {
            "marker": {
             "line": {
              "color": "#283442"
             }
            },
            "type": "scatter"
           }
          ],
          "parcoords": [
           {
            "type": "parcoords",
            "line": {
             "colorbar": {
              "outlinewidth": 0,
              "ticks": ""
             }
            }
           }
          ],
          "scatterpolargl": [
           {
            "type": "scatterpolargl",
            "marker": {
             "colorbar": {
              "outlinewidth": 0,
              "ticks": ""
             }
            }
           }
          ],
          "bar": [
           {
            "error_x": {
             "color": "#f2f5fa"
            },
            "error_y": {
             "color": "#f2f5fa"
            },
            "marker": {
             "line": {
              "color": "rgb(17,17,17)",
              "width": 0.5
             },
             "pattern": {
              "fillmode": "overlay",
              "size": 10,
              "solidity": 0.2
             }
            },
            "type": "bar"
           }
          ],
          "scattergeo": [
           {
            "type": "scattergeo",
            "marker": {
             "colorbar": {
              "outlinewidth": 0,
              "ticks": ""
             }
            }
           }
          ],
          "scatterpolar": [
           {
            "type": "scatterpolar",
            "marker": {
             "colorbar": {
              "outlinewidth": 0,
              "ticks": ""
             }
            }
           }
          ],
          "histogram": [
           {
            "marker": {
             "pattern": {
              "fillmode": "overlay",
              "size": 10,
              "solidity": 0.2
             }
            },
            "type": "histogram"
           }
          ],
          "scattergl": [
           {
            "marker": {
             "line": {
              "color": "#283442"
             }
            },
            "type": "scattergl"
           }
          ],
          "scatter3d": [
           {
            "type": "scatter3d",
            "line": {
             "colorbar": {
              "outlinewidth": 0,
              "ticks": ""
             }
            },
            "marker": {
             "colorbar": {
              "outlinewidth": 0,
              "ticks": ""
             }
            }
           }
          ],
          "scattermapbox": [
           {
            "type": "scattermapbox",
            "marker": {
             "colorbar": {
              "outlinewidth": 0,
              "ticks": ""
             }
            }
           }
          ],
          "scatterternary": [
           {
            "type": "scatterternary",
            "marker": {
             "colorbar": {
              "outlinewidth": 0,
              "ticks": ""
             }
            }
           }
          ],
          "scattercarpet": [
           {
            "type": "scattercarpet",
            "marker": {
             "colorbar": {
              "outlinewidth": 0,
              "ticks": ""
             }
            }
           }
          ],
          "carpet": [
           {
            "aaxis": {
             "endlinecolor": "#A2B1C6",
             "gridcolor": "#506784",
             "linecolor": "#506784",
             "minorgridcolor": "#506784",
             "startlinecolor": "#A2B1C6"
            },
            "baxis": {
             "endlinecolor": "#A2B1C6",
             "gridcolor": "#506784",
             "linecolor": "#506784",
             "minorgridcolor": "#506784",
             "startlinecolor": "#A2B1C6"
            },
            "type": "carpet"
           }
          ],
          "table": [
           {
            "cells": {
             "fill": {
              "color": "#506784"
             },
             "line": {
              "color": "rgb(17,17,17)"
             }
            },
            "header": {
             "fill": {
              "color": "#2a3f5f"
             },
             "line": {
              "color": "rgb(17,17,17)"
             }
            },
            "type": "table"
           }
          ],
          "barpolar": [
           {
            "marker": {
             "line": {
              "color": "rgb(17,17,17)",
              "width": 0.5
             },
             "pattern": {
              "fillmode": "overlay",
              "size": 10,
              "solidity": 0.2
             }
            },
            "type": "barpolar"
           }
          ],
          "pie": [
           {
            "automargin": true,
            "type": "pie"
           }
          ]
         },
         "layout": {
          "autotypenumbers": "strict",
          "colorway": [
           "#636efa",
           "#EF553B",
           "#00cc96",
           "#ab63fa",
           "#FFA15A",
           "#19d3f3",
           "#FF6692",
           "#B6E880",
           "#FF97FF",
           "#FECB52"
          ],
          "font": {
           "color": "#f2f5fa"
          },
          "hovermode": "closest",
          "hoverlabel": {
           "align": "left"
          },
          "paper_bgcolor": "rgb(17,17,17)",
          "plot_bgcolor": "rgb(17,17,17)",
          "polar": {
           "bgcolor": "rgb(17,17,17)",
           "angularaxis": {
            "gridcolor": "#506784",
            "linecolor": "#506784",
            "ticks": ""
           },
           "radialaxis": {
            "gridcolor": "#506784",
            "linecolor": "#506784",
            "ticks": ""
           }
          },
          "ternary": {
           "bgcolor": "rgb(17,17,17)",
           "aaxis": {
            "gridcolor": "#506784",
            "linecolor": "#506784",
            "ticks": ""
           },
           "baxis": {
            "gridcolor": "#506784",
            "linecolor": "#506784",
            "ticks": ""
           },
           "caxis": {
            "gridcolor": "#506784",
            "linecolor": "#506784",
            "ticks": ""
           }
          },
          "coloraxis": {
           "colorbar": {
            "outlinewidth": 0,
            "ticks": ""
           }
          },
          "colorscale": {
           "sequential": [
            [
             0.0,
             "#0d0887"
            ],
            [
             0.1111111111111111,
             "#46039f"
            ],
            [
             0.2222222222222222,
             "#7201a8"
            ],
            [
             0.3333333333333333,
             "#9c179e"
            ],
            [
             0.4444444444444444,
             "#bd3786"
            ],
            [
             0.5555555555555556,
             "#d8576b"
            ],
            [
             0.6666666666666666,
             "#ed7953"
            ],
            [
             0.7777777777777778,
             "#fb9f3a"
            ],
            [
             0.8888888888888888,
             "#fdca26"
            ],
            [
             1.0,
             "#f0f921"
            ]
           ],
           "sequentialminus": [
            [
             0.0,
             "#0d0887"
            ],
            [
             0.1111111111111111,
             "#46039f"
            ],
            [
             0.2222222222222222,
             "#7201a8"
            ],
            [
             0.3333333333333333,
             "#9c179e"
            ],
            [
             0.4444444444444444,
             "#bd3786"
            ],
            [
             0.5555555555555556,
             "#d8576b"
            ],
            [
             0.6666666666666666,
             "#ed7953"
            ],
            [
             0.7777777777777778,
             "#fb9f3a"
            ],
            [
             0.8888888888888888,
             "#fdca26"
            ],
            [
             1.0,
             "#f0f921"
            ]
           ],
           "diverging": [
            [
             0,
             "#8e0152"
            ],
            [
             0.1,
             "#c51b7d"
            ],
            [
             0.2,
             "#de77ae"
            ],
            [
             0.3,
             "#f1b6da"
            ],
            [
             0.4,
             "#fde0ef"
            ],
            [
             0.5,
             "#f7f7f7"
            ],
            [
             0.6,
             "#e6f5d0"
            ],
            [
             0.7,
             "#b8e186"
            ],
            [
             0.8,
             "#7fbc41"
            ],
            [
             0.9,
             "#4d9221"
            ],
            [
             1,
             "#276419"
            ]
           ]
          },
          "xaxis": {
           "gridcolor": "#283442",
           "linecolor": "#506784",
           "ticks": "",
           "title": {
            "standoff": 15
           },
           "zerolinecolor": "#283442",
           "automargin": true,
           "zerolinewidth": 2
          },
          "yaxis": {
           "gridcolor": "#283442",
           "linecolor": "#506784",
           "ticks": "",
           "title": {
            "standoff": 15
           },
           "zerolinecolor": "#283442",
           "automargin": true,
           "zerolinewidth": 2
          },
          "scene": {
           "xaxis": {
            "backgroundcolor": "rgb(17,17,17)",
            "gridcolor": "#506784",
            "linecolor": "#506784",
            "showbackground": true,
            "ticks": "",
            "zerolinecolor": "#C8D4E3",
            "gridwidth": 2
           },
           "yaxis": {
            "backgroundcolor": "rgb(17,17,17)",
            "gridcolor": "#506784",
            "linecolor": "#506784",
            "showbackground": true,
            "ticks": "",
            "zerolinecolor": "#C8D4E3",
            "gridwidth": 2
           },
           "zaxis": {
            "backgroundcolor": "rgb(17,17,17)",
            "gridcolor": "#506784",
            "linecolor": "#506784",
            "showbackground": true,
            "ticks": "",
            "zerolinecolor": "#C8D4E3",
            "gridwidth": 2
           }
          },
          "shapedefaults": {
           "line": {
            "color": "#f2f5fa"
           }
          },
          "annotationdefaults": {
           "arrowcolor": "#f2f5fa",
           "arrowhead": 0,
           "arrowwidth": 1
          },
          "geo": {
           "bgcolor": "rgb(17,17,17)",
           "landcolor": "rgb(17,17,17)",
           "subunitcolor": "#506784",
           "showland": true,
           "showlakes": true,
           "lakecolor": "rgb(17,17,17)"
          },
          "title": {
           "x": 0.05
          },
          "updatemenudefaults": {
           "bgcolor": "#506784",
           "borderwidth": 0
          },
          "sliderdefaults": {
           "bgcolor": "#C8D4E3",
           "borderwidth": 1,
           "bordercolor": "rgb(17,17,17)",
           "tickwidth": 0
          },
          "mapbox": {
           "style": "dark"
          }
         }
        },
        "xaxis": {
         "anchor": "y",
         "domain": [
          0.0,
          1.0
         ],
         "scaleanchor": "y",
         "constrain": "domain"
        },
        "yaxis": {
         "anchor": "x",
         "domain": [
          0.0,
          1.0
         ],
         "autorange": "reversed",
         "constrain": "domain"
        },
        "coloraxis": {
         "colorscale": [
          [
           0.0,
           "#0d0887"
          ],
          [
           0.1111111111111111,
           "#46039f"
          ],
          [
           0.2222222222222222,
           "#7201a8"
          ],
          [
           0.3333333333333333,
           "#9c179e"
          ],
          [
           0.4444444444444444,
           "#bd3786"
          ],
          [
           0.5555555555555556,
           "#d8576b"
          ],
          [
           0.6666666666666666,
           "#ed7953"
          ],
          [
           0.7777777777777778,
           "#fb9f3a"
          ],
          [
           0.8888888888888888,
           "#fdca26"
          ],
          [
           1.0,
           "#f0f921"
          ]
         ]
        },
        "margin": {
         "t": 60
        },
        "height": 800,
        "width": 800,
        "title": {
         "text": "Correlation"
        }
       },
       "config": {
        "plotlyServerURL": "https://plot.ly"
       }
      },
      "text/html": "<div>                            <div id=\"4a0f56c9-c0b9-4924-a116-cb62007b47d7\" class=\"plotly-graph-div\" style=\"height:800px; width:800px;\"></div>            <script type=\"text/javascript\">                require([\"plotly\"], function(Plotly) {                    window.PLOTLYENV=window.PLOTLYENV || {};                                    if (document.getElementById(\"4a0f56c9-c0b9-4924-a116-cb62007b47d7\")) {                    Plotly.newPlot(                        \"4a0f56c9-c0b9-4924-a116-cb62007b47d7\",                        [{\"coloraxis\":\"coloraxis\",\"name\":\"0\",\"texttemplate\":\"%{z}\",\"x\":[\"Age\",\"Experience\",\"Income\",\"ZIP Code\",\"Family\",\"CCAvg\",\"Education\",\"Mortgage\",\"Personal Loan\",\"Securities Account\",\"CD Account\",\"Online\",\"CreditCard\",\"Target\"],\"y\":[\"Age\",\"Experience\",\"Income\",\"ZIP Code\",\"Family\",\"CCAvg\",\"Education\",\"Mortgage\",\"Personal Loan\",\"Securities Account\",\"CD Account\",\"Online\",\"CreditCard\",\"Target\"],\"z\":[[1.0,0.9942148569683337,-0.0552686181799852,-0.0292162873968533,-0.046417663585597714,-0.05201217908143043,0.04133438336063453,-0.012538586859834017,-0.007725617173534203,-0.0004362422234353478,0.008042552147187281,0.013702402055123448,0.007681036758939914,-0.05513990193543692],[0.9942148569683337,1.0,-0.04657417765298205,-0.028625547987431565,-0.05256314713644557,-0.05007651057794994,0.013151812889482055,-0.010581552418193354,-0.007413098076770269,-0.0012321344074537719,0.01035333115086068,0.013897899571362267,0.008967447335361397,-0.046471469584495245],[-0.0552686181799852,-0.04657417765298205,1.0,-0.016409811655448032,-0.15750078548216204,0.6459836696249658,-0.18752425737223893,0.2068062278031723,0.502462292494936,-0.002616496702662834,0.16973808030221557,0.01420591931782577,-0.0023850077511430737,0.9999847883910733],[-0.0292162873968533,-0.028625547987431565,-0.016409811655448032,1.0,0.011778204901610793,-0.004060684903435167,-0.017376756421595724,0.007383377752004523,0.00010737635433683682,0.0047042396060559336,0.0199719123090438,0.016990066647717,0.007691394839549369,-0.016356276125768024],[-0.046417663585597714,-0.05256314713644557,-0.15750078548216204,0.011778204901610793,1.0,-0.10927450575713345,0.06492891355581228,-0.020444930961873057,0.06136704401190959,0.0199940797696391,0.014110364815959373,0.010354036168282245,0.011588066109776357,-0.15660203745501383],[-0.05201217908143043,-0.05007651057794994,0.6459836696249658,-0.004060684903435167,-0.10927450575713345,1.0,-0.13612392209012478,0.10990472333482998,0.3668887355370784,0.015086311385122161,0.13653365549526048,-0.003611009456394712,-0.006689494411293675,0.6462437358973833],[0.04133438336063453,0.013151812889482055,-0.18752425737223893,-0.017376756421595724,0.06492891355581228,-0.13612392209012478,1.0,-0.033327124629950466,0.13672155003028066,-0.010812013603974574,0.013933888212947438,-0.015003820555225846,-0.011014133979204536,-0.18604809026306973],[-0.012538586859834017,-0.010581552418193354,0.2068062278031723,0.007383377752004523,-0.020444930961873057,0.10990472333482998,-0.033327124629950466,1.0,0.14209523632788268,-0.0054109700472621544,0.08931105824156661,-0.005994898357871135,-0.00723091942589323,0.20704666950374837],[-0.007725617173534203,-0.007413098076770269,0.502462292494936,0.00010737635433683682,0.06136704401190959,0.3668887355370784,0.13672155003028066,0.14209523632788268,1.0,0.021953882216311445,0.3163548294144036,0.0062778153967586675,0.002801508841556002,0.5072235217541944],[-0.0004362422234353478,-0.0012321344074537719,-0.002616496702662834,0.0047042396060559336,0.0199940797696391,0.015086311385122161,-0.010812013603974574,-0.0054109700472621544,0.021953882216311445,1.0,0.31703441568066154,0.012627470353373395,-0.01502831889730028,-0.0024680152136937333],[0.008042552147187281,0.01035333115086068,0.16973808030221557,0.0199719123090438,0.014110364815959373,0.13653365549526048,0.013933888212947438,0.08931105824156661,0.3163548294144036,0.31703441568066154,1.0,0.17588001598343864,0.27864436461471453,0.17120959389327897],[0.013702402055123448,0.013897899571362267,0.01420591931782577,0.016990066647717,0.010354036168282245,-0.003611009456394712,-0.015003820555225846,-0.005994898357871135,0.0062778153967586675,0.012627470353373395,0.17588001598343864,1.0,0.004209656154684401,0.01420021607221819],[0.007681036758939914,0.008967447335361397,-0.0023850077511430737,0.007691394839549369,0.011588066109776357,-0.006689494411293675,-0.011014133979204536,-0.00723091942589323,0.002801508841556002,-0.01502831889730028,0.27864436461471453,0.004209656154684401,1.0,-0.0023594542330478705],[-0.05513990193543692,-0.046471469584495245,0.9999847883910733,-0.016356276125768024,-0.15660203745501383,0.6462437358973833,-0.18604809026306973,0.20704666950374837,0.5072235217541944,-0.0024680152136937333,0.17120959389327897,0.01420021607221819,-0.0023594542330478705,1.0]],\"type\":\"heatmap\",\"xaxis\":\"x\",\"yaxis\":\"y\",\"hovertemplate\":\"x: %{x}\\u003cbr\\u003ey: %{y}\\u003cbr\\u003ecolor: %{z}\\u003cextra\\u003e\\u003c\\u002fextra\\u003e\"}],                        {\"template\":{\"data\":{\"histogram2dcontour\":[{\"type\":\"histogram2dcontour\",\"colorbar\":{\"outlinewidth\":0,\"ticks\":\"\"},\"colorscale\":[[0.0,\"#0d0887\"],[0.1111111111111111,\"#46039f\"],[0.2222222222222222,\"#7201a8\"],[0.3333333333333333,\"#9c179e\"],[0.4444444444444444,\"#bd3786\"],[0.5555555555555556,\"#d8576b\"],[0.6666666666666666,\"#ed7953\"],[0.7777777777777778,\"#fb9f3a\"],[0.8888888888888888,\"#fdca26\"],[1.0,\"#f0f921\"]]}],\"choropleth\":[{\"type\":\"choropleth\",\"colorbar\":{\"outlinewidth\":0,\"ticks\":\"\"}}],\"histogram2d\":[{\"type\":\"histogram2d\",\"colorbar\":{\"outlinewidth\":0,\"ticks\":\"\"},\"colorscale\":[[0.0,\"#0d0887\"],[0.1111111111111111,\"#46039f\"],[0.2222222222222222,\"#7201a8\"],[0.3333333333333333,\"#9c179e\"],[0.4444444444444444,\"#bd3786\"],[0.5555555555555556,\"#d8576b\"],[0.6666666666666666,\"#ed7953\"],[0.7777777777777778,\"#fb9f3a\"],[0.8888888888888888,\"#fdca26\"],[1.0,\"#f0f921\"]]}],\"heatmap\":[{\"type\":\"heatmap\",\"colorbar\":{\"outlinewidth\":0,\"ticks\":\"\"},\"colorscale\":[[0.0,\"#0d0887\"],[0.1111111111111111,\"#46039f\"],[0.2222222222222222,\"#7201a8\"],[0.3333333333333333,\"#9c179e\"],[0.4444444444444444,\"#bd3786\"],[0.5555555555555556,\"#d8576b\"],[0.6666666666666666,\"#ed7953\"],[0.7777777777777778,\"#fb9f3a\"],[0.8888888888888888,\"#fdca26\"],[1.0,\"#f0f921\"]]}],\"heatmapgl\":[{\"type\":\"heatmapgl\",\"colorbar\":{\"outlinewidth\":0,\"ticks\":\"\"},\"colorscale\":[[0.0,\"#0d0887\"],[0.1111111111111111,\"#46039f\"],[0.2222222222222222,\"#7201a8\"],[0.3333333333333333,\"#9c179e\"],[0.4444444444444444,\"#bd3786\"],[0.5555555555555556,\"#d8576b\"],[0.6666666666666666,\"#ed7953\"],[0.7777777777777778,\"#fb9f3a\"],[0.8888888888888888,\"#fdca26\"],[1.0,\"#f0f921\"]]}],\"contourcarpet\":[{\"type\":\"contourcarpet\",\"colorbar\":{\"outlinewidth\":0,\"ticks\":\"\"}}],\"contour\":[{\"type\":\"contour\",\"colorbar\":{\"outlinewidth\":0,\"ticks\":\"\"},\"colorscale\":[[0.0,\"#0d0887\"],[0.1111111111111111,\"#46039f\"],[0.2222222222222222,\"#7201a8\"],[0.3333333333333333,\"#9c179e\"],[0.4444444444444444,\"#bd3786\"],[0.5555555555555556,\"#d8576b\"],[0.6666666666666666,\"#ed7953\"],[0.7777777777777778,\"#fb9f3a\"],[0.8888888888888888,\"#fdca26\"],[1.0,\"#f0f921\"]]}],\"surface\":[{\"type\":\"surface\",\"colorbar\":{\"outlinewidth\":0,\"ticks\":\"\"},\"colorscale\":[[0.0,\"#0d0887\"],[0.1111111111111111,\"#46039f\"],[0.2222222222222222,\"#7201a8\"],[0.3333333333333333,\"#9c179e\"],[0.4444444444444444,\"#bd3786\"],[0.5555555555555556,\"#d8576b\"],[0.6666666666666666,\"#ed7953\"],[0.7777777777777778,\"#fb9f3a\"],[0.8888888888888888,\"#fdca26\"],[1.0,\"#f0f921\"]]}],\"mesh3d\":[{\"type\":\"mesh3d\",\"colorbar\":{\"outlinewidth\":0,\"ticks\":\"\"}}],\"scatter\":[{\"marker\":{\"line\":{\"color\":\"#283442\"}},\"type\":\"scatter\"}],\"parcoords\":[{\"type\":\"parcoords\",\"line\":{\"colorbar\":{\"outlinewidth\":0,\"ticks\":\"\"}}}],\"scatterpolargl\":[{\"type\":\"scatterpolargl\",\"marker\":{\"colorbar\":{\"outlinewidth\":0,\"ticks\":\"\"}}}],\"bar\":[{\"error_x\":{\"color\":\"#f2f5fa\"},\"error_y\":{\"color\":\"#f2f5fa\"},\"marker\":{\"line\":{\"color\":\"rgb(17,17,17)\",\"width\":0.5},\"pattern\":{\"fillmode\":\"overlay\",\"size\":10,\"solidity\":0.2}},\"type\":\"bar\"}],\"scattergeo\":[{\"type\":\"scattergeo\",\"marker\":{\"colorbar\":{\"outlinewidth\":0,\"ticks\":\"\"}}}],\"scatterpolar\":[{\"type\":\"scatterpolar\",\"marker\":{\"colorbar\":{\"outlinewidth\":0,\"ticks\":\"\"}}}],\"histogram\":[{\"marker\":{\"pattern\":{\"fillmode\":\"overlay\",\"size\":10,\"solidity\":0.2}},\"type\":\"histogram\"}],\"scattergl\":[{\"marker\":{\"line\":{\"color\":\"#283442\"}},\"type\":\"scattergl\"}],\"scatter3d\":[{\"type\":\"scatter3d\",\"line\":{\"colorbar\":{\"outlinewidth\":0,\"ticks\":\"\"}},\"marker\":{\"colorbar\":{\"outlinewidth\":0,\"ticks\":\"\"}}}],\"scattermapbox\":[{\"type\":\"scattermapbox\",\"marker\":{\"colorbar\":{\"outlinewidth\":0,\"ticks\":\"\"}}}],\"scatterternary\":[{\"type\":\"scatterternary\",\"marker\":{\"colorbar\":{\"outlinewidth\":0,\"ticks\":\"\"}}}],\"scattercarpet\":[{\"type\":\"scattercarpet\",\"marker\":{\"colorbar\":{\"outlinewidth\":0,\"ticks\":\"\"}}}],\"carpet\":[{\"aaxis\":{\"endlinecolor\":\"#A2B1C6\",\"gridcolor\":\"#506784\",\"linecolor\":\"#506784\",\"minorgridcolor\":\"#506784\",\"startlinecolor\":\"#A2B1C6\"},\"baxis\":{\"endlinecolor\":\"#A2B1C6\",\"gridcolor\":\"#506784\",\"linecolor\":\"#506784\",\"minorgridcolor\":\"#506784\",\"startlinecolor\":\"#A2B1C6\"},\"type\":\"carpet\"}],\"table\":[{\"cells\":{\"fill\":{\"color\":\"#506784\"},\"line\":{\"color\":\"rgb(17,17,17)\"}},\"header\":{\"fill\":{\"color\":\"#2a3f5f\"},\"line\":{\"color\":\"rgb(17,17,17)\"}},\"type\":\"table\"}],\"barpolar\":[{\"marker\":{\"line\":{\"color\":\"rgb(17,17,17)\",\"width\":0.5},\"pattern\":{\"fillmode\":\"overlay\",\"size\":10,\"solidity\":0.2}},\"type\":\"barpolar\"}],\"pie\":[{\"automargin\":true,\"type\":\"pie\"}]},\"layout\":{\"autotypenumbers\":\"strict\",\"colorway\":[\"#636efa\",\"#EF553B\",\"#00cc96\",\"#ab63fa\",\"#FFA15A\",\"#19d3f3\",\"#FF6692\",\"#B6E880\",\"#FF97FF\",\"#FECB52\"],\"font\":{\"color\":\"#f2f5fa\"},\"hovermode\":\"closest\",\"hoverlabel\":{\"align\":\"left\"},\"paper_bgcolor\":\"rgb(17,17,17)\",\"plot_bgcolor\":\"rgb(17,17,17)\",\"polar\":{\"bgcolor\":\"rgb(17,17,17)\",\"angularaxis\":{\"gridcolor\":\"#506784\",\"linecolor\":\"#506784\",\"ticks\":\"\"},\"radialaxis\":{\"gridcolor\":\"#506784\",\"linecolor\":\"#506784\",\"ticks\":\"\"}},\"ternary\":{\"bgcolor\":\"rgb(17,17,17)\",\"aaxis\":{\"gridcolor\":\"#506784\",\"linecolor\":\"#506784\",\"ticks\":\"\"},\"baxis\":{\"gridcolor\":\"#506784\",\"linecolor\":\"#506784\",\"ticks\":\"\"},\"caxis\":{\"gridcolor\":\"#506784\",\"linecolor\":\"#506784\",\"ticks\":\"\"}},\"coloraxis\":{\"colorbar\":{\"outlinewidth\":0,\"ticks\":\"\"}},\"colorscale\":{\"sequential\":[[0.0,\"#0d0887\"],[0.1111111111111111,\"#46039f\"],[0.2222222222222222,\"#7201a8\"],[0.3333333333333333,\"#9c179e\"],[0.4444444444444444,\"#bd3786\"],[0.5555555555555556,\"#d8576b\"],[0.6666666666666666,\"#ed7953\"],[0.7777777777777778,\"#fb9f3a\"],[0.8888888888888888,\"#fdca26\"],[1.0,\"#f0f921\"]],\"sequentialminus\":[[0.0,\"#0d0887\"],[0.1111111111111111,\"#46039f\"],[0.2222222222222222,\"#7201a8\"],[0.3333333333333333,\"#9c179e\"],[0.4444444444444444,\"#bd3786\"],[0.5555555555555556,\"#d8576b\"],[0.6666666666666666,\"#ed7953\"],[0.7777777777777778,\"#fb9f3a\"],[0.8888888888888888,\"#fdca26\"],[1.0,\"#f0f921\"]],\"diverging\":[[0,\"#8e0152\"],[0.1,\"#c51b7d\"],[0.2,\"#de77ae\"],[0.3,\"#f1b6da\"],[0.4,\"#fde0ef\"],[0.5,\"#f7f7f7\"],[0.6,\"#e6f5d0\"],[0.7,\"#b8e186\"],[0.8,\"#7fbc41\"],[0.9,\"#4d9221\"],[1,\"#276419\"]]},\"xaxis\":{\"gridcolor\":\"#283442\",\"linecolor\":\"#506784\",\"ticks\":\"\",\"title\":{\"standoff\":15},\"zerolinecolor\":\"#283442\",\"automargin\":true,\"zerolinewidth\":2},\"yaxis\":{\"gridcolor\":\"#283442\",\"linecolor\":\"#506784\",\"ticks\":\"\",\"title\":{\"standoff\":15},\"zerolinecolor\":\"#283442\",\"automargin\":true,\"zerolinewidth\":2},\"scene\":{\"xaxis\":{\"backgroundcolor\":\"rgb(17,17,17)\",\"gridcolor\":\"#506784\",\"linecolor\":\"#506784\",\"showbackground\":true,\"ticks\":\"\",\"zerolinecolor\":\"#C8D4E3\",\"gridwidth\":2},\"yaxis\":{\"backgroundcolor\":\"rgb(17,17,17)\",\"gridcolor\":\"#506784\",\"linecolor\":\"#506784\",\"showbackground\":true,\"ticks\":\"\",\"zerolinecolor\":\"#C8D4E3\",\"gridwidth\":2},\"zaxis\":{\"backgroundcolor\":\"rgb(17,17,17)\",\"gridcolor\":\"#506784\",\"linecolor\":\"#506784\",\"showbackground\":true,\"ticks\":\"\",\"zerolinecolor\":\"#C8D4E3\",\"gridwidth\":2}},\"shapedefaults\":{\"line\":{\"color\":\"#f2f5fa\"}},\"annotationdefaults\":{\"arrowcolor\":\"#f2f5fa\",\"arrowhead\":0,\"arrowwidth\":1},\"geo\":{\"bgcolor\":\"rgb(17,17,17)\",\"landcolor\":\"rgb(17,17,17)\",\"subunitcolor\":\"#506784\",\"showland\":true,\"showlakes\":true,\"lakecolor\":\"rgb(17,17,17)\"},\"title\":{\"x\":0.05},\"updatemenudefaults\":{\"bgcolor\":\"#506784\",\"borderwidth\":0},\"sliderdefaults\":{\"bgcolor\":\"#C8D4E3\",\"borderwidth\":1,\"bordercolor\":\"rgb(17,17,17)\",\"tickwidth\":0},\"mapbox\":{\"style\":\"dark\"}}},\"xaxis\":{\"anchor\":\"y\",\"domain\":[0.0,1.0],\"scaleanchor\":\"y\",\"constrain\":\"domain\"},\"yaxis\":{\"anchor\":\"x\",\"domain\":[0.0,1.0],\"autorange\":\"reversed\",\"constrain\":\"domain\"},\"coloraxis\":{\"colorscale\":[[0.0,\"#0d0887\"],[0.1111111111111111,\"#46039f\"],[0.2222222222222222,\"#7201a8\"],[0.3333333333333333,\"#9c179e\"],[0.4444444444444444,\"#bd3786\"],[0.5555555555555556,\"#d8576b\"],[0.6666666666666666,\"#ed7953\"],[0.7777777777777778,\"#fb9f3a\"],[0.8888888888888888,\"#fdca26\"],[1.0,\"#f0f921\"]]},\"margin\":{\"t\":60},\"height\":800,\"width\":800,\"title\":{\"text\":\"Correlation\"}},                        {\"responsive\": true}                    ).then(function(){\n                            \nvar gd = document.getElementById('4a0f56c9-c0b9-4924-a116-cb62007b47d7');\nvar x = new MutationObserver(function (mutations, observer) {{\n        var display = window.getComputedStyle(gd).display;\n        if (!display || display === 'none') {{\n            console.log([gd, 'removed!']);\n            Plotly.purge(gd);\n            observer.disconnect();\n        }}\n}});\n\n// Listen for the removal of the full notebook cells\nvar notebookContainer = gd.closest('#notebook-container');\nif (notebookContainer) {{\n    x.observe(notebookContainer, {childList: true});\n}}\n\n// Listen for the clearing of the current output cell\nvar outputEl = gd.closest('.output');\nif (outputEl) {{\n    x.observe(outputEl, {childList: true});\n}}\n\n                        })                };                });            </script>        </div>"
     },
     "metadata": {},
     "output_type": "display_data"
    }
   ],
   "source": [
    "fig = px.imshow(data.corr(), text_auto=True, width=800, height=800)\n",
    "fig.update_layout(title='Correlation')\n",
    "fig.show()"
   ],
   "metadata": {
    "collapsed": false,
    "ExecuteTime": {
     "end_time": "2024-03-17T09:19:31.417309Z",
     "start_time": "2024-03-17T09:19:31.381392Z"
    }
   },
   "id": "2336390e255c6e41",
   "execution_count": 186
  },
  {
   "cell_type": "code",
   "outputs": [
    {
     "data": {
      "application/vnd.plotly.v1+json": {
       "data": [
        {
         "alignmentgroup": "True",
         "bingroup": "x",
         "histfunc": "sum",
         "hovertemplate": "Age=%{x}<br>sum of Mortgage=%{y}<extra></extra>",
         "legendgroup": "",
         "marker": {
          "color": "#636efa",
          "pattern": {
           "shape": ""
          }
         },
         "name": "",
         "offsetgroup": "",
         "orientation": "v",
         "showlegend": false,
         "texttemplate": "%{value}",
         "x": [
          25,
          45,
          39,
          35,
          35,
          37,
          53,
          50,
          35,
          34,
          65,
          29,
          48,
          59,
          67,
          60,
          38,
          42,
          46,
          55,
          56,
          57,
          29,
          44,
          36,
          43,
          40,
          46,
          56,
          38,
          59,
          40,
          53,
          30,
          31,
          48,
          59,
          51,
          42,
          38,
          57,
          34,
          32,
          39,
          46,
          57,
          39,
          37,
          56,
          40,
          32,
          61,
          30,
          50,
          29,
          41,
          55,
          56,
          28,
          31,
          49,
          47,
          42,
          42,
          47,
          59,
          62,
          53,
          47,
          53,
          42,
          53,
          44,
          41,
          28,
          31,
          58,
          46,
          54,
          50,
          60,
          47,
          41,
          33,
          46,
          27,
          40,
          48,
          65,
          25,
          55,
          35,
          43,
          60,
          65,
          38,
          41,
          54,
          49,
          66,
          48,
          61,
          53,
          43,
          56,
          24,
          43,
          42,
          33,
          43,
          41,
          62,
          40,
          58,
          39,
          65,
          54,
          58,
          41,
          32,
          54,
          52,
          58,
          37,
          39,
          60,
          31,
          34,
          38,
          41,
          28,
          58,
          31,
          30,
          53,
          58,
          59,
          49,
          59,
          59,
          51,
          35,
          33,
          25,
          49,
          59,
          46,
          50,
          52,
          48,
          46,
          26,
          57,
          60,
          54,
          24,
          26,
          41,
          32,
          61,
          29,
          61,
          38,
          28,
          53,
          27,
          25,
          33,
          50,
          27,
          27,
          52,
          38,
          58,
          42,
          45,
          52,
          29,
          53,
          62,
          51,
          36,
          24,
          29,
          52,
          39,
          48,
          46,
          64,
          55,
          60,
          51,
          50,
          48,
          53,
          34,
          48,
          55,
          27,
          36,
          32,
          35,
          30,
          58,
          56,
          38,
          49,
          34,
          40,
          64,
          51,
          44,
          46,
          57,
          54,
          38,
          27,
          39,
          44,
          56,
          32,
          45,
          26,
          55,
          52,
          39,
          24,
          47,
          47,
          48,
          47,
          35,
          46,
          62,
          26,
          38,
          43,
          62,
          57,
          28,
          51,
          48,
          41,
          65,
          41,
          35,
          38,
          53,
          55,
          26,
          30,
          54,
          65,
          47,
          65,
          66,
          26,
          66,
          35,
          56,
          51,
          42,
          49,
          27,
          45,
          49,
          63,
          47,
          64,
          43,
          60,
          40,
          29,
          41,
          30,
          49,
          30,
          29,
          50,
          39,
          33,
          57,
          34,
          61,
          44,
          40,
          51,
          37,
          44,
          42,
          51,
          43,
          30,
          45,
          35,
          60,
          34,
          55,
          43,
          41,
          34,
          65,
          45,
          49,
          48,
          60,
          55,
          42,
          32,
          62,
          57,
          52,
          36,
          34,
          63,
          24,
          57,
          40,
          27,
          65,
          60,
          44,
          63,
          59,
          56,
          54,
          52,
          58,
          60,
          28,
          54,
          32,
          59,
          63,
          48,
          56,
          36,
          57,
          29,
          39,
          59,
          31,
          43,
          35,
          54,
          51,
          44,
          25,
          40,
          26,
          39,
          28,
          52,
          53,
          44,
          43,
          56,
          38,
          30,
          32,
          35,
          43,
          58,
          25,
          54,
          57,
          50,
          32,
          63,
          31,
          36,
          58,
          56,
          49,
          30,
          33,
          45,
          30,
          47,
          25,
          63,
          55,
          65,
          44,
          51,
          35,
          30,
          31,
          54,
          45,
          45,
          58,
          54,
          53,
          33,
          60,
          50,
          26,
          54,
          28,
          36,
          29,
          54,
          55,
          61,
          36,
          45,
          64,
          60,
          49,
          47,
          60,
          45,
          32,
          52,
          35,
          40,
          53,
          27,
          58,
          47,
          28,
          46,
          43,
          56,
          28,
          42,
          32,
          62,
          37,
          51,
          39,
          43,
          52,
          30,
          52,
          61,
          36,
          58,
          47,
          64,
          52,
          58,
          48,
          64,
          58,
          47,
          49,
          31,
          61,
          51,
          28,
          39,
          54,
          50,
          30,
          64,
          29,
          48,
          35,
          60,
          55,
          29,
          48,
          43,
          66,
          25,
          45,
          34,
          48,
          32,
          50,
          43,
          64,
          60,
          43,
          60,
          64,
          44,
          60,
          54,
          33,
          56,
          29,
          25,
          60,
          55,
          39,
          37,
          53,
          34,
          42,
          60,
          50,
          41,
          25,
          50,
          48,
          32,
          50,
          59,
          50,
          44,
          31,
          40,
          36,
          51,
          64,
          47,
          52,
          51,
          31,
          39,
          30,
          27,
          41,
          53,
          54,
          28,
          34,
          61,
          48,
          36,
          56,
          24,
          64,
          26,
          33,
          64,
          39,
          54,
          32,
          62,
          27,
          53,
          51,
          25,
          44,
          31,
          57,
          25,
          30,
          40,
          63,
          35,
          43,
          27,
          44,
          49,
          61,
          60,
          59,
          28,
          52,
          28,
          34,
          60,
          39,
          30,
          49,
          43,
          63,
          28,
          51,
          33,
          55,
          53,
          34,
          34,
          40,
          49,
          35,
          39,
          55,
          29,
          54,
          25,
          52,
          46,
          57,
          52,
          28,
          44,
          24,
          40,
          34,
          39,
          50,
          41,
          31,
          29,
          30,
          44,
          33,
          50,
          42,
          48,
          24,
          56,
          28,
          56,
          58,
          29,
          63,
          28,
          57,
          34,
          28,
          27,
          37,
          52,
          49,
          65,
          60,
          37,
          63,
          40,
          46,
          63,
          57,
          33,
          41,
          41,
          44,
          33,
          52,
          30,
          45,
          49,
          45,
          32,
          45,
          57,
          61,
          57,
          60,
          40,
          53,
          42,
          62,
          43,
          35,
          50,
          45,
          52,
          35,
          58,
          62,
          50,
          25,
          47,
          28,
          34,
          49,
          54,
          50,
          37,
          38,
          52,
          63,
          39,
          63,
          65,
          46,
          54,
          54,
          52,
          63,
          66,
          56,
          23,
          65,
          51,
          34,
          49,
          29,
          47,
          46,
          52,
          55,
          61,
          34,
          58,
          40,
          43,
          35,
          24,
          48,
          44,
          54,
          59,
          45,
          26,
          40,
          32,
          29,
          51,
          42,
          64,
          44,
          37,
          44,
          35,
          41,
          56,
          62,
          58,
          47,
          35,
          29,
          43,
          62,
          41,
          34,
          50,
          47,
          29,
          59,
          56,
          61,
          58,
          49,
          45,
          50,
          64,
          39,
          58,
          62,
          45,
          58,
          43,
          28,
          26,
          49,
          66,
          33,
          61,
          64,
          36,
          49,
          52,
          61,
          32,
          61,
          45,
          30,
          62,
          57,
          41,
          58,
          29,
          53,
          64,
          49,
          38,
          56,
          56,
          52,
          64,
          53,
          29,
          48,
          32,
          54,
          37,
          47,
          37,
          64,
          43,
          33,
          26,
          42,
          54,
          41,
          55,
          65,
          50,
          55,
          62,
          53,
          32,
          56,
          54,
          44,
          48,
          46,
          45,
          45,
          58,
          29,
          55,
          55,
          41,
          24,
          54,
          57,
          30,
          42,
          29,
          29,
          31,
          47,
          36,
          52,
          54,
          55,
          53,
          52,
          64,
          54,
          32,
          63,
          36,
          50,
          33,
          62,
          49,
          41,
          51,
          56,
          51,
          39,
          61,
          35,
          39,
          37,
          48,
          63,
          35,
          55,
          29,
          61,
          36,
          61,
          36,
          58,
          42,
          30,
          45,
          39,
          27,
          57,
          34,
          64,
          47,
          44,
          51,
          40,
          57,
          33,
          46,
          41,
          33,
          27,
          52,
          59,
          62,
          49,
          45,
          63,
          57,
          60,
          50,
          54,
          28,
          60,
          44,
          61,
          40,
          54,
          43,
          54,
          32,
          24,
          30,
          61,
          40,
          35,
          33,
          63,
          57,
          44,
          51,
          51,
          38,
          31,
          54,
          41,
          57,
          24,
          55,
          32,
          38,
          58,
          29,
          43,
          50,
          62,
          57,
          30,
          30,
          57,
          57,
          43,
          28,
          46,
          29,
          64,
          66,
          23,
          60,
          47,
          35,
          57,
          65,
          53,
          44,
          45,
          41,
          51,
          27,
          31,
          32,
          55,
          55,
          42,
          33,
          65,
          35,
          55,
          28,
          27,
          51,
          50,
          58,
          46,
          62,
          38,
          62,
          56,
          61,
          38,
          55,
          30,
          41,
          57,
          36,
          55,
          30,
          40,
          32,
          59,
          44,
          51,
          37,
          59,
          37,
          56,
          55,
          49,
          46,
          35,
          47,
          39,
          27,
          62,
          57,
          55,
          55,
          41,
          57,
          43,
          40,
          43,
          63,
          63,
          54,
          54,
          52,
          50,
          38,
          36,
          58,
          46,
          50,
          46,
          53,
          62,
          63,
          42,
          34,
          40,
          34,
          41,
          32,
          28,
          33,
          46,
          52,
          60,
          59,
          57,
          46,
          25,
          53,
          38,
          63,
          44,
          50,
          28,
          27,
          52,
          50,
          39,
          50,
          60,
          30,
          31,
          39,
          29,
          54,
          35,
          27,
          45,
          58,
          62,
          28,
          32,
          29,
          41,
          61,
          56,
          37,
          60,
          49,
          43,
          53,
          35,
          56,
          41,
          36,
          56,
          64,
          51,
          49,
          43,
          51,
          55,
          62,
          35,
          53,
          33,
          43,
          58,
          63,
          31,
          36,
          30,
          59,
          28,
          59,
          47,
          47,
          56,
          41,
          25,
          30,
          50,
          34,
          44,
          36,
          39,
          54,
          33,
          39,
          41,
          40,
          29,
          51,
          54,
          47,
          53,
          30,
          28,
          60,
          51,
          63,
          38,
          59,
          53,
          31,
          41,
          25,
          27,
          50,
          50,
          43,
          50,
          46,
          30,
          42,
          42,
          29,
          38,
          51,
          35,
          37,
          47,
          55,
          65,
          58,
          54,
          52,
          28,
          32,
          51,
          43,
          42,
          42,
          41,
          34,
          30,
          32,
          46,
          38,
          37,
          32,
          35,
          30,
          30,
          58,
          57,
          34,
          31,
          39,
          57,
          47,
          51,
          30,
          55,
          32,
          32,
          44,
          33,
          49,
          32,
          31,
          37,
          41,
          56,
          55,
          49,
          63,
          55,
          59,
          41,
          49,
          48,
          41,
          50,
          28,
          36,
          38,
          34,
          41,
          43,
          30,
          37,
          62,
          40,
          35,
          64,
          49,
          24,
          36,
          29,
          29,
          28,
          33,
          36,
          42,
          25,
          28,
          50,
          34,
          43,
          62,
          61,
          45,
          42,
          39,
          29,
          45,
          58,
          29,
          32,
          37,
          48,
          40,
          29,
          36,
          35,
          35,
          62,
          26,
          32,
          63,
          38,
          50,
          46,
          50,
          61,
          34,
          27,
          61,
          45,
          50,
          44,
          62,
          45,
          41,
          30,
          61,
          45,
          59,
          30,
          60,
          39,
          56,
          56,
          27,
          66,
          43,
          53,
          44,
          54,
          31,
          38,
          28,
          51,
          52,
          64,
          29,
          34,
          33,
          46,
          48,
          52,
          44,
          51,
          47,
          39,
          42,
          57,
          36,
          27,
          31,
          63,
          34,
          52,
          57,
          63,
          26,
          35,
          58,
          32,
          64,
          50,
          34,
          36,
          43,
          28,
          64,
          60,
          62,
          27,
          42,
          45,
          36,
          48,
          65,
          39,
          51,
          30,
          65,
          38,
          29,
          42,
          63,
          46,
          62,
          58,
          56,
          56,
          34,
          42,
          30,
          61,
          38,
          50,
          61,
          41,
          42,
          29,
          51,
          32,
          34,
          26,
          54,
          38,
          62,
          37,
          46,
          52,
          32,
          49,
          28,
          55,
          52,
          32,
          31,
          27,
          32,
          52,
          52,
          50,
          32,
          61,
          60,
          28,
          34,
          31,
          31,
          62,
          47,
          50,
          36,
          26,
          51,
          52,
          35,
          42,
          36,
          41,
          49,
          57,
          44,
          60,
          38,
          26,
          29,
          59,
          51,
          50,
          35,
          61,
          42,
          55,
          50,
          64,
          54,
          50,
          31,
          32,
          44,
          60,
          60,
          62,
          46,
          57,
          30,
          58,
          39,
          60,
          59,
          50,
          63,
          27,
          54,
          62,
          60,
          38,
          34,
          65,
          55,
          57,
          27,
          35,
          52,
          45,
          29,
          44,
          47,
          62,
          52,
          47,
          42,
          65,
          42,
          40,
          32,
          40,
          55,
          32,
          58,
          46,
          53,
          63,
          40,
          41,
          60,
          65,
          59,
          48,
          59,
          33,
          40,
          42,
          65,
          30,
          30,
          42,
          32,
          55,
          29,
          64,
          37,
          31,
          25,
          31,
          32,
          58,
          26,
          51,
          65,
          43,
          46,
          28,
          63,
          59,
          42,
          58,
          39,
          36,
          60,
          47,
          29,
          52,
          41,
          63,
          59,
          44,
          54,
          29,
          51,
          63,
          36,
          42,
          51,
          47,
          40,
          54,
          47,
          35,
          28,
          45,
          33,
          62,
          45,
          59,
          58,
          52,
          34,
          65,
          48,
          44,
          61,
          40,
          65,
          28,
          67,
          35,
          60,
          58,
          55,
          34,
          35,
          28,
          38,
          62,
          30,
          38,
          33,
          58,
          59,
          52,
          36,
          45,
          49,
          52,
          54,
          30,
          65,
          34,
          30,
          51,
          52,
          43,
          35,
          56,
          57,
          58,
          53,
          45,
          44,
          54,
          41,
          52,
          43,
          63,
          54,
          33,
          25,
          41,
          40,
          43,
          36,
          57,
          34,
          38,
          47,
          39,
          45,
          62,
          59,
          61,
          36,
          58,
          55,
          29,
          34,
          61,
          50,
          52,
          39,
          55,
          33,
          47,
          57,
          57,
          40,
          50,
          29,
          46,
          42,
          59,
          31,
          51,
          35,
          59,
          35,
          46,
          34,
          55,
          64,
          34,
          61,
          63,
          59,
          51,
          41,
          37,
          64,
          44,
          62,
          50,
          43,
          34,
          38,
          29,
          39,
          53,
          43,
          61,
          46,
          57,
          59,
          52,
          29,
          57,
          49,
          39,
          56,
          63,
          37,
          56,
          45,
          66,
          40,
          50,
          60,
          31,
          40,
          36,
          55,
          54,
          35,
          55,
          36,
          66,
          38,
          58,
          41,
          60,
          47,
          62,
          48,
          61,
          29,
          45,
          39,
          31,
          39,
          63,
          28,
          56,
          31,
          46,
          42,
          53,
          41,
          61,
          31,
          62,
          59,
          49,
          65,
          30,
          32,
          56,
          36,
          58,
          27,
          41,
          59,
          56,
          52,
          35,
          47,
          29,
          31,
          62,
          48,
          26,
          60,
          35,
          40,
          31,
          50,
          33,
          37,
          38,
          63,
          57,
          61,
          37,
          51,
          44,
          63,
          43,
          38,
          34,
          48,
          29,
          37,
          60,
          46,
          34,
          56,
          57,
          62,
          32,
          51,
          55,
          60,
          40,
          62,
          63,
          60,
          59,
          26,
          56,
          58,
          57,
          48,
          30,
          45,
          64,
          44,
          51,
          43,
          29,
          56,
          65,
          46,
          48,
          56,
          61,
          46,
          58,
          31,
          27,
          44,
          44,
          51,
          39,
          32,
          33,
          40,
          36,
          52,
          54,
          26,
          39,
          46,
          57,
          59,
          52,
          52,
          50,
          41,
          43,
          25,
          40,
          35,
          60,
          57,
          44,
          61,
          33,
          45,
          45,
          64,
          50,
          28,
          37,
          62,
          29,
          49,
          46,
          60,
          55,
          33,
          53,
          50,
          28,
          42,
          33,
          40,
          31,
          41,
          52,
          65,
          48,
          45,
          26,
          64,
          41,
          43,
          60,
          62,
          46,
          36,
          31,
          43,
          46,
          50,
          52,
          27,
          34,
          49,
          52,
          37,
          53,
          54,
          29,
          35,
          32,
          38,
          44,
          44,
          48,
          46,
          35,
          56,
          49,
          57,
          35,
          44,
          38,
          57,
          35,
          29,
          58,
          40,
          51,
          61,
          46,
          55,
          35,
          60,
          28,
          43,
          61,
          48,
          65,
          45,
          36,
          45,
          60,
          47,
          32,
          48,
          33,
          49,
          56,
          59,
          56,
          30,
          59,
          38,
          47,
          54,
          34,
          41,
          47,
          44,
          43,
          31,
          28,
          55,
          42,
          53,
          30,
          65,
          43,
          56,
          25,
          35,
          50,
          36,
          34,
          32,
          51,
          52,
          65,
          51,
          37,
          35,
          67,
          30,
          62,
          42,
          48,
          61,
          36,
          48,
          65,
          25,
          55,
          63,
          31,
          43,
          28,
          37,
          27,
          62,
          51,
          56,
          56,
          44,
          46,
          56,
          56,
          57,
          31,
          65,
          31,
          36,
          56,
          52,
          42,
          55,
          49,
          51,
          26,
          32,
          54,
          50,
          59,
          61,
          43,
          39,
          56,
          38,
          25,
          42,
          42,
          50,
          56,
          43,
          60,
          42,
          57,
          48,
          37,
          57,
          62,
          39,
          38,
          54,
          45,
          39,
          45,
          62,
          43,
          30,
          35,
          58,
          44,
          56,
          28,
          64,
          63,
          44,
          34,
          50,
          51,
          30,
          55,
          57,
          43,
          61,
          49,
          52,
          57,
          53,
          52,
          39,
          58,
          36,
          45,
          30,
          49,
          44,
          43,
          42,
          29,
          28,
          50,
          44,
          52,
          28,
          62,
          34,
          45,
          52,
          43,
          54,
          64,
          27,
          42,
          28,
          47,
          39,
          29,
          39,
          41,
          37,
          41,
          45,
          52,
          58,
          31,
          26,
          31,
          42,
          56,
          52,
          59,
          32,
          46,
          52,
          30,
          32,
          35,
          49,
          54,
          56,
          48,
          28,
          44,
          30,
          44,
          30,
          47,
          64,
          48,
          63,
          25,
          61,
          46,
          57,
          40,
          49,
          30,
          41,
          42,
          63,
          43,
          59,
          46,
          33,
          55,
          36,
          47,
          59,
          38,
          42,
          30,
          63,
          60,
          62,
          49,
          59,
          36,
          46,
          35,
          50,
          51,
          41,
          45,
          41,
          57,
          51,
          52,
          43,
          63,
          28,
          43,
          41,
          34,
          28,
          58,
          39,
          49,
          33,
          37,
          33,
          28,
          54,
          63,
          57,
          56,
          54,
          29,
          41,
          58,
          61,
          30,
          62,
          52,
          29,
          46,
          52,
          40,
          49,
          34,
          35,
          26,
          65,
          52,
          32,
          31,
          36,
          50,
          36,
          51,
          39,
          53,
          50,
          31,
          53,
          48,
          57,
          47,
          55,
          37,
          59,
          53,
          31,
          35,
          25,
          37,
          40,
          31,
          62,
          41,
          56,
          47,
          28,
          60,
          27,
          57,
          62,
          57,
          44,
          31,
          31,
          39,
          41,
          41,
          55,
          28,
          35,
          44,
          44,
          40,
          65,
          35,
          55,
          55,
          59,
          39,
          50,
          45,
          50,
          65,
          36,
          57,
          53,
          28,
          55,
          56,
          33,
          57,
          27,
          27,
          54,
          48,
          62,
          41,
          62,
          40,
          32,
          62,
          35,
          25,
          50,
          61,
          43,
          52,
          39,
          33,
          27,
          27,
          32,
          65,
          55,
          52,
          39,
          35,
          39,
          34,
          30,
          37,
          41,
          31,
          37,
          49,
          58,
          45,
          40,
          34,
          62,
          54,
          26,
          54,
          29,
          48,
          27,
          42,
          25,
          45,
          34,
          51,
          51,
          60,
          59,
          49,
          50,
          41,
          49,
          50,
          63,
          63,
          33,
          38,
          64,
          36,
          58,
          39,
          46,
          61,
          53,
          28,
          64,
          48,
          38,
          52,
          65,
          59,
          45,
          53,
          38,
          54,
          25,
          61,
          48,
          46,
          36,
          46,
          59,
          59,
          36,
          63,
          51,
          30,
          48,
          55,
          41,
          26,
          41,
          54,
          57,
          54,
          35,
          60,
          63,
          41,
          46,
          31,
          58,
          59,
          46,
          33,
          56,
          47,
          59,
          24,
          39,
          30,
          55,
          47,
          35,
          47,
          38,
          38,
          27,
          42,
          26,
          60,
          27,
          27,
          40,
          40,
          29,
          30,
          30,
          47,
          33,
          57,
          38,
          54,
          47,
          48,
          62,
          30,
          35,
          59,
          38,
          47,
          57,
          42,
          39,
          53,
          27,
          59,
          48,
          62,
          66,
          38,
          42,
          47,
          27,
          32,
          37,
          56,
          39,
          36,
          32,
          62,
          48,
          58,
          27,
          52,
          54,
          31,
          60,
          34,
          46,
          41,
          62,
          31,
          41,
          55,
          45,
          51,
          27,
          30,
          31,
          61,
          40,
          45,
          45,
          37,
          34,
          43,
          42,
          56,
          33,
          36,
          62,
          58,
          65,
          65,
          52,
          64,
          51,
          59,
          52,
          55,
          46,
          61,
          35,
          56,
          31,
          44,
          53,
          36,
          27,
          36,
          40,
          39,
          59,
          43,
          30,
          26,
          48,
          50,
          33,
          32,
          34,
          33,
          32,
          55,
          58,
          47,
          30,
          42,
          40,
          33,
          46,
          63,
          62,
          43,
          31,
          28,
          64,
          27,
          33,
          39,
          44,
          53,
          42,
          44,
          34,
          47,
          53,
          62,
          61,
          42,
          48,
          38,
          41,
          57,
          31,
          39,
          48,
          55,
          29,
          47,
          61,
          60,
          34,
          45,
          60,
          25,
          41,
          63,
          63,
          43,
          58,
          50,
          38,
          54,
          61,
          29,
          39,
          33,
          23,
          56,
          54,
          37,
          38,
          34,
          53,
          65,
          62,
          51,
          31,
          64,
          39,
          28,
          60,
          47,
          25,
          44,
          51,
          31,
          32,
          51,
          25,
          43,
          54,
          34,
          54,
          42,
          46,
          62,
          31,
          30,
          52,
          35,
          60,
          58,
          24,
          40,
          49,
          43,
          33,
          36,
          62,
          57,
          64,
          52,
          54,
          40,
          30,
          55,
          39,
          55,
          28,
          44,
          46,
          61,
          61,
          45,
          38,
          29,
          52,
          38,
          28,
          34,
          35,
          46,
          63,
          33,
          38,
          53,
          28,
          44,
          58,
          38,
          48,
          33,
          66,
          59,
          40,
          36,
          62,
          51,
          58,
          52,
          41,
          31,
          28,
          57,
          61,
          60,
          56,
          49,
          63,
          49,
          49,
          32,
          26,
          27,
          57,
          29,
          56,
          59,
          53,
          54,
          56,
          50,
          51,
          53,
          37,
          32,
          49,
          34,
          54,
          64,
          58,
          25,
          50,
          38,
          48,
          41,
          32,
          46,
          39,
          39,
          63,
          58,
          28,
          36,
          43,
          36,
          44,
          31,
          45,
          39,
          43,
          40,
          30,
          58,
          46,
          35,
          30,
          34,
          62,
          58,
          45,
          42,
          60,
          55,
          45,
          52,
          31,
          60,
          33,
          37,
          59,
          51,
          47,
          60,
          61,
          64,
          46,
          31,
          57,
          48,
          48,
          35,
          33,
          47,
          46,
          44,
          42,
          50,
          52,
          53,
          37,
          64,
          46,
          57,
          61,
          42,
          40,
          33,
          50,
          52,
          35,
          57,
          56,
          44,
          23,
          33,
          48,
          45,
          54,
          42,
          47,
          61,
          53,
          56,
          33,
          44,
          63,
          47,
          50,
          49,
          34,
          40,
          38,
          51,
          28,
          52,
          39,
          29,
          54,
          63,
          40,
          36,
          45,
          61,
          26,
          33,
          64,
          43,
          24,
          30,
          60,
          50,
          40,
          31,
          30,
          60,
          39,
          66,
          65,
          54,
          54,
          35,
          32,
          63,
          60,
          43,
          59,
          62,
          30,
          54,
          30,
          31,
          44,
          32,
          63,
          57,
          60,
          37,
          53,
          51,
          30,
          28,
          50,
          52,
          56,
          40,
          64,
          61,
          46,
          55,
          45,
          40,
          63,
          57,
          38,
          37,
          31,
          50,
          42,
          51,
          38,
          53,
          43,
          35,
          49,
          28,
          51,
          39,
          31,
          44,
          46,
          42,
          41,
          23,
          59,
          47,
          48,
          58,
          58,
          54,
          49,
          63,
          62,
          45,
          39,
          58,
          56,
          29,
          33,
          55,
          56,
          36,
          53,
          57,
          35,
          43,
          54,
          29,
          39,
          32,
          51,
          50,
          54,
          38,
          32,
          62,
          57,
          47,
          51,
          54,
          26,
          37,
          27,
          63,
          62,
          59,
          32,
          35,
          56,
          55,
          31,
          54,
          58,
          48,
          48,
          33,
          36,
          41,
          55,
          63,
          53,
          38,
          46,
          59,
          56,
          59,
          39,
          47,
          47,
          53,
          36,
          34,
          36,
          60,
          45,
          27,
          47,
          44,
          54,
          57,
          52,
          51,
          57,
          65,
          58,
          64,
          52,
          58,
          52,
          43,
          56,
          37,
          53,
          27,
          53,
          42,
          58,
          36,
          53,
          48,
          54,
          26,
          50,
          31,
          35,
          63,
          29,
          57,
          30,
          33,
          62,
          35,
          37,
          37,
          35,
          35,
          59,
          53,
          45,
          46,
          40,
          42,
          25,
          39,
          30,
          58,
          41,
          37,
          36,
          27,
          60,
          62,
          67,
          44,
          24,
          45,
          58,
          61,
          54,
          28,
          49,
          35,
          36,
          34,
          36,
          35,
          27,
          42,
          65,
          29,
          65,
          59,
          46,
          59,
          52,
          60,
          43,
          65,
          50,
          48,
          49,
          58,
          24,
          58,
          45,
          42,
          64,
          49,
          55,
          40,
          28,
          57,
          50,
          40,
          55,
          53,
          48,
          59,
          58,
          38,
          49,
          60,
          54,
          28,
          27,
          42,
          52,
          54,
          56,
          58,
          56,
          64,
          35,
          45,
          57,
          35,
          46,
          30,
          44,
          39,
          42,
          34,
          46,
          55,
          28,
          35,
          60,
          50,
          52,
          51,
          51,
          59,
          53,
          43,
          31,
          32,
          41,
          31,
          41,
          47,
          37,
          53,
          49,
          62,
          33,
          54,
          27,
          60,
          29,
          56,
          55,
          45,
          33,
          45,
          44,
          37,
          42,
          26,
          33,
          61,
          31,
          54,
          62,
          61,
          66,
          38,
          55,
          60,
          23,
          29,
          35,
          53,
          32,
          38,
          44,
          43,
          54,
          52,
          31,
          47,
          42,
          57,
          33,
          35,
          56,
          57,
          25,
          53,
          59,
          56,
          54,
          48,
          55,
          33,
          46,
          42,
          49,
          42,
          46,
          65,
          50,
          54,
          42,
          57,
          61,
          60,
          40,
          33,
          37,
          52,
          33,
          62,
          62,
          63,
          55,
          33,
          25,
          55,
          29,
          45,
          60,
          44,
          48,
          57,
          58,
          58,
          44,
          54,
          59,
          63,
          61,
          58,
          44,
          53,
          63,
          41,
          50,
          51,
          47,
          43,
          46,
          50,
          33,
          27,
          34,
          34,
          28,
          29,
          52,
          47,
          41,
          58,
          37,
          57,
          63,
          60,
          50,
          60,
          54,
          28,
          45,
          28,
          54,
          42,
          30,
          61,
          64,
          38,
          39,
          54,
          59,
          39,
          63,
          31,
          56,
          47,
          28,
          32,
          54,
          29,
          39,
          26,
          29,
          46,
          38,
          55,
          48,
          36,
          39,
          40,
          26,
          55,
          61,
          57,
          56,
          31,
          61,
          58,
          43,
          29,
          50,
          49,
          43,
          58,
          41,
          65,
          52,
          55,
          49,
          52,
          56,
          30,
          36,
          41,
          42,
          60,
          44,
          34,
          56,
          31,
          29,
          31,
          36,
          42,
          64,
          61,
          35,
          28,
          38,
          44,
          45,
          46,
          57,
          40,
          38,
          39,
          23,
          47,
          32,
          30,
          54,
          25,
          60,
          61,
          36,
          52,
          33,
          57,
          34,
          50,
          43,
          34,
          26,
          26,
          48,
          49,
          47,
          43,
          40,
          31,
          27,
          55,
          54,
          23,
          54,
          57,
          41,
          28,
          33,
          51,
          28,
          63,
          29,
          62,
          51,
          52,
          43,
          39,
          35,
          34,
          49,
          43,
          48,
          30,
          46,
          43,
          27,
          39,
          58,
          44,
          39,
          35,
          41,
          43,
          55,
          32,
          56,
          30,
          65,
          31,
          41,
          55,
          37,
          34,
          34,
          33,
          48,
          28,
          30,
          44,
          61,
          59,
          33,
          56,
          53,
          42,
          43,
          35,
          61,
          39,
          61,
          40,
          34,
          65,
          40,
          39,
          61,
          40,
          49,
          43,
          45,
          52,
          32,
          31,
          27,
          33,
          65,
          62,
          55,
          46,
          37,
          60,
          44,
          35,
          52,
          30,
          62,
          41,
          38,
          52,
          48,
          47,
          41,
          44,
          31,
          50,
          36,
          52,
          62,
          55,
          61,
          34,
          34,
          59,
          41,
          33,
          55,
          64,
          44,
          32,
          67,
          40,
          57,
          59,
          43,
          58,
          50,
          52,
          35,
          40,
          31,
          32,
          55,
          43,
          31,
          26,
          58,
          51,
          45,
          56,
          25,
          38,
          62,
          39,
          56,
          50,
          52,
          53,
          25,
          44,
          42,
          42,
          63,
          57,
          56,
          60,
          62,
          48,
          37,
          55,
          42,
          39,
          47,
          34,
          48,
          52,
          53,
          49,
          47,
          48,
          38,
          48,
          56,
          65,
          46,
          60,
          50,
          41,
          41,
          60,
          57,
          48,
          53,
          42,
          45,
          35,
          34,
          67,
          36,
          37,
          40,
          35,
          60,
          59,
          35,
          27,
          29,
          35,
          38,
          62,
          43,
          35,
          41,
          65,
          61,
          55,
          28,
          52,
          34,
          49,
          42,
          49,
          49,
          32,
          59,
          43,
          48,
          31,
          30,
          58,
          41,
          38,
          33,
          51,
          45,
          34,
          39,
          44,
          55,
          28,
          57,
          43,
          46,
          35,
          25,
          65,
          64,
          39,
          62,
          46,
          36,
          42,
          35,
          63,
          45,
          27,
          29,
          55,
          32,
          37,
          25,
          41,
          52,
          31,
          40,
          54,
          48,
          39,
          64,
          54,
          39,
          55,
          42,
          58,
          45,
          29,
          36,
          63,
          55,
          54,
          61,
          36,
          61,
          39,
          57,
          35,
          66,
          49,
          48,
          61,
          44,
          23,
          31,
          39,
          45,
          39,
          64,
          64,
          47,
          34,
          56,
          33,
          56,
          57,
          43,
          43,
          26,
          64,
          43,
          44,
          60,
          37,
          56,
          54,
          43,
          57,
          29,
          54,
          61,
          29,
          47,
          43,
          46,
          55,
          48,
          26,
          63,
          57,
          58,
          28,
          61,
          65,
          33,
          63,
          43,
          26,
          57,
          50,
          54,
          59,
          49,
          54,
          65,
          34,
          31,
          31,
          64,
          52,
          57,
          60,
          45,
          39,
          25,
          29,
          40,
          36,
          33,
          51,
          35,
          54,
          29,
          32,
          37,
          55,
          30,
          49,
          51,
          65,
          32,
          29,
          46,
          64,
          27,
          50,
          33,
          38,
          38,
          37,
          46,
          31,
          35,
          50,
          45,
          30,
          60,
          31,
          60,
          36,
          64,
          29,
          58,
          59,
          58,
          35,
          43,
          33,
          54,
          38,
          38,
          57,
          34,
          52,
          50,
          60,
          26,
          56,
          39,
          45,
          30,
          37,
          45,
          48,
          65,
          46,
          40,
          33,
          40,
          60,
          51,
          41,
          37,
          35,
          35,
          46,
          60,
          51,
          31,
          30,
          32,
          53,
          33,
          40,
          57,
          51,
          30,
          41,
          54,
          42,
          30,
          60,
          56,
          63,
          56,
          39,
          29,
          28,
          41,
          28,
          49,
          30,
          63,
          45,
          40,
          28,
          62,
          38,
          32,
          58,
          33,
          60,
          34,
          38,
          44,
          56,
          37,
          45,
          44,
          37,
          47,
          51,
          63,
          61,
          43,
          41,
          59,
          29,
          32,
          64,
          50,
          35,
          34,
          58,
          41,
          37,
          35,
          45,
          53,
          53,
          54,
          28,
          58,
          47,
          24,
          27,
          42,
          50,
          41,
          46,
          46,
          51,
          59,
          58,
          37,
          39,
          47,
          51,
          64,
          59,
          55,
          57,
          59,
          42,
          34,
          41,
          43,
          53,
          47,
          49,
          35,
          52,
          53,
          48,
          35,
          52,
          60,
          33,
          38,
          29,
          35,
          26,
          48,
          43,
          60,
          27,
          38,
          40,
          38,
          50,
          38,
          34,
          42,
          60,
          62,
          59,
          49,
          49,
          36,
          33,
          43,
          53,
          57,
          53,
          60,
          34,
          51,
          36,
          63,
          37,
          57,
          52,
          38,
          61,
          31,
          39,
          38,
          46,
          48,
          58,
          50,
          67,
          36,
          30,
          58,
          43,
          31,
          37,
          49,
          27,
          50,
          46,
          49,
          29,
          55,
          61,
          45,
          33,
          63,
          32,
          42,
          51,
          44,
          33,
          39,
          56,
          28,
          43,
          30,
          34,
          26,
          58,
          43,
          40,
          54,
          44,
          54,
          39,
          59,
          53,
          32,
          40,
          54,
          27,
          63,
          26,
          33,
          43,
          57,
          26,
          55,
          30,
          63,
          55,
          35,
          45,
          47,
          31,
          56,
          49,
          53,
          62,
          63,
          26,
          59,
          40,
          42,
          29,
          40,
          31,
          35,
          62,
          51,
          32,
          27,
          62,
          66,
          53,
          49,
          65,
          30,
          60,
          30,
          54,
          54,
          37,
          32,
          51,
          46,
          41,
          62,
          54,
          52,
          51,
          24,
          61,
          55,
          37,
          64,
          34,
          31,
          42,
          47,
          29,
          34,
          36,
          34,
          26,
          48,
          47,
          39,
          62,
          34,
          43,
          55,
          65,
          26,
          57,
          32,
          35,
          63,
          49,
          23,
          30,
          43,
          39,
          31,
          65,
          34,
          37,
          62,
          33,
          48,
          33,
          45,
          44,
          37,
          31,
          56,
          30,
          61,
          32,
          51,
          26,
          31,
          43,
          57,
          42,
          48,
          46,
          33,
          45,
          31,
          42,
          56,
          63,
          42,
          50,
          31,
          65,
          60,
          34,
          62,
          56,
          51,
          44,
          41,
          43,
          25,
          40,
          53,
          54,
          36,
          26,
          35,
          29,
          35,
          28,
          48,
          46,
          31,
          40,
          27,
          32,
          67,
          24,
          45,
          26,
          42,
          65,
          59,
          30,
          32,
          36,
          48,
          56,
          44,
          60,
          51,
          34,
          45,
          47,
          29,
          52,
          61,
          40,
          24,
          33,
          33,
          52,
          40,
          45,
          27,
          38,
          50,
          41,
          60,
          64,
          34,
          30,
          31,
          41,
          61,
          42,
          48,
          59,
          57,
          37,
          53,
          53,
          26,
          39,
          35,
          59,
          43,
          39,
          49,
          47,
          41,
          57,
          42,
          61,
          56,
          29,
          25,
          32,
          37,
          31,
          38,
          40,
          61,
          50,
          32,
          62,
          62,
          40,
          59,
          43,
          62,
          48,
          29,
          58,
          43,
          39,
          33,
          40,
          28,
          38,
          65,
          35,
          29,
          61,
          46,
          50,
          60,
          54,
          43,
          38,
          46,
          64,
          24,
          39,
          34,
          65,
          38,
          62,
          59,
          49,
          57,
          64,
          47,
          30,
          42,
          53,
          50,
          62,
          34,
          47,
          62,
          61,
          59,
          47,
          65,
          56,
          56,
          31,
          61,
          42,
          44,
          47,
          30,
          62,
          56,
          25,
          53,
          26,
          59,
          62,
          58,
          40,
          35,
          51,
          41,
          51,
          27,
          46,
          46,
          31,
          58,
          42,
          59,
          54,
          35,
          34,
          46,
          52,
          55,
          34,
          57,
          45,
          29,
          49,
          36,
          57,
          25,
          43,
          27,
          54,
          53,
          55,
          43,
          35,
          59,
          42,
          51,
          57,
          39,
          53,
          31,
          33,
          38,
          47,
          63,
          44,
          61,
          52,
          59,
          56,
          58,
          30,
          42,
          51,
          60,
          30,
          49,
          26,
          36,
          65,
          27,
          60,
          32,
          46,
          60,
          28,
          50,
          52,
          29,
          30,
          42,
          32,
          40,
          49,
          53,
          42,
          38,
          60,
          27,
          61,
          27,
          45,
          41,
          44,
          38,
          39,
          48,
          47,
          64,
          27,
          66,
          43,
          34,
          28,
          52,
          45,
          24,
          39,
          40,
          30,
          49,
          53,
          56,
          50,
          53,
          60,
          58,
          43,
          46,
          29,
          56,
          48,
          61,
          41,
          35,
          48,
          43,
          37,
          47,
          29,
          63,
          43,
          57,
          55,
          47,
          58,
          53,
          59,
          46,
          41,
          46,
          44,
          44,
          50,
          51,
          55,
          37,
          34,
          59,
          45,
          30,
          32,
          61,
          54,
          35,
          63,
          66,
          48,
          60,
          41,
          31,
          58,
          67,
          35,
          40,
          42,
          44,
          47,
          59,
          29,
          36,
          47,
          55,
          41,
          51,
          26,
          33,
          30,
          30,
          45,
          40,
          42,
          50,
          62,
          63,
          43,
          49,
          51,
          61,
          43,
          43,
          61,
          35,
          59,
          40,
          61,
          48,
          37,
          56,
          35,
          35,
          40,
          50,
          49,
          46,
          64,
          60,
          45,
          52,
          58,
          54,
          48,
          51,
          53,
          57,
          43,
          37,
          32,
          34,
          54,
          62,
          56,
          39,
          32,
          50,
          27,
          37,
          60,
          43,
          62,
          39,
          34,
          46,
          46,
          51,
          44,
          60,
          65,
          58,
          37,
          52,
          42,
          54,
          54,
          51,
          59,
          41,
          43,
          52,
          52,
          57,
          53,
          58,
          59,
          57,
          27,
          42,
          52,
          49,
          47,
          45,
          25,
          47,
          44,
          30,
          63,
          50,
          40,
          56,
          39,
          42,
          28,
          26,
          58,
          38,
          23,
          53,
          54,
          42,
          54,
          66,
          46,
          63,
          63,
          58,
          65,
          35,
          33,
          43,
          30,
          61,
          49,
          52,
          45,
          64,
          26,
          35,
          45,
          44,
          34,
          65,
          32,
          41,
          52,
          35,
          51,
          30,
          58,
          49,
          63,
          40,
          27,
          38,
          52,
          49,
          59,
          32,
          30,
          64,
          59,
          62,
          61,
          53,
          51,
          55,
          36,
          44,
          26,
          54,
          35,
          34,
          28,
          32,
          38,
          53,
          26,
          45,
          58,
          59,
          45,
          64,
          30,
          40,
          61,
          40,
          40,
          43,
          39,
          35,
          38,
          67,
          55,
          28,
          30,
          59,
          26,
          52,
          40,
          31,
          50,
          27,
          64,
          34,
          30,
          39,
          34,
          40,
          33,
          38,
          42,
          37,
          33,
          60,
          28,
          45,
          56,
          53,
          37,
          47,
          58,
          52,
          46,
          52,
          24,
          57,
          66,
          30,
          48,
          63,
          48,
          34,
          60,
          55,
          50,
          29,
          61,
          50,
          37,
          64,
          43,
          39,
          23,
          34,
          29,
          33,
          60,
          49,
          54,
          59,
          42,
          62,
          63,
          57,
          61,
          35,
          26,
          33,
          31,
          51,
          55,
          38,
          38,
          53,
          62,
          35,
          46,
          60,
          63,
          43,
          33,
          43,
          62,
          48,
          38,
          36,
          49,
          61,
          49,
          59,
          30,
          44,
          67,
          59,
          37,
          50,
          56,
          29,
          55,
          48,
          32,
          47,
          46,
          33,
          39,
          60,
          39,
          34,
          55,
          67,
          40,
          44,
          56,
          50,
          31,
          66,
          43,
          58,
          33,
          33,
          32,
          55,
          25,
          40,
          54,
          36,
          35,
          44,
          38,
          30,
          39,
          35,
          41,
          56,
          52,
          29,
          38,
          51,
          45,
          51,
          53,
          50,
          59,
          57,
          45,
          27,
          40,
          39,
          26,
          27,
          55,
          64,
          41,
          46,
          43,
          24,
          29,
          58,
          45,
          53,
          45,
          32,
          56,
          31,
          29,
          48,
          36,
          36,
          41,
          48,
          27,
          33,
          31,
          48,
          59,
          41,
          42,
          62,
          62,
          51,
          48,
          56,
          62,
          53,
          62,
          28,
          61,
          48,
          50,
          58,
          53,
          65,
          27,
          50,
          50,
          41,
          43,
          55,
          33,
          44,
          47,
          43,
          59,
          65,
          28,
          58,
          33,
          24,
          46,
          26,
          47,
          32,
          58,
          32,
          46,
          35,
          53,
          55,
          63,
          45,
          58,
          50,
          37,
          25,
          52,
          26,
          35,
          58,
          37,
          35,
          31,
          58,
          43,
          43,
          54,
          53,
          32,
          37,
          34,
          51,
          49,
          54,
          37,
          57,
          37,
          32,
          48,
          44,
          50,
          44,
          54,
          37,
          34,
          32,
          63,
          56,
          37,
          66,
          38,
          35,
          61,
          52,
          57,
          47,
          50,
          36,
          45,
          58,
          27,
          27,
          48,
          46,
          32,
          54,
          31,
          42,
          30,
          41,
          44,
          37,
          51,
          30,
          36,
          65,
          33,
          58,
          34,
          38,
          59,
          37,
          59,
          47,
          48,
          38,
          34,
          44,
          33,
          47,
          41,
          36,
          28,
          59,
          43,
          56,
          28,
          62,
          40,
          34,
          52,
          40,
          27,
          52,
          39,
          52,
          50,
          40,
          35,
          39,
          25,
          33,
          26,
          46,
          27,
          55,
          52,
          59,
          63,
          61,
          58,
          29,
          51,
          59,
          41,
          59,
          52,
          39,
          45,
          59,
          49,
          48,
          61,
          31,
          42,
          35,
          57,
          54,
          61,
          60,
          59,
          62,
          26,
          41,
          65,
          25,
          25,
          27,
          65,
          60,
          29,
          32,
          32,
          41,
          52,
          40,
          39,
          34,
          34,
          34,
          41,
          59,
          40,
          52,
          37,
          39,
          49,
          63,
          34,
          51,
          61,
          56,
          62,
          56,
          58,
          58,
          50,
          44,
          49,
          31,
          49,
          43,
          31,
          66,
          41,
          39,
          46,
          57,
          59,
          30,
          26,
          46,
          66,
          50,
          61,
          37,
          51,
          56,
          58,
          41,
          35,
          38,
          26,
          35,
          36,
          26,
          53,
          56,
          44,
          47,
          32,
          52,
          39,
          47,
          35,
          26,
          43,
          52,
          30,
          36,
          48,
          36,
          58,
          35,
          59,
          36,
          45,
          56,
          46,
          26,
          37,
          44,
          44,
          33,
          34,
          35,
          48,
          58,
          30,
          62,
          40,
          42,
          43,
          58,
          36,
          29,
          49,
          60,
          58,
          50,
          46,
          45,
          32,
          42,
          30,
          60,
          46,
          32,
          56,
          56,
          30,
          52,
          31,
          37,
          30,
          29,
          49,
          49,
          65,
          54,
          36,
          56,
          34,
          33,
          59,
          49,
          61,
          31,
          45,
          35,
          37,
          58,
          49,
          63,
          55,
          38,
          45,
          44,
          58,
          56,
          37,
          50,
          34,
          51,
          49,
          33,
          61,
          41,
          50,
          41,
          38,
          51,
          63,
          55,
          46,
          27,
          59,
          26,
          61,
          44,
          53,
          34,
          40,
          56,
          57,
          43,
          38,
          60,
          54,
          51,
          41,
          25,
          58,
          61,
          56,
          43,
          42,
          48,
          45,
          40,
          43,
          52,
          54,
          26,
          26,
          33,
          40,
          64,
          62,
          54,
          34,
          40,
          41,
          48,
          46,
          51,
          30,
          65,
          49,
          29,
          36,
          50,
          41,
          42,
          37,
          31,
          40,
          36,
          64,
          37,
          43,
          57,
          62,
          63,
          57,
          59,
          47,
          26,
          59,
          45,
          33,
          61,
          54,
          46,
          28,
          52,
          26,
          49,
          42,
          51,
          39,
          44,
          29,
          47,
          53,
          29,
          47,
          45,
          63,
          39,
          29,
          50,
          51,
          58,
          39,
          46,
          32,
          53,
          29,
          41,
          41,
          58,
          45,
          37,
          58,
          58,
          31,
          59,
          38,
          29,
          40,
          57,
          50,
          29,
          34,
          36,
          51,
          27,
          48,
          32,
          48,
          34,
          24,
          55,
          51,
          30,
          45,
          64,
          29,
          30,
          63,
          65,
          28
         ],
         "xaxis": "x",
         "y": [
          0,
          0,
          0,
          0,
          0,
          155,
          0,
          0,
          104,
          0,
          0,
          0,
          0,
          0,
          0,
          0,
          134,
          0,
          0,
          0,
          111,
          0,
          260,
          163,
          159,
          97,
          0,
          0,
          0,
          0,
          122,
          0,
          193,
          0,
          0,
          0,
          0,
          198,
          0,
          285,
          0,
          0,
          412,
          0,
          0,
          0,
          153,
          211,
          0,
          0,
          0,
          0,
          207,
          240,
          0,
          0,
          0,
          0,
          0,
          455,
          0,
          112,
          0,
          0,
          0,
          0,
          336,
          132,
          0,
          0,
          0,
          0,
          0,
          0,
          0,
          0,
          0,
          0,
          0,
          118,
          174,
          0,
          0,
          0,
          0,
          0,
          126,
          0,
          0,
          0,
          0,
          0,
          0,
          236,
          0,
          0,
          0,
          0,
          0,
          0,
          0,
          0,
          198,
          0,
          166,
          0,
          0,
          136,
          166,
          0,
          0,
          0,
          309,
          103,
          0,
          0,
          0,
          193,
          0,
          366,
          0,
          0,
          0,
          0,
          118,
          0,
          101,
          251,
          0,
          0,
          276,
          0,
          0,
          0,
          0,
          0,
          0,
          0,
          0,
          0,
          161,
          149,
          0,
          0,
          0,
          0,
          0,
          188,
          116,
          0,
          0,
          0,
          0,
          0,
          0,
          0,
          0,
          0,
          0,
          0,
          0,
          0,
          0,
          0,
          0,
          0,
          0,
          0,
          0,
          0,
          0,
          0,
          0,
          0,
          0,
          0,
          135,
          244,
          0,
          0,
          164,
          81,
          0,
          0,
          0,
          0,
          0,
          315,
          122,
          0,
          0,
          140,
          0,
          0,
          0,
          95,
          0,
          89,
          90,
          0,
          0,
          0,
          0,
          0,
          105,
          100,
          0,
          0,
          0,
          282,
          0,
          0,
          209,
          0,
          0,
          249,
          0,
          0,
          0,
          0,
          0,
          0,
          0,
          0,
          91,
          0,
          0,
          0,
          98,
          145,
          0,
          0,
          135,
          0,
          150,
          0,
          0,
          0,
          0,
          0,
          169,
          0,
          280,
          99,
          78,
          0,
          0,
          111,
          264,
          113,
          117,
          325,
          0,
          0,
          121,
          138,
          0,
          0,
          0,
          77,
          0,
          251,
          0,
          112,
          0,
          98,
          0,
          138,
          0,
          0,
          0,
          0,
          158,
          0,
          0,
          0,
          109,
          0,
          0,
          0,
          164,
          0,
          0,
          0,
          0,
          0,
          131,
          0,
          391,
          0,
          0,
          88,
          129,
          0,
          0,
          0,
          0,
          0,
          0,
          0,
          0,
          196,
          0,
          617,
          0,
          123,
          0,
          0,
          0,
          0,
          0,
          167,
          0,
          0,
          0,
          0,
          0,
          0,
          190,
          0,
          248,
          82,
          0,
          0,
          0,
          0,
          0,
          402,
          0,
          0,
          0,
          0,
          0,
          0,
          0,
          360,
          0,
          0,
          392,
          0,
          0,
          185,
          0,
          103,
          138,
          78,
          0,
          0,
          0,
          132,
          0,
          0,
          0,
          0,
          419,
          0,
          88,
          81,
          0,
          0,
          0,
          0,
          270,
          0,
          148,
          466,
          0,
          175,
          159,
          0,
          147,
          0,
          174,
          111,
          220,
          0,
          0,
          0,
          0,
          0,
          0,
          0,
          0,
          0,
          0,
          0,
          0,
          0,
          0,
          0,
          0,
          0,
          0,
          109,
          0,
          0,
          0,
          0,
          0,
          0,
          0,
          112,
          133,
          0,
          182,
          290,
          0,
          0,
          0,
          125,
          0,
          0,
          0,
          0,
          0,
          124,
          0,
          0,
          0,
          0,
          0,
          0,
          0,
          0,
          0,
          0,
          0,
          116,
          116,
          0,
          161,
          224,
          0,
          141,
          0,
          0,
          112,
          0,
          119,
          0,
          139,
          0,
          115,
          0,
          0,
          0,
          0,
          0,
          0,
          0,
          0,
          89,
          0,
          0,
          0,
          0,
          116,
          0,
          0,
          458,
          0,
          0,
          0,
          0,
          0,
          172,
          0,
          0,
          0,
          0,
          0,
          161,
          156,
          547,
          0,
          0,
          0,
          78,
          0,
          470,
          0,
          0,
          88,
          0,
          0,
          0,
          304,
          0,
          0,
          0,
          0,
          104,
          0,
          0,
          0,
          0,
          0,
          0,
          0,
          0,
          0,
          0,
          0,
          185,
          0,
          0,
          0,
          0,
          0,
          112,
          221,
          0,
          108,
          0,
          0,
          211,
          0,
          169,
          0,
          105,
          129,
          0,
          224,
          0,
          0,
          179,
          271,
          89,
          378,
          0,
          0,
          0,
          113,
          0,
          0,
          0,
          176,
          0,
          76,
          117,
          314,
          0,
          0,
          90,
          0,
          87,
          203,
          180,
          0,
          0,
          0,
          0,
          230,
          0,
          0,
          137,
          129,
          0,
          0,
          138,
          0,
          0,
          0,
          0,
          152,
          0,
          0,
          0,
          161,
          185,
          485,
          0,
          0,
          0,
          0,
          0,
          0,
          0,
          0,
          0,
          0,
          0,
          155,
          0,
          300,
          0,
          0,
          272,
          0,
          0,
          0,
          0,
          0,
          0,
          144,
          94,
          0,
          0,
          90,
          0,
          0,
          0,
          0,
          89,
          240,
          0,
          208,
          0,
          0,
          0,
          275,
          83,
          0,
          0,
          0,
          0,
          0,
          0,
          115,
          0,
          0,
          0,
          131,
          78,
          122,
          211,
          100,
          0,
          0,
          218,
          108,
          0,
          0,
          0,
          0,
          169,
          196,
          0,
          0,
          0,
          327,
          0,
          0,
          0,
          0,
          322,
          0,
          123,
          0,
          0,
          163,
          131,
          0,
          205,
          0,
          0,
          145,
          0,
          0,
          0,
          0,
          0,
          0,
          0,
          227,
          0,
          0,
          190,
          0,
          0,
          239,
          282,
          0,
          85,
          0,
          160,
          103,
          0,
          207,
          364,
          0,
          0,
          0,
          0,
          449,
          0,
          0,
          0,
          207,
          0,
          75,
          113,
          111,
          107,
          81,
          0,
          82,
          0,
          220,
          91,
          0,
          0,
          0,
          92,
          0,
          0,
          0,
          0,
          115,
          0,
          87,
          187,
          0,
          0,
          0,
          0,
          161,
          0,
          137,
          0,
          0,
          0,
          0,
          0,
          0,
          0,
          0,
          0,
          0,
          0,
          205,
          0,
          0,
          0,
          0,
          0,
          0,
          0,
          0,
          0,
          0,
          0,
          0,
          0,
          0,
          0,
          0,
          0,
          0,
          0,
          0,
          355,
          0,
          0,
          0,
          0,
          0,
          0,
          0,
          0,
          0,
          166,
          100,
          0,
          314,
          0,
          0,
          108,
          0,
          119,
          0,
          106,
          0,
          0,
          0,
          0,
          91,
          76,
          0,
          0,
          0,
          0,
          587,
          0,
          0,
          0,
          0,
          0,
          0,
          0,
          0,
          0,
          0,
          0,
          0,
          0,
          0,
          0,
          0,
          0,
          0,
          0,
          214,
          82,
          0,
          307,
          0,
          0,
          0,
          0,
          0,
          0,
          0,
          0,
          0,
          118,
          263,
          91,
          0,
          0,
          0,
          0,
          0,
          0,
          0,
          0,
          0,
          88,
          75,
          0,
          81,
          0,
          0,
          0,
          0,
          193,
          0,
          81,
          0,
          0,
          310,
          0,
          0,
          0,
          127,
          0,
          0,
          252,
          0,
          0,
          0,
          0,
          127,
          0,
          0,
          77,
          0,
          0,
          0,
          170,
          145,
          124,
          101,
          265,
          0,
          139,
          0,
          0,
          0,
          0,
          0,
          0,
          0,
          134,
          0,
          123,
          0,
          0,
          0,
          0,
          177,
          0,
          0,
          305,
          0,
          0,
          0,
          0,
          372,
          0,
          79,
          301,
          0,
          0,
          232,
          289,
          212,
          137,
          0,
          0,
          172,
          0,
          0,
          250,
          0,
          84,
          130,
          115,
          0,
          305,
          0,
          0,
          0,
          0,
          0,
          303,
          0,
          0,
          0,
          0,
          0,
          126,
          0,
          0,
          0,
          0,
          103,
          138,
          0,
          91,
          0,
          0,
          0,
          0,
          0,
          256,
          0,
          0,
          124,
          0,
          203,
          140,
          0,
          0,
          0,
          0,
          0,
          84,
          259,
          204,
          0,
          0,
          524,
          0,
          249,
          0,
          0,
          0,
          0,
          163,
          0,
          163,
          135,
          0,
          157,
          0,
          0,
          0,
          0,
          0,
          236,
          231,
          174,
          287,
          0,
          0,
          0,
          205,
          0,
          0,
          0,
          0,
          0,
          0,
          0,
          159,
          0,
          0,
          100,
          247,
          0,
          0,
          0,
          0,
          0,
          0,
          214,
          0,
          333,
          0,
          91,
          108,
          0,
          229,
          0,
          0,
          0,
          357,
          0,
          140,
          361,
          166,
          0,
          169,
          301,
          0,
          0,
          170,
          127,
          157,
          97,
          0,
          0,
          366,
          0,
          169,
          0,
          0,
          0,
          0,
          0,
          136,
          0,
          0,
          134,
          0,
          119,
          0,
          0,
          0,
          163,
          0,
          0,
          0,
          83,
          0,
          0,
          0,
          0,
          0,
          294,
          141,
          103,
          0,
          0,
          0,
          0,
          0,
          86,
          0,
          0,
          0,
          97,
          131,
          0,
          0,
          0,
          0,
          0,
          0,
          0,
          137,
          0,
          0,
          0,
          0,
          0,
          329,
          182,
          0,
          142,
          0,
          0,
          0,
          0,
          0,
          167,
          196,
          0,
          0,
          0,
          0,
          0,
          111,
          0,
          137,
          0,
          184,
          0,
          0,
          0,
          0,
          0,
          0,
          0,
          229,
          0,
          185,
          0,
          0,
          83,
          442,
          0,
          0,
          0,
          0,
          0,
          132,
          0,
          233,
          0,
          196,
          0,
          0,
          0,
          0,
          0,
          0,
          0,
          0,
          0,
          0,
          0,
          0,
          0,
          91,
          0,
          0,
          0,
          0,
          0,
          0,
          0,
          0,
          0,
          0,
          78,
          0,
          0,
          0,
          0,
          0,
          0,
          215,
          0,
          0,
          87,
          157,
          0,
          0,
          0,
          0,
          394,
          227,
          327,
          0,
          0,
          475,
          0,
          158,
          0,
          0,
          0,
          0,
          0,
          0,
          0,
          149,
          98,
          0,
          0,
          0,
          0,
          0,
          0,
          0,
          0,
          87,
          0,
          0,
          152,
          0,
          0,
          0,
          0,
          0,
          94,
          0,
          101,
          184,
          91,
          0,
          0,
          0,
          197,
          0,
          0,
          0,
          0,
          228,
          0,
          0,
          0,
          87,
          0,
          144,
          0,
          0,
          0,
          0,
          0,
          0,
          94,
          91,
          0,
          0,
          109,
          0,
          98,
          0,
          0,
          0,
          297,
          0,
          0,
          0,
          116,
          0,
          0,
          109,
          101,
          0,
          0,
          0,
          99,
          128,
          241,
          0,
          0,
          0,
          0,
          0,
          0,
          204,
          0,
          185,
          0,
          0,
          104,
          0,
          137,
          0,
          0,
          0,
          0,
          108,
          0,
          0,
          0,
          100,
          0,
          236,
          0,
          437,
          0,
          178,
          117,
          428,
          0,
          145,
          333,
          0,
          236,
          117,
          162,
          0,
          0,
          0,
          366,
          0,
          0,
          0,
          234,
          121,
          257,
          90,
          219,
          0,
          0,
          0,
          103,
          337,
          0,
          382,
          397,
          88,
          0,
          0,
          0,
          0,
          0,
          125,
          0,
          141,
          0,
          181,
          123,
          0,
          0,
          0,
          0,
          0,
          0,
          0,
          0,
          120,
          0,
          0,
          380,
          0,
          224,
          0,
          0,
          0,
          0,
          0,
          0,
          0,
          0,
          297,
          0,
          149,
          0,
          215,
          0,
          0,
          200,
          0,
          97,
          0,
          0,
          0,
          0,
          0,
          357,
          158,
          0,
          0,
          0,
          433,
          0,
          0,
          157,
          0,
          0,
          0,
          101,
          149,
          122,
          0,
          117,
          222,
          483,
          0,
          0,
          0,
          86,
          0,
          0,
          0,
          0,
          0,
          178,
          230,
          0,
          83,
          0,
          0,
          0,
          0,
          0,
          0,
          0,
          0,
          0,
          305,
          158,
          0,
          0,
          0,
          0,
          0,
          0,
          154,
          0,
          0,
          0,
          294,
          0,
          0,
          0,
          176,
          127,
          0,
          128,
          212,
          0,
          0,
          0,
          0,
          0,
          164,
          103,
          0,
          287,
          94,
          0,
          119,
          90,
          171,
          0,
          0,
          0,
          117,
          0,
          0,
          0,
          146,
          106,
          0,
          0,
          0,
          162,
          0,
          0,
          0,
          110,
          0,
          0,
          0,
          0,
          201,
          0,
          0,
          0,
          0,
          0,
          0,
          0,
          0,
          0,
          0,
          77,
          174,
          0,
          159,
          277,
          0,
          0,
          0,
          0,
          0,
          83,
          0,
          0,
          268,
          0,
          0,
          237,
          102,
          0,
          76,
          0,
          0,
          0,
          155,
          0,
          0,
          174,
          0,
          0,
          0,
          0,
          0,
          0,
          147,
          0,
          0,
          0,
          0,
          0,
          0,
          0,
          0,
          0,
          93,
          0,
          0,
          0,
          0,
          0,
          0,
          0,
          354,
          0,
          0,
          0,
          0,
          221,
          90,
          119,
          102,
          256,
          0,
          0,
          0,
          0,
          195,
          164,
          153,
          0,
          0,
          0,
          0,
          0,
          0,
          188,
          0,
          157,
          119,
          0,
          0,
          0,
          0,
          116,
          0,
          0,
          194,
          113,
          198,
          0,
          238,
          0,
          0,
          0,
          104,
          244,
          0,
          285,
          115,
          0,
          128,
          0,
          121,
          0,
          0,
          128,
          0,
          226,
          141,
          0,
          0,
          0,
          184,
          0,
          0,
          0,
          227,
          104,
          0,
          0,
          0,
          318,
          342,
          125,
          0,
          0,
          0,
          0,
          0,
          188,
          0,
          0,
          0,
          0,
          110,
          164,
          0,
          0,
          266,
          0,
          0,
          0,
          86,
          0,
          0,
          87,
          0,
          98,
          0,
          0,
          0,
          104,
          0,
          0,
          0,
          0,
          0,
          0,
          0,
          0,
          114,
          0,
          455,
          0,
          0,
          0,
          0,
          245,
          0,
          0,
          0,
          0,
          0,
          104,
          0,
          0,
          0,
          0,
          0,
          95,
          0,
          0,
          0,
          131,
          90,
          0,
          0,
          0,
          0,
          106,
          0,
          0,
          123,
          0,
          0,
          0,
          0,
          0,
          106,
          0,
          0,
          0,
          0,
          0,
          341,
          0,
          91,
          0,
          0,
          101,
          0,
          0,
          0,
          421,
          0,
          104,
          131,
          0,
          0,
          0,
          0,
          103,
          0,
          249,
          155,
          0,
          0,
          359,
          0,
          0,
          0,
          0,
          0,
          118,
          0,
          132,
          0,
          0,
          0,
          0,
          0,
          0,
          0,
          0,
          0,
          0,
          0,
          0,
          0,
          131,
          158,
          0,
          0,
          107,
          0,
          565,
          233,
          0,
          0,
          0,
          152,
          0,
          0,
          0,
          0,
          150,
          0,
          0,
          0,
          0,
          0,
          319,
          0,
          182,
          0,
          394,
          230,
          82,
          0,
          0,
          0,
          137,
          109,
          135,
          0,
          0,
          89,
          151,
          221,
          229,
          0,
          0,
          0,
          0,
          0,
          0,
          0,
          0,
          0,
          0,
          121,
          89,
          0,
          0,
          154,
          0,
          0,
          84,
          0,
          94,
          0,
          119,
          0,
          0,
          117,
          151,
          114,
          0,
          0,
          267,
          0,
          181,
          601,
          0,
          0,
          0,
          0,
          0,
          567,
          0,
          0,
          0,
          0,
          0,
          0,
          0,
          0,
          0,
          100,
          181,
          0,
          0,
          0,
          0,
          114,
          0,
          0,
          0,
          0,
          0,
          0,
          0,
          0,
          0,
          0,
          0,
          0,
          0,
          231,
          148,
          0,
          86,
          0,
          0,
          0,
          171,
          352,
          0,
          0,
          221,
          115,
          0,
          0,
          118,
          284,
          0,
          180,
          0,
          0,
          88,
          199,
          256,
          0,
          0,
          0,
          0,
          159,
          0,
          0,
          97,
          0,
          167,
          97,
          0,
          0,
          0,
          0,
          240,
          80,
          142,
          0,
          0,
          112,
          0,
          0,
          334,
          0,
          0,
          0,
          0,
          268,
          0,
          80,
          218,
          389,
          0,
          0,
          159,
          0,
          89,
          0,
          342,
          0,
          0,
          104,
          0,
          0,
          0,
          372,
          0,
          0,
          0,
          101,
          0,
          0,
          0,
          0,
          0,
          0,
          0,
          0,
          107,
          0,
          0,
          241,
          275,
          0,
          112,
          0,
          112,
          0,
          0,
          198,
          186,
          0,
          0,
          142,
          246,
          120,
          0,
          245,
          0,
          0,
          0,
          218,
          0,
          0,
          0,
          0,
          0,
          0,
          185,
          0,
          0,
          0,
          0,
          589,
          0,
          0,
          0,
          0,
          0,
          0,
          83,
          151,
          0,
          231,
          86,
          0,
          0,
          0,
          0,
          83,
          277,
          0,
          184,
          0,
          0,
          0,
          0,
          0,
          0,
          0,
          111,
          0,
          0,
          108,
          0,
          0,
          397,
          203,
          0,
          78,
          242,
          0,
          0,
          0,
          0,
          0,
          0,
          0,
          110,
          0,
          175,
          79,
          0,
          0,
          120,
          0,
          76,
          0,
          0,
          0,
          0,
          0,
          0,
          0,
          0,
          0,
          0,
          0,
          359,
          0,
          143,
          0,
          0,
          0,
          125,
          323,
          0,
          0,
          0,
          113,
          167,
          0,
          218,
          0,
          0,
          0,
          0,
          0,
          236,
          151,
          0,
          185,
          0,
          380,
          0,
          0,
          207,
          0,
          0,
          0,
          329,
          0,
          0,
          0,
          0,
          0,
          0,
          535,
          0,
          0,
          0,
          107,
          0,
          0,
          0,
          0,
          98,
          0,
          170,
          161,
          0,
          0,
          83,
          0,
          0,
          222,
          0,
          111,
          219,
          0,
          0,
          0,
          0,
          0,
          0,
          0,
          0,
          0,
          137,
          154,
          293,
          0,
          398,
          0,
          0,
          0,
          0,
          0,
          0,
          0,
          101,
          117,
          0,
          343,
          151,
          0,
          307,
          0,
          84,
          0,
          208,
          0,
          93,
          113,
          272,
          0,
          84,
          0,
          0,
          0,
          0,
          0,
          0,
          229,
          0,
          0,
          0,
          0,
          120,
          0,
          0,
          0,
          0,
          0,
          0,
          0,
          0,
          180,
          119,
          0,
          89,
          101,
          141,
          0,
          0,
          232,
          0,
          0,
          0,
          176,
          120,
          0,
          0,
          247,
          166,
          0,
          0,
          0,
          0,
          109,
          0,
          0,
          80,
          0,
          0,
          193,
          0,
          105,
          128,
          0,
          0,
          0,
          0,
          78,
          0,
          255,
          0,
          95,
          155,
          0,
          184,
          154,
          0,
          0,
          0,
          0,
          0,
          0,
          219,
          164,
          0,
          0,
          0,
          0,
          0,
          0,
          0,
          105,
          0,
          0,
          0,
          0,
          0,
          0,
          86,
          0,
          294,
          0,
          95,
          102,
          0,
          83,
          0,
          0,
          0,
          98,
          0,
          0,
          0,
          311,
          76,
          0,
          207,
          158,
          185,
          0,
          0,
          94,
          0,
          0,
          146,
          0,
          0,
          446,
          0,
          223,
          0,
          0,
          0,
          0,
          0,
          115,
          0,
          0,
          0,
          149,
          0,
          146,
          262,
          0,
          0,
          0,
          0,
          0,
          0,
          0,
          167,
          94,
          172,
          150,
          120,
          0,
          266,
          103,
          97,
          150,
          0,
          0,
          0,
          75,
          109,
          0,
          76,
          0,
          0,
          0,
          92,
          0,
          0,
          0,
          0,
          0,
          0,
          0,
          0,
          0,
          0,
          0,
          0,
          0,
          0,
          0,
          0,
          0,
          0,
          0,
          132,
          0,
          0,
          0,
          0,
          0,
          128,
          90,
          0,
          95,
          0,
          323,
          0,
          0,
          0,
          87,
          0,
          0,
          0,
          91,
          0,
          0,
          0,
          0,
          0,
          0,
          0,
          0,
          0,
          81,
          0,
          0,
          0,
          0,
          0,
          0,
          0,
          319,
          112,
          422,
          0,
          0,
          0,
          315,
          114,
          0,
          0,
          0,
          192,
          0,
          242,
          0,
          0,
          0,
          0,
          0,
          217,
          0,
          0,
          0,
          0,
          289,
          310,
          168,
          102,
          299,
          239,
          87,
          0,
          76,
          0,
          0,
          0,
          0,
          0,
          0,
          0,
          0,
          0,
          0,
          0,
          0,
          0,
          90,
          0,
          0,
          0,
          0,
          0,
          93,
          0,
          0,
          153,
          0,
          112,
          0,
          0,
          0,
          251,
          182,
          0,
          0,
          428,
          0,
          0,
          0,
          0,
          0,
          0,
          0,
          108,
          0,
          0,
          0,
          505,
          0,
          142,
          309,
          217,
          154,
          106,
          0,
          95,
          0,
          0,
          78,
          81,
          0,
          203,
          219,
          0,
          0,
          148,
          0,
          0,
          106,
          80,
          0,
          0,
          0,
          118,
          0,
          400,
          0,
          0,
          0,
          197,
          0,
          301,
          0,
          0,
          0,
          0,
          0,
          267,
          0,
          0,
          0,
          0,
          144,
          0,
          186,
          0,
          422,
          0,
          0,
          218,
          0,
          0,
          0,
          0,
          208,
          0,
          0,
          0,
          0,
          0,
          85,
          0,
          0,
          130,
          0,
          0,
          0,
          165,
          123,
          0,
          230,
          0,
          307,
          187,
          85,
          0,
          147,
          0,
          183,
          0,
          0,
          0,
          0,
          0,
          0,
          0,
          0,
          112,
          0,
          257,
          0,
          0,
          0,
          118,
          0,
          0,
          0,
          0,
          212,
          141,
          114,
          326,
          144,
          341,
          0,
          0,
          79,
          229,
          0,
          0,
          234,
          0,
          81,
          0,
          0,
          298,
          0,
          91,
          156,
          0,
          0,
          0,
          0,
          113,
          0,
          0,
          0,
          0,
          0,
          0,
          0,
          0,
          0,
          0,
          107,
          106,
          0,
          0,
          129,
          0,
          0,
          297,
          171,
          153,
          569,
          0,
          0,
          0,
          0,
          0,
          90,
          0,
          79,
          102,
          0,
          0,
          151,
          0,
          0,
          103,
          0,
          0,
          0,
          0,
          144,
          184,
          0,
          0,
          102,
          184,
          0,
          0,
          0,
          207,
          89,
          140,
          0,
          100,
          0,
          118,
          190,
          0,
          0,
          0,
          0,
          0,
          185,
          0,
          0,
          0,
          0,
          0,
          0,
          374,
          0,
          245,
          310,
          0,
          0,
          0,
          0,
          0,
          0,
          0,
          167,
          0,
          0,
          0,
          0,
          216,
          214,
          194,
          0,
          0,
          0,
          131,
          204,
          0,
          191,
          103,
          0,
          145,
          98,
          0,
          0,
          0,
          0,
          0,
          0,
          0,
          193,
          0,
          0,
          0,
          0,
          248,
          106,
          194,
          89,
          0,
          0,
          0,
          0,
          0,
          212,
          0,
          86,
          0,
          0,
          123,
          0,
          0,
          0,
          226,
          0,
          180,
          408,
          204,
          78,
          0,
          0,
          109,
          175,
          144,
          0,
          0,
          0,
          352,
          0,
          0,
          0,
          406,
          0,
          0,
          0,
          0,
          122,
          0,
          0,
          0,
          0,
          0,
          166,
          0,
          0,
          0,
          98,
          129,
          0,
          0,
          452,
          0,
          249,
          0,
          0,
          0,
          0,
          0,
          0,
          0,
          0,
          0,
          114,
          0,
          0,
          158,
          0,
          0,
          100,
          0,
          0,
          160,
          170,
          0,
          0,
          0,
          0,
          432,
          0,
          0,
          0,
          0,
          0,
          0,
          0,
          0,
          144,
          157,
          0,
          127,
          220,
          247,
          0,
          0,
          0,
          133,
          147,
          0,
          165,
          0,
          0,
          0,
          0,
          142,
          0,
          0,
          0,
          86,
          120,
          95,
          0,
          240,
          312,
          0,
          156,
          111,
          477,
          119,
          0,
          0,
          205,
          0,
          0,
          0,
          192,
          0,
          0,
          105,
          101,
          0,
          144,
          396,
          582,
          0,
          0,
          0,
          358,
          0,
          0,
          380,
          0,
          0,
          0,
          0,
          104,
          213,
          0,
          0,
          85,
          0,
          0,
          0,
          0,
          0,
          0,
          117,
          153,
          0,
          0,
          0,
          0,
          0,
          200,
          90,
          177,
          0,
          0,
          0,
          0,
          0,
          0,
          136,
          0,
          201,
          145,
          467,
          0,
          0,
          169,
          0,
          331,
          0,
          0,
          303,
          0,
          158,
          0,
          0,
          164,
          0,
          0,
          230,
          138,
          0,
          0,
          0,
          0,
          91,
          149,
          204,
          159,
          0,
          0,
          240,
          565,
          0,
          134,
          0,
          98,
          0,
          0,
          0,
          132,
          219,
          0,
          0,
          0,
          212,
          136,
          295,
          0,
          114,
          282,
          0,
          151,
          0,
          0,
          0,
          0,
          0,
          264,
          0,
          80,
          0,
          252,
          0,
          0,
          0,
          0,
          238,
          0,
          0,
          0,
          0,
          0,
          0,
          0,
          0,
          327,
          0,
          0,
          0,
          144,
          0,
          0,
          0,
          0,
          0,
          140,
          0,
          0,
          175,
          0,
          151,
          76,
          0,
          0,
          0,
          0,
          0,
          0,
          0,
          0,
          0,
          235,
          0,
          0,
          0,
          0,
          0,
          101,
          0,
          0,
          170,
          262,
          0,
          0,
          0,
          0,
          0,
          0,
          0,
          0,
          99,
          109,
          0,
          0,
          635,
          0,
          0,
          0,
          0,
          0,
          163,
          352,
          385,
          0,
          0,
          0,
          437,
          328,
          98,
          0,
          135,
          0,
          0,
          0,
          0,
          187,
          522,
          0,
          0,
          0,
          0,
          0,
          0,
          0,
          0,
          104,
          0,
          0,
          301,
          115,
          0,
          165,
          182,
          276,
          0,
          168,
          0,
          0,
          0,
          0,
          0,
          0,
          0,
          0,
          188,
          0,
          0,
          0,
          181,
          496,
          0,
          0,
          0,
          0,
          0,
          90,
          0,
          0,
          0,
          0,
          0,
          0,
          83,
          0,
          0,
          0,
          184,
          102,
          158,
          0,
          0,
          0,
          415,
          0,
          166,
          0,
          0,
          184,
          99,
          0,
          392,
          461,
          0,
          244,
          0,
          344,
          228,
          152,
          178,
          263,
          0,
          102,
          0,
          221,
          130,
          0,
          105,
          0,
          115,
          0,
          167,
          0,
          0,
          0,
          83,
          0,
          0,
          0,
          103,
          0,
          0,
          0,
          0,
          0,
          0,
          0,
          149,
          0,
          0,
          0,
          0,
          206,
          297,
          0,
          0,
          368,
          0,
          170,
          0,
          0,
          221,
          257,
          0,
          0,
          88,
          0,
          0,
          110,
          190,
          0,
          87,
          204,
          129,
          0,
          0,
          0,
          0,
          0,
          138,
          95,
          0,
          158,
          325,
          0,
          104,
          0,
          0,
          0,
          0,
          174,
          0,
          0,
          0,
          0,
          0,
          121,
          0,
          0,
          0,
          0,
          0,
          0,
          0,
          209,
          0,
          0,
          0,
          256,
          0,
          179,
          0,
          0,
          218,
          126,
          0,
          0,
          0,
          0,
          0,
          0,
          0,
          168,
          148,
          0,
          89,
          321,
          94,
          0,
          255,
          0,
          0,
          0,
          0,
          0,
          0,
          0,
          0,
          0,
          106,
          0,
          0,
          0,
          0,
          0,
          149,
          0,
          0,
          84,
          0,
          240,
          0,
          0,
          0,
          0,
          0,
          97,
          0,
          228,
          0,
          227,
          100,
          0,
          0,
          0,
          0,
          0,
          0,
          199,
          0,
          130,
          84,
          0,
          94,
          0,
          0,
          0,
          296,
          0,
          0,
          0,
          0,
          0,
          0,
          0,
          0,
          0,
          0,
          0,
          147,
          0,
          0,
          0,
          0,
          239,
          185,
          0,
          0,
          0,
          0,
          373,
          0,
          0,
          0,
          116,
          0,
          0,
          0,
          120,
          325,
          0,
          135,
          0,
          0,
          0,
          0,
          0,
          0,
          0,
          0,
          0,
          0,
          0,
          0,
          329,
          0,
          0,
          0,
          0,
          0,
          0,
          118,
          0,
          0,
          0,
          0,
          0,
          223,
          0,
          0,
          0,
          0,
          0,
          0,
          118,
          0,
          0,
          0,
          0,
          185,
          0,
          0,
          0,
          0,
          0,
          0,
          0,
          0,
          120,
          0,
          113,
          0,
          0,
          0,
          0,
          0,
          268,
          0,
          0,
          0,
          0,
          0,
          0,
          0,
          87,
          0,
          0,
          0,
          0,
          292,
          187,
          0,
          0,
          0,
          0,
          0,
          0,
          0,
          0,
          89,
          0,
          0,
          0,
          0,
          82,
          383,
          0,
          0,
          0,
          0,
          0,
          0,
          0,
          0,
          0,
          0,
          0,
          0,
          0,
          0,
          0,
          0,
          0,
          0,
          0,
          0,
          0,
          0,
          0,
          0,
          82,
          0,
          0,
          0,
          280,
          86,
          358,
          0,
          0,
          0,
          354,
          0,
          0,
          121,
          0,
          0,
          0,
          0,
          0,
          0,
          275,
          0,
          0,
          83,
          0,
          0,
          0,
          0,
          408,
          0,
          0,
          0,
          87,
          0,
          0,
          105,
          0,
          0,
          0,
          0,
          0,
          199,
          0,
          209,
          442,
          0,
          0,
          0,
          315,
          0,
          0,
          76,
          0,
          0,
          213,
          153,
          0,
          0,
          0,
          85,
          238,
          0,
          221,
          0,
          0,
          0,
          135,
          0,
          137,
          0,
          97,
          0,
          118,
          0,
          0,
          101,
          0,
          0,
          0,
          0,
          84,
          0,
          427,
          0,
          0,
          0,
          0,
          244,
          0,
          0,
          87,
          0,
          0,
          0,
          0,
          0,
          90,
          189,
          0,
          0,
          108,
          0,
          184,
          0,
          0,
          78,
          0,
          0,
          0,
          271,
          0,
          0,
          0,
          0,
          202,
          0,
          116,
          186,
          109,
          110,
          0,
          0,
          251,
          0,
          0,
          0,
          0,
          0,
          0,
          231,
          0,
          0,
          142,
          146,
          0,
          0,
          0,
          96,
          364,
          0,
          0,
          429,
          0,
          431,
          0,
          0,
          0,
          0,
          156,
          0,
          0,
          0,
          0,
          81,
          0,
          112,
          0,
          0,
          0,
          131,
          0,
          115,
          0,
          0,
          0,
          0,
          192,
          192,
          0,
          94,
          286,
          0,
          0,
          90,
          0,
          0,
          0,
          154,
          0,
          0,
          0,
          0,
          0,
          0,
          0,
          0,
          508,
          148,
          146,
          0,
          0,
          0,
          0,
          134,
          0,
          0,
          0,
          0,
          0,
          0,
          0,
          0,
          128,
          0,
          211,
          0,
          0,
          229,
          0,
          0,
          0,
          0,
          210,
          0,
          0,
          0,
          0,
          119,
          0,
          0,
          0,
          116,
          172,
          0,
          0,
          0,
          0,
          0,
          189,
          0,
          0,
          126,
          142,
          272,
          0,
          0,
          0,
          0,
          123,
          0,
          0,
          0,
          416,
          0,
          0,
          0,
          83,
          0,
          0,
          209,
          102,
          0,
          0,
          0,
          85,
          115,
          0,
          0,
          0,
          0,
          147,
          0,
          224,
          0,
          192,
          0,
          79,
          0,
          0,
          0,
          91,
          95,
          0,
          0,
          0,
          0,
          0,
          96,
          0,
          553,
          0,
          79,
          0,
          368,
          0,
          0,
          0,
          78,
          146,
          0,
          0,
          403,
          193,
          0,
          95,
          0,
          0,
          0,
          0,
          0,
          0,
          225,
          0,
          0,
          0,
          0,
          0,
          0,
          242,
          0,
          0,
          0,
          0,
          0,
          144,
          174,
          0,
          260,
          0,
          0,
          0,
          107,
          0,
          0,
          0,
          177,
          0,
          0,
          0,
          0,
          0,
          0,
          0,
          500,
          0,
          0,
          0,
          0,
          0,
          75,
          0,
          0,
          0,
          0,
          0,
          0,
          0,
          111,
          0,
          0,
          0,
          0,
          0,
          0,
          0,
          103,
          313,
          0,
          0,
          0,
          205,
          0,
          0,
          0,
          0,
          0,
          0,
          0,
          0,
          0,
          0,
          0,
          0,
          410,
          0,
          0,
          0,
          123,
          0,
          0,
          0,
          0,
          99,
          0,
          0,
          232,
          0,
          0,
          285,
          0,
          76,
          229,
          0,
          98,
          82,
          119,
          0,
          0,
          109,
          161,
          0,
          0,
          0,
          95,
          0,
          0,
          0,
          0,
          0,
          0,
          0,
          0,
          0,
          0,
          194,
          0,
          118,
          109,
          0,
          126,
          0,
          0,
          0,
          219,
          0,
          0,
          0,
          0,
          0,
          0,
          121,
          273,
          0,
          0,
          0,
          0,
          0,
          304,
          0,
          170,
          204,
          79,
          341,
          0,
          0,
          0,
          0,
          449,
          151,
          0,
          0,
          0,
          333,
          0,
          0,
          0,
          0,
          0,
          0,
          221,
          0,
          0,
          0,
          0,
          0,
          0,
          98,
          0,
          0,
          144,
          0,
          0,
          106,
          0,
          0,
          0,
          0,
          0,
          0,
          0,
          0,
          89,
          0,
          0,
          97,
          0,
          96,
          0,
          0,
          0,
          0,
          205,
          259,
          0,
          194,
          0,
          188,
          0,
          196,
          122,
          0,
          0,
          0,
          0,
          0,
          75,
          0,
          0,
          0,
          127,
          0,
          114,
          0,
          0,
          0,
          0,
          230,
          0,
          0,
          0,
          0,
          0,
          194,
          82,
          0,
          0,
          0,
          0,
          0,
          277,
          0,
          0,
          0,
          0,
          0,
          0,
          0,
          0,
          0,
          0,
          161,
          0,
          0,
          0,
          185,
          184,
          381,
          0,
          0,
          0,
          270,
          0,
          0,
          166,
          98,
          402,
          102,
          215,
          0,
          251,
          121,
          0,
          0,
          0,
          0,
          81,
          216,
          0,
          0,
          0,
          0,
          0,
          0,
          0,
          0,
          94,
          0,
          0,
          187,
          0,
          0,
          0,
          148,
          0,
          172,
          0,
          0,
          96,
          292,
          0,
          400,
          0,
          0,
          0,
          330,
          0,
          0,
          0,
          0,
          0,
          0,
          345,
          0,
          0,
          0,
          126,
          0,
          0,
          92,
          0,
          102,
          102,
          294,
          170,
          0,
          0,
          428,
          0,
          0,
          253,
          0,
          255,
          106,
          0,
          0,
          0,
          0,
          200,
          0,
          78,
          0,
          0,
          140,
          0,
          0,
          0,
          0,
          0,
          0,
          0,
          0,
          0,
          0,
          0,
          167,
          0,
          0,
          194,
          113,
          0,
          258,
          0,
          0,
          0,
          0,
          0,
          120,
          0,
          0,
          0,
          0,
          134,
          0,
          0,
          0,
          0,
          0,
          0,
          0,
          0,
          0,
          0,
          0,
          0,
          0,
          0,
          79,
          0,
          0,
          351,
          0,
          84,
          0,
          0,
          0,
          0,
          0,
          427,
          153,
          160,
          0,
          194,
          106,
          0,
          312,
          0,
          0,
          0,
          0,
          189,
          0,
          0,
          0,
          0,
          132,
          0,
          0,
          0,
          178,
          0,
          0,
          157,
          0,
          246,
          0,
          99,
          0,
          0,
          79,
          119,
          294,
          83,
          0,
          0,
          0,
          0,
          0,
          0,
          0,
          0,
          0,
          0,
          0,
          0,
          0,
          166,
          0,
          0,
          0,
          0,
          0,
          0,
          135,
          0,
          0,
          0,
          0,
          0,
          0,
          0,
          0,
          110,
          0,
          0,
          0,
          0,
          0,
          0,
          0,
          0,
          0,
          0,
          0,
          0,
          0,
          0,
          0,
          0,
          0,
          0,
          0,
          0,
          0,
          146,
          196,
          0,
          353,
          0,
          0,
          0,
          0,
          0,
          0,
          104,
          161,
          121,
          180,
          0,
          0,
          0,
          0,
          0,
          0,
          0,
          89,
          0,
          322,
          131,
          0,
          0,
          87,
          125,
          122,
          0,
          0,
          131,
          308,
          0,
          0,
          0,
          0,
          0,
          0,
          0,
          0,
          0,
          0,
          118,
          0,
          0,
          0,
          75,
          0,
          0,
          0,
          0,
          149,
          0,
          0,
          0,
          0,
          0,
          0,
          0,
          0,
          0,
          183,
          86,
          0,
          0,
          209,
          0,
          0,
          182,
          0,
          0,
          0,
          0,
          0,
          278,
          0,
          0,
          0,
          220,
          342,
          0,
          199,
          81,
          103,
          0,
          0,
          216,
          132,
          89,
          0,
          0,
          0,
          0,
          76,
          189,
          0,
          0,
          0,
          0,
          0,
          0,
          0,
          0,
          0,
          241,
          125,
          0,
          0,
          98,
          0,
          0,
          0,
          0,
          105,
          0,
          0,
          0,
          248,
          223,
          0,
          0,
          0,
          0,
          0,
          148,
          0,
          202,
          227,
          0,
          0,
          0,
          0,
          0,
          0,
          464,
          0,
          509,
          0,
          0,
          0,
          93,
          0,
          0,
          0,
          0,
          0,
          0,
          0,
          0,
          0,
          0,
          0,
          157,
          0,
          0,
          251,
          0,
          0,
          0,
          0,
          0,
          0,
          87,
          0,
          0,
          0,
          94,
          0,
          0,
          0,
          0,
          0,
          0,
          0,
          0,
          86,
          0,
          162,
          0,
          217,
          243,
          0,
          131,
          0,
          0,
          0,
          0,
          124,
          205,
          173,
          481,
          146,
          0,
          140,
          0,
          133,
          0,
          281,
          0,
          0,
          80,
          0,
          0,
          0,
          308,
          0,
          0,
          111,
          0,
          0,
          0,
          119,
          0,
          0,
          0,
          0,
          0,
          112,
          0,
          151,
          111,
          0,
          102,
          139,
          0,
          0,
          0,
          306,
          0,
          139,
          0,
          0,
          0,
          0,
          0,
          0,
          0,
          0,
          83,
          0,
          0,
          577,
          136,
          0,
          0,
          193,
          0,
          0,
          0,
          0,
          0,
          0,
          0,
          0,
          79,
          0,
          0,
          196,
          0,
          84,
          0,
          0,
          0,
          319,
          0,
          103,
          0,
          0,
          0,
          0,
          131,
          130,
          272,
          0,
          138,
          0,
          0,
          0,
          0,
          0,
          0,
          127,
          330,
          0,
          0,
          0,
          0,
          0,
          0,
          0,
          103,
          0,
          0,
          0,
          0,
          0,
          0,
          0,
          207,
          0,
          0,
          245,
          137,
          0,
          0,
          102,
          0,
          0,
          0,
          0,
          0,
          220,
          97,
          0,
          198,
          272,
          0,
          100,
          422,
          100,
          0,
          301,
          0,
          0,
          0,
          0,
          0,
          0,
          0,
          0,
          110,
          116,
          0,
          0,
          0,
          0,
          0,
          0,
          83,
          169,
          0,
          82,
          117,
          0,
          0,
          0,
          0,
          0,
          174,
          0,
          0,
          0,
          88,
          171,
          205,
          0,
          0,
          0,
          0,
          0,
          79,
          0,
          0,
          0,
          0,
          0,
          0,
          302,
          0,
          124,
          0,
          91,
          0,
          0,
          0,
          0,
          0,
          0,
          0,
          256,
          0,
          0,
          0,
          0,
          0,
          0,
          0,
          0,
          0,
          0,
          0,
          0,
          0,
          0,
          328,
          0,
          0,
          178,
          0,
          108,
          147,
          0,
          153,
          0,
          0,
          0,
          0,
          0,
          0,
          0,
          0,
          0,
          0,
          0,
          0,
          77,
          0,
          0,
          0,
          0,
          0,
          0,
          129,
          0,
          0,
          0,
          92,
          131,
          0,
          0,
          0,
          0,
          0,
          0,
          0,
          0,
          0,
          405,
          0,
          0,
          0,
          0,
          0,
          0,
          241,
          0,
          0,
          0,
          0,
          192,
          0,
          179,
          0,
          0,
          0,
          270,
          0,
          0,
          0,
          0,
          148,
          76,
          0,
          97,
          0,
          0,
          249,
          0,
          0,
          264,
          0,
          0,
          0,
          0,
          0,
          81,
          0,
          0,
          0,
          0,
          0,
          571,
          0,
          0,
          0,
          0,
          0,
          0,
          154,
          0,
          78,
          0,
          0,
          0,
          0,
          0,
          0,
          0,
          226,
          0,
          0,
          0,
          0,
          0,
          0,
          143,
          104,
          0,
          0,
          218,
          102,
          0,
          0,
          0,
          126,
          96,
          0,
          0,
          0,
          0,
          0,
          81,
          169,
          307,
          0,
          0,
          0,
          120,
          0,
          0,
          0,
          293,
          0,
          0,
          0,
          0,
          0,
          124,
          0,
          0,
          0,
          84,
          0,
          0,
          0,
          0,
          0,
          0,
          0,
          0,
          0,
          581,
          0,
          0,
          0,
          0,
          0,
          0,
          0,
          200,
          0,
          0,
          124,
          0,
          221,
          0,
          0,
          0,
          550,
          88,
          328,
          137,
          0,
          0,
          283,
          0,
          94,
          0,
          0,
          0,
          0,
          0,
          0,
          0,
          0,
          164,
          0,
          0,
          0,
          0,
          0,
          0,
          0,
          167,
          400,
          153,
          0,
          0,
          0,
          0,
          0,
          0,
          0,
          0,
          0,
          119,
          0,
          0,
          0,
          0,
          307,
          150,
          75,
          0,
          0,
          0,
          0,
          0,
          0,
          0,
          0,
          0,
          0,
          0,
          0,
          0,
          159,
          0,
          247,
          0,
          147,
          323,
          0,
          0,
          153,
          0,
          0,
          0,
          90,
          0,
          0,
          0,
          0,
          0,
          144,
          0,
          0,
          0,
          207,
          0,
          161,
          0,
          236,
          0,
          116,
          0,
          0,
          0,
          232,
          0,
          0,
          263,
          0,
          101,
          0,
          116,
          0,
          0,
          0,
          0,
          0,
          171,
          156,
          78,
          0,
          0,
          0,
          0,
          0,
          0,
          0,
          0,
          0,
          121,
          153,
          0,
          150,
          0,
          130,
          155,
          146,
          101,
          0,
          0,
          0,
          142,
          135,
          121,
          0,
          0,
          0,
          249,
          0,
          0,
          0,
          0,
          96,
          0,
          612,
          142,
          0,
          0,
          0,
          0,
          0,
          179,
          0,
          0,
          0,
          0,
          0,
          0,
          225,
          230,
          0,
          80,
          217,
          144,
          0,
          0,
          217,
          113,
          218,
          0,
          0,
          0,
          0,
          135,
          590,
          0,
          313,
          0,
          0,
          260,
          119,
          0,
          0,
          0,
          0,
          0,
          0,
          0,
          0,
          0,
          0,
          541,
          128,
          121,
          0,
          142,
          0,
          342,
          0,
          0,
          118,
          0,
          0,
          187,
          0,
          0,
          0,
          0,
          0,
          0,
          0,
          98,
          0,
          140,
          0,
          0,
          0,
          0,
          0,
          0,
          158,
          0,
          0,
          0,
          120,
          0,
          0,
          0,
          0,
          0,
          96,
          299,
          0,
          0,
          0,
          119,
          243,
          89,
          128,
          0,
          0,
          0,
          0,
          0,
          94,
          0,
          0,
          0,
          0,
          82,
          110,
          0,
          91,
          0,
          0,
          0,
          0,
          0,
          0,
          0,
          98,
          0,
          109,
          0,
          0,
          0,
          0,
          0,
          0,
          0,
          0,
          116,
          0,
          0,
          308,
          0,
          0,
          106,
          0,
          108,
          0,
          249,
          0,
          0,
          0,
          75,
          0,
          0,
          0,
          0,
          0,
          197,
          0,
          0,
          0,
          306,
          0,
          78,
          143,
          0,
          0,
          250,
          0,
          0,
          148,
          0,
          0,
          0,
          0,
          0,
          0,
          213,
          0,
          122,
          0,
          0,
          0,
          162,
          0,
          159,
          136,
          0,
          219,
          100,
          0,
          0,
          0,
          0,
          85,
          0,
          0,
          0
         ],
         "yaxis": "y",
         "type": "histogram"
        }
       ],
       "layout": {
        "template": {
         "data": {
          "histogram2dcontour": [
           {
            "type": "histogram2dcontour",
            "colorbar": {
             "outlinewidth": 0,
             "ticks": ""
            },
            "colorscale": [
             [
              0.0,
              "#0d0887"
             ],
             [
              0.1111111111111111,
              "#46039f"
             ],
             [
              0.2222222222222222,
              "#7201a8"
             ],
             [
              0.3333333333333333,
              "#9c179e"
             ],
             [
              0.4444444444444444,
              "#bd3786"
             ],
             [
              0.5555555555555556,
              "#d8576b"
             ],
             [
              0.6666666666666666,
              "#ed7953"
             ],
             [
              0.7777777777777778,
              "#fb9f3a"
             ],
             [
              0.8888888888888888,
              "#fdca26"
             ],
             [
              1.0,
              "#f0f921"
             ]
            ]
           }
          ],
          "choropleth": [
           {
            "type": "choropleth",
            "colorbar": {
             "outlinewidth": 0,
             "ticks": ""
            }
           }
          ],
          "histogram2d": [
           {
            "type": "histogram2d",
            "colorbar": {
             "outlinewidth": 0,
             "ticks": ""
            },
            "colorscale": [
             [
              0.0,
              "#0d0887"
             ],
             [
              0.1111111111111111,
              "#46039f"
             ],
             [
              0.2222222222222222,
              "#7201a8"
             ],
             [
              0.3333333333333333,
              "#9c179e"
             ],
             [
              0.4444444444444444,
              "#bd3786"
             ],
             [
              0.5555555555555556,
              "#d8576b"
             ],
             [
              0.6666666666666666,
              "#ed7953"
             ],
             [
              0.7777777777777778,
              "#fb9f3a"
             ],
             [
              0.8888888888888888,
              "#fdca26"
             ],
             [
              1.0,
              "#f0f921"
             ]
            ]
           }
          ],
          "heatmap": [
           {
            "type": "heatmap",
            "colorbar": {
             "outlinewidth": 0,
             "ticks": ""
            },
            "colorscale": [
             [
              0.0,
              "#0d0887"
             ],
             [
              0.1111111111111111,
              "#46039f"
             ],
             [
              0.2222222222222222,
              "#7201a8"
             ],
             [
              0.3333333333333333,
              "#9c179e"
             ],
             [
              0.4444444444444444,
              "#bd3786"
             ],
             [
              0.5555555555555556,
              "#d8576b"
             ],
             [
              0.6666666666666666,
              "#ed7953"
             ],
             [
              0.7777777777777778,
              "#fb9f3a"
             ],
             [
              0.8888888888888888,
              "#fdca26"
             ],
             [
              1.0,
              "#f0f921"
             ]
            ]
           }
          ],
          "heatmapgl": [
           {
            "type": "heatmapgl",
            "colorbar": {
             "outlinewidth": 0,
             "ticks": ""
            },
            "colorscale": [
             [
              0.0,
              "#0d0887"
             ],
             [
              0.1111111111111111,
              "#46039f"
             ],
             [
              0.2222222222222222,
              "#7201a8"
             ],
             [
              0.3333333333333333,
              "#9c179e"
             ],
             [
              0.4444444444444444,
              "#bd3786"
             ],
             [
              0.5555555555555556,
              "#d8576b"
             ],
             [
              0.6666666666666666,
              "#ed7953"
             ],
             [
              0.7777777777777778,
              "#fb9f3a"
             ],
             [
              0.8888888888888888,
              "#fdca26"
             ],
             [
              1.0,
              "#f0f921"
             ]
            ]
           }
          ],
          "contourcarpet": [
           {
            "type": "contourcarpet",
            "colorbar": {
             "outlinewidth": 0,
             "ticks": ""
            }
           }
          ],
          "contour": [
           {
            "type": "contour",
            "colorbar": {
             "outlinewidth": 0,
             "ticks": ""
            },
            "colorscale": [
             [
              0.0,
              "#0d0887"
             ],
             [
              0.1111111111111111,
              "#46039f"
             ],
             [
              0.2222222222222222,
              "#7201a8"
             ],
             [
              0.3333333333333333,
              "#9c179e"
             ],
             [
              0.4444444444444444,
              "#bd3786"
             ],
             [
              0.5555555555555556,
              "#d8576b"
             ],
             [
              0.6666666666666666,
              "#ed7953"
             ],
             [
              0.7777777777777778,
              "#fb9f3a"
             ],
             [
              0.8888888888888888,
              "#fdca26"
             ],
             [
              1.0,
              "#f0f921"
             ]
            ]
           }
          ],
          "surface": [
           {
            "type": "surface",
            "colorbar": {
             "outlinewidth": 0,
             "ticks": ""
            },
            "colorscale": [
             [
              0.0,
              "#0d0887"
             ],
             [
              0.1111111111111111,
              "#46039f"
             ],
             [
              0.2222222222222222,
              "#7201a8"
             ],
             [
              0.3333333333333333,
              "#9c179e"
             ],
             [
              0.4444444444444444,
              "#bd3786"
             ],
             [
              0.5555555555555556,
              "#d8576b"
             ],
             [
              0.6666666666666666,
              "#ed7953"
             ],
             [
              0.7777777777777778,
              "#fb9f3a"
             ],
             [
              0.8888888888888888,
              "#fdca26"
             ],
             [
              1.0,
              "#f0f921"
             ]
            ]
           }
          ],
          "mesh3d": [
           {
            "type": "mesh3d",
            "colorbar": {
             "outlinewidth": 0,
             "ticks": ""
            }
           }
          ],
          "scatter": [
           {
            "marker": {
             "line": {
              "color": "#283442"
             }
            },
            "type": "scatter"
           }
          ],
          "parcoords": [
           {
            "type": "parcoords",
            "line": {
             "colorbar": {
              "outlinewidth": 0,
              "ticks": ""
             }
            }
           }
          ],
          "scatterpolargl": [
           {
            "type": "scatterpolargl",
            "marker": {
             "colorbar": {
              "outlinewidth": 0,
              "ticks": ""
             }
            }
           }
          ],
          "bar": [
           {
            "error_x": {
             "color": "#f2f5fa"
            },
            "error_y": {
             "color": "#f2f5fa"
            },
            "marker": {
             "line": {
              "color": "rgb(17,17,17)",
              "width": 0.5
             },
             "pattern": {
              "fillmode": "overlay",
              "size": 10,
              "solidity": 0.2
             }
            },
            "type": "bar"
           }
          ],
          "scattergeo": [
           {
            "type": "scattergeo",
            "marker": {
             "colorbar": {
              "outlinewidth": 0,
              "ticks": ""
             }
            }
           }
          ],
          "scatterpolar": [
           {
            "type": "scatterpolar",
            "marker": {
             "colorbar": {
              "outlinewidth": 0,
              "ticks": ""
             }
            }
           }
          ],
          "histogram": [
           {
            "marker": {
             "pattern": {
              "fillmode": "overlay",
              "size": 10,
              "solidity": 0.2
             }
            },
            "type": "histogram"
           }
          ],
          "scattergl": [
           {
            "marker": {
             "line": {
              "color": "#283442"
             }
            },
            "type": "scattergl"
           }
          ],
          "scatter3d": [
           {
            "type": "scatter3d",
            "line": {
             "colorbar": {
              "outlinewidth": 0,
              "ticks": ""
             }
            },
            "marker": {
             "colorbar": {
              "outlinewidth": 0,
              "ticks": ""
             }
            }
           }
          ],
          "scattermapbox": [
           {
            "type": "scattermapbox",
            "marker": {
             "colorbar": {
              "outlinewidth": 0,
              "ticks": ""
             }
            }
           }
          ],
          "scatterternary": [
           {
            "type": "scatterternary",
            "marker": {
             "colorbar": {
              "outlinewidth": 0,
              "ticks": ""
             }
            }
           }
          ],
          "scattercarpet": [
           {
            "type": "scattercarpet",
            "marker": {
             "colorbar": {
              "outlinewidth": 0,
              "ticks": ""
             }
            }
           }
          ],
          "carpet": [
           {
            "aaxis": {
             "endlinecolor": "#A2B1C6",
             "gridcolor": "#506784",
             "linecolor": "#506784",
             "minorgridcolor": "#506784",
             "startlinecolor": "#A2B1C6"
            },
            "baxis": {
             "endlinecolor": "#A2B1C6",
             "gridcolor": "#506784",
             "linecolor": "#506784",
             "minorgridcolor": "#506784",
             "startlinecolor": "#A2B1C6"
            },
            "type": "carpet"
           }
          ],
          "table": [
           {
            "cells": {
             "fill": {
              "color": "#506784"
             },
             "line": {
              "color": "rgb(17,17,17)"
             }
            },
            "header": {
             "fill": {
              "color": "#2a3f5f"
             },
             "line": {
              "color": "rgb(17,17,17)"
             }
            },
            "type": "table"
           }
          ],
          "barpolar": [
           {
            "marker": {
             "line": {
              "color": "rgb(17,17,17)",
              "width": 0.5
             },
             "pattern": {
              "fillmode": "overlay",
              "size": 10,
              "solidity": 0.2
             }
            },
            "type": "barpolar"
           }
          ],
          "pie": [
           {
            "automargin": true,
            "type": "pie"
           }
          ]
         },
         "layout": {
          "autotypenumbers": "strict",
          "colorway": [
           "#636efa",
           "#EF553B",
           "#00cc96",
           "#ab63fa",
           "#FFA15A",
           "#19d3f3",
           "#FF6692",
           "#B6E880",
           "#FF97FF",
           "#FECB52"
          ],
          "font": {
           "color": "#f2f5fa"
          },
          "hovermode": "closest",
          "hoverlabel": {
           "align": "left"
          },
          "paper_bgcolor": "rgb(17,17,17)",
          "plot_bgcolor": "rgb(17,17,17)",
          "polar": {
           "bgcolor": "rgb(17,17,17)",
           "angularaxis": {
            "gridcolor": "#506784",
            "linecolor": "#506784",
            "ticks": ""
           },
           "radialaxis": {
            "gridcolor": "#506784",
            "linecolor": "#506784",
            "ticks": ""
           }
          },
          "ternary": {
           "bgcolor": "rgb(17,17,17)",
           "aaxis": {
            "gridcolor": "#506784",
            "linecolor": "#506784",
            "ticks": ""
           },
           "baxis": {
            "gridcolor": "#506784",
            "linecolor": "#506784",
            "ticks": ""
           },
           "caxis": {
            "gridcolor": "#506784",
            "linecolor": "#506784",
            "ticks": ""
           }
          },
          "coloraxis": {
           "colorbar": {
            "outlinewidth": 0,
            "ticks": ""
           }
          },
          "colorscale": {
           "sequential": [
            [
             0.0,
             "#0d0887"
            ],
            [
             0.1111111111111111,
             "#46039f"
            ],
            [
             0.2222222222222222,
             "#7201a8"
            ],
            [
             0.3333333333333333,
             "#9c179e"
            ],
            [
             0.4444444444444444,
             "#bd3786"
            ],
            [
             0.5555555555555556,
             "#d8576b"
            ],
            [
             0.6666666666666666,
             "#ed7953"
            ],
            [
             0.7777777777777778,
             "#fb9f3a"
            ],
            [
             0.8888888888888888,
             "#fdca26"
            ],
            [
             1.0,
             "#f0f921"
            ]
           ],
           "sequentialminus": [
            [
             0.0,
             "#0d0887"
            ],
            [
             0.1111111111111111,
             "#46039f"
            ],
            [
             0.2222222222222222,
             "#7201a8"
            ],
            [
             0.3333333333333333,
             "#9c179e"
            ],
            [
             0.4444444444444444,
             "#bd3786"
            ],
            [
             0.5555555555555556,
             "#d8576b"
            ],
            [
             0.6666666666666666,
             "#ed7953"
            ],
            [
             0.7777777777777778,
             "#fb9f3a"
            ],
            [
             0.8888888888888888,
             "#fdca26"
            ],
            [
             1.0,
             "#f0f921"
            ]
           ],
           "diverging": [
            [
             0,
             "#8e0152"
            ],
            [
             0.1,
             "#c51b7d"
            ],
            [
             0.2,
             "#de77ae"
            ],
            [
             0.3,
             "#f1b6da"
            ],
            [
             0.4,
             "#fde0ef"
            ],
            [
             0.5,
             "#f7f7f7"
            ],
            [
             0.6,
             "#e6f5d0"
            ],
            [
             0.7,
             "#b8e186"
            ],
            [
             0.8,
             "#7fbc41"
            ],
            [
             0.9,
             "#4d9221"
            ],
            [
             1,
             "#276419"
            ]
           ]
          },
          "xaxis": {
           "gridcolor": "#283442",
           "linecolor": "#506784",
           "ticks": "",
           "title": {
            "standoff": 15
           },
           "zerolinecolor": "#283442",
           "automargin": true,
           "zerolinewidth": 2
          },
          "yaxis": {
           "gridcolor": "#283442",
           "linecolor": "#506784",
           "ticks": "",
           "title": {
            "standoff": 15
           },
           "zerolinecolor": "#283442",
           "automargin": true,
           "zerolinewidth": 2
          },
          "scene": {
           "xaxis": {
            "backgroundcolor": "rgb(17,17,17)",
            "gridcolor": "#506784",
            "linecolor": "#506784",
            "showbackground": true,
            "ticks": "",
            "zerolinecolor": "#C8D4E3",
            "gridwidth": 2
           },
           "yaxis": {
            "backgroundcolor": "rgb(17,17,17)",
            "gridcolor": "#506784",
            "linecolor": "#506784",
            "showbackground": true,
            "ticks": "",
            "zerolinecolor": "#C8D4E3",
            "gridwidth": 2
           },
           "zaxis": {
            "backgroundcolor": "rgb(17,17,17)",
            "gridcolor": "#506784",
            "linecolor": "#506784",
            "showbackground": true,
            "ticks": "",
            "zerolinecolor": "#C8D4E3",
            "gridwidth": 2
           }
          },
          "shapedefaults": {
           "line": {
            "color": "#f2f5fa"
           }
          },
          "annotationdefaults": {
           "arrowcolor": "#f2f5fa",
           "arrowhead": 0,
           "arrowwidth": 1
          },
          "geo": {
           "bgcolor": "rgb(17,17,17)",
           "landcolor": "rgb(17,17,17)",
           "subunitcolor": "#506784",
           "showland": true,
           "showlakes": true,
           "lakecolor": "rgb(17,17,17)"
          },
          "title": {
           "x": 0.05
          },
          "updatemenudefaults": {
           "bgcolor": "#506784",
           "borderwidth": 0
          },
          "sliderdefaults": {
           "bgcolor": "#C8D4E3",
           "borderwidth": 1,
           "bordercolor": "rgb(17,17,17)",
           "tickwidth": 0
          },
          "mapbox": {
           "style": "dark"
          }
         }
        },
        "xaxis": {
         "anchor": "y",
         "domain": [
          0.0,
          1.0
         ],
         "title": {
          "text": "Ages"
         }
        },
        "yaxis": {
         "anchor": "x",
         "domain": [
          0.0,
          1.0
         ],
         "title": {
          "text": "Counts"
         }
        },
        "legend": {
         "tracegroupgap": 0
        },
        "margin": {
         "t": 60
        },
        "barmode": "group",
        "title": {
         "text": "Distribution of mortgage according to ages"
        },
        "height": 400,
        "width": 1200
       },
       "config": {
        "plotlyServerURL": "https://plot.ly"
       }
      },
      "text/html": "<div>                            <div id=\"1b01bdc9-a3e2-4d25-bb1a-0d7d4cf2a115\" class=\"plotly-graph-div\" style=\"height:400px; width:1200px;\"></div>            <script type=\"text/javascript\">                require([\"plotly\"], function(Plotly) {                    window.PLOTLYENV=window.PLOTLYENV || {};                                    if (document.getElementById(\"1b01bdc9-a3e2-4d25-bb1a-0d7d4cf2a115\")) {                    Plotly.newPlot(                        \"1b01bdc9-a3e2-4d25-bb1a-0d7d4cf2a115\",                        [{\"alignmentgroup\":\"True\",\"bingroup\":\"x\",\"histfunc\":\"sum\",\"hovertemplate\":\"Age=%{x}\\u003cbr\\u003esum of Mortgage=%{y}\\u003cextra\\u003e\\u003c\\u002fextra\\u003e\",\"legendgroup\":\"\",\"marker\":{\"color\":\"#636efa\",\"pattern\":{\"shape\":\"\"}},\"name\":\"\",\"offsetgroup\":\"\",\"orientation\":\"v\",\"showlegend\":false,\"texttemplate\":\"%{value}\",\"x\":[25,45,39,35,35,37,53,50,35,34,65,29,48,59,67,60,38,42,46,55,56,57,29,44,36,43,40,46,56,38,59,40,53,30,31,48,59,51,42,38,57,34,32,39,46,57,39,37,56,40,32,61,30,50,29,41,55,56,28,31,49,47,42,42,47,59,62,53,47,53,42,53,44,41,28,31,58,46,54,50,60,47,41,33,46,27,40,48,65,25,55,35,43,60,65,38,41,54,49,66,48,61,53,43,56,24,43,42,33,43,41,62,40,58,39,65,54,58,41,32,54,52,58,37,39,60,31,34,38,41,28,58,31,30,53,58,59,49,59,59,51,35,33,25,49,59,46,50,52,48,46,26,57,60,54,24,26,41,32,61,29,61,38,28,53,27,25,33,50,27,27,52,38,58,42,45,52,29,53,62,51,36,24,29,52,39,48,46,64,55,60,51,50,48,53,34,48,55,27,36,32,35,30,58,56,38,49,34,40,64,51,44,46,57,54,38,27,39,44,56,32,45,26,55,52,39,24,47,47,48,47,35,46,62,26,38,43,62,57,28,51,48,41,65,41,35,38,53,55,26,30,54,65,47,65,66,26,66,35,56,51,42,49,27,45,49,63,47,64,43,60,40,29,41,30,49,30,29,50,39,33,57,34,61,44,40,51,37,44,42,51,43,30,45,35,60,34,55,43,41,34,65,45,49,48,60,55,42,32,62,57,52,36,34,63,24,57,40,27,65,60,44,63,59,56,54,52,58,60,28,54,32,59,63,48,56,36,57,29,39,59,31,43,35,54,51,44,25,40,26,39,28,52,53,44,43,56,38,30,32,35,43,58,25,54,57,50,32,63,31,36,58,56,49,30,33,45,30,47,25,63,55,65,44,51,35,30,31,54,45,45,58,54,53,33,60,50,26,54,28,36,29,54,55,61,36,45,64,60,49,47,60,45,32,52,35,40,53,27,58,47,28,46,43,56,28,42,32,62,37,51,39,43,52,30,52,61,36,58,47,64,52,58,48,64,58,47,49,31,61,51,28,39,54,50,30,64,29,48,35,60,55,29,48,43,66,25,45,34,48,32,50,43,64,60,43,60,64,44,60,54,33,56,29,25,60,55,39,37,53,34,42,60,50,41,25,50,48,32,50,59,50,44,31,40,36,51,64,47,52,51,31,39,30,27,41,53,54,28,34,61,48,36,56,24,64,26,33,64,39,54,32,62,27,53,51,25,44,31,57,25,30,40,63,35,43,27,44,49,61,60,59,28,52,28,34,60,39,30,49,43,63,28,51,33,55,53,34,34,40,49,35,39,55,29,54,25,52,46,57,52,28,44,24,40,34,39,50,41,31,29,30,44,33,50,42,48,24,56,28,56,58,29,63,28,57,34,28,27,37,52,49,65,60,37,63,40,46,63,57,33,41,41,44,33,52,30,45,49,45,32,45,57,61,57,60,40,53,42,62,43,35,50,45,52,35,58,62,50,25,47,28,34,49,54,50,37,38,52,63,39,63,65,46,54,54,52,63,66,56,23,65,51,34,49,29,47,46,52,55,61,34,58,40,43,35,24,48,44,54,59,45,26,40,32,29,51,42,64,44,37,44,35,41,56,62,58,47,35,29,43,62,41,34,50,47,29,59,56,61,58,49,45,50,64,39,58,62,45,58,43,28,26,49,66,33,61,64,36,49,52,61,32,61,45,30,62,57,41,58,29,53,64,49,38,56,56,52,64,53,29,48,32,54,37,47,37,64,43,33,26,42,54,41,55,65,50,55,62,53,32,56,54,44,48,46,45,45,58,29,55,55,41,24,54,57,30,42,29,29,31,47,36,52,54,55,53,52,64,54,32,63,36,50,33,62,49,41,51,56,51,39,61,35,39,37,48,63,35,55,29,61,36,61,36,58,42,30,45,39,27,57,34,64,47,44,51,40,57,33,46,41,33,27,52,59,62,49,45,63,57,60,50,54,28,60,44,61,40,54,43,54,32,24,30,61,40,35,33,63,57,44,51,51,38,31,54,41,57,24,55,32,38,58,29,43,50,62,57,30,30,57,57,43,28,46,29,64,66,23,60,47,35,57,65,53,44,45,41,51,27,31,32,55,55,42,33,65,35,55,28,27,51,50,58,46,62,38,62,56,61,38,55,30,41,57,36,55,30,40,32,59,44,51,37,59,37,56,55,49,46,35,47,39,27,62,57,55,55,41,57,43,40,43,63,63,54,54,52,50,38,36,58,46,50,46,53,62,63,42,34,40,34,41,32,28,33,46,52,60,59,57,46,25,53,38,63,44,50,28,27,52,50,39,50,60,30,31,39,29,54,35,27,45,58,62,28,32,29,41,61,56,37,60,49,43,53,35,56,41,36,56,64,51,49,43,51,55,62,35,53,33,43,58,63,31,36,30,59,28,59,47,47,56,41,25,30,50,34,44,36,39,54,33,39,41,40,29,51,54,47,53,30,28,60,51,63,38,59,53,31,41,25,27,50,50,43,50,46,30,42,42,29,38,51,35,37,47,55,65,58,54,52,28,32,51,43,42,42,41,34,30,32,46,38,37,32,35,30,30,58,57,34,31,39,57,47,51,30,55,32,32,44,33,49,32,31,37,41,56,55,49,63,55,59,41,49,48,41,50,28,36,38,34,41,43,30,37,62,40,35,64,49,24,36,29,29,28,33,36,42,25,28,50,34,43,62,61,45,42,39,29,45,58,29,32,37,48,40,29,36,35,35,62,26,32,63,38,50,46,50,61,34,27,61,45,50,44,62,45,41,30,61,45,59,30,60,39,56,56,27,66,43,53,44,54,31,38,28,51,52,64,29,34,33,46,48,52,44,51,47,39,42,57,36,27,31,63,34,52,57,63,26,35,58,32,64,50,34,36,43,28,64,60,62,27,42,45,36,48,65,39,51,30,65,38,29,42,63,46,62,58,56,56,34,42,30,61,38,50,61,41,42,29,51,32,34,26,54,38,62,37,46,52,32,49,28,55,52,32,31,27,32,52,52,50,32,61,60,28,34,31,31,62,47,50,36,26,51,52,35,42,36,41,49,57,44,60,38,26,29,59,51,50,35,61,42,55,50,64,54,50,31,32,44,60,60,62,46,57,30,58,39,60,59,50,63,27,54,62,60,38,34,65,55,57,27,35,52,45,29,44,47,62,52,47,42,65,42,40,32,40,55,32,58,46,53,63,40,41,60,65,59,48,59,33,40,42,65,30,30,42,32,55,29,64,37,31,25,31,32,58,26,51,65,43,46,28,63,59,42,58,39,36,60,47,29,52,41,63,59,44,54,29,51,63,36,42,51,47,40,54,47,35,28,45,33,62,45,59,58,52,34,65,48,44,61,40,65,28,67,35,60,58,55,34,35,28,38,62,30,38,33,58,59,52,36,45,49,52,54,30,65,34,30,51,52,43,35,56,57,58,53,45,44,54,41,52,43,63,54,33,25,41,40,43,36,57,34,38,47,39,45,62,59,61,36,58,55,29,34,61,50,52,39,55,33,47,57,57,40,50,29,46,42,59,31,51,35,59,35,46,34,55,64,34,61,63,59,51,41,37,64,44,62,50,43,34,38,29,39,53,43,61,46,57,59,52,29,57,49,39,56,63,37,56,45,66,40,50,60,31,40,36,55,54,35,55,36,66,38,58,41,60,47,62,48,61,29,45,39,31,39,63,28,56,31,46,42,53,41,61,31,62,59,49,65,30,32,56,36,58,27,41,59,56,52,35,47,29,31,62,48,26,60,35,40,31,50,33,37,38,63,57,61,37,51,44,63,43,38,34,48,29,37,60,46,34,56,57,62,32,51,55,60,40,62,63,60,59,26,56,58,57,48,30,45,64,44,51,43,29,56,65,46,48,56,61,46,58,31,27,44,44,51,39,32,33,40,36,52,54,26,39,46,57,59,52,52,50,41,43,25,40,35,60,57,44,61,33,45,45,64,50,28,37,62,29,49,46,60,55,33,53,50,28,42,33,40,31,41,52,65,48,45,26,64,41,43,60,62,46,36,31,43,46,50,52,27,34,49,52,37,53,54,29,35,32,38,44,44,48,46,35,56,49,57,35,44,38,57,35,29,58,40,51,61,46,55,35,60,28,43,61,48,65,45,36,45,60,47,32,48,33,49,56,59,56,30,59,38,47,54,34,41,47,44,43,31,28,55,42,53,30,65,43,56,25,35,50,36,34,32,51,52,65,51,37,35,67,30,62,42,48,61,36,48,65,25,55,63,31,43,28,37,27,62,51,56,56,44,46,56,56,57,31,65,31,36,56,52,42,55,49,51,26,32,54,50,59,61,43,39,56,38,25,42,42,50,56,43,60,42,57,48,37,57,62,39,38,54,45,39,45,62,43,30,35,58,44,56,28,64,63,44,34,50,51,30,55,57,43,61,49,52,57,53,52,39,58,36,45,30,49,44,43,42,29,28,50,44,52,28,62,34,45,52,43,54,64,27,42,28,47,39,29,39,41,37,41,45,52,58,31,26,31,42,56,52,59,32,46,52,30,32,35,49,54,56,48,28,44,30,44,30,47,64,48,63,25,61,46,57,40,49,30,41,42,63,43,59,46,33,55,36,47,59,38,42,30,63,60,62,49,59,36,46,35,50,51,41,45,41,57,51,52,43,63,28,43,41,34,28,58,39,49,33,37,33,28,54,63,57,56,54,29,41,58,61,30,62,52,29,46,52,40,49,34,35,26,65,52,32,31,36,50,36,51,39,53,50,31,53,48,57,47,55,37,59,53,31,35,25,37,40,31,62,41,56,47,28,60,27,57,62,57,44,31,31,39,41,41,55,28,35,44,44,40,65,35,55,55,59,39,50,45,50,65,36,57,53,28,55,56,33,57,27,27,54,48,62,41,62,40,32,62,35,25,50,61,43,52,39,33,27,27,32,65,55,52,39,35,39,34,30,37,41,31,37,49,58,45,40,34,62,54,26,54,29,48,27,42,25,45,34,51,51,60,59,49,50,41,49,50,63,63,33,38,64,36,58,39,46,61,53,28,64,48,38,52,65,59,45,53,38,54,25,61,48,46,36,46,59,59,36,63,51,30,48,55,41,26,41,54,57,54,35,60,63,41,46,31,58,59,46,33,56,47,59,24,39,30,55,47,35,47,38,38,27,42,26,60,27,27,40,40,29,30,30,47,33,57,38,54,47,48,62,30,35,59,38,47,57,42,39,53,27,59,48,62,66,38,42,47,27,32,37,56,39,36,32,62,48,58,27,52,54,31,60,34,46,41,62,31,41,55,45,51,27,30,31,61,40,45,45,37,34,43,42,56,33,36,62,58,65,65,52,64,51,59,52,55,46,61,35,56,31,44,53,36,27,36,40,39,59,43,30,26,48,50,33,32,34,33,32,55,58,47,30,42,40,33,46,63,62,43,31,28,64,27,33,39,44,53,42,44,34,47,53,62,61,42,48,38,41,57,31,39,48,55,29,47,61,60,34,45,60,25,41,63,63,43,58,50,38,54,61,29,39,33,23,56,54,37,38,34,53,65,62,51,31,64,39,28,60,47,25,44,51,31,32,51,25,43,54,34,54,42,46,62,31,30,52,35,60,58,24,40,49,43,33,36,62,57,64,52,54,40,30,55,39,55,28,44,46,61,61,45,38,29,52,38,28,34,35,46,63,33,38,53,28,44,58,38,48,33,66,59,40,36,62,51,58,52,41,31,28,57,61,60,56,49,63,49,49,32,26,27,57,29,56,59,53,54,56,50,51,53,37,32,49,34,54,64,58,25,50,38,48,41,32,46,39,39,63,58,28,36,43,36,44,31,45,39,43,40,30,58,46,35,30,34,62,58,45,42,60,55,45,52,31,60,33,37,59,51,47,60,61,64,46,31,57,48,48,35,33,47,46,44,42,50,52,53,37,64,46,57,61,42,40,33,50,52,35,57,56,44,23,33,48,45,54,42,47,61,53,56,33,44,63,47,50,49,34,40,38,51,28,52,39,29,54,63,40,36,45,61,26,33,64,43,24,30,60,50,40,31,30,60,39,66,65,54,54,35,32,63,60,43,59,62,30,54,30,31,44,32,63,57,60,37,53,51,30,28,50,52,56,40,64,61,46,55,45,40,63,57,38,37,31,50,42,51,38,53,43,35,49,28,51,39,31,44,46,42,41,23,59,47,48,58,58,54,49,63,62,45,39,58,56,29,33,55,56,36,53,57,35,43,54,29,39,32,51,50,54,38,32,62,57,47,51,54,26,37,27,63,62,59,32,35,56,55,31,54,58,48,48,33,36,41,55,63,53,38,46,59,56,59,39,47,47,53,36,34,36,60,45,27,47,44,54,57,52,51,57,65,58,64,52,58,52,43,56,37,53,27,53,42,58,36,53,48,54,26,50,31,35,63,29,57,30,33,62,35,37,37,35,35,59,53,45,46,40,42,25,39,30,58,41,37,36,27,60,62,67,44,24,45,58,61,54,28,49,35,36,34,36,35,27,42,65,29,65,59,46,59,52,60,43,65,50,48,49,58,24,58,45,42,64,49,55,40,28,57,50,40,55,53,48,59,58,38,49,60,54,28,27,42,52,54,56,58,56,64,35,45,57,35,46,30,44,39,42,34,46,55,28,35,60,50,52,51,51,59,53,43,31,32,41,31,41,47,37,53,49,62,33,54,27,60,29,56,55,45,33,45,44,37,42,26,33,61,31,54,62,61,66,38,55,60,23,29,35,53,32,38,44,43,54,52,31,47,42,57,33,35,56,57,25,53,59,56,54,48,55,33,46,42,49,42,46,65,50,54,42,57,61,60,40,33,37,52,33,62,62,63,55,33,25,55,29,45,60,44,48,57,58,58,44,54,59,63,61,58,44,53,63,41,50,51,47,43,46,50,33,27,34,34,28,29,52,47,41,58,37,57,63,60,50,60,54,28,45,28,54,42,30,61,64,38,39,54,59,39,63,31,56,47,28,32,54,29,39,26,29,46,38,55,48,36,39,40,26,55,61,57,56,31,61,58,43,29,50,49,43,58,41,65,52,55,49,52,56,30,36,41,42,60,44,34,56,31,29,31,36,42,64,61,35,28,38,44,45,46,57,40,38,39,23,47,32,30,54,25,60,61,36,52,33,57,34,50,43,34,26,26,48,49,47,43,40,31,27,55,54,23,54,57,41,28,33,51,28,63,29,62,51,52,43,39,35,34,49,43,48,30,46,43,27,39,58,44,39,35,41,43,55,32,56,30,65,31,41,55,37,34,34,33,48,28,30,44,61,59,33,56,53,42,43,35,61,39,61,40,34,65,40,39,61,40,49,43,45,52,32,31,27,33,65,62,55,46,37,60,44,35,52,30,62,41,38,52,48,47,41,44,31,50,36,52,62,55,61,34,34,59,41,33,55,64,44,32,67,40,57,59,43,58,50,52,35,40,31,32,55,43,31,26,58,51,45,56,25,38,62,39,56,50,52,53,25,44,42,42,63,57,56,60,62,48,37,55,42,39,47,34,48,52,53,49,47,48,38,48,56,65,46,60,50,41,41,60,57,48,53,42,45,35,34,67,36,37,40,35,60,59,35,27,29,35,38,62,43,35,41,65,61,55,28,52,34,49,42,49,49,32,59,43,48,31,30,58,41,38,33,51,45,34,39,44,55,28,57,43,46,35,25,65,64,39,62,46,36,42,35,63,45,27,29,55,32,37,25,41,52,31,40,54,48,39,64,54,39,55,42,58,45,29,36,63,55,54,61,36,61,39,57,35,66,49,48,61,44,23,31,39,45,39,64,64,47,34,56,33,56,57,43,43,26,64,43,44,60,37,56,54,43,57,29,54,61,29,47,43,46,55,48,26,63,57,58,28,61,65,33,63,43,26,57,50,54,59,49,54,65,34,31,31,64,52,57,60,45,39,25,29,40,36,33,51,35,54,29,32,37,55,30,49,51,65,32,29,46,64,27,50,33,38,38,37,46,31,35,50,45,30,60,31,60,36,64,29,58,59,58,35,43,33,54,38,38,57,34,52,50,60,26,56,39,45,30,37,45,48,65,46,40,33,40,60,51,41,37,35,35,46,60,51,31,30,32,53,33,40,57,51,30,41,54,42,30,60,56,63,56,39,29,28,41,28,49,30,63,45,40,28,62,38,32,58,33,60,34,38,44,56,37,45,44,37,47,51,63,61,43,41,59,29,32,64,50,35,34,58,41,37,35,45,53,53,54,28,58,47,24,27,42,50,41,46,46,51,59,58,37,39,47,51,64,59,55,57,59,42,34,41,43,53,47,49,35,52,53,48,35,52,60,33,38,29,35,26,48,43,60,27,38,40,38,50,38,34,42,60,62,59,49,49,36,33,43,53,57,53,60,34,51,36,63,37,57,52,38,61,31,39,38,46,48,58,50,67,36,30,58,43,31,37,49,27,50,46,49,29,55,61,45,33,63,32,42,51,44,33,39,56,28,43,30,34,26,58,43,40,54,44,54,39,59,53,32,40,54,27,63,26,33,43,57,26,55,30,63,55,35,45,47,31,56,49,53,62,63,26,59,40,42,29,40,31,35,62,51,32,27,62,66,53,49,65,30,60,30,54,54,37,32,51,46,41,62,54,52,51,24,61,55,37,64,34,31,42,47,29,34,36,34,26,48,47,39,62,34,43,55,65,26,57,32,35,63,49,23,30,43,39,31,65,34,37,62,33,48,33,45,44,37,31,56,30,61,32,51,26,31,43,57,42,48,46,33,45,31,42,56,63,42,50,31,65,60,34,62,56,51,44,41,43,25,40,53,54,36,26,35,29,35,28,48,46,31,40,27,32,67,24,45,26,42,65,59,30,32,36,48,56,44,60,51,34,45,47,29,52,61,40,24,33,33,52,40,45,27,38,50,41,60,64,34,30,31,41,61,42,48,59,57,37,53,53,26,39,35,59,43,39,49,47,41,57,42,61,56,29,25,32,37,31,38,40,61,50,32,62,62,40,59,43,62,48,29,58,43,39,33,40,28,38,65,35,29,61,46,50,60,54,43,38,46,64,24,39,34,65,38,62,59,49,57,64,47,30,42,53,50,62,34,47,62,61,59,47,65,56,56,31,61,42,44,47,30,62,56,25,53,26,59,62,58,40,35,51,41,51,27,46,46,31,58,42,59,54,35,34,46,52,55,34,57,45,29,49,36,57,25,43,27,54,53,55,43,35,59,42,51,57,39,53,31,33,38,47,63,44,61,52,59,56,58,30,42,51,60,30,49,26,36,65,27,60,32,46,60,28,50,52,29,30,42,32,40,49,53,42,38,60,27,61,27,45,41,44,38,39,48,47,64,27,66,43,34,28,52,45,24,39,40,30,49,53,56,50,53,60,58,43,46,29,56,48,61,41,35,48,43,37,47,29,63,43,57,55,47,58,53,59,46,41,46,44,44,50,51,55,37,34,59,45,30,32,61,54,35,63,66,48,60,41,31,58,67,35,40,42,44,47,59,29,36,47,55,41,51,26,33,30,30,45,40,42,50,62,63,43,49,51,61,43,43,61,35,59,40,61,48,37,56,35,35,40,50,49,46,64,60,45,52,58,54,48,51,53,57,43,37,32,34,54,62,56,39,32,50,27,37,60,43,62,39,34,46,46,51,44,60,65,58,37,52,42,54,54,51,59,41,43,52,52,57,53,58,59,57,27,42,52,49,47,45,25,47,44,30,63,50,40,56,39,42,28,26,58,38,23,53,54,42,54,66,46,63,63,58,65,35,33,43,30,61,49,52,45,64,26,35,45,44,34,65,32,41,52,35,51,30,58,49,63,40,27,38,52,49,59,32,30,64,59,62,61,53,51,55,36,44,26,54,35,34,28,32,38,53,26,45,58,59,45,64,30,40,61,40,40,43,39,35,38,67,55,28,30,59,26,52,40,31,50,27,64,34,30,39,34,40,33,38,42,37,33,60,28,45,56,53,37,47,58,52,46,52,24,57,66,30,48,63,48,34,60,55,50,29,61,50,37,64,43,39,23,34,29,33,60,49,54,59,42,62,63,57,61,35,26,33,31,51,55,38,38,53,62,35,46,60,63,43,33,43,62,48,38,36,49,61,49,59,30,44,67,59,37,50,56,29,55,48,32,47,46,33,39,60,39,34,55,67,40,44,56,50,31,66,43,58,33,33,32,55,25,40,54,36,35,44,38,30,39,35,41,56,52,29,38,51,45,51,53,50,59,57,45,27,40,39,26,27,55,64,41,46,43,24,29,58,45,53,45,32,56,31,29,48,36,36,41,48,27,33,31,48,59,41,42,62,62,51,48,56,62,53,62,28,61,48,50,58,53,65,27,50,50,41,43,55,33,44,47,43,59,65,28,58,33,24,46,26,47,32,58,32,46,35,53,55,63,45,58,50,37,25,52,26,35,58,37,35,31,58,43,43,54,53,32,37,34,51,49,54,37,57,37,32,48,44,50,44,54,37,34,32,63,56,37,66,38,35,61,52,57,47,50,36,45,58,27,27,48,46,32,54,31,42,30,41,44,37,51,30,36,65,33,58,34,38,59,37,59,47,48,38,34,44,33,47,41,36,28,59,43,56,28,62,40,34,52,40,27,52,39,52,50,40,35,39,25,33,26,46,27,55,52,59,63,61,58,29,51,59,41,59,52,39,45,59,49,48,61,31,42,35,57,54,61,60,59,62,26,41,65,25,25,27,65,60,29,32,32,41,52,40,39,34,34,34,41,59,40,52,37,39,49,63,34,51,61,56,62,56,58,58,50,44,49,31,49,43,31,66,41,39,46,57,59,30,26,46,66,50,61,37,51,56,58,41,35,38,26,35,36,26,53,56,44,47,32,52,39,47,35,26,43,52,30,36,48,36,58,35,59,36,45,56,46,26,37,44,44,33,34,35,48,58,30,62,40,42,43,58,36,29,49,60,58,50,46,45,32,42,30,60,46,32,56,56,30,52,31,37,30,29,49,49,65,54,36,56,34,33,59,49,61,31,45,35,37,58,49,63,55,38,45,44,58,56,37,50,34,51,49,33,61,41,50,41,38,51,63,55,46,27,59,26,61,44,53,34,40,56,57,43,38,60,54,51,41,25,58,61,56,43,42,48,45,40,43,52,54,26,26,33,40,64,62,54,34,40,41,48,46,51,30,65,49,29,36,50,41,42,37,31,40,36,64,37,43,57,62,63,57,59,47,26,59,45,33,61,54,46,28,52,26,49,42,51,39,44,29,47,53,29,47,45,63,39,29,50,51,58,39,46,32,53,29,41,41,58,45,37,58,58,31,59,38,29,40,57,50,29,34,36,51,27,48,32,48,34,24,55,51,30,45,64,29,30,63,65,28],\"xaxis\":\"x\",\"y\":[0,0,0,0,0,155,0,0,104,0,0,0,0,0,0,0,134,0,0,0,111,0,260,163,159,97,0,0,0,0,122,0,193,0,0,0,0,198,0,285,0,0,412,0,0,0,153,211,0,0,0,0,207,240,0,0,0,0,0,455,0,112,0,0,0,0,336,132,0,0,0,0,0,0,0,0,0,0,0,118,174,0,0,0,0,0,126,0,0,0,0,0,0,236,0,0,0,0,0,0,0,0,198,0,166,0,0,136,166,0,0,0,309,103,0,0,0,193,0,366,0,0,0,0,118,0,101,251,0,0,276,0,0,0,0,0,0,0,0,0,161,149,0,0,0,0,0,188,116,0,0,0,0,0,0,0,0,0,0,0,0,0,0,0,0,0,0,0,0,0,0,0,0,0,0,0,135,244,0,0,164,81,0,0,0,0,0,315,122,0,0,140,0,0,0,95,0,89,90,0,0,0,0,0,105,100,0,0,0,282,0,0,209,0,0,249,0,0,0,0,0,0,0,0,91,0,0,0,98,145,0,0,135,0,150,0,0,0,0,0,169,0,280,99,78,0,0,111,264,113,117,325,0,0,121,138,0,0,0,77,0,251,0,112,0,98,0,138,0,0,0,0,158,0,0,0,109,0,0,0,164,0,0,0,0,0,131,0,391,0,0,88,129,0,0,0,0,0,0,0,0,196,0,617,0,123,0,0,0,0,0,167,0,0,0,0,0,0,190,0,248,82,0,0,0,0,0,402,0,0,0,0,0,0,0,360,0,0,392,0,0,185,0,103,138,78,0,0,0,132,0,0,0,0,419,0,88,81,0,0,0,0,270,0,148,466,0,175,159,0,147,0,174,111,220,0,0,0,0,0,0,0,0,0,0,0,0,0,0,0,0,0,0,109,0,0,0,0,0,0,0,112,133,0,182,290,0,0,0,125,0,0,0,0,0,124,0,0,0,0,0,0,0,0,0,0,0,116,116,0,161,224,0,141,0,0,112,0,119,0,139,0,115,0,0,0,0,0,0,0,0,89,0,0,0,0,116,0,0,458,0,0,0,0,0,172,0,0,0,0,0,161,156,547,0,0,0,78,0,470,0,0,88,0,0,0,304,0,0,0,0,104,0,0,0,0,0,0,0,0,0,0,0,185,0,0,0,0,0,112,221,0,108,0,0,211,0,169,0,105,129,0,224,0,0,179,271,89,378,0,0,0,113,0,0,0,176,0,76,117,314,0,0,90,0,87,203,180,0,0,0,0,230,0,0,137,129,0,0,138,0,0,0,0,152,0,0,0,161,185,485,0,0,0,0,0,0,0,0,0,0,0,155,0,300,0,0,272,0,0,0,0,0,0,144,94,0,0,90,0,0,0,0,89,240,0,208,0,0,0,275,83,0,0,0,0,0,0,115,0,0,0,131,78,122,211,100,0,0,218,108,0,0,0,0,169,196,0,0,0,327,0,0,0,0,322,0,123,0,0,163,131,0,205,0,0,145,0,0,0,0,0,0,0,227,0,0,190,0,0,239,282,0,85,0,160,103,0,207,364,0,0,0,0,449,0,0,0,207,0,75,113,111,107,81,0,82,0,220,91,0,0,0,92,0,0,0,0,115,0,87,187,0,0,0,0,161,0,137,0,0,0,0,0,0,0,0,0,0,0,205,0,0,0,0,0,0,0,0,0,0,0,0,0,0,0,0,0,0,0,0,355,0,0,0,0,0,0,0,0,0,166,100,0,314,0,0,108,0,119,0,106,0,0,0,0,91,76,0,0,0,0,587,0,0,0,0,0,0,0,0,0,0,0,0,0,0,0,0,0,0,0,214,82,0,307,0,0,0,0,0,0,0,0,0,118,263,91,0,0,0,0,0,0,0,0,0,88,75,0,81,0,0,0,0,193,0,81,0,0,310,0,0,0,127,0,0,252,0,0,0,0,127,0,0,77,0,0,0,170,145,124,101,265,0,139,0,0,0,0,0,0,0,134,0,123,0,0,0,0,177,0,0,305,0,0,0,0,372,0,79,301,0,0,232,289,212,137,0,0,172,0,0,250,0,84,130,115,0,305,0,0,0,0,0,303,0,0,0,0,0,126,0,0,0,0,103,138,0,91,0,0,0,0,0,256,0,0,124,0,203,140,0,0,0,0,0,84,259,204,0,0,524,0,249,0,0,0,0,163,0,163,135,0,157,0,0,0,0,0,236,231,174,287,0,0,0,205,0,0,0,0,0,0,0,159,0,0,100,247,0,0,0,0,0,0,214,0,333,0,91,108,0,229,0,0,0,357,0,140,361,166,0,169,301,0,0,170,127,157,97,0,0,366,0,169,0,0,0,0,0,136,0,0,134,0,119,0,0,0,163,0,0,0,83,0,0,0,0,0,294,141,103,0,0,0,0,0,86,0,0,0,97,131,0,0,0,0,0,0,0,137,0,0,0,0,0,329,182,0,142,0,0,0,0,0,167,196,0,0,0,0,0,111,0,137,0,184,0,0,0,0,0,0,0,229,0,185,0,0,83,442,0,0,0,0,0,132,0,233,0,196,0,0,0,0,0,0,0,0,0,0,0,0,0,91,0,0,0,0,0,0,0,0,0,0,78,0,0,0,0,0,0,215,0,0,87,157,0,0,0,0,394,227,327,0,0,475,0,158,0,0,0,0,0,0,0,149,98,0,0,0,0,0,0,0,0,87,0,0,152,0,0,0,0,0,94,0,101,184,91,0,0,0,197,0,0,0,0,228,0,0,0,87,0,144,0,0,0,0,0,0,94,91,0,0,109,0,98,0,0,0,297,0,0,0,116,0,0,109,101,0,0,0,99,128,241,0,0,0,0,0,0,204,0,185,0,0,104,0,137,0,0,0,0,108,0,0,0,100,0,236,0,437,0,178,117,428,0,145,333,0,236,117,162,0,0,0,366,0,0,0,234,121,257,90,219,0,0,0,103,337,0,382,397,88,0,0,0,0,0,125,0,141,0,181,123,0,0,0,0,0,0,0,0,120,0,0,380,0,224,0,0,0,0,0,0,0,0,297,0,149,0,215,0,0,200,0,97,0,0,0,0,0,357,158,0,0,0,433,0,0,157,0,0,0,101,149,122,0,117,222,483,0,0,0,86,0,0,0,0,0,178,230,0,83,0,0,0,0,0,0,0,0,0,305,158,0,0,0,0,0,0,154,0,0,0,294,0,0,0,176,127,0,128,212,0,0,0,0,0,164,103,0,287,94,0,119,90,171,0,0,0,117,0,0,0,146,106,0,0,0,162,0,0,0,110,0,0,0,0,201,0,0,0,0,0,0,0,0,0,0,77,174,0,159,277,0,0,0,0,0,83,0,0,268,0,0,237,102,0,76,0,0,0,155,0,0,174,0,0,0,0,0,0,147,0,0,0,0,0,0,0,0,0,93,0,0,0,0,0,0,0,354,0,0,0,0,221,90,119,102,256,0,0,0,0,195,164,153,0,0,0,0,0,0,188,0,157,119,0,0,0,0,116,0,0,194,113,198,0,238,0,0,0,104,244,0,285,115,0,128,0,121,0,0,128,0,226,141,0,0,0,184,0,0,0,227,104,0,0,0,318,342,125,0,0,0,0,0,188,0,0,0,0,110,164,0,0,266,0,0,0,86,0,0,87,0,98,0,0,0,104,0,0,0,0,0,0,0,0,114,0,455,0,0,0,0,245,0,0,0,0,0,104,0,0,0,0,0,95,0,0,0,131,90,0,0,0,0,106,0,0,123,0,0,0,0,0,106,0,0,0,0,0,341,0,91,0,0,101,0,0,0,421,0,104,131,0,0,0,0,103,0,249,155,0,0,359,0,0,0,0,0,118,0,132,0,0,0,0,0,0,0,0,0,0,0,0,0,131,158,0,0,107,0,565,233,0,0,0,152,0,0,0,0,150,0,0,0,0,0,319,0,182,0,394,230,82,0,0,0,137,109,135,0,0,89,151,221,229,0,0,0,0,0,0,0,0,0,0,121,89,0,0,154,0,0,84,0,94,0,119,0,0,117,151,114,0,0,267,0,181,601,0,0,0,0,0,567,0,0,0,0,0,0,0,0,0,100,181,0,0,0,0,114,0,0,0,0,0,0,0,0,0,0,0,0,0,231,148,0,86,0,0,0,171,352,0,0,221,115,0,0,118,284,0,180,0,0,88,199,256,0,0,0,0,159,0,0,97,0,167,97,0,0,0,0,240,80,142,0,0,112,0,0,334,0,0,0,0,268,0,80,218,389,0,0,159,0,89,0,342,0,0,104,0,0,0,372,0,0,0,101,0,0,0,0,0,0,0,0,107,0,0,241,275,0,112,0,112,0,0,198,186,0,0,142,246,120,0,245,0,0,0,218,0,0,0,0,0,0,185,0,0,0,0,589,0,0,0,0,0,0,83,151,0,231,86,0,0,0,0,83,277,0,184,0,0,0,0,0,0,0,111,0,0,108,0,0,397,203,0,78,242,0,0,0,0,0,0,0,110,0,175,79,0,0,120,0,76,0,0,0,0,0,0,0,0,0,0,0,359,0,143,0,0,0,125,323,0,0,0,113,167,0,218,0,0,0,0,0,236,151,0,185,0,380,0,0,207,0,0,0,329,0,0,0,0,0,0,535,0,0,0,107,0,0,0,0,98,0,170,161,0,0,83,0,0,222,0,111,219,0,0,0,0,0,0,0,0,0,137,154,293,0,398,0,0,0,0,0,0,0,101,117,0,343,151,0,307,0,84,0,208,0,93,113,272,0,84,0,0,0,0,0,0,229,0,0,0,0,120,0,0,0,0,0,0,0,0,180,119,0,89,101,141,0,0,232,0,0,0,176,120,0,0,247,166,0,0,0,0,109,0,0,80,0,0,193,0,105,128,0,0,0,0,78,0,255,0,95,155,0,184,154,0,0,0,0,0,0,219,164,0,0,0,0,0,0,0,105,0,0,0,0,0,0,86,0,294,0,95,102,0,83,0,0,0,98,0,0,0,311,76,0,207,158,185,0,0,94,0,0,146,0,0,446,0,223,0,0,0,0,0,115,0,0,0,149,0,146,262,0,0,0,0,0,0,0,167,94,172,150,120,0,266,103,97,150,0,0,0,75,109,0,76,0,0,0,92,0,0,0,0,0,0,0,0,0,0,0,0,0,0,0,0,0,0,0,132,0,0,0,0,0,128,90,0,95,0,323,0,0,0,87,0,0,0,91,0,0,0,0,0,0,0,0,0,81,0,0,0,0,0,0,0,319,112,422,0,0,0,315,114,0,0,0,192,0,242,0,0,0,0,0,217,0,0,0,0,289,310,168,102,299,239,87,0,76,0,0,0,0,0,0,0,0,0,0,0,0,0,90,0,0,0,0,0,93,0,0,153,0,112,0,0,0,251,182,0,0,428,0,0,0,0,0,0,0,108,0,0,0,505,0,142,309,217,154,106,0,95,0,0,78,81,0,203,219,0,0,148,0,0,106,80,0,0,0,118,0,400,0,0,0,197,0,301,0,0,0,0,0,267,0,0,0,0,144,0,186,0,422,0,0,218,0,0,0,0,208,0,0,0,0,0,85,0,0,130,0,0,0,165,123,0,230,0,307,187,85,0,147,0,183,0,0,0,0,0,0,0,0,112,0,257,0,0,0,118,0,0,0,0,212,141,114,326,144,341,0,0,79,229,0,0,234,0,81,0,0,298,0,91,156,0,0,0,0,113,0,0,0,0,0,0,0,0,0,0,107,106,0,0,129,0,0,297,171,153,569,0,0,0,0,0,90,0,79,102,0,0,151,0,0,103,0,0,0,0,144,184,0,0,102,184,0,0,0,207,89,140,0,100,0,118,190,0,0,0,0,0,185,0,0,0,0,0,0,374,0,245,310,0,0,0,0,0,0,0,167,0,0,0,0,216,214,194,0,0,0,131,204,0,191,103,0,145,98,0,0,0,0,0,0,0,193,0,0,0,0,248,106,194,89,0,0,0,0,0,212,0,86,0,0,123,0,0,0,226,0,180,408,204,78,0,0,109,175,144,0,0,0,352,0,0,0,406,0,0,0,0,122,0,0,0,0,0,166,0,0,0,98,129,0,0,452,0,249,0,0,0,0,0,0,0,0,0,114,0,0,158,0,0,100,0,0,160,170,0,0,0,0,432,0,0,0,0,0,0,0,0,144,157,0,127,220,247,0,0,0,133,147,0,165,0,0,0,0,142,0,0,0,86,120,95,0,240,312,0,156,111,477,119,0,0,205,0,0,0,192,0,0,105,101,0,144,396,582,0,0,0,358,0,0,380,0,0,0,0,104,213,0,0,85,0,0,0,0,0,0,117,153,0,0,0,0,0,200,90,177,0,0,0,0,0,0,136,0,201,145,467,0,0,169,0,331,0,0,303,0,158,0,0,164,0,0,230,138,0,0,0,0,91,149,204,159,0,0,240,565,0,134,0,98,0,0,0,132,219,0,0,0,212,136,295,0,114,282,0,151,0,0,0,0,0,264,0,80,0,252,0,0,0,0,238,0,0,0,0,0,0,0,0,327,0,0,0,144,0,0,0,0,0,140,0,0,175,0,151,76,0,0,0,0,0,0,0,0,0,235,0,0,0,0,0,101,0,0,170,262,0,0,0,0,0,0,0,0,99,109,0,0,635,0,0,0,0,0,163,352,385,0,0,0,437,328,98,0,135,0,0,0,0,187,522,0,0,0,0,0,0,0,0,104,0,0,301,115,0,165,182,276,0,168,0,0,0,0,0,0,0,0,188,0,0,0,181,496,0,0,0,0,0,90,0,0,0,0,0,0,83,0,0,0,184,102,158,0,0,0,415,0,166,0,0,184,99,0,392,461,0,244,0,344,228,152,178,263,0,102,0,221,130,0,105,0,115,0,167,0,0,0,83,0,0,0,103,0,0,0,0,0,0,0,149,0,0,0,0,206,297,0,0,368,0,170,0,0,221,257,0,0,88,0,0,110,190,0,87,204,129,0,0,0,0,0,138,95,0,158,325,0,104,0,0,0,0,174,0,0,0,0,0,121,0,0,0,0,0,0,0,209,0,0,0,256,0,179,0,0,218,126,0,0,0,0,0,0,0,168,148,0,89,321,94,0,255,0,0,0,0,0,0,0,0,0,106,0,0,0,0,0,149,0,0,84,0,240,0,0,0,0,0,97,0,228,0,227,100,0,0,0,0,0,0,199,0,130,84,0,94,0,0,0,296,0,0,0,0,0,0,0,0,0,0,0,147,0,0,0,0,239,185,0,0,0,0,373,0,0,0,116,0,0,0,120,325,0,135,0,0,0,0,0,0,0,0,0,0,0,0,329,0,0,0,0,0,0,118,0,0,0,0,0,223,0,0,0,0,0,0,118,0,0,0,0,185,0,0,0,0,0,0,0,0,120,0,113,0,0,0,0,0,268,0,0,0,0,0,0,0,87,0,0,0,0,292,187,0,0,0,0,0,0,0,0,89,0,0,0,0,82,383,0,0,0,0,0,0,0,0,0,0,0,0,0,0,0,0,0,0,0,0,0,0,0,0,82,0,0,0,280,86,358,0,0,0,354,0,0,121,0,0,0,0,0,0,275,0,0,83,0,0,0,0,408,0,0,0,87,0,0,105,0,0,0,0,0,199,0,209,442,0,0,0,315,0,0,76,0,0,213,153,0,0,0,85,238,0,221,0,0,0,135,0,137,0,97,0,118,0,0,101,0,0,0,0,84,0,427,0,0,0,0,244,0,0,87,0,0,0,0,0,90,189,0,0,108,0,184,0,0,78,0,0,0,271,0,0,0,0,202,0,116,186,109,110,0,0,251,0,0,0,0,0,0,231,0,0,142,146,0,0,0,96,364,0,0,429,0,431,0,0,0,0,156,0,0,0,0,81,0,112,0,0,0,131,0,115,0,0,0,0,192,192,0,94,286,0,0,90,0,0,0,154,0,0,0,0,0,0,0,0,508,148,146,0,0,0,0,134,0,0,0,0,0,0,0,0,128,0,211,0,0,229,0,0,0,0,210,0,0,0,0,119,0,0,0,116,172,0,0,0,0,0,189,0,0,126,142,272,0,0,0,0,123,0,0,0,416,0,0,0,83,0,0,209,102,0,0,0,85,115,0,0,0,0,147,0,224,0,192,0,79,0,0,0,91,95,0,0,0,0,0,96,0,553,0,79,0,368,0,0,0,78,146,0,0,403,193,0,95,0,0,0,0,0,0,225,0,0,0,0,0,0,242,0,0,0,0,0,144,174,0,260,0,0,0,107,0,0,0,177,0,0,0,0,0,0,0,500,0,0,0,0,0,75,0,0,0,0,0,0,0,111,0,0,0,0,0,0,0,103,313,0,0,0,205,0,0,0,0,0,0,0,0,0,0,0,0,410,0,0,0,123,0,0,0,0,99,0,0,232,0,0,285,0,76,229,0,98,82,119,0,0,109,161,0,0,0,95,0,0,0,0,0,0,0,0,0,0,194,0,118,109,0,126,0,0,0,219,0,0,0,0,0,0,121,273,0,0,0,0,0,304,0,170,204,79,341,0,0,0,0,449,151,0,0,0,333,0,0,0,0,0,0,221,0,0,0,0,0,0,98,0,0,144,0,0,106,0,0,0,0,0,0,0,0,89,0,0,97,0,96,0,0,0,0,205,259,0,194,0,188,0,196,122,0,0,0,0,0,75,0,0,0,127,0,114,0,0,0,0,230,0,0,0,0,0,194,82,0,0,0,0,0,277,0,0,0,0,0,0,0,0,0,0,161,0,0,0,185,184,381,0,0,0,270,0,0,166,98,402,102,215,0,251,121,0,0,0,0,81,216,0,0,0,0,0,0,0,0,94,0,0,187,0,0,0,148,0,172,0,0,96,292,0,400,0,0,0,330,0,0,0,0,0,0,345,0,0,0,126,0,0,92,0,102,102,294,170,0,0,428,0,0,253,0,255,106,0,0,0,0,200,0,78,0,0,140,0,0,0,0,0,0,0,0,0,0,0,167,0,0,194,113,0,258,0,0,0,0,0,120,0,0,0,0,134,0,0,0,0,0,0,0,0,0,0,0,0,0,0,79,0,0,351,0,84,0,0,0,0,0,427,153,160,0,194,106,0,312,0,0,0,0,189,0,0,0,0,132,0,0,0,178,0,0,157,0,246,0,99,0,0,79,119,294,83,0,0,0,0,0,0,0,0,0,0,0,0,0,166,0,0,0,0,0,0,135,0,0,0,0,0,0,0,0,110,0,0,0,0,0,0,0,0,0,0,0,0,0,0,0,0,0,0,0,0,0,146,196,0,353,0,0,0,0,0,0,104,161,121,180,0,0,0,0,0,0,0,89,0,322,131,0,0,87,125,122,0,0,131,308,0,0,0,0,0,0,0,0,0,0,118,0,0,0,75,0,0,0,0,149,0,0,0,0,0,0,0,0,0,183,86,0,0,209,0,0,182,0,0,0,0,0,278,0,0,0,220,342,0,199,81,103,0,0,216,132,89,0,0,0,0,76,189,0,0,0,0,0,0,0,0,0,241,125,0,0,98,0,0,0,0,105,0,0,0,248,223,0,0,0,0,0,148,0,202,227,0,0,0,0,0,0,464,0,509,0,0,0,93,0,0,0,0,0,0,0,0,0,0,0,157,0,0,251,0,0,0,0,0,0,87,0,0,0,94,0,0,0,0,0,0,0,0,86,0,162,0,217,243,0,131,0,0,0,0,124,205,173,481,146,0,140,0,133,0,281,0,0,80,0,0,0,308,0,0,111,0,0,0,119,0,0,0,0,0,112,0,151,111,0,102,139,0,0,0,306,0,139,0,0,0,0,0,0,0,0,83,0,0,577,136,0,0,193,0,0,0,0,0,0,0,0,79,0,0,196,0,84,0,0,0,319,0,103,0,0,0,0,131,130,272,0,138,0,0,0,0,0,0,127,330,0,0,0,0,0,0,0,103,0,0,0,0,0,0,0,207,0,0,245,137,0,0,102,0,0,0,0,0,220,97,0,198,272,0,100,422,100,0,301,0,0,0,0,0,0,0,0,110,116,0,0,0,0,0,0,83,169,0,82,117,0,0,0,0,0,174,0,0,0,88,171,205,0,0,0,0,0,79,0,0,0,0,0,0,302,0,124,0,91,0,0,0,0,0,0,0,256,0,0,0,0,0,0,0,0,0,0,0,0,0,0,328,0,0,178,0,108,147,0,153,0,0,0,0,0,0,0,0,0,0,0,0,77,0,0,0,0,0,0,129,0,0,0,92,131,0,0,0,0,0,0,0,0,0,405,0,0,0,0,0,0,241,0,0,0,0,192,0,179,0,0,0,270,0,0,0,0,148,76,0,97,0,0,249,0,0,264,0,0,0,0,0,81,0,0,0,0,0,571,0,0,0,0,0,0,154,0,78,0,0,0,0,0,0,0,226,0,0,0,0,0,0,143,104,0,0,218,102,0,0,0,126,96,0,0,0,0,0,81,169,307,0,0,0,120,0,0,0,293,0,0,0,0,0,124,0,0,0,84,0,0,0,0,0,0,0,0,0,581,0,0,0,0,0,0,0,200,0,0,124,0,221,0,0,0,550,88,328,137,0,0,283,0,94,0,0,0,0,0,0,0,0,164,0,0,0,0,0,0,0,167,400,153,0,0,0,0,0,0,0,0,0,119,0,0,0,0,307,150,75,0,0,0,0,0,0,0,0,0,0,0,0,0,159,0,247,0,147,323,0,0,153,0,0,0,90,0,0,0,0,0,144,0,0,0,207,0,161,0,236,0,116,0,0,0,232,0,0,263,0,101,0,116,0,0,0,0,0,171,156,78,0,0,0,0,0,0,0,0,0,121,153,0,150,0,130,155,146,101,0,0,0,142,135,121,0,0,0,249,0,0,0,0,96,0,612,142,0,0,0,0,0,179,0,0,0,0,0,0,225,230,0,80,217,144,0,0,217,113,218,0,0,0,0,135,590,0,313,0,0,260,119,0,0,0,0,0,0,0,0,0,0,541,128,121,0,142,0,342,0,0,118,0,0,187,0,0,0,0,0,0,0,98,0,140,0,0,0,0,0,0,158,0,0,0,120,0,0,0,0,0,96,299,0,0,0,119,243,89,128,0,0,0,0,0,94,0,0,0,0,82,110,0,91,0,0,0,0,0,0,0,98,0,109,0,0,0,0,0,0,0,0,116,0,0,308,0,0,106,0,108,0,249,0,0,0,75,0,0,0,0,0,197,0,0,0,306,0,78,143,0,0,250,0,0,148,0,0,0,0,0,0,213,0,122,0,0,0,162,0,159,136,0,219,100,0,0,0,0,85,0,0,0],\"yaxis\":\"y\",\"type\":\"histogram\"}],                        {\"template\":{\"data\":{\"histogram2dcontour\":[{\"type\":\"histogram2dcontour\",\"colorbar\":{\"outlinewidth\":0,\"ticks\":\"\"},\"colorscale\":[[0.0,\"#0d0887\"],[0.1111111111111111,\"#46039f\"],[0.2222222222222222,\"#7201a8\"],[0.3333333333333333,\"#9c179e\"],[0.4444444444444444,\"#bd3786\"],[0.5555555555555556,\"#d8576b\"],[0.6666666666666666,\"#ed7953\"],[0.7777777777777778,\"#fb9f3a\"],[0.8888888888888888,\"#fdca26\"],[1.0,\"#f0f921\"]]}],\"choropleth\":[{\"type\":\"choropleth\",\"colorbar\":{\"outlinewidth\":0,\"ticks\":\"\"}}],\"histogram2d\":[{\"type\":\"histogram2d\",\"colorbar\":{\"outlinewidth\":0,\"ticks\":\"\"},\"colorscale\":[[0.0,\"#0d0887\"],[0.1111111111111111,\"#46039f\"],[0.2222222222222222,\"#7201a8\"],[0.3333333333333333,\"#9c179e\"],[0.4444444444444444,\"#bd3786\"],[0.5555555555555556,\"#d8576b\"],[0.6666666666666666,\"#ed7953\"],[0.7777777777777778,\"#fb9f3a\"],[0.8888888888888888,\"#fdca26\"],[1.0,\"#f0f921\"]]}],\"heatmap\":[{\"type\":\"heatmap\",\"colorbar\":{\"outlinewidth\":0,\"ticks\":\"\"},\"colorscale\":[[0.0,\"#0d0887\"],[0.1111111111111111,\"#46039f\"],[0.2222222222222222,\"#7201a8\"],[0.3333333333333333,\"#9c179e\"],[0.4444444444444444,\"#bd3786\"],[0.5555555555555556,\"#d8576b\"],[0.6666666666666666,\"#ed7953\"],[0.7777777777777778,\"#fb9f3a\"],[0.8888888888888888,\"#fdca26\"],[1.0,\"#f0f921\"]]}],\"heatmapgl\":[{\"type\":\"heatmapgl\",\"colorbar\":{\"outlinewidth\":0,\"ticks\":\"\"},\"colorscale\":[[0.0,\"#0d0887\"],[0.1111111111111111,\"#46039f\"],[0.2222222222222222,\"#7201a8\"],[0.3333333333333333,\"#9c179e\"],[0.4444444444444444,\"#bd3786\"],[0.5555555555555556,\"#d8576b\"],[0.6666666666666666,\"#ed7953\"],[0.7777777777777778,\"#fb9f3a\"],[0.8888888888888888,\"#fdca26\"],[1.0,\"#f0f921\"]]}],\"contourcarpet\":[{\"type\":\"contourcarpet\",\"colorbar\":{\"outlinewidth\":0,\"ticks\":\"\"}}],\"contour\":[{\"type\":\"contour\",\"colorbar\":{\"outlinewidth\":0,\"ticks\":\"\"},\"colorscale\":[[0.0,\"#0d0887\"],[0.1111111111111111,\"#46039f\"],[0.2222222222222222,\"#7201a8\"],[0.3333333333333333,\"#9c179e\"],[0.4444444444444444,\"#bd3786\"],[0.5555555555555556,\"#d8576b\"],[0.6666666666666666,\"#ed7953\"],[0.7777777777777778,\"#fb9f3a\"],[0.8888888888888888,\"#fdca26\"],[1.0,\"#f0f921\"]]}],\"surface\":[{\"type\":\"surface\",\"colorbar\":{\"outlinewidth\":0,\"ticks\":\"\"},\"colorscale\":[[0.0,\"#0d0887\"],[0.1111111111111111,\"#46039f\"],[0.2222222222222222,\"#7201a8\"],[0.3333333333333333,\"#9c179e\"],[0.4444444444444444,\"#bd3786\"],[0.5555555555555556,\"#d8576b\"],[0.6666666666666666,\"#ed7953\"],[0.7777777777777778,\"#fb9f3a\"],[0.8888888888888888,\"#fdca26\"],[1.0,\"#f0f921\"]]}],\"mesh3d\":[{\"type\":\"mesh3d\",\"colorbar\":{\"outlinewidth\":0,\"ticks\":\"\"}}],\"scatter\":[{\"marker\":{\"line\":{\"color\":\"#283442\"}},\"type\":\"scatter\"}],\"parcoords\":[{\"type\":\"parcoords\",\"line\":{\"colorbar\":{\"outlinewidth\":0,\"ticks\":\"\"}}}],\"scatterpolargl\":[{\"type\":\"scatterpolargl\",\"marker\":{\"colorbar\":{\"outlinewidth\":0,\"ticks\":\"\"}}}],\"bar\":[{\"error_x\":{\"color\":\"#f2f5fa\"},\"error_y\":{\"color\":\"#f2f5fa\"},\"marker\":{\"line\":{\"color\":\"rgb(17,17,17)\",\"width\":0.5},\"pattern\":{\"fillmode\":\"overlay\",\"size\":10,\"solidity\":0.2}},\"type\":\"bar\"}],\"scattergeo\":[{\"type\":\"scattergeo\",\"marker\":{\"colorbar\":{\"outlinewidth\":0,\"ticks\":\"\"}}}],\"scatterpolar\":[{\"type\":\"scatterpolar\",\"marker\":{\"colorbar\":{\"outlinewidth\":0,\"ticks\":\"\"}}}],\"histogram\":[{\"marker\":{\"pattern\":{\"fillmode\":\"overlay\",\"size\":10,\"solidity\":0.2}},\"type\":\"histogram\"}],\"scattergl\":[{\"marker\":{\"line\":{\"color\":\"#283442\"}},\"type\":\"scattergl\"}],\"scatter3d\":[{\"type\":\"scatter3d\",\"line\":{\"colorbar\":{\"outlinewidth\":0,\"ticks\":\"\"}},\"marker\":{\"colorbar\":{\"outlinewidth\":0,\"ticks\":\"\"}}}],\"scattermapbox\":[{\"type\":\"scattermapbox\",\"marker\":{\"colorbar\":{\"outlinewidth\":0,\"ticks\":\"\"}}}],\"scatterternary\":[{\"type\":\"scatterternary\",\"marker\":{\"colorbar\":{\"outlinewidth\":0,\"ticks\":\"\"}}}],\"scattercarpet\":[{\"type\":\"scattercarpet\",\"marker\":{\"colorbar\":{\"outlinewidth\":0,\"ticks\":\"\"}}}],\"carpet\":[{\"aaxis\":{\"endlinecolor\":\"#A2B1C6\",\"gridcolor\":\"#506784\",\"linecolor\":\"#506784\",\"minorgridcolor\":\"#506784\",\"startlinecolor\":\"#A2B1C6\"},\"baxis\":{\"endlinecolor\":\"#A2B1C6\",\"gridcolor\":\"#506784\",\"linecolor\":\"#506784\",\"minorgridcolor\":\"#506784\",\"startlinecolor\":\"#A2B1C6\"},\"type\":\"carpet\"}],\"table\":[{\"cells\":{\"fill\":{\"color\":\"#506784\"},\"line\":{\"color\":\"rgb(17,17,17)\"}},\"header\":{\"fill\":{\"color\":\"#2a3f5f\"},\"line\":{\"color\":\"rgb(17,17,17)\"}},\"type\":\"table\"}],\"barpolar\":[{\"marker\":{\"line\":{\"color\":\"rgb(17,17,17)\",\"width\":0.5},\"pattern\":{\"fillmode\":\"overlay\",\"size\":10,\"solidity\":0.2}},\"type\":\"barpolar\"}],\"pie\":[{\"automargin\":true,\"type\":\"pie\"}]},\"layout\":{\"autotypenumbers\":\"strict\",\"colorway\":[\"#636efa\",\"#EF553B\",\"#00cc96\",\"#ab63fa\",\"#FFA15A\",\"#19d3f3\",\"#FF6692\",\"#B6E880\",\"#FF97FF\",\"#FECB52\"],\"font\":{\"color\":\"#f2f5fa\"},\"hovermode\":\"closest\",\"hoverlabel\":{\"align\":\"left\"},\"paper_bgcolor\":\"rgb(17,17,17)\",\"plot_bgcolor\":\"rgb(17,17,17)\",\"polar\":{\"bgcolor\":\"rgb(17,17,17)\",\"angularaxis\":{\"gridcolor\":\"#506784\",\"linecolor\":\"#506784\",\"ticks\":\"\"},\"radialaxis\":{\"gridcolor\":\"#506784\",\"linecolor\":\"#506784\",\"ticks\":\"\"}},\"ternary\":{\"bgcolor\":\"rgb(17,17,17)\",\"aaxis\":{\"gridcolor\":\"#506784\",\"linecolor\":\"#506784\",\"ticks\":\"\"},\"baxis\":{\"gridcolor\":\"#506784\",\"linecolor\":\"#506784\",\"ticks\":\"\"},\"caxis\":{\"gridcolor\":\"#506784\",\"linecolor\":\"#506784\",\"ticks\":\"\"}},\"coloraxis\":{\"colorbar\":{\"outlinewidth\":0,\"ticks\":\"\"}},\"colorscale\":{\"sequential\":[[0.0,\"#0d0887\"],[0.1111111111111111,\"#46039f\"],[0.2222222222222222,\"#7201a8\"],[0.3333333333333333,\"#9c179e\"],[0.4444444444444444,\"#bd3786\"],[0.5555555555555556,\"#d8576b\"],[0.6666666666666666,\"#ed7953\"],[0.7777777777777778,\"#fb9f3a\"],[0.8888888888888888,\"#fdca26\"],[1.0,\"#f0f921\"]],\"sequentialminus\":[[0.0,\"#0d0887\"],[0.1111111111111111,\"#46039f\"],[0.2222222222222222,\"#7201a8\"],[0.3333333333333333,\"#9c179e\"],[0.4444444444444444,\"#bd3786\"],[0.5555555555555556,\"#d8576b\"],[0.6666666666666666,\"#ed7953\"],[0.7777777777777778,\"#fb9f3a\"],[0.8888888888888888,\"#fdca26\"],[1.0,\"#f0f921\"]],\"diverging\":[[0,\"#8e0152\"],[0.1,\"#c51b7d\"],[0.2,\"#de77ae\"],[0.3,\"#f1b6da\"],[0.4,\"#fde0ef\"],[0.5,\"#f7f7f7\"],[0.6,\"#e6f5d0\"],[0.7,\"#b8e186\"],[0.8,\"#7fbc41\"],[0.9,\"#4d9221\"],[1,\"#276419\"]]},\"xaxis\":{\"gridcolor\":\"#283442\",\"linecolor\":\"#506784\",\"ticks\":\"\",\"title\":{\"standoff\":15},\"zerolinecolor\":\"#283442\",\"automargin\":true,\"zerolinewidth\":2},\"yaxis\":{\"gridcolor\":\"#283442\",\"linecolor\":\"#506784\",\"ticks\":\"\",\"title\":{\"standoff\":15},\"zerolinecolor\":\"#283442\",\"automargin\":true,\"zerolinewidth\":2},\"scene\":{\"xaxis\":{\"backgroundcolor\":\"rgb(17,17,17)\",\"gridcolor\":\"#506784\",\"linecolor\":\"#506784\",\"showbackground\":true,\"ticks\":\"\",\"zerolinecolor\":\"#C8D4E3\",\"gridwidth\":2},\"yaxis\":{\"backgroundcolor\":\"rgb(17,17,17)\",\"gridcolor\":\"#506784\",\"linecolor\":\"#506784\",\"showbackground\":true,\"ticks\":\"\",\"zerolinecolor\":\"#C8D4E3\",\"gridwidth\":2},\"zaxis\":{\"backgroundcolor\":\"rgb(17,17,17)\",\"gridcolor\":\"#506784\",\"linecolor\":\"#506784\",\"showbackground\":true,\"ticks\":\"\",\"zerolinecolor\":\"#C8D4E3\",\"gridwidth\":2}},\"shapedefaults\":{\"line\":{\"color\":\"#f2f5fa\"}},\"annotationdefaults\":{\"arrowcolor\":\"#f2f5fa\",\"arrowhead\":0,\"arrowwidth\":1},\"geo\":{\"bgcolor\":\"rgb(17,17,17)\",\"landcolor\":\"rgb(17,17,17)\",\"subunitcolor\":\"#506784\",\"showland\":true,\"showlakes\":true,\"lakecolor\":\"rgb(17,17,17)\"},\"title\":{\"x\":0.05},\"updatemenudefaults\":{\"bgcolor\":\"#506784\",\"borderwidth\":0},\"sliderdefaults\":{\"bgcolor\":\"#C8D4E3\",\"borderwidth\":1,\"bordercolor\":\"rgb(17,17,17)\",\"tickwidth\":0},\"mapbox\":{\"style\":\"dark\"}}},\"xaxis\":{\"anchor\":\"y\",\"domain\":[0.0,1.0],\"title\":{\"text\":\"Ages\"}},\"yaxis\":{\"anchor\":\"x\",\"domain\":[0.0,1.0],\"title\":{\"text\":\"Counts\"}},\"legend\":{\"tracegroupgap\":0},\"margin\":{\"t\":60},\"barmode\":\"group\",\"title\":{\"text\":\"Distribution of mortgage according to ages\"},\"height\":400,\"width\":1200},                        {\"responsive\": true}                    ).then(function(){\n                            \nvar gd = document.getElementById('1b01bdc9-a3e2-4d25-bb1a-0d7d4cf2a115');\nvar x = new MutationObserver(function (mutations, observer) {{\n        var display = window.getComputedStyle(gd).display;\n        if (!display || display === 'none') {{\n            console.log([gd, 'removed!']);\n            Plotly.purge(gd);\n            observer.disconnect();\n        }}\n}});\n\n// Listen for the removal of the full notebook cells\nvar notebookContainer = gd.closest('#notebook-container');\nif (notebookContainer) {{\n    x.observe(notebookContainer, {childList: true});\n}}\n\n// Listen for the clearing of the current output cell\nvar outputEl = gd.closest('.output');\nif (outputEl) {{\n    x.observe(outputEl, {childList: true});\n}}\n\n                        })                };                });            </script>        </div>"
     },
     "metadata": {},
     "output_type": "display_data"
    }
   ],
   "source": [
    "fig = px.histogram(data, x='Age', y='Mortgage', barmode='group', text_auto=True)\n",
    "fig.update_layout(title='Distribution of mortgage according to ages', height=400, width=1200)\n",
    "fig.update_layout(xaxis_title='Ages', yaxis_title='Counts')\n",
    "fig.show()"
   ],
   "metadata": {
    "collapsed": false,
    "ExecuteTime": {
     "end_time": "2024-03-17T08:34:31.156625Z",
     "start_time": "2024-03-17T08:34:31.114094Z"
    }
   },
   "id": "9d13ff594f3f0f3e",
   "execution_count": 156
  },
  {
   "cell_type": "code",
   "outputs": [
    {
     "data": {
      "application/vnd.plotly.v1+json": {
       "data": [
        {
         "domain": {
          "x": [
           0.0,
           1.0
          ],
          "y": [
           0.0,
           1.0
          ]
         },
         "hovertemplate": "label=%{label}<br>value=%{value}<extra></extra>",
         "labels": [
          "Graduate",
          "High School",
          "Professional Degree"
         ],
         "legendgroup": "",
         "name": "",
         "showlegend": true,
         "values": [
          2096,
          1403,
          1501
         ],
         "type": "pie"
        }
       ],
       "layout": {
        "template": {
         "data": {
          "histogram2dcontour": [
           {
            "type": "histogram2dcontour",
            "colorbar": {
             "outlinewidth": 0,
             "ticks": ""
            },
            "colorscale": [
             [
              0.0,
              "#0d0887"
             ],
             [
              0.1111111111111111,
              "#46039f"
             ],
             [
              0.2222222222222222,
              "#7201a8"
             ],
             [
              0.3333333333333333,
              "#9c179e"
             ],
             [
              0.4444444444444444,
              "#bd3786"
             ],
             [
              0.5555555555555556,
              "#d8576b"
             ],
             [
              0.6666666666666666,
              "#ed7953"
             ],
             [
              0.7777777777777778,
              "#fb9f3a"
             ],
             [
              0.8888888888888888,
              "#fdca26"
             ],
             [
              1.0,
              "#f0f921"
             ]
            ]
           }
          ],
          "choropleth": [
           {
            "type": "choropleth",
            "colorbar": {
             "outlinewidth": 0,
             "ticks": ""
            }
           }
          ],
          "histogram2d": [
           {
            "type": "histogram2d",
            "colorbar": {
             "outlinewidth": 0,
             "ticks": ""
            },
            "colorscale": [
             [
              0.0,
              "#0d0887"
             ],
             [
              0.1111111111111111,
              "#46039f"
             ],
             [
              0.2222222222222222,
              "#7201a8"
             ],
             [
              0.3333333333333333,
              "#9c179e"
             ],
             [
              0.4444444444444444,
              "#bd3786"
             ],
             [
              0.5555555555555556,
              "#d8576b"
             ],
             [
              0.6666666666666666,
              "#ed7953"
             ],
             [
              0.7777777777777778,
              "#fb9f3a"
             ],
             [
              0.8888888888888888,
              "#fdca26"
             ],
             [
              1.0,
              "#f0f921"
             ]
            ]
           }
          ],
          "heatmap": [
           {
            "type": "heatmap",
            "colorbar": {
             "outlinewidth": 0,
             "ticks": ""
            },
            "colorscale": [
             [
              0.0,
              "#0d0887"
             ],
             [
              0.1111111111111111,
              "#46039f"
             ],
             [
              0.2222222222222222,
              "#7201a8"
             ],
             [
              0.3333333333333333,
              "#9c179e"
             ],
             [
              0.4444444444444444,
              "#bd3786"
             ],
             [
              0.5555555555555556,
              "#d8576b"
             ],
             [
              0.6666666666666666,
              "#ed7953"
             ],
             [
              0.7777777777777778,
              "#fb9f3a"
             ],
             [
              0.8888888888888888,
              "#fdca26"
             ],
             [
              1.0,
              "#f0f921"
             ]
            ]
           }
          ],
          "heatmapgl": [
           {
            "type": "heatmapgl",
            "colorbar": {
             "outlinewidth": 0,
             "ticks": ""
            },
            "colorscale": [
             [
              0.0,
              "#0d0887"
             ],
             [
              0.1111111111111111,
              "#46039f"
             ],
             [
              0.2222222222222222,
              "#7201a8"
             ],
             [
              0.3333333333333333,
              "#9c179e"
             ],
             [
              0.4444444444444444,
              "#bd3786"
             ],
             [
              0.5555555555555556,
              "#d8576b"
             ],
             [
              0.6666666666666666,
              "#ed7953"
             ],
             [
              0.7777777777777778,
              "#fb9f3a"
             ],
             [
              0.8888888888888888,
              "#fdca26"
             ],
             [
              1.0,
              "#f0f921"
             ]
            ]
           }
          ],
          "contourcarpet": [
           {
            "type": "contourcarpet",
            "colorbar": {
             "outlinewidth": 0,
             "ticks": ""
            }
           }
          ],
          "contour": [
           {
            "type": "contour",
            "colorbar": {
             "outlinewidth": 0,
             "ticks": ""
            },
            "colorscale": [
             [
              0.0,
              "#0d0887"
             ],
             [
              0.1111111111111111,
              "#46039f"
             ],
             [
              0.2222222222222222,
              "#7201a8"
             ],
             [
              0.3333333333333333,
              "#9c179e"
             ],
             [
              0.4444444444444444,
              "#bd3786"
             ],
             [
              0.5555555555555556,
              "#d8576b"
             ],
             [
              0.6666666666666666,
              "#ed7953"
             ],
             [
              0.7777777777777778,
              "#fb9f3a"
             ],
             [
              0.8888888888888888,
              "#fdca26"
             ],
             [
              1.0,
              "#f0f921"
             ]
            ]
           }
          ],
          "surface": [
           {
            "type": "surface",
            "colorbar": {
             "outlinewidth": 0,
             "ticks": ""
            },
            "colorscale": [
             [
              0.0,
              "#0d0887"
             ],
             [
              0.1111111111111111,
              "#46039f"
             ],
             [
              0.2222222222222222,
              "#7201a8"
             ],
             [
              0.3333333333333333,
              "#9c179e"
             ],
             [
              0.4444444444444444,
              "#bd3786"
             ],
             [
              0.5555555555555556,
              "#d8576b"
             ],
             [
              0.6666666666666666,
              "#ed7953"
             ],
             [
              0.7777777777777778,
              "#fb9f3a"
             ],
             [
              0.8888888888888888,
              "#fdca26"
             ],
             [
              1.0,
              "#f0f921"
             ]
            ]
           }
          ],
          "mesh3d": [
           {
            "type": "mesh3d",
            "colorbar": {
             "outlinewidth": 0,
             "ticks": ""
            }
           }
          ],
          "scatter": [
           {
            "marker": {
             "line": {
              "color": "#283442"
             }
            },
            "type": "scatter"
           }
          ],
          "parcoords": [
           {
            "type": "parcoords",
            "line": {
             "colorbar": {
              "outlinewidth": 0,
              "ticks": ""
             }
            }
           }
          ],
          "scatterpolargl": [
           {
            "type": "scatterpolargl",
            "marker": {
             "colorbar": {
              "outlinewidth": 0,
              "ticks": ""
             }
            }
           }
          ],
          "bar": [
           {
            "error_x": {
             "color": "#f2f5fa"
            },
            "error_y": {
             "color": "#f2f5fa"
            },
            "marker": {
             "line": {
              "color": "rgb(17,17,17)",
              "width": 0.5
             },
             "pattern": {
              "fillmode": "overlay",
              "size": 10,
              "solidity": 0.2
             }
            },
            "type": "bar"
           }
          ],
          "scattergeo": [
           {
            "type": "scattergeo",
            "marker": {
             "colorbar": {
              "outlinewidth": 0,
              "ticks": ""
             }
            }
           }
          ],
          "scatterpolar": [
           {
            "type": "scatterpolar",
            "marker": {
             "colorbar": {
              "outlinewidth": 0,
              "ticks": ""
             }
            }
           }
          ],
          "histogram": [
           {
            "marker": {
             "pattern": {
              "fillmode": "overlay",
              "size": 10,
              "solidity": 0.2
             }
            },
            "type": "histogram"
           }
          ],
          "scattergl": [
           {
            "marker": {
             "line": {
              "color": "#283442"
             }
            },
            "type": "scattergl"
           }
          ],
          "scatter3d": [
           {
            "type": "scatter3d",
            "line": {
             "colorbar": {
              "outlinewidth": 0,
              "ticks": ""
             }
            },
            "marker": {
             "colorbar": {
              "outlinewidth": 0,
              "ticks": ""
             }
            }
           }
          ],
          "scattermapbox": [
           {
            "type": "scattermapbox",
            "marker": {
             "colorbar": {
              "outlinewidth": 0,
              "ticks": ""
             }
            }
           }
          ],
          "scatterternary": [
           {
            "type": "scatterternary",
            "marker": {
             "colorbar": {
              "outlinewidth": 0,
              "ticks": ""
             }
            }
           }
          ],
          "scattercarpet": [
           {
            "type": "scattercarpet",
            "marker": {
             "colorbar": {
              "outlinewidth": 0,
              "ticks": ""
             }
            }
           }
          ],
          "carpet": [
           {
            "aaxis": {
             "endlinecolor": "#A2B1C6",
             "gridcolor": "#506784",
             "linecolor": "#506784",
             "minorgridcolor": "#506784",
             "startlinecolor": "#A2B1C6"
            },
            "baxis": {
             "endlinecolor": "#A2B1C6",
             "gridcolor": "#506784",
             "linecolor": "#506784",
             "minorgridcolor": "#506784",
             "startlinecolor": "#A2B1C6"
            },
            "type": "carpet"
           }
          ],
          "table": [
           {
            "cells": {
             "fill": {
              "color": "#506784"
             },
             "line": {
              "color": "rgb(17,17,17)"
             }
            },
            "header": {
             "fill": {
              "color": "#2a3f5f"
             },
             "line": {
              "color": "rgb(17,17,17)"
             }
            },
            "type": "table"
           }
          ],
          "barpolar": [
           {
            "marker": {
             "line": {
              "color": "rgb(17,17,17)",
              "width": 0.5
             },
             "pattern": {
              "fillmode": "overlay",
              "size": 10,
              "solidity": 0.2
             }
            },
            "type": "barpolar"
           }
          ],
          "pie": [
           {
            "automargin": true,
            "type": "pie"
           }
          ]
         },
         "layout": {
          "autotypenumbers": "strict",
          "colorway": [
           "#636efa",
           "#EF553B",
           "#00cc96",
           "#ab63fa",
           "#FFA15A",
           "#19d3f3",
           "#FF6692",
           "#B6E880",
           "#FF97FF",
           "#FECB52"
          ],
          "font": {
           "color": "#f2f5fa"
          },
          "hovermode": "closest",
          "hoverlabel": {
           "align": "left"
          },
          "paper_bgcolor": "rgb(17,17,17)",
          "plot_bgcolor": "rgb(17,17,17)",
          "polar": {
           "bgcolor": "rgb(17,17,17)",
           "angularaxis": {
            "gridcolor": "#506784",
            "linecolor": "#506784",
            "ticks": ""
           },
           "radialaxis": {
            "gridcolor": "#506784",
            "linecolor": "#506784",
            "ticks": ""
           }
          },
          "ternary": {
           "bgcolor": "rgb(17,17,17)",
           "aaxis": {
            "gridcolor": "#506784",
            "linecolor": "#506784",
            "ticks": ""
           },
           "baxis": {
            "gridcolor": "#506784",
            "linecolor": "#506784",
            "ticks": ""
           },
           "caxis": {
            "gridcolor": "#506784",
            "linecolor": "#506784",
            "ticks": ""
           }
          },
          "coloraxis": {
           "colorbar": {
            "outlinewidth": 0,
            "ticks": ""
           }
          },
          "colorscale": {
           "sequential": [
            [
             0.0,
             "#0d0887"
            ],
            [
             0.1111111111111111,
             "#46039f"
            ],
            [
             0.2222222222222222,
             "#7201a8"
            ],
            [
             0.3333333333333333,
             "#9c179e"
            ],
            [
             0.4444444444444444,
             "#bd3786"
            ],
            [
             0.5555555555555556,
             "#d8576b"
            ],
            [
             0.6666666666666666,
             "#ed7953"
            ],
            [
             0.7777777777777778,
             "#fb9f3a"
            ],
            [
             0.8888888888888888,
             "#fdca26"
            ],
            [
             1.0,
             "#f0f921"
            ]
           ],
           "sequentialminus": [
            [
             0.0,
             "#0d0887"
            ],
            [
             0.1111111111111111,
             "#46039f"
            ],
            [
             0.2222222222222222,
             "#7201a8"
            ],
            [
             0.3333333333333333,
             "#9c179e"
            ],
            [
             0.4444444444444444,
             "#bd3786"
            ],
            [
             0.5555555555555556,
             "#d8576b"
            ],
            [
             0.6666666666666666,
             "#ed7953"
            ],
            [
             0.7777777777777778,
             "#fb9f3a"
            ],
            [
             0.8888888888888888,
             "#fdca26"
            ],
            [
             1.0,
             "#f0f921"
            ]
           ],
           "diverging": [
            [
             0,
             "#8e0152"
            ],
            [
             0.1,
             "#c51b7d"
            ],
            [
             0.2,
             "#de77ae"
            ],
            [
             0.3,
             "#f1b6da"
            ],
            [
             0.4,
             "#fde0ef"
            ],
            [
             0.5,
             "#f7f7f7"
            ],
            [
             0.6,
             "#e6f5d0"
            ],
            [
             0.7,
             "#b8e186"
            ],
            [
             0.8,
             "#7fbc41"
            ],
            [
             0.9,
             "#4d9221"
            ],
            [
             1,
             "#276419"
            ]
           ]
          },
          "xaxis": {
           "gridcolor": "#283442",
           "linecolor": "#506784",
           "ticks": "",
           "title": {
            "standoff": 15
           },
           "zerolinecolor": "#283442",
           "automargin": true,
           "zerolinewidth": 2
          },
          "yaxis": {
           "gridcolor": "#283442",
           "linecolor": "#506784",
           "ticks": "",
           "title": {
            "standoff": 15
           },
           "zerolinecolor": "#283442",
           "automargin": true,
           "zerolinewidth": 2
          },
          "scene": {
           "xaxis": {
            "backgroundcolor": "rgb(17,17,17)",
            "gridcolor": "#506784",
            "linecolor": "#506784",
            "showbackground": true,
            "ticks": "",
            "zerolinecolor": "#C8D4E3",
            "gridwidth": 2
           },
           "yaxis": {
            "backgroundcolor": "rgb(17,17,17)",
            "gridcolor": "#506784",
            "linecolor": "#506784",
            "showbackground": true,
            "ticks": "",
            "zerolinecolor": "#C8D4E3",
            "gridwidth": 2
           },
           "zaxis": {
            "backgroundcolor": "rgb(17,17,17)",
            "gridcolor": "#506784",
            "linecolor": "#506784",
            "showbackground": true,
            "ticks": "",
            "zerolinecolor": "#C8D4E3",
            "gridwidth": 2
           }
          },
          "shapedefaults": {
           "line": {
            "color": "#f2f5fa"
           }
          },
          "annotationdefaults": {
           "arrowcolor": "#f2f5fa",
           "arrowhead": 0,
           "arrowwidth": 1
          },
          "geo": {
           "bgcolor": "rgb(17,17,17)",
           "landcolor": "rgb(17,17,17)",
           "subunitcolor": "#506784",
           "showland": true,
           "showlakes": true,
           "lakecolor": "rgb(17,17,17)"
          },
          "title": {
           "x": 0.05
          },
          "updatemenudefaults": {
           "bgcolor": "#506784",
           "borderwidth": 0
          },
          "sliderdefaults": {
           "bgcolor": "#C8D4E3",
           "borderwidth": 1,
           "bordercolor": "rgb(17,17,17)",
           "tickwidth": 0
          },
          "mapbox": {
           "style": "dark"
          }
         }
        },
        "legend": {
         "tracegroupgap": 0
        },
        "title": {
         "text": "Education Distribution"
        }
       },
       "config": {
        "plotlyServerURL": "https://plot.ly"
       }
      },
      "text/html": "<div>                            <div id=\"932d1c57-9790-4546-98f1-ab5ffe89047a\" class=\"plotly-graph-div\" style=\"height:525px; width:100%;\"></div>            <script type=\"text/javascript\">                require([\"plotly\"], function(Plotly) {                    window.PLOTLYENV=window.PLOTLYENV || {};                                    if (document.getElementById(\"932d1c57-9790-4546-98f1-ab5ffe89047a\")) {                    Plotly.newPlot(                        \"932d1c57-9790-4546-98f1-ab5ffe89047a\",                        [{\"domain\":{\"x\":[0.0,1.0],\"y\":[0.0,1.0]},\"hovertemplate\":\"label=%{label}\\u003cbr\\u003evalue=%{value}\\u003cextra\\u003e\\u003c\\u002fextra\\u003e\",\"labels\":[\"Graduate\",\"High School\",\"Professional Degree\"],\"legendgroup\":\"\",\"name\":\"\",\"showlegend\":true,\"values\":[2096,1403,1501],\"type\":\"pie\"}],                        {\"template\":{\"data\":{\"histogram2dcontour\":[{\"type\":\"histogram2dcontour\",\"colorbar\":{\"outlinewidth\":0,\"ticks\":\"\"},\"colorscale\":[[0.0,\"#0d0887\"],[0.1111111111111111,\"#46039f\"],[0.2222222222222222,\"#7201a8\"],[0.3333333333333333,\"#9c179e\"],[0.4444444444444444,\"#bd3786\"],[0.5555555555555556,\"#d8576b\"],[0.6666666666666666,\"#ed7953\"],[0.7777777777777778,\"#fb9f3a\"],[0.8888888888888888,\"#fdca26\"],[1.0,\"#f0f921\"]]}],\"choropleth\":[{\"type\":\"choropleth\",\"colorbar\":{\"outlinewidth\":0,\"ticks\":\"\"}}],\"histogram2d\":[{\"type\":\"histogram2d\",\"colorbar\":{\"outlinewidth\":0,\"ticks\":\"\"},\"colorscale\":[[0.0,\"#0d0887\"],[0.1111111111111111,\"#46039f\"],[0.2222222222222222,\"#7201a8\"],[0.3333333333333333,\"#9c179e\"],[0.4444444444444444,\"#bd3786\"],[0.5555555555555556,\"#d8576b\"],[0.6666666666666666,\"#ed7953\"],[0.7777777777777778,\"#fb9f3a\"],[0.8888888888888888,\"#fdca26\"],[1.0,\"#f0f921\"]]}],\"heatmap\":[{\"type\":\"heatmap\",\"colorbar\":{\"outlinewidth\":0,\"ticks\":\"\"},\"colorscale\":[[0.0,\"#0d0887\"],[0.1111111111111111,\"#46039f\"],[0.2222222222222222,\"#7201a8\"],[0.3333333333333333,\"#9c179e\"],[0.4444444444444444,\"#bd3786\"],[0.5555555555555556,\"#d8576b\"],[0.6666666666666666,\"#ed7953\"],[0.7777777777777778,\"#fb9f3a\"],[0.8888888888888888,\"#fdca26\"],[1.0,\"#f0f921\"]]}],\"heatmapgl\":[{\"type\":\"heatmapgl\",\"colorbar\":{\"outlinewidth\":0,\"ticks\":\"\"},\"colorscale\":[[0.0,\"#0d0887\"],[0.1111111111111111,\"#46039f\"],[0.2222222222222222,\"#7201a8\"],[0.3333333333333333,\"#9c179e\"],[0.4444444444444444,\"#bd3786\"],[0.5555555555555556,\"#d8576b\"],[0.6666666666666666,\"#ed7953\"],[0.7777777777777778,\"#fb9f3a\"],[0.8888888888888888,\"#fdca26\"],[1.0,\"#f0f921\"]]}],\"contourcarpet\":[{\"type\":\"contourcarpet\",\"colorbar\":{\"outlinewidth\":0,\"ticks\":\"\"}}],\"contour\":[{\"type\":\"contour\",\"colorbar\":{\"outlinewidth\":0,\"ticks\":\"\"},\"colorscale\":[[0.0,\"#0d0887\"],[0.1111111111111111,\"#46039f\"],[0.2222222222222222,\"#7201a8\"],[0.3333333333333333,\"#9c179e\"],[0.4444444444444444,\"#bd3786\"],[0.5555555555555556,\"#d8576b\"],[0.6666666666666666,\"#ed7953\"],[0.7777777777777778,\"#fb9f3a\"],[0.8888888888888888,\"#fdca26\"],[1.0,\"#f0f921\"]]}],\"surface\":[{\"type\":\"surface\",\"colorbar\":{\"outlinewidth\":0,\"ticks\":\"\"},\"colorscale\":[[0.0,\"#0d0887\"],[0.1111111111111111,\"#46039f\"],[0.2222222222222222,\"#7201a8\"],[0.3333333333333333,\"#9c179e\"],[0.4444444444444444,\"#bd3786\"],[0.5555555555555556,\"#d8576b\"],[0.6666666666666666,\"#ed7953\"],[0.7777777777777778,\"#fb9f3a\"],[0.8888888888888888,\"#fdca26\"],[1.0,\"#f0f921\"]]}],\"mesh3d\":[{\"type\":\"mesh3d\",\"colorbar\":{\"outlinewidth\":0,\"ticks\":\"\"}}],\"scatter\":[{\"marker\":{\"line\":{\"color\":\"#283442\"}},\"type\":\"scatter\"}],\"parcoords\":[{\"type\":\"parcoords\",\"line\":{\"colorbar\":{\"outlinewidth\":0,\"ticks\":\"\"}}}],\"scatterpolargl\":[{\"type\":\"scatterpolargl\",\"marker\":{\"colorbar\":{\"outlinewidth\":0,\"ticks\":\"\"}}}],\"bar\":[{\"error_x\":{\"color\":\"#f2f5fa\"},\"error_y\":{\"color\":\"#f2f5fa\"},\"marker\":{\"line\":{\"color\":\"rgb(17,17,17)\",\"width\":0.5},\"pattern\":{\"fillmode\":\"overlay\",\"size\":10,\"solidity\":0.2}},\"type\":\"bar\"}],\"scattergeo\":[{\"type\":\"scattergeo\",\"marker\":{\"colorbar\":{\"outlinewidth\":0,\"ticks\":\"\"}}}],\"scatterpolar\":[{\"type\":\"scatterpolar\",\"marker\":{\"colorbar\":{\"outlinewidth\":0,\"ticks\":\"\"}}}],\"histogram\":[{\"marker\":{\"pattern\":{\"fillmode\":\"overlay\",\"size\":10,\"solidity\":0.2}},\"type\":\"histogram\"}],\"scattergl\":[{\"marker\":{\"line\":{\"color\":\"#283442\"}},\"type\":\"scattergl\"}],\"scatter3d\":[{\"type\":\"scatter3d\",\"line\":{\"colorbar\":{\"outlinewidth\":0,\"ticks\":\"\"}},\"marker\":{\"colorbar\":{\"outlinewidth\":0,\"ticks\":\"\"}}}],\"scattermapbox\":[{\"type\":\"scattermapbox\",\"marker\":{\"colorbar\":{\"outlinewidth\":0,\"ticks\":\"\"}}}],\"scatterternary\":[{\"type\":\"scatterternary\",\"marker\":{\"colorbar\":{\"outlinewidth\":0,\"ticks\":\"\"}}}],\"scattercarpet\":[{\"type\":\"scattercarpet\",\"marker\":{\"colorbar\":{\"outlinewidth\":0,\"ticks\":\"\"}}}],\"carpet\":[{\"aaxis\":{\"endlinecolor\":\"#A2B1C6\",\"gridcolor\":\"#506784\",\"linecolor\":\"#506784\",\"minorgridcolor\":\"#506784\",\"startlinecolor\":\"#A2B1C6\"},\"baxis\":{\"endlinecolor\":\"#A2B1C6\",\"gridcolor\":\"#506784\",\"linecolor\":\"#506784\",\"minorgridcolor\":\"#506784\",\"startlinecolor\":\"#A2B1C6\"},\"type\":\"carpet\"}],\"table\":[{\"cells\":{\"fill\":{\"color\":\"#506784\"},\"line\":{\"color\":\"rgb(17,17,17)\"}},\"header\":{\"fill\":{\"color\":\"#2a3f5f\"},\"line\":{\"color\":\"rgb(17,17,17)\"}},\"type\":\"table\"}],\"barpolar\":[{\"marker\":{\"line\":{\"color\":\"rgb(17,17,17)\",\"width\":0.5},\"pattern\":{\"fillmode\":\"overlay\",\"size\":10,\"solidity\":0.2}},\"type\":\"barpolar\"}],\"pie\":[{\"automargin\":true,\"type\":\"pie\"}]},\"layout\":{\"autotypenumbers\":\"strict\",\"colorway\":[\"#636efa\",\"#EF553B\",\"#00cc96\",\"#ab63fa\",\"#FFA15A\",\"#19d3f3\",\"#FF6692\",\"#B6E880\",\"#FF97FF\",\"#FECB52\"],\"font\":{\"color\":\"#f2f5fa\"},\"hovermode\":\"closest\",\"hoverlabel\":{\"align\":\"left\"},\"paper_bgcolor\":\"rgb(17,17,17)\",\"plot_bgcolor\":\"rgb(17,17,17)\",\"polar\":{\"bgcolor\":\"rgb(17,17,17)\",\"angularaxis\":{\"gridcolor\":\"#506784\",\"linecolor\":\"#506784\",\"ticks\":\"\"},\"radialaxis\":{\"gridcolor\":\"#506784\",\"linecolor\":\"#506784\",\"ticks\":\"\"}},\"ternary\":{\"bgcolor\":\"rgb(17,17,17)\",\"aaxis\":{\"gridcolor\":\"#506784\",\"linecolor\":\"#506784\",\"ticks\":\"\"},\"baxis\":{\"gridcolor\":\"#506784\",\"linecolor\":\"#506784\",\"ticks\":\"\"},\"caxis\":{\"gridcolor\":\"#506784\",\"linecolor\":\"#506784\",\"ticks\":\"\"}},\"coloraxis\":{\"colorbar\":{\"outlinewidth\":0,\"ticks\":\"\"}},\"colorscale\":{\"sequential\":[[0.0,\"#0d0887\"],[0.1111111111111111,\"#46039f\"],[0.2222222222222222,\"#7201a8\"],[0.3333333333333333,\"#9c179e\"],[0.4444444444444444,\"#bd3786\"],[0.5555555555555556,\"#d8576b\"],[0.6666666666666666,\"#ed7953\"],[0.7777777777777778,\"#fb9f3a\"],[0.8888888888888888,\"#fdca26\"],[1.0,\"#f0f921\"]],\"sequentialminus\":[[0.0,\"#0d0887\"],[0.1111111111111111,\"#46039f\"],[0.2222222222222222,\"#7201a8\"],[0.3333333333333333,\"#9c179e\"],[0.4444444444444444,\"#bd3786\"],[0.5555555555555556,\"#d8576b\"],[0.6666666666666666,\"#ed7953\"],[0.7777777777777778,\"#fb9f3a\"],[0.8888888888888888,\"#fdca26\"],[1.0,\"#f0f921\"]],\"diverging\":[[0,\"#8e0152\"],[0.1,\"#c51b7d\"],[0.2,\"#de77ae\"],[0.3,\"#f1b6da\"],[0.4,\"#fde0ef\"],[0.5,\"#f7f7f7\"],[0.6,\"#e6f5d0\"],[0.7,\"#b8e186\"],[0.8,\"#7fbc41\"],[0.9,\"#4d9221\"],[1,\"#276419\"]]},\"xaxis\":{\"gridcolor\":\"#283442\",\"linecolor\":\"#506784\",\"ticks\":\"\",\"title\":{\"standoff\":15},\"zerolinecolor\":\"#283442\",\"automargin\":true,\"zerolinewidth\":2},\"yaxis\":{\"gridcolor\":\"#283442\",\"linecolor\":\"#506784\",\"ticks\":\"\",\"title\":{\"standoff\":15},\"zerolinecolor\":\"#283442\",\"automargin\":true,\"zerolinewidth\":2},\"scene\":{\"xaxis\":{\"backgroundcolor\":\"rgb(17,17,17)\",\"gridcolor\":\"#506784\",\"linecolor\":\"#506784\",\"showbackground\":true,\"ticks\":\"\",\"zerolinecolor\":\"#C8D4E3\",\"gridwidth\":2},\"yaxis\":{\"backgroundcolor\":\"rgb(17,17,17)\",\"gridcolor\":\"#506784\",\"linecolor\":\"#506784\",\"showbackground\":true,\"ticks\":\"\",\"zerolinecolor\":\"#C8D4E3\",\"gridwidth\":2},\"zaxis\":{\"backgroundcolor\":\"rgb(17,17,17)\",\"gridcolor\":\"#506784\",\"linecolor\":\"#506784\",\"showbackground\":true,\"ticks\":\"\",\"zerolinecolor\":\"#C8D4E3\",\"gridwidth\":2}},\"shapedefaults\":{\"line\":{\"color\":\"#f2f5fa\"}},\"annotationdefaults\":{\"arrowcolor\":\"#f2f5fa\",\"arrowhead\":0,\"arrowwidth\":1},\"geo\":{\"bgcolor\":\"rgb(17,17,17)\",\"landcolor\":\"rgb(17,17,17)\",\"subunitcolor\":\"#506784\",\"showland\":true,\"showlakes\":true,\"lakecolor\":\"rgb(17,17,17)\"},\"title\":{\"x\":0.05},\"updatemenudefaults\":{\"bgcolor\":\"#506784\",\"borderwidth\":0},\"sliderdefaults\":{\"bgcolor\":\"#C8D4E3\",\"borderwidth\":1,\"bordercolor\":\"rgb(17,17,17)\",\"tickwidth\":0},\"mapbox\":{\"style\":\"dark\"}}},\"legend\":{\"tracegroupgap\":0},\"title\":{\"text\":\"Education Distribution\"}},                        {\"responsive\": true}                    ).then(function(){\n                            \nvar gd = document.getElementById('932d1c57-9790-4546-98f1-ab5ffe89047a');\nvar x = new MutationObserver(function (mutations, observer) {{\n        var display = window.getComputedStyle(gd).display;\n        if (!display || display === 'none') {{\n            console.log([gd, 'removed!']);\n            Plotly.purge(gd);\n            observer.disconnect();\n        }}\n}});\n\n// Listen for the removal of the full notebook cells\nvar notebookContainer = gd.closest('#notebook-container');\nif (notebookContainer) {{\n    x.observe(notebookContainer, {childList: true});\n}}\n\n// Listen for the clearing of the current output cell\nvar outputEl = gd.closest('.output');\nif (outputEl) {{\n    x.observe(outputEl, {childList: true});\n}}\n\n                        })                };                });            </script>        </div>"
     },
     "metadata": {},
     "output_type": "display_data"
    }
   ],
   "source": [
    "a = pd.cut(data['Education'], bins=3)\n",
    "counts = a.value_counts().sort_index()\n",
    "legend_names = ['Graduate', 'High School', 'Professional Degree']\n",
    "fig = px.pie(names=legend_names, values=counts.values, title='Education Distribution')\n",
    "fig.show()"
   ],
   "metadata": {
    "collapsed": false,
    "ExecuteTime": {
     "end_time": "2024-03-17T06:40:07.206951Z",
     "start_time": "2024-03-17T06:40:07.170426Z"
    }
   },
   "id": "ec11325f818c4165",
   "execution_count": 68
  },
  {
   "cell_type": "code",
   "outputs": [
    {
     "data": {
      "application/vnd.plotly.v1+json": {
       "data": [
        {
         "alignmentgroup": "True",
         "hovertemplate": "color=No<br>x=%{x}<br>y=%{y}<extra></extra>",
         "legendgroup": "No",
         "marker": {
          "color": "#636efa",
          "pattern": {
           "shape": ""
          }
         },
         "name": "No",
         "offsetgroup": "No",
         "orientation": "v",
         "showlegend": true,
         "textposition": "auto",
         "texttemplate": "%{y}",
         "x": [
          "No"
         ],
         "xaxis": "x",
         "y": [
          4520
         ],
         "yaxis": "y",
         "type": "bar"
        },
        {
         "alignmentgroup": "True",
         "hovertemplate": "color=Yes<br>x=%{x}<br>y=%{y}<extra></extra>",
         "legendgroup": "Yes",
         "marker": {
          "color": "#EF553B",
          "pattern": {
           "shape": ""
          }
         },
         "name": "Yes",
         "offsetgroup": "Yes",
         "orientation": "v",
         "showlegend": true,
         "textposition": "auto",
         "texttemplate": "%{y}",
         "x": [
          "Yes"
         ],
         "xaxis": "x",
         "y": [
          480
         ],
         "yaxis": "y",
         "type": "bar"
        }
       ],
       "layout": {
        "template": {
         "data": {
          "histogram2dcontour": [
           {
            "type": "histogram2dcontour",
            "colorbar": {
             "outlinewidth": 0,
             "ticks": ""
            },
            "colorscale": [
             [
              0.0,
              "#0d0887"
             ],
             [
              0.1111111111111111,
              "#46039f"
             ],
             [
              0.2222222222222222,
              "#7201a8"
             ],
             [
              0.3333333333333333,
              "#9c179e"
             ],
             [
              0.4444444444444444,
              "#bd3786"
             ],
             [
              0.5555555555555556,
              "#d8576b"
             ],
             [
              0.6666666666666666,
              "#ed7953"
             ],
             [
              0.7777777777777778,
              "#fb9f3a"
             ],
             [
              0.8888888888888888,
              "#fdca26"
             ],
             [
              1.0,
              "#f0f921"
             ]
            ]
           }
          ],
          "choropleth": [
           {
            "type": "choropleth",
            "colorbar": {
             "outlinewidth": 0,
             "ticks": ""
            }
           }
          ],
          "histogram2d": [
           {
            "type": "histogram2d",
            "colorbar": {
             "outlinewidth": 0,
             "ticks": ""
            },
            "colorscale": [
             [
              0.0,
              "#0d0887"
             ],
             [
              0.1111111111111111,
              "#46039f"
             ],
             [
              0.2222222222222222,
              "#7201a8"
             ],
             [
              0.3333333333333333,
              "#9c179e"
             ],
             [
              0.4444444444444444,
              "#bd3786"
             ],
             [
              0.5555555555555556,
              "#d8576b"
             ],
             [
              0.6666666666666666,
              "#ed7953"
             ],
             [
              0.7777777777777778,
              "#fb9f3a"
             ],
             [
              0.8888888888888888,
              "#fdca26"
             ],
             [
              1.0,
              "#f0f921"
             ]
            ]
           }
          ],
          "heatmap": [
           {
            "type": "heatmap",
            "colorbar": {
             "outlinewidth": 0,
             "ticks": ""
            },
            "colorscale": [
             [
              0.0,
              "#0d0887"
             ],
             [
              0.1111111111111111,
              "#46039f"
             ],
             [
              0.2222222222222222,
              "#7201a8"
             ],
             [
              0.3333333333333333,
              "#9c179e"
             ],
             [
              0.4444444444444444,
              "#bd3786"
             ],
             [
              0.5555555555555556,
              "#d8576b"
             ],
             [
              0.6666666666666666,
              "#ed7953"
             ],
             [
              0.7777777777777778,
              "#fb9f3a"
             ],
             [
              0.8888888888888888,
              "#fdca26"
             ],
             [
              1.0,
              "#f0f921"
             ]
            ]
           }
          ],
          "heatmapgl": [
           {
            "type": "heatmapgl",
            "colorbar": {
             "outlinewidth": 0,
             "ticks": ""
            },
            "colorscale": [
             [
              0.0,
              "#0d0887"
             ],
             [
              0.1111111111111111,
              "#46039f"
             ],
             [
              0.2222222222222222,
              "#7201a8"
             ],
             [
              0.3333333333333333,
              "#9c179e"
             ],
             [
              0.4444444444444444,
              "#bd3786"
             ],
             [
              0.5555555555555556,
              "#d8576b"
             ],
             [
              0.6666666666666666,
              "#ed7953"
             ],
             [
              0.7777777777777778,
              "#fb9f3a"
             ],
             [
              0.8888888888888888,
              "#fdca26"
             ],
             [
              1.0,
              "#f0f921"
             ]
            ]
           }
          ],
          "contourcarpet": [
           {
            "type": "contourcarpet",
            "colorbar": {
             "outlinewidth": 0,
             "ticks": ""
            }
           }
          ],
          "contour": [
           {
            "type": "contour",
            "colorbar": {
             "outlinewidth": 0,
             "ticks": ""
            },
            "colorscale": [
             [
              0.0,
              "#0d0887"
             ],
             [
              0.1111111111111111,
              "#46039f"
             ],
             [
              0.2222222222222222,
              "#7201a8"
             ],
             [
              0.3333333333333333,
              "#9c179e"
             ],
             [
              0.4444444444444444,
              "#bd3786"
             ],
             [
              0.5555555555555556,
              "#d8576b"
             ],
             [
              0.6666666666666666,
              "#ed7953"
             ],
             [
              0.7777777777777778,
              "#fb9f3a"
             ],
             [
              0.8888888888888888,
              "#fdca26"
             ],
             [
              1.0,
              "#f0f921"
             ]
            ]
           }
          ],
          "surface": [
           {
            "type": "surface",
            "colorbar": {
             "outlinewidth": 0,
             "ticks": ""
            },
            "colorscale": [
             [
              0.0,
              "#0d0887"
             ],
             [
              0.1111111111111111,
              "#46039f"
             ],
             [
              0.2222222222222222,
              "#7201a8"
             ],
             [
              0.3333333333333333,
              "#9c179e"
             ],
             [
              0.4444444444444444,
              "#bd3786"
             ],
             [
              0.5555555555555556,
              "#d8576b"
             ],
             [
              0.6666666666666666,
              "#ed7953"
             ],
             [
              0.7777777777777778,
              "#fb9f3a"
             ],
             [
              0.8888888888888888,
              "#fdca26"
             ],
             [
              1.0,
              "#f0f921"
             ]
            ]
           }
          ],
          "mesh3d": [
           {
            "type": "mesh3d",
            "colorbar": {
             "outlinewidth": 0,
             "ticks": ""
            }
           }
          ],
          "scatter": [
           {
            "marker": {
             "line": {
              "color": "#283442"
             }
            },
            "type": "scatter"
           }
          ],
          "parcoords": [
           {
            "type": "parcoords",
            "line": {
             "colorbar": {
              "outlinewidth": 0,
              "ticks": ""
             }
            }
           }
          ],
          "scatterpolargl": [
           {
            "type": "scatterpolargl",
            "marker": {
             "colorbar": {
              "outlinewidth": 0,
              "ticks": ""
             }
            }
           }
          ],
          "bar": [
           {
            "error_x": {
             "color": "#f2f5fa"
            },
            "error_y": {
             "color": "#f2f5fa"
            },
            "marker": {
             "line": {
              "color": "rgb(17,17,17)",
              "width": 0.5
             },
             "pattern": {
              "fillmode": "overlay",
              "size": 10,
              "solidity": 0.2
             }
            },
            "type": "bar"
           }
          ],
          "scattergeo": [
           {
            "type": "scattergeo",
            "marker": {
             "colorbar": {
              "outlinewidth": 0,
              "ticks": ""
             }
            }
           }
          ],
          "scatterpolar": [
           {
            "type": "scatterpolar",
            "marker": {
             "colorbar": {
              "outlinewidth": 0,
              "ticks": ""
             }
            }
           }
          ],
          "histogram": [
           {
            "marker": {
             "pattern": {
              "fillmode": "overlay",
              "size": 10,
              "solidity": 0.2
             }
            },
            "type": "histogram"
           }
          ],
          "scattergl": [
           {
            "marker": {
             "line": {
              "color": "#283442"
             }
            },
            "type": "scattergl"
           }
          ],
          "scatter3d": [
           {
            "type": "scatter3d",
            "line": {
             "colorbar": {
              "outlinewidth": 0,
              "ticks": ""
             }
            },
            "marker": {
             "colorbar": {
              "outlinewidth": 0,
              "ticks": ""
             }
            }
           }
          ],
          "scattermapbox": [
           {
            "type": "scattermapbox",
            "marker": {
             "colorbar": {
              "outlinewidth": 0,
              "ticks": ""
             }
            }
           }
          ],
          "scatterternary": [
           {
            "type": "scatterternary",
            "marker": {
             "colorbar": {
              "outlinewidth": 0,
              "ticks": ""
             }
            }
           }
          ],
          "scattercarpet": [
           {
            "type": "scattercarpet",
            "marker": {
             "colorbar": {
              "outlinewidth": 0,
              "ticks": ""
             }
            }
           }
          ],
          "carpet": [
           {
            "aaxis": {
             "endlinecolor": "#A2B1C6",
             "gridcolor": "#506784",
             "linecolor": "#506784",
             "minorgridcolor": "#506784",
             "startlinecolor": "#A2B1C6"
            },
            "baxis": {
             "endlinecolor": "#A2B1C6",
             "gridcolor": "#506784",
             "linecolor": "#506784",
             "minorgridcolor": "#506784",
             "startlinecolor": "#A2B1C6"
            },
            "type": "carpet"
           }
          ],
          "table": [
           {
            "cells": {
             "fill": {
              "color": "#506784"
             },
             "line": {
              "color": "rgb(17,17,17)"
             }
            },
            "header": {
             "fill": {
              "color": "#2a3f5f"
             },
             "line": {
              "color": "rgb(17,17,17)"
             }
            },
            "type": "table"
           }
          ],
          "barpolar": [
           {
            "marker": {
             "line": {
              "color": "rgb(17,17,17)",
              "width": 0.5
             },
             "pattern": {
              "fillmode": "overlay",
              "size": 10,
              "solidity": 0.2
             }
            },
            "type": "barpolar"
           }
          ],
          "pie": [
           {
            "automargin": true,
            "type": "pie"
           }
          ]
         },
         "layout": {
          "autotypenumbers": "strict",
          "colorway": [
           "#636efa",
           "#EF553B",
           "#00cc96",
           "#ab63fa",
           "#FFA15A",
           "#19d3f3",
           "#FF6692",
           "#B6E880",
           "#FF97FF",
           "#FECB52"
          ],
          "font": {
           "color": "#f2f5fa"
          },
          "hovermode": "closest",
          "hoverlabel": {
           "align": "left"
          },
          "paper_bgcolor": "rgb(17,17,17)",
          "plot_bgcolor": "rgb(17,17,17)",
          "polar": {
           "bgcolor": "rgb(17,17,17)",
           "angularaxis": {
            "gridcolor": "#506784",
            "linecolor": "#506784",
            "ticks": ""
           },
           "radialaxis": {
            "gridcolor": "#506784",
            "linecolor": "#506784",
            "ticks": ""
           }
          },
          "ternary": {
           "bgcolor": "rgb(17,17,17)",
           "aaxis": {
            "gridcolor": "#506784",
            "linecolor": "#506784",
            "ticks": ""
           },
           "baxis": {
            "gridcolor": "#506784",
            "linecolor": "#506784",
            "ticks": ""
           },
           "caxis": {
            "gridcolor": "#506784",
            "linecolor": "#506784",
            "ticks": ""
           }
          },
          "coloraxis": {
           "colorbar": {
            "outlinewidth": 0,
            "ticks": ""
           }
          },
          "colorscale": {
           "sequential": [
            [
             0.0,
             "#0d0887"
            ],
            [
             0.1111111111111111,
             "#46039f"
            ],
            [
             0.2222222222222222,
             "#7201a8"
            ],
            [
             0.3333333333333333,
             "#9c179e"
            ],
            [
             0.4444444444444444,
             "#bd3786"
            ],
            [
             0.5555555555555556,
             "#d8576b"
            ],
            [
             0.6666666666666666,
             "#ed7953"
            ],
            [
             0.7777777777777778,
             "#fb9f3a"
            ],
            [
             0.8888888888888888,
             "#fdca26"
            ],
            [
             1.0,
             "#f0f921"
            ]
           ],
           "sequentialminus": [
            [
             0.0,
             "#0d0887"
            ],
            [
             0.1111111111111111,
             "#46039f"
            ],
            [
             0.2222222222222222,
             "#7201a8"
            ],
            [
             0.3333333333333333,
             "#9c179e"
            ],
            [
             0.4444444444444444,
             "#bd3786"
            ],
            [
             0.5555555555555556,
             "#d8576b"
            ],
            [
             0.6666666666666666,
             "#ed7953"
            ],
            [
             0.7777777777777778,
             "#fb9f3a"
            ],
            [
             0.8888888888888888,
             "#fdca26"
            ],
            [
             1.0,
             "#f0f921"
            ]
           ],
           "diverging": [
            [
             0,
             "#8e0152"
            ],
            [
             0.1,
             "#c51b7d"
            ],
            [
             0.2,
             "#de77ae"
            ],
            [
             0.3,
             "#f1b6da"
            ],
            [
             0.4,
             "#fde0ef"
            ],
            [
             0.5,
             "#f7f7f7"
            ],
            [
             0.6,
             "#e6f5d0"
            ],
            [
             0.7,
             "#b8e186"
            ],
            [
             0.8,
             "#7fbc41"
            ],
            [
             0.9,
             "#4d9221"
            ],
            [
             1,
             "#276419"
            ]
           ]
          },
          "xaxis": {
           "gridcolor": "#283442",
           "linecolor": "#506784",
           "ticks": "",
           "title": {
            "standoff": 15
           },
           "zerolinecolor": "#283442",
           "automargin": true,
           "zerolinewidth": 2
          },
          "yaxis": {
           "gridcolor": "#283442",
           "linecolor": "#506784",
           "ticks": "",
           "title": {
            "standoff": 15
           },
           "zerolinecolor": "#283442",
           "automargin": true,
           "zerolinewidth": 2
          },
          "scene": {
           "xaxis": {
            "backgroundcolor": "rgb(17,17,17)",
            "gridcolor": "#506784",
            "linecolor": "#506784",
            "showbackground": true,
            "ticks": "",
            "zerolinecolor": "#C8D4E3",
            "gridwidth": 2
           },
           "yaxis": {
            "backgroundcolor": "rgb(17,17,17)",
            "gridcolor": "#506784",
            "linecolor": "#506784",
            "showbackground": true,
            "ticks": "",
            "zerolinecolor": "#C8D4E3",
            "gridwidth": 2
           },
           "zaxis": {
            "backgroundcolor": "rgb(17,17,17)",
            "gridcolor": "#506784",
            "linecolor": "#506784",
            "showbackground": true,
            "ticks": "",
            "zerolinecolor": "#C8D4E3",
            "gridwidth": 2
           }
          },
          "shapedefaults": {
           "line": {
            "color": "#f2f5fa"
           }
          },
          "annotationdefaults": {
           "arrowcolor": "#f2f5fa",
           "arrowhead": 0,
           "arrowwidth": 1
          },
          "geo": {
           "bgcolor": "rgb(17,17,17)",
           "landcolor": "rgb(17,17,17)",
           "subunitcolor": "#506784",
           "showland": true,
           "showlakes": true,
           "lakecolor": "rgb(17,17,17)"
          },
          "title": {
           "x": 0.05
          },
          "updatemenudefaults": {
           "bgcolor": "#506784",
           "borderwidth": 0
          },
          "sliderdefaults": {
           "bgcolor": "#C8D4E3",
           "borderwidth": 1,
           "bordercolor": "rgb(17,17,17)",
           "tickwidth": 0
          },
          "mapbox": {
           "style": "dark"
          }
         }
        },
        "xaxis": {
         "anchor": "y",
         "domain": [
          0.0,
          1.0
         ],
         "title": {
          "text": "Personal Loan"
         }
        },
        "yaxis": {
         "anchor": "x",
         "domain": [
          0.0,
          1.0
         ],
         "title": {
          "text": "Counts"
         }
        },
        "legend": {
         "title": {
          "text": "color"
         },
         "tracegroupgap": 0
        },
        "title": {
         "text": "Presence of Personal Loans"
        },
        "barmode": "relative"
       },
       "config": {
        "plotlyServerURL": "https://plot.ly"
       }
      },
      "text/html": "<div>                            <div id=\"20e72f6c-c745-426a-9571-8421f83ae264\" class=\"plotly-graph-div\" style=\"height:525px; width:100%;\"></div>            <script type=\"text/javascript\">                require([\"plotly\"], function(Plotly) {                    window.PLOTLYENV=window.PLOTLYENV || {};                                    if (document.getElementById(\"20e72f6c-c745-426a-9571-8421f83ae264\")) {                    Plotly.newPlot(                        \"20e72f6c-c745-426a-9571-8421f83ae264\",                        [{\"alignmentgroup\":\"True\",\"hovertemplate\":\"color=No\\u003cbr\\u003ex=%{x}\\u003cbr\\u003ey=%{y}\\u003cextra\\u003e\\u003c\\u002fextra\\u003e\",\"legendgroup\":\"No\",\"marker\":{\"color\":\"#636efa\",\"pattern\":{\"shape\":\"\"}},\"name\":\"No\",\"offsetgroup\":\"No\",\"orientation\":\"v\",\"showlegend\":true,\"textposition\":\"auto\",\"texttemplate\":\"%{y}\",\"x\":[\"No\"],\"xaxis\":\"x\",\"y\":[4520],\"yaxis\":\"y\",\"type\":\"bar\"},{\"alignmentgroup\":\"True\",\"hovertemplate\":\"color=Yes\\u003cbr\\u003ex=%{x}\\u003cbr\\u003ey=%{y}\\u003cextra\\u003e\\u003c\\u002fextra\\u003e\",\"legendgroup\":\"Yes\",\"marker\":{\"color\":\"#EF553B\",\"pattern\":{\"shape\":\"\"}},\"name\":\"Yes\",\"offsetgroup\":\"Yes\",\"orientation\":\"v\",\"showlegend\":true,\"textposition\":\"auto\",\"texttemplate\":\"%{y}\",\"x\":[\"Yes\"],\"xaxis\":\"x\",\"y\":[480],\"yaxis\":\"y\",\"type\":\"bar\"}],                        {\"template\":{\"data\":{\"histogram2dcontour\":[{\"type\":\"histogram2dcontour\",\"colorbar\":{\"outlinewidth\":0,\"ticks\":\"\"},\"colorscale\":[[0.0,\"#0d0887\"],[0.1111111111111111,\"#46039f\"],[0.2222222222222222,\"#7201a8\"],[0.3333333333333333,\"#9c179e\"],[0.4444444444444444,\"#bd3786\"],[0.5555555555555556,\"#d8576b\"],[0.6666666666666666,\"#ed7953\"],[0.7777777777777778,\"#fb9f3a\"],[0.8888888888888888,\"#fdca26\"],[1.0,\"#f0f921\"]]}],\"choropleth\":[{\"type\":\"choropleth\",\"colorbar\":{\"outlinewidth\":0,\"ticks\":\"\"}}],\"histogram2d\":[{\"type\":\"histogram2d\",\"colorbar\":{\"outlinewidth\":0,\"ticks\":\"\"},\"colorscale\":[[0.0,\"#0d0887\"],[0.1111111111111111,\"#46039f\"],[0.2222222222222222,\"#7201a8\"],[0.3333333333333333,\"#9c179e\"],[0.4444444444444444,\"#bd3786\"],[0.5555555555555556,\"#d8576b\"],[0.6666666666666666,\"#ed7953\"],[0.7777777777777778,\"#fb9f3a\"],[0.8888888888888888,\"#fdca26\"],[1.0,\"#f0f921\"]]}],\"heatmap\":[{\"type\":\"heatmap\",\"colorbar\":{\"outlinewidth\":0,\"ticks\":\"\"},\"colorscale\":[[0.0,\"#0d0887\"],[0.1111111111111111,\"#46039f\"],[0.2222222222222222,\"#7201a8\"],[0.3333333333333333,\"#9c179e\"],[0.4444444444444444,\"#bd3786\"],[0.5555555555555556,\"#d8576b\"],[0.6666666666666666,\"#ed7953\"],[0.7777777777777778,\"#fb9f3a\"],[0.8888888888888888,\"#fdca26\"],[1.0,\"#f0f921\"]]}],\"heatmapgl\":[{\"type\":\"heatmapgl\",\"colorbar\":{\"outlinewidth\":0,\"ticks\":\"\"},\"colorscale\":[[0.0,\"#0d0887\"],[0.1111111111111111,\"#46039f\"],[0.2222222222222222,\"#7201a8\"],[0.3333333333333333,\"#9c179e\"],[0.4444444444444444,\"#bd3786\"],[0.5555555555555556,\"#d8576b\"],[0.6666666666666666,\"#ed7953\"],[0.7777777777777778,\"#fb9f3a\"],[0.8888888888888888,\"#fdca26\"],[1.0,\"#f0f921\"]]}],\"contourcarpet\":[{\"type\":\"contourcarpet\",\"colorbar\":{\"outlinewidth\":0,\"ticks\":\"\"}}],\"contour\":[{\"type\":\"contour\",\"colorbar\":{\"outlinewidth\":0,\"ticks\":\"\"},\"colorscale\":[[0.0,\"#0d0887\"],[0.1111111111111111,\"#46039f\"],[0.2222222222222222,\"#7201a8\"],[0.3333333333333333,\"#9c179e\"],[0.4444444444444444,\"#bd3786\"],[0.5555555555555556,\"#d8576b\"],[0.6666666666666666,\"#ed7953\"],[0.7777777777777778,\"#fb9f3a\"],[0.8888888888888888,\"#fdca26\"],[1.0,\"#f0f921\"]]}],\"surface\":[{\"type\":\"surface\",\"colorbar\":{\"outlinewidth\":0,\"ticks\":\"\"},\"colorscale\":[[0.0,\"#0d0887\"],[0.1111111111111111,\"#46039f\"],[0.2222222222222222,\"#7201a8\"],[0.3333333333333333,\"#9c179e\"],[0.4444444444444444,\"#bd3786\"],[0.5555555555555556,\"#d8576b\"],[0.6666666666666666,\"#ed7953\"],[0.7777777777777778,\"#fb9f3a\"],[0.8888888888888888,\"#fdca26\"],[1.0,\"#f0f921\"]]}],\"mesh3d\":[{\"type\":\"mesh3d\",\"colorbar\":{\"outlinewidth\":0,\"ticks\":\"\"}}],\"scatter\":[{\"marker\":{\"line\":{\"color\":\"#283442\"}},\"type\":\"scatter\"}],\"parcoords\":[{\"type\":\"parcoords\",\"line\":{\"colorbar\":{\"outlinewidth\":0,\"ticks\":\"\"}}}],\"scatterpolargl\":[{\"type\":\"scatterpolargl\",\"marker\":{\"colorbar\":{\"outlinewidth\":0,\"ticks\":\"\"}}}],\"bar\":[{\"error_x\":{\"color\":\"#f2f5fa\"},\"error_y\":{\"color\":\"#f2f5fa\"},\"marker\":{\"line\":{\"color\":\"rgb(17,17,17)\",\"width\":0.5},\"pattern\":{\"fillmode\":\"overlay\",\"size\":10,\"solidity\":0.2}},\"type\":\"bar\"}],\"scattergeo\":[{\"type\":\"scattergeo\",\"marker\":{\"colorbar\":{\"outlinewidth\":0,\"ticks\":\"\"}}}],\"scatterpolar\":[{\"type\":\"scatterpolar\",\"marker\":{\"colorbar\":{\"outlinewidth\":0,\"ticks\":\"\"}}}],\"histogram\":[{\"marker\":{\"pattern\":{\"fillmode\":\"overlay\",\"size\":10,\"solidity\":0.2}},\"type\":\"histogram\"}],\"scattergl\":[{\"marker\":{\"line\":{\"color\":\"#283442\"}},\"type\":\"scattergl\"}],\"scatter3d\":[{\"type\":\"scatter3d\",\"line\":{\"colorbar\":{\"outlinewidth\":0,\"ticks\":\"\"}},\"marker\":{\"colorbar\":{\"outlinewidth\":0,\"ticks\":\"\"}}}],\"scattermapbox\":[{\"type\":\"scattermapbox\",\"marker\":{\"colorbar\":{\"outlinewidth\":0,\"ticks\":\"\"}}}],\"scatterternary\":[{\"type\":\"scatterternary\",\"marker\":{\"colorbar\":{\"outlinewidth\":0,\"ticks\":\"\"}}}],\"scattercarpet\":[{\"type\":\"scattercarpet\",\"marker\":{\"colorbar\":{\"outlinewidth\":0,\"ticks\":\"\"}}}],\"carpet\":[{\"aaxis\":{\"endlinecolor\":\"#A2B1C6\",\"gridcolor\":\"#506784\",\"linecolor\":\"#506784\",\"minorgridcolor\":\"#506784\",\"startlinecolor\":\"#A2B1C6\"},\"baxis\":{\"endlinecolor\":\"#A2B1C6\",\"gridcolor\":\"#506784\",\"linecolor\":\"#506784\",\"minorgridcolor\":\"#506784\",\"startlinecolor\":\"#A2B1C6\"},\"type\":\"carpet\"}],\"table\":[{\"cells\":{\"fill\":{\"color\":\"#506784\"},\"line\":{\"color\":\"rgb(17,17,17)\"}},\"header\":{\"fill\":{\"color\":\"#2a3f5f\"},\"line\":{\"color\":\"rgb(17,17,17)\"}},\"type\":\"table\"}],\"barpolar\":[{\"marker\":{\"line\":{\"color\":\"rgb(17,17,17)\",\"width\":0.5},\"pattern\":{\"fillmode\":\"overlay\",\"size\":10,\"solidity\":0.2}},\"type\":\"barpolar\"}],\"pie\":[{\"automargin\":true,\"type\":\"pie\"}]},\"layout\":{\"autotypenumbers\":\"strict\",\"colorway\":[\"#636efa\",\"#EF553B\",\"#00cc96\",\"#ab63fa\",\"#FFA15A\",\"#19d3f3\",\"#FF6692\",\"#B6E880\",\"#FF97FF\",\"#FECB52\"],\"font\":{\"color\":\"#f2f5fa\"},\"hovermode\":\"closest\",\"hoverlabel\":{\"align\":\"left\"},\"paper_bgcolor\":\"rgb(17,17,17)\",\"plot_bgcolor\":\"rgb(17,17,17)\",\"polar\":{\"bgcolor\":\"rgb(17,17,17)\",\"angularaxis\":{\"gridcolor\":\"#506784\",\"linecolor\":\"#506784\",\"ticks\":\"\"},\"radialaxis\":{\"gridcolor\":\"#506784\",\"linecolor\":\"#506784\",\"ticks\":\"\"}},\"ternary\":{\"bgcolor\":\"rgb(17,17,17)\",\"aaxis\":{\"gridcolor\":\"#506784\",\"linecolor\":\"#506784\",\"ticks\":\"\"},\"baxis\":{\"gridcolor\":\"#506784\",\"linecolor\":\"#506784\",\"ticks\":\"\"},\"caxis\":{\"gridcolor\":\"#506784\",\"linecolor\":\"#506784\",\"ticks\":\"\"}},\"coloraxis\":{\"colorbar\":{\"outlinewidth\":0,\"ticks\":\"\"}},\"colorscale\":{\"sequential\":[[0.0,\"#0d0887\"],[0.1111111111111111,\"#46039f\"],[0.2222222222222222,\"#7201a8\"],[0.3333333333333333,\"#9c179e\"],[0.4444444444444444,\"#bd3786\"],[0.5555555555555556,\"#d8576b\"],[0.6666666666666666,\"#ed7953\"],[0.7777777777777778,\"#fb9f3a\"],[0.8888888888888888,\"#fdca26\"],[1.0,\"#f0f921\"]],\"sequentialminus\":[[0.0,\"#0d0887\"],[0.1111111111111111,\"#46039f\"],[0.2222222222222222,\"#7201a8\"],[0.3333333333333333,\"#9c179e\"],[0.4444444444444444,\"#bd3786\"],[0.5555555555555556,\"#d8576b\"],[0.6666666666666666,\"#ed7953\"],[0.7777777777777778,\"#fb9f3a\"],[0.8888888888888888,\"#fdca26\"],[1.0,\"#f0f921\"]],\"diverging\":[[0,\"#8e0152\"],[0.1,\"#c51b7d\"],[0.2,\"#de77ae\"],[0.3,\"#f1b6da\"],[0.4,\"#fde0ef\"],[0.5,\"#f7f7f7\"],[0.6,\"#e6f5d0\"],[0.7,\"#b8e186\"],[0.8,\"#7fbc41\"],[0.9,\"#4d9221\"],[1,\"#276419\"]]},\"xaxis\":{\"gridcolor\":\"#283442\",\"linecolor\":\"#506784\",\"ticks\":\"\",\"title\":{\"standoff\":15},\"zerolinecolor\":\"#283442\",\"automargin\":true,\"zerolinewidth\":2},\"yaxis\":{\"gridcolor\":\"#283442\",\"linecolor\":\"#506784\",\"ticks\":\"\",\"title\":{\"standoff\":15},\"zerolinecolor\":\"#283442\",\"automargin\":true,\"zerolinewidth\":2},\"scene\":{\"xaxis\":{\"backgroundcolor\":\"rgb(17,17,17)\",\"gridcolor\":\"#506784\",\"linecolor\":\"#506784\",\"showbackground\":true,\"ticks\":\"\",\"zerolinecolor\":\"#C8D4E3\",\"gridwidth\":2},\"yaxis\":{\"backgroundcolor\":\"rgb(17,17,17)\",\"gridcolor\":\"#506784\",\"linecolor\":\"#506784\",\"showbackground\":true,\"ticks\":\"\",\"zerolinecolor\":\"#C8D4E3\",\"gridwidth\":2},\"zaxis\":{\"backgroundcolor\":\"rgb(17,17,17)\",\"gridcolor\":\"#506784\",\"linecolor\":\"#506784\",\"showbackground\":true,\"ticks\":\"\",\"zerolinecolor\":\"#C8D4E3\",\"gridwidth\":2}},\"shapedefaults\":{\"line\":{\"color\":\"#f2f5fa\"}},\"annotationdefaults\":{\"arrowcolor\":\"#f2f5fa\",\"arrowhead\":0,\"arrowwidth\":1},\"geo\":{\"bgcolor\":\"rgb(17,17,17)\",\"landcolor\":\"rgb(17,17,17)\",\"subunitcolor\":\"#506784\",\"showland\":true,\"showlakes\":true,\"lakecolor\":\"rgb(17,17,17)\"},\"title\":{\"x\":0.05},\"updatemenudefaults\":{\"bgcolor\":\"#506784\",\"borderwidth\":0},\"sliderdefaults\":{\"bgcolor\":\"#C8D4E3\",\"borderwidth\":1,\"bordercolor\":\"rgb(17,17,17)\",\"tickwidth\":0},\"mapbox\":{\"style\":\"dark\"}}},\"xaxis\":{\"anchor\":\"y\",\"domain\":[0.0,1.0],\"title\":{\"text\":\"Personal Loan\"}},\"yaxis\":{\"anchor\":\"x\",\"domain\":[0.0,1.0],\"title\":{\"text\":\"Counts\"}},\"legend\":{\"title\":{\"text\":\"color\"},\"tracegroupgap\":0},\"title\":{\"text\":\"Presence of Personal Loans\"},\"barmode\":\"relative\"},                        {\"responsive\": true}                    ).then(function(){\n                            \nvar gd = document.getElementById('20e72f6c-c745-426a-9571-8421f83ae264');\nvar x = new MutationObserver(function (mutations, observer) {{\n        var display = window.getComputedStyle(gd).display;\n        if (!display || display === 'none') {{\n            console.log([gd, 'removed!']);\n            Plotly.purge(gd);\n            observer.disconnect();\n        }}\n}});\n\n// Listen for the removal of the full notebook cells\nvar notebookContainer = gd.closest('#notebook-container');\nif (notebookContainer) {{\n    x.observe(notebookContainer, {childList: true});\n}}\n\n// Listen for the clearing of the current output cell\nvar outputEl = gd.closest('.output');\nif (outputEl) {{\n    x.observe(outputEl, {childList: true});\n}}\n\n                        })                };                });            </script>        </div>"
     },
     "metadata": {},
     "output_type": "display_data"
    }
   ],
   "source": [
    "loan = pd.cut(data['Personal Loan'], bins=2)\n",
    "counts = loan.value_counts().sort_index()\n",
    "legend_names = ['No', 'Yes']\n",
    "fig = px.bar(x=legend_names, y=counts.values, title='Presence of Personal Loans', color=legend_names, text_auto=True)\n",
    "fig.update_layout(xaxis_title='Personal Loan', yaxis_title='Counts')\n",
    "fig.show()"
   ],
   "metadata": {
    "collapsed": false,
    "ExecuteTime": {
     "end_time": "2024-03-17T08:42:21.597939Z",
     "start_time": "2024-03-17T08:42:21.538298Z"
    }
   },
   "id": "3dd01bf5d0408af8",
   "execution_count": 169
  },
  {
   "cell_type": "code",
   "outputs": [
    {
     "data": {
      "application/vnd.plotly.v1+json": {
       "data": [
        {
         "domain": {
          "x": [
           0.0,
           1.0
          ],
          "y": [
           0.0,
           1.0
          ]
         },
         "hovertemplate": "label=%{label}<br>value=%{value}<extra></extra>",
         "labels": [
          "Yes",
          "No"
         ],
         "legendgroup": "",
         "name": "",
         "showlegend": true,
         "values": [
          1470,
          3530
         ],
         "type": "pie"
        }
       ],
       "layout": {
        "template": {
         "data": {
          "histogram2dcontour": [
           {
            "type": "histogram2dcontour",
            "colorbar": {
             "outlinewidth": 0,
             "ticks": ""
            },
            "colorscale": [
             [
              0.0,
              "#0d0887"
             ],
             [
              0.1111111111111111,
              "#46039f"
             ],
             [
              0.2222222222222222,
              "#7201a8"
             ],
             [
              0.3333333333333333,
              "#9c179e"
             ],
             [
              0.4444444444444444,
              "#bd3786"
             ],
             [
              0.5555555555555556,
              "#d8576b"
             ],
             [
              0.6666666666666666,
              "#ed7953"
             ],
             [
              0.7777777777777778,
              "#fb9f3a"
             ],
             [
              0.8888888888888888,
              "#fdca26"
             ],
             [
              1.0,
              "#f0f921"
             ]
            ]
           }
          ],
          "choropleth": [
           {
            "type": "choropleth",
            "colorbar": {
             "outlinewidth": 0,
             "ticks": ""
            }
           }
          ],
          "histogram2d": [
           {
            "type": "histogram2d",
            "colorbar": {
             "outlinewidth": 0,
             "ticks": ""
            },
            "colorscale": [
             [
              0.0,
              "#0d0887"
             ],
             [
              0.1111111111111111,
              "#46039f"
             ],
             [
              0.2222222222222222,
              "#7201a8"
             ],
             [
              0.3333333333333333,
              "#9c179e"
             ],
             [
              0.4444444444444444,
              "#bd3786"
             ],
             [
              0.5555555555555556,
              "#d8576b"
             ],
             [
              0.6666666666666666,
              "#ed7953"
             ],
             [
              0.7777777777777778,
              "#fb9f3a"
             ],
             [
              0.8888888888888888,
              "#fdca26"
             ],
             [
              1.0,
              "#f0f921"
             ]
            ]
           }
          ],
          "heatmap": [
           {
            "type": "heatmap",
            "colorbar": {
             "outlinewidth": 0,
             "ticks": ""
            },
            "colorscale": [
             [
              0.0,
              "#0d0887"
             ],
             [
              0.1111111111111111,
              "#46039f"
             ],
             [
              0.2222222222222222,
              "#7201a8"
             ],
             [
              0.3333333333333333,
              "#9c179e"
             ],
             [
              0.4444444444444444,
              "#bd3786"
             ],
             [
              0.5555555555555556,
              "#d8576b"
             ],
             [
              0.6666666666666666,
              "#ed7953"
             ],
             [
              0.7777777777777778,
              "#fb9f3a"
             ],
             [
              0.8888888888888888,
              "#fdca26"
             ],
             [
              1.0,
              "#f0f921"
             ]
            ]
           }
          ],
          "heatmapgl": [
           {
            "type": "heatmapgl",
            "colorbar": {
             "outlinewidth": 0,
             "ticks": ""
            },
            "colorscale": [
             [
              0.0,
              "#0d0887"
             ],
             [
              0.1111111111111111,
              "#46039f"
             ],
             [
              0.2222222222222222,
              "#7201a8"
             ],
             [
              0.3333333333333333,
              "#9c179e"
             ],
             [
              0.4444444444444444,
              "#bd3786"
             ],
             [
              0.5555555555555556,
              "#d8576b"
             ],
             [
              0.6666666666666666,
              "#ed7953"
             ],
             [
              0.7777777777777778,
              "#fb9f3a"
             ],
             [
              0.8888888888888888,
              "#fdca26"
             ],
             [
              1.0,
              "#f0f921"
             ]
            ]
           }
          ],
          "contourcarpet": [
           {
            "type": "contourcarpet",
            "colorbar": {
             "outlinewidth": 0,
             "ticks": ""
            }
           }
          ],
          "contour": [
           {
            "type": "contour",
            "colorbar": {
             "outlinewidth": 0,
             "ticks": ""
            },
            "colorscale": [
             [
              0.0,
              "#0d0887"
             ],
             [
              0.1111111111111111,
              "#46039f"
             ],
             [
              0.2222222222222222,
              "#7201a8"
             ],
             [
              0.3333333333333333,
              "#9c179e"
             ],
             [
              0.4444444444444444,
              "#bd3786"
             ],
             [
              0.5555555555555556,
              "#d8576b"
             ],
             [
              0.6666666666666666,
              "#ed7953"
             ],
             [
              0.7777777777777778,
              "#fb9f3a"
             ],
             [
              0.8888888888888888,
              "#fdca26"
             ],
             [
              1.0,
              "#f0f921"
             ]
            ]
           }
          ],
          "surface": [
           {
            "type": "surface",
            "colorbar": {
             "outlinewidth": 0,
             "ticks": ""
            },
            "colorscale": [
             [
              0.0,
              "#0d0887"
             ],
             [
              0.1111111111111111,
              "#46039f"
             ],
             [
              0.2222222222222222,
              "#7201a8"
             ],
             [
              0.3333333333333333,
              "#9c179e"
             ],
             [
              0.4444444444444444,
              "#bd3786"
             ],
             [
              0.5555555555555556,
              "#d8576b"
             ],
             [
              0.6666666666666666,
              "#ed7953"
             ],
             [
              0.7777777777777778,
              "#fb9f3a"
             ],
             [
              0.8888888888888888,
              "#fdca26"
             ],
             [
              1.0,
              "#f0f921"
             ]
            ]
           }
          ],
          "mesh3d": [
           {
            "type": "mesh3d",
            "colorbar": {
             "outlinewidth": 0,
             "ticks": ""
            }
           }
          ],
          "scatter": [
           {
            "marker": {
             "line": {
              "color": "#283442"
             }
            },
            "type": "scatter"
           }
          ],
          "parcoords": [
           {
            "type": "parcoords",
            "line": {
             "colorbar": {
              "outlinewidth": 0,
              "ticks": ""
             }
            }
           }
          ],
          "scatterpolargl": [
           {
            "type": "scatterpolargl",
            "marker": {
             "colorbar": {
              "outlinewidth": 0,
              "ticks": ""
             }
            }
           }
          ],
          "bar": [
           {
            "error_x": {
             "color": "#f2f5fa"
            },
            "error_y": {
             "color": "#f2f5fa"
            },
            "marker": {
             "line": {
              "color": "rgb(17,17,17)",
              "width": 0.5
             },
             "pattern": {
              "fillmode": "overlay",
              "size": 10,
              "solidity": 0.2
             }
            },
            "type": "bar"
           }
          ],
          "scattergeo": [
           {
            "type": "scattergeo",
            "marker": {
             "colorbar": {
              "outlinewidth": 0,
              "ticks": ""
             }
            }
           }
          ],
          "scatterpolar": [
           {
            "type": "scatterpolar",
            "marker": {
             "colorbar": {
              "outlinewidth": 0,
              "ticks": ""
             }
            }
           }
          ],
          "histogram": [
           {
            "marker": {
             "pattern": {
              "fillmode": "overlay",
              "size": 10,
              "solidity": 0.2
             }
            },
            "type": "histogram"
           }
          ],
          "scattergl": [
           {
            "marker": {
             "line": {
              "color": "#283442"
             }
            },
            "type": "scattergl"
           }
          ],
          "scatter3d": [
           {
            "type": "scatter3d",
            "line": {
             "colorbar": {
              "outlinewidth": 0,
              "ticks": ""
             }
            },
            "marker": {
             "colorbar": {
              "outlinewidth": 0,
              "ticks": ""
             }
            }
           }
          ],
          "scattermapbox": [
           {
            "type": "scattermapbox",
            "marker": {
             "colorbar": {
              "outlinewidth": 0,
              "ticks": ""
             }
            }
           }
          ],
          "scatterternary": [
           {
            "type": "scatterternary",
            "marker": {
             "colorbar": {
              "outlinewidth": 0,
              "ticks": ""
             }
            }
           }
          ],
          "scattercarpet": [
           {
            "type": "scattercarpet",
            "marker": {
             "colorbar": {
              "outlinewidth": 0,
              "ticks": ""
             }
            }
           }
          ],
          "carpet": [
           {
            "aaxis": {
             "endlinecolor": "#A2B1C6",
             "gridcolor": "#506784",
             "linecolor": "#506784",
             "minorgridcolor": "#506784",
             "startlinecolor": "#A2B1C6"
            },
            "baxis": {
             "endlinecolor": "#A2B1C6",
             "gridcolor": "#506784",
             "linecolor": "#506784",
             "minorgridcolor": "#506784",
             "startlinecolor": "#A2B1C6"
            },
            "type": "carpet"
           }
          ],
          "table": [
           {
            "cells": {
             "fill": {
              "color": "#506784"
             },
             "line": {
              "color": "rgb(17,17,17)"
             }
            },
            "header": {
             "fill": {
              "color": "#2a3f5f"
             },
             "line": {
              "color": "rgb(17,17,17)"
             }
            },
            "type": "table"
           }
          ],
          "barpolar": [
           {
            "marker": {
             "line": {
              "color": "rgb(17,17,17)",
              "width": 0.5
             },
             "pattern": {
              "fillmode": "overlay",
              "size": 10,
              "solidity": 0.2
             }
            },
            "type": "barpolar"
           }
          ],
          "pie": [
           {
            "automargin": true,
            "type": "pie"
           }
          ]
         },
         "layout": {
          "autotypenumbers": "strict",
          "colorway": [
           "#636efa",
           "#EF553B",
           "#00cc96",
           "#ab63fa",
           "#FFA15A",
           "#19d3f3",
           "#FF6692",
           "#B6E880",
           "#FF97FF",
           "#FECB52"
          ],
          "font": {
           "color": "#f2f5fa"
          },
          "hovermode": "closest",
          "hoverlabel": {
           "align": "left"
          },
          "paper_bgcolor": "rgb(17,17,17)",
          "plot_bgcolor": "rgb(17,17,17)",
          "polar": {
           "bgcolor": "rgb(17,17,17)",
           "angularaxis": {
            "gridcolor": "#506784",
            "linecolor": "#506784",
            "ticks": ""
           },
           "radialaxis": {
            "gridcolor": "#506784",
            "linecolor": "#506784",
            "ticks": ""
           }
          },
          "ternary": {
           "bgcolor": "rgb(17,17,17)",
           "aaxis": {
            "gridcolor": "#506784",
            "linecolor": "#506784",
            "ticks": ""
           },
           "baxis": {
            "gridcolor": "#506784",
            "linecolor": "#506784",
            "ticks": ""
           },
           "caxis": {
            "gridcolor": "#506784",
            "linecolor": "#506784",
            "ticks": ""
           }
          },
          "coloraxis": {
           "colorbar": {
            "outlinewidth": 0,
            "ticks": ""
           }
          },
          "colorscale": {
           "sequential": [
            [
             0.0,
             "#0d0887"
            ],
            [
             0.1111111111111111,
             "#46039f"
            ],
            [
             0.2222222222222222,
             "#7201a8"
            ],
            [
             0.3333333333333333,
             "#9c179e"
            ],
            [
             0.4444444444444444,
             "#bd3786"
            ],
            [
             0.5555555555555556,
             "#d8576b"
            ],
            [
             0.6666666666666666,
             "#ed7953"
            ],
            [
             0.7777777777777778,
             "#fb9f3a"
            ],
            [
             0.8888888888888888,
             "#fdca26"
            ],
            [
             1.0,
             "#f0f921"
            ]
           ],
           "sequentialminus": [
            [
             0.0,
             "#0d0887"
            ],
            [
             0.1111111111111111,
             "#46039f"
            ],
            [
             0.2222222222222222,
             "#7201a8"
            ],
            [
             0.3333333333333333,
             "#9c179e"
            ],
            [
             0.4444444444444444,
             "#bd3786"
            ],
            [
             0.5555555555555556,
             "#d8576b"
            ],
            [
             0.6666666666666666,
             "#ed7953"
            ],
            [
             0.7777777777777778,
             "#fb9f3a"
            ],
            [
             0.8888888888888888,
             "#fdca26"
            ],
            [
             1.0,
             "#f0f921"
            ]
           ],
           "diverging": [
            [
             0,
             "#8e0152"
            ],
            [
             0.1,
             "#c51b7d"
            ],
            [
             0.2,
             "#de77ae"
            ],
            [
             0.3,
             "#f1b6da"
            ],
            [
             0.4,
             "#fde0ef"
            ],
            [
             0.5,
             "#f7f7f7"
            ],
            [
             0.6,
             "#e6f5d0"
            ],
            [
             0.7,
             "#b8e186"
            ],
            [
             0.8,
             "#7fbc41"
            ],
            [
             0.9,
             "#4d9221"
            ],
            [
             1,
             "#276419"
            ]
           ]
          },
          "xaxis": {
           "gridcolor": "#283442",
           "linecolor": "#506784",
           "ticks": "",
           "title": {
            "standoff": 15
           },
           "zerolinecolor": "#283442",
           "automargin": true,
           "zerolinewidth": 2
          },
          "yaxis": {
           "gridcolor": "#283442",
           "linecolor": "#506784",
           "ticks": "",
           "title": {
            "standoff": 15
           },
           "zerolinecolor": "#283442",
           "automargin": true,
           "zerolinewidth": 2
          },
          "scene": {
           "xaxis": {
            "backgroundcolor": "rgb(17,17,17)",
            "gridcolor": "#506784",
            "linecolor": "#506784",
            "showbackground": true,
            "ticks": "",
            "zerolinecolor": "#C8D4E3",
            "gridwidth": 2
           },
           "yaxis": {
            "backgroundcolor": "rgb(17,17,17)",
            "gridcolor": "#506784",
            "linecolor": "#506784",
            "showbackground": true,
            "ticks": "",
            "zerolinecolor": "#C8D4E3",
            "gridwidth": 2
           },
           "zaxis": {
            "backgroundcolor": "rgb(17,17,17)",
            "gridcolor": "#506784",
            "linecolor": "#506784",
            "showbackground": true,
            "ticks": "",
            "zerolinecolor": "#C8D4E3",
            "gridwidth": 2
           }
          },
          "shapedefaults": {
           "line": {
            "color": "#f2f5fa"
           }
          },
          "annotationdefaults": {
           "arrowcolor": "#f2f5fa",
           "arrowhead": 0,
           "arrowwidth": 1
          },
          "geo": {
           "bgcolor": "rgb(17,17,17)",
           "landcolor": "rgb(17,17,17)",
           "subunitcolor": "#506784",
           "showland": true,
           "showlakes": true,
           "lakecolor": "rgb(17,17,17)"
          },
          "title": {
           "x": 0.05
          },
          "updatemenudefaults": {
           "bgcolor": "#506784",
           "borderwidth": 0
          },
          "sliderdefaults": {
           "bgcolor": "#C8D4E3",
           "borderwidth": 1,
           "bordercolor": "rgb(17,17,17)",
           "tickwidth": 0
          },
          "mapbox": {
           "style": "dark"
          }
         }
        },
        "legend": {
         "tracegroupgap": 0
        },
        "title": {
         "text": "Distribution of Credit Card Usage"
        }
       },
       "config": {
        "plotlyServerURL": "https://plot.ly"
       }
      },
      "text/html": "<div>                            <div id=\"2200cc0d-5129-4d57-99fa-d448bda5939f\" class=\"plotly-graph-div\" style=\"height:525px; width:100%;\"></div>            <script type=\"text/javascript\">                require([\"plotly\"], function(Plotly) {                    window.PLOTLYENV=window.PLOTLYENV || {};                                    if (document.getElementById(\"2200cc0d-5129-4d57-99fa-d448bda5939f\")) {                    Plotly.newPlot(                        \"2200cc0d-5129-4d57-99fa-d448bda5939f\",                        [{\"domain\":{\"x\":[0.0,1.0],\"y\":[0.0,1.0]},\"hovertemplate\":\"label=%{label}\\u003cbr\\u003evalue=%{value}\\u003cextra\\u003e\\u003c\\u002fextra\\u003e\",\"labels\":[\"Yes\",\"No\"],\"legendgroup\":\"\",\"name\":\"\",\"showlegend\":true,\"values\":[1470,3530],\"type\":\"pie\"}],                        {\"template\":{\"data\":{\"histogram2dcontour\":[{\"type\":\"histogram2dcontour\",\"colorbar\":{\"outlinewidth\":0,\"ticks\":\"\"},\"colorscale\":[[0.0,\"#0d0887\"],[0.1111111111111111,\"#46039f\"],[0.2222222222222222,\"#7201a8\"],[0.3333333333333333,\"#9c179e\"],[0.4444444444444444,\"#bd3786\"],[0.5555555555555556,\"#d8576b\"],[0.6666666666666666,\"#ed7953\"],[0.7777777777777778,\"#fb9f3a\"],[0.8888888888888888,\"#fdca26\"],[1.0,\"#f0f921\"]]}],\"choropleth\":[{\"type\":\"choropleth\",\"colorbar\":{\"outlinewidth\":0,\"ticks\":\"\"}}],\"histogram2d\":[{\"type\":\"histogram2d\",\"colorbar\":{\"outlinewidth\":0,\"ticks\":\"\"},\"colorscale\":[[0.0,\"#0d0887\"],[0.1111111111111111,\"#46039f\"],[0.2222222222222222,\"#7201a8\"],[0.3333333333333333,\"#9c179e\"],[0.4444444444444444,\"#bd3786\"],[0.5555555555555556,\"#d8576b\"],[0.6666666666666666,\"#ed7953\"],[0.7777777777777778,\"#fb9f3a\"],[0.8888888888888888,\"#fdca26\"],[1.0,\"#f0f921\"]]}],\"heatmap\":[{\"type\":\"heatmap\",\"colorbar\":{\"outlinewidth\":0,\"ticks\":\"\"},\"colorscale\":[[0.0,\"#0d0887\"],[0.1111111111111111,\"#46039f\"],[0.2222222222222222,\"#7201a8\"],[0.3333333333333333,\"#9c179e\"],[0.4444444444444444,\"#bd3786\"],[0.5555555555555556,\"#d8576b\"],[0.6666666666666666,\"#ed7953\"],[0.7777777777777778,\"#fb9f3a\"],[0.8888888888888888,\"#fdca26\"],[1.0,\"#f0f921\"]]}],\"heatmapgl\":[{\"type\":\"heatmapgl\",\"colorbar\":{\"outlinewidth\":0,\"ticks\":\"\"},\"colorscale\":[[0.0,\"#0d0887\"],[0.1111111111111111,\"#46039f\"],[0.2222222222222222,\"#7201a8\"],[0.3333333333333333,\"#9c179e\"],[0.4444444444444444,\"#bd3786\"],[0.5555555555555556,\"#d8576b\"],[0.6666666666666666,\"#ed7953\"],[0.7777777777777778,\"#fb9f3a\"],[0.8888888888888888,\"#fdca26\"],[1.0,\"#f0f921\"]]}],\"contourcarpet\":[{\"type\":\"contourcarpet\",\"colorbar\":{\"outlinewidth\":0,\"ticks\":\"\"}}],\"contour\":[{\"type\":\"contour\",\"colorbar\":{\"outlinewidth\":0,\"ticks\":\"\"},\"colorscale\":[[0.0,\"#0d0887\"],[0.1111111111111111,\"#46039f\"],[0.2222222222222222,\"#7201a8\"],[0.3333333333333333,\"#9c179e\"],[0.4444444444444444,\"#bd3786\"],[0.5555555555555556,\"#d8576b\"],[0.6666666666666666,\"#ed7953\"],[0.7777777777777778,\"#fb9f3a\"],[0.8888888888888888,\"#fdca26\"],[1.0,\"#f0f921\"]]}],\"surface\":[{\"type\":\"surface\",\"colorbar\":{\"outlinewidth\":0,\"ticks\":\"\"},\"colorscale\":[[0.0,\"#0d0887\"],[0.1111111111111111,\"#46039f\"],[0.2222222222222222,\"#7201a8\"],[0.3333333333333333,\"#9c179e\"],[0.4444444444444444,\"#bd3786\"],[0.5555555555555556,\"#d8576b\"],[0.6666666666666666,\"#ed7953\"],[0.7777777777777778,\"#fb9f3a\"],[0.8888888888888888,\"#fdca26\"],[1.0,\"#f0f921\"]]}],\"mesh3d\":[{\"type\":\"mesh3d\",\"colorbar\":{\"outlinewidth\":0,\"ticks\":\"\"}}],\"scatter\":[{\"marker\":{\"line\":{\"color\":\"#283442\"}},\"type\":\"scatter\"}],\"parcoords\":[{\"type\":\"parcoords\",\"line\":{\"colorbar\":{\"outlinewidth\":0,\"ticks\":\"\"}}}],\"scatterpolargl\":[{\"type\":\"scatterpolargl\",\"marker\":{\"colorbar\":{\"outlinewidth\":0,\"ticks\":\"\"}}}],\"bar\":[{\"error_x\":{\"color\":\"#f2f5fa\"},\"error_y\":{\"color\":\"#f2f5fa\"},\"marker\":{\"line\":{\"color\":\"rgb(17,17,17)\",\"width\":0.5},\"pattern\":{\"fillmode\":\"overlay\",\"size\":10,\"solidity\":0.2}},\"type\":\"bar\"}],\"scattergeo\":[{\"type\":\"scattergeo\",\"marker\":{\"colorbar\":{\"outlinewidth\":0,\"ticks\":\"\"}}}],\"scatterpolar\":[{\"type\":\"scatterpolar\",\"marker\":{\"colorbar\":{\"outlinewidth\":0,\"ticks\":\"\"}}}],\"histogram\":[{\"marker\":{\"pattern\":{\"fillmode\":\"overlay\",\"size\":10,\"solidity\":0.2}},\"type\":\"histogram\"}],\"scattergl\":[{\"marker\":{\"line\":{\"color\":\"#283442\"}},\"type\":\"scattergl\"}],\"scatter3d\":[{\"type\":\"scatter3d\",\"line\":{\"colorbar\":{\"outlinewidth\":0,\"ticks\":\"\"}},\"marker\":{\"colorbar\":{\"outlinewidth\":0,\"ticks\":\"\"}}}],\"scattermapbox\":[{\"type\":\"scattermapbox\",\"marker\":{\"colorbar\":{\"outlinewidth\":0,\"ticks\":\"\"}}}],\"scatterternary\":[{\"type\":\"scatterternary\",\"marker\":{\"colorbar\":{\"outlinewidth\":0,\"ticks\":\"\"}}}],\"scattercarpet\":[{\"type\":\"scattercarpet\",\"marker\":{\"colorbar\":{\"outlinewidth\":0,\"ticks\":\"\"}}}],\"carpet\":[{\"aaxis\":{\"endlinecolor\":\"#A2B1C6\",\"gridcolor\":\"#506784\",\"linecolor\":\"#506784\",\"minorgridcolor\":\"#506784\",\"startlinecolor\":\"#A2B1C6\"},\"baxis\":{\"endlinecolor\":\"#A2B1C6\",\"gridcolor\":\"#506784\",\"linecolor\":\"#506784\",\"minorgridcolor\":\"#506784\",\"startlinecolor\":\"#A2B1C6\"},\"type\":\"carpet\"}],\"table\":[{\"cells\":{\"fill\":{\"color\":\"#506784\"},\"line\":{\"color\":\"rgb(17,17,17)\"}},\"header\":{\"fill\":{\"color\":\"#2a3f5f\"},\"line\":{\"color\":\"rgb(17,17,17)\"}},\"type\":\"table\"}],\"barpolar\":[{\"marker\":{\"line\":{\"color\":\"rgb(17,17,17)\",\"width\":0.5},\"pattern\":{\"fillmode\":\"overlay\",\"size\":10,\"solidity\":0.2}},\"type\":\"barpolar\"}],\"pie\":[{\"automargin\":true,\"type\":\"pie\"}]},\"layout\":{\"autotypenumbers\":\"strict\",\"colorway\":[\"#636efa\",\"#EF553B\",\"#00cc96\",\"#ab63fa\",\"#FFA15A\",\"#19d3f3\",\"#FF6692\",\"#B6E880\",\"#FF97FF\",\"#FECB52\"],\"font\":{\"color\":\"#f2f5fa\"},\"hovermode\":\"closest\",\"hoverlabel\":{\"align\":\"left\"},\"paper_bgcolor\":\"rgb(17,17,17)\",\"plot_bgcolor\":\"rgb(17,17,17)\",\"polar\":{\"bgcolor\":\"rgb(17,17,17)\",\"angularaxis\":{\"gridcolor\":\"#506784\",\"linecolor\":\"#506784\",\"ticks\":\"\"},\"radialaxis\":{\"gridcolor\":\"#506784\",\"linecolor\":\"#506784\",\"ticks\":\"\"}},\"ternary\":{\"bgcolor\":\"rgb(17,17,17)\",\"aaxis\":{\"gridcolor\":\"#506784\",\"linecolor\":\"#506784\",\"ticks\":\"\"},\"baxis\":{\"gridcolor\":\"#506784\",\"linecolor\":\"#506784\",\"ticks\":\"\"},\"caxis\":{\"gridcolor\":\"#506784\",\"linecolor\":\"#506784\",\"ticks\":\"\"}},\"coloraxis\":{\"colorbar\":{\"outlinewidth\":0,\"ticks\":\"\"}},\"colorscale\":{\"sequential\":[[0.0,\"#0d0887\"],[0.1111111111111111,\"#46039f\"],[0.2222222222222222,\"#7201a8\"],[0.3333333333333333,\"#9c179e\"],[0.4444444444444444,\"#bd3786\"],[0.5555555555555556,\"#d8576b\"],[0.6666666666666666,\"#ed7953\"],[0.7777777777777778,\"#fb9f3a\"],[0.8888888888888888,\"#fdca26\"],[1.0,\"#f0f921\"]],\"sequentialminus\":[[0.0,\"#0d0887\"],[0.1111111111111111,\"#46039f\"],[0.2222222222222222,\"#7201a8\"],[0.3333333333333333,\"#9c179e\"],[0.4444444444444444,\"#bd3786\"],[0.5555555555555556,\"#d8576b\"],[0.6666666666666666,\"#ed7953\"],[0.7777777777777778,\"#fb9f3a\"],[0.8888888888888888,\"#fdca26\"],[1.0,\"#f0f921\"]],\"diverging\":[[0,\"#8e0152\"],[0.1,\"#c51b7d\"],[0.2,\"#de77ae\"],[0.3,\"#f1b6da\"],[0.4,\"#fde0ef\"],[0.5,\"#f7f7f7\"],[0.6,\"#e6f5d0\"],[0.7,\"#b8e186\"],[0.8,\"#7fbc41\"],[0.9,\"#4d9221\"],[1,\"#276419\"]]},\"xaxis\":{\"gridcolor\":\"#283442\",\"linecolor\":\"#506784\",\"ticks\":\"\",\"title\":{\"standoff\":15},\"zerolinecolor\":\"#283442\",\"automargin\":true,\"zerolinewidth\":2},\"yaxis\":{\"gridcolor\":\"#283442\",\"linecolor\":\"#506784\",\"ticks\":\"\",\"title\":{\"standoff\":15},\"zerolinecolor\":\"#283442\",\"automargin\":true,\"zerolinewidth\":2},\"scene\":{\"xaxis\":{\"backgroundcolor\":\"rgb(17,17,17)\",\"gridcolor\":\"#506784\",\"linecolor\":\"#506784\",\"showbackground\":true,\"ticks\":\"\",\"zerolinecolor\":\"#C8D4E3\",\"gridwidth\":2},\"yaxis\":{\"backgroundcolor\":\"rgb(17,17,17)\",\"gridcolor\":\"#506784\",\"linecolor\":\"#506784\",\"showbackground\":true,\"ticks\":\"\",\"zerolinecolor\":\"#C8D4E3\",\"gridwidth\":2},\"zaxis\":{\"backgroundcolor\":\"rgb(17,17,17)\",\"gridcolor\":\"#506784\",\"linecolor\":\"#506784\",\"showbackground\":true,\"ticks\":\"\",\"zerolinecolor\":\"#C8D4E3\",\"gridwidth\":2}},\"shapedefaults\":{\"line\":{\"color\":\"#f2f5fa\"}},\"annotationdefaults\":{\"arrowcolor\":\"#f2f5fa\",\"arrowhead\":0,\"arrowwidth\":1},\"geo\":{\"bgcolor\":\"rgb(17,17,17)\",\"landcolor\":\"rgb(17,17,17)\",\"subunitcolor\":\"#506784\",\"showland\":true,\"showlakes\":true,\"lakecolor\":\"rgb(17,17,17)\"},\"title\":{\"x\":0.05},\"updatemenudefaults\":{\"bgcolor\":\"#506784\",\"borderwidth\":0},\"sliderdefaults\":{\"bgcolor\":\"#C8D4E3\",\"borderwidth\":1,\"bordercolor\":\"rgb(17,17,17)\",\"tickwidth\":0},\"mapbox\":{\"style\":\"dark\"}}},\"legend\":{\"tracegroupgap\":0},\"title\":{\"text\":\"Distribution of Credit Card Usage\"}},                        {\"responsive\": true}                    ).then(function(){\n                            \nvar gd = document.getElementById('2200cc0d-5129-4d57-99fa-d448bda5939f');\nvar x = new MutationObserver(function (mutations, observer) {{\n        var display = window.getComputedStyle(gd).display;\n        if (!display || display === 'none') {{\n            console.log([gd, 'removed!']);\n            Plotly.purge(gd);\n            observer.disconnect();\n        }}\n}});\n\n// Listen for the removal of the full notebook cells\nvar notebookContainer = gd.closest('#notebook-container');\nif (notebookContainer) {{\n    x.observe(notebookContainer, {childList: true});\n}}\n\n// Listen for the clearing of the current output cell\nvar outputEl = gd.closest('.output');\nif (outputEl) {{\n    x.observe(outputEl, {childList: true});\n}}\n\n                        })                };                });            </script>        </div>"
     },
     "metadata": {},
     "output_type": "display_data"
    }
   ],
   "source": [
    "credit_card_not = data['CreditCard'] == 0\n",
    "credit_card_not = credit_card_not.sum()\n",
    "credit_card_yes = data['CreditCard'] == 1\n",
    "credit_card_yes = credit_card_yes.sum()\n",
    "fig = px.pie(names=['Yes', 'No'], values=[credit_card_yes, credit_card_not], title='Distribution of Credit Card Usage')\n",
    "fig.show()"
   ],
   "metadata": {
    "collapsed": false,
    "ExecuteTime": {
     "end_time": "2024-03-17T08:39:51.148177Z",
     "start_time": "2024-03-17T08:39:51.102367Z"
    }
   },
   "id": "d6cfaa00522fab36",
   "execution_count": 162
  },
  {
   "cell_type": "code",
   "outputs": [
    {
     "data": {
      "application/vnd.plotly.v1+json": {
       "data": [
        {
         "alignmentgroup": "True",
         "hovertemplate": "color=No<br>x=%{x}<br>y=%{y}<extra></extra>",
         "legendgroup": "No",
         "marker": {
          "color": "#636efa",
          "pattern": {
           "shape": ""
          }
         },
         "name": "No",
         "offsetgroup": "No",
         "orientation": "h",
         "showlegend": true,
         "textposition": "auto",
         "texttemplate": "%{x}",
         "x": [
          4478
         ],
         "xaxis": "x",
         "y": [
          "No"
         ],
         "yaxis": "y",
         "type": "bar"
        },
        {
         "alignmentgroup": "True",
         "hovertemplate": "color=Yes<br>x=%{x}<br>y=%{y}<extra></extra>",
         "legendgroup": "Yes",
         "marker": {
          "color": "#EF553B",
          "pattern": {
           "shape": ""
          }
         },
         "name": "Yes",
         "offsetgroup": "Yes",
         "orientation": "h",
         "showlegend": true,
         "textposition": "auto",
         "texttemplate": "%{x}",
         "x": [
          522
         ],
         "xaxis": "x",
         "y": [
          "Yes"
         ],
         "yaxis": "y",
         "type": "bar"
        }
       ],
       "layout": {
        "template": {
         "data": {
          "histogram2dcontour": [
           {
            "type": "histogram2dcontour",
            "colorbar": {
             "outlinewidth": 0,
             "ticks": ""
            },
            "colorscale": [
             [
              0.0,
              "#0d0887"
             ],
             [
              0.1111111111111111,
              "#46039f"
             ],
             [
              0.2222222222222222,
              "#7201a8"
             ],
             [
              0.3333333333333333,
              "#9c179e"
             ],
             [
              0.4444444444444444,
              "#bd3786"
             ],
             [
              0.5555555555555556,
              "#d8576b"
             ],
             [
              0.6666666666666666,
              "#ed7953"
             ],
             [
              0.7777777777777778,
              "#fb9f3a"
             ],
             [
              0.8888888888888888,
              "#fdca26"
             ],
             [
              1.0,
              "#f0f921"
             ]
            ]
           }
          ],
          "choropleth": [
           {
            "type": "choropleth",
            "colorbar": {
             "outlinewidth": 0,
             "ticks": ""
            }
           }
          ],
          "histogram2d": [
           {
            "type": "histogram2d",
            "colorbar": {
             "outlinewidth": 0,
             "ticks": ""
            },
            "colorscale": [
             [
              0.0,
              "#0d0887"
             ],
             [
              0.1111111111111111,
              "#46039f"
             ],
             [
              0.2222222222222222,
              "#7201a8"
             ],
             [
              0.3333333333333333,
              "#9c179e"
             ],
             [
              0.4444444444444444,
              "#bd3786"
             ],
             [
              0.5555555555555556,
              "#d8576b"
             ],
             [
              0.6666666666666666,
              "#ed7953"
             ],
             [
              0.7777777777777778,
              "#fb9f3a"
             ],
             [
              0.8888888888888888,
              "#fdca26"
             ],
             [
              1.0,
              "#f0f921"
             ]
            ]
           }
          ],
          "heatmap": [
           {
            "type": "heatmap",
            "colorbar": {
             "outlinewidth": 0,
             "ticks": ""
            },
            "colorscale": [
             [
              0.0,
              "#0d0887"
             ],
             [
              0.1111111111111111,
              "#46039f"
             ],
             [
              0.2222222222222222,
              "#7201a8"
             ],
             [
              0.3333333333333333,
              "#9c179e"
             ],
             [
              0.4444444444444444,
              "#bd3786"
             ],
             [
              0.5555555555555556,
              "#d8576b"
             ],
             [
              0.6666666666666666,
              "#ed7953"
             ],
             [
              0.7777777777777778,
              "#fb9f3a"
             ],
             [
              0.8888888888888888,
              "#fdca26"
             ],
             [
              1.0,
              "#f0f921"
             ]
            ]
           }
          ],
          "heatmapgl": [
           {
            "type": "heatmapgl",
            "colorbar": {
             "outlinewidth": 0,
             "ticks": ""
            },
            "colorscale": [
             [
              0.0,
              "#0d0887"
             ],
             [
              0.1111111111111111,
              "#46039f"
             ],
             [
              0.2222222222222222,
              "#7201a8"
             ],
             [
              0.3333333333333333,
              "#9c179e"
             ],
             [
              0.4444444444444444,
              "#bd3786"
             ],
             [
              0.5555555555555556,
              "#d8576b"
             ],
             [
              0.6666666666666666,
              "#ed7953"
             ],
             [
              0.7777777777777778,
              "#fb9f3a"
             ],
             [
              0.8888888888888888,
              "#fdca26"
             ],
             [
              1.0,
              "#f0f921"
             ]
            ]
           }
          ],
          "contourcarpet": [
           {
            "type": "contourcarpet",
            "colorbar": {
             "outlinewidth": 0,
             "ticks": ""
            }
           }
          ],
          "contour": [
           {
            "type": "contour",
            "colorbar": {
             "outlinewidth": 0,
             "ticks": ""
            },
            "colorscale": [
             [
              0.0,
              "#0d0887"
             ],
             [
              0.1111111111111111,
              "#46039f"
             ],
             [
              0.2222222222222222,
              "#7201a8"
             ],
             [
              0.3333333333333333,
              "#9c179e"
             ],
             [
              0.4444444444444444,
              "#bd3786"
             ],
             [
              0.5555555555555556,
              "#d8576b"
             ],
             [
              0.6666666666666666,
              "#ed7953"
             ],
             [
              0.7777777777777778,
              "#fb9f3a"
             ],
             [
              0.8888888888888888,
              "#fdca26"
             ],
             [
              1.0,
              "#f0f921"
             ]
            ]
           }
          ],
          "surface": [
           {
            "type": "surface",
            "colorbar": {
             "outlinewidth": 0,
             "ticks": ""
            },
            "colorscale": [
             [
              0.0,
              "#0d0887"
             ],
             [
              0.1111111111111111,
              "#46039f"
             ],
             [
              0.2222222222222222,
              "#7201a8"
             ],
             [
              0.3333333333333333,
              "#9c179e"
             ],
             [
              0.4444444444444444,
              "#bd3786"
             ],
             [
              0.5555555555555556,
              "#d8576b"
             ],
             [
              0.6666666666666666,
              "#ed7953"
             ],
             [
              0.7777777777777778,
              "#fb9f3a"
             ],
             [
              0.8888888888888888,
              "#fdca26"
             ],
             [
              1.0,
              "#f0f921"
             ]
            ]
           }
          ],
          "mesh3d": [
           {
            "type": "mesh3d",
            "colorbar": {
             "outlinewidth": 0,
             "ticks": ""
            }
           }
          ],
          "scatter": [
           {
            "marker": {
             "line": {
              "color": "#283442"
             }
            },
            "type": "scatter"
           }
          ],
          "parcoords": [
           {
            "type": "parcoords",
            "line": {
             "colorbar": {
              "outlinewidth": 0,
              "ticks": ""
             }
            }
           }
          ],
          "scatterpolargl": [
           {
            "type": "scatterpolargl",
            "marker": {
             "colorbar": {
              "outlinewidth": 0,
              "ticks": ""
             }
            }
           }
          ],
          "bar": [
           {
            "error_x": {
             "color": "#f2f5fa"
            },
            "error_y": {
             "color": "#f2f5fa"
            },
            "marker": {
             "line": {
              "color": "rgb(17,17,17)",
              "width": 0.5
             },
             "pattern": {
              "fillmode": "overlay",
              "size": 10,
              "solidity": 0.2
             }
            },
            "type": "bar"
           }
          ],
          "scattergeo": [
           {
            "type": "scattergeo",
            "marker": {
             "colorbar": {
              "outlinewidth": 0,
              "ticks": ""
             }
            }
           }
          ],
          "scatterpolar": [
           {
            "type": "scatterpolar",
            "marker": {
             "colorbar": {
              "outlinewidth": 0,
              "ticks": ""
             }
            }
           }
          ],
          "histogram": [
           {
            "marker": {
             "pattern": {
              "fillmode": "overlay",
              "size": 10,
              "solidity": 0.2
             }
            },
            "type": "histogram"
           }
          ],
          "scattergl": [
           {
            "marker": {
             "line": {
              "color": "#283442"
             }
            },
            "type": "scattergl"
           }
          ],
          "scatter3d": [
           {
            "type": "scatter3d",
            "line": {
             "colorbar": {
              "outlinewidth": 0,
              "ticks": ""
             }
            },
            "marker": {
             "colorbar": {
              "outlinewidth": 0,
              "ticks": ""
             }
            }
           }
          ],
          "scattermapbox": [
           {
            "type": "scattermapbox",
            "marker": {
             "colorbar": {
              "outlinewidth": 0,
              "ticks": ""
             }
            }
           }
          ],
          "scatterternary": [
           {
            "type": "scatterternary",
            "marker": {
             "colorbar": {
              "outlinewidth": 0,
              "ticks": ""
             }
            }
           }
          ],
          "scattercarpet": [
           {
            "type": "scattercarpet",
            "marker": {
             "colorbar": {
              "outlinewidth": 0,
              "ticks": ""
             }
            }
           }
          ],
          "carpet": [
           {
            "aaxis": {
             "endlinecolor": "#A2B1C6",
             "gridcolor": "#506784",
             "linecolor": "#506784",
             "minorgridcolor": "#506784",
             "startlinecolor": "#A2B1C6"
            },
            "baxis": {
             "endlinecolor": "#A2B1C6",
             "gridcolor": "#506784",
             "linecolor": "#506784",
             "minorgridcolor": "#506784",
             "startlinecolor": "#A2B1C6"
            },
            "type": "carpet"
           }
          ],
          "table": [
           {
            "cells": {
             "fill": {
              "color": "#506784"
             },
             "line": {
              "color": "rgb(17,17,17)"
             }
            },
            "header": {
             "fill": {
              "color": "#2a3f5f"
             },
             "line": {
              "color": "rgb(17,17,17)"
             }
            },
            "type": "table"
           }
          ],
          "barpolar": [
           {
            "marker": {
             "line": {
              "color": "rgb(17,17,17)",
              "width": 0.5
             },
             "pattern": {
              "fillmode": "overlay",
              "size": 10,
              "solidity": 0.2
             }
            },
            "type": "barpolar"
           }
          ],
          "pie": [
           {
            "automargin": true,
            "type": "pie"
           }
          ]
         },
         "layout": {
          "autotypenumbers": "strict",
          "colorway": [
           "#636efa",
           "#EF553B",
           "#00cc96",
           "#ab63fa",
           "#FFA15A",
           "#19d3f3",
           "#FF6692",
           "#B6E880",
           "#FF97FF",
           "#FECB52"
          ],
          "font": {
           "color": "#f2f5fa"
          },
          "hovermode": "closest",
          "hoverlabel": {
           "align": "left"
          },
          "paper_bgcolor": "rgb(17,17,17)",
          "plot_bgcolor": "rgb(17,17,17)",
          "polar": {
           "bgcolor": "rgb(17,17,17)",
           "angularaxis": {
            "gridcolor": "#506784",
            "linecolor": "#506784",
            "ticks": ""
           },
           "radialaxis": {
            "gridcolor": "#506784",
            "linecolor": "#506784",
            "ticks": ""
           }
          },
          "ternary": {
           "bgcolor": "rgb(17,17,17)",
           "aaxis": {
            "gridcolor": "#506784",
            "linecolor": "#506784",
            "ticks": ""
           },
           "baxis": {
            "gridcolor": "#506784",
            "linecolor": "#506784",
            "ticks": ""
           },
           "caxis": {
            "gridcolor": "#506784",
            "linecolor": "#506784",
            "ticks": ""
           }
          },
          "coloraxis": {
           "colorbar": {
            "outlinewidth": 0,
            "ticks": ""
           }
          },
          "colorscale": {
           "sequential": [
            [
             0.0,
             "#0d0887"
            ],
            [
             0.1111111111111111,
             "#46039f"
            ],
            [
             0.2222222222222222,
             "#7201a8"
            ],
            [
             0.3333333333333333,
             "#9c179e"
            ],
            [
             0.4444444444444444,
             "#bd3786"
            ],
            [
             0.5555555555555556,
             "#d8576b"
            ],
            [
             0.6666666666666666,
             "#ed7953"
            ],
            [
             0.7777777777777778,
             "#fb9f3a"
            ],
            [
             0.8888888888888888,
             "#fdca26"
            ],
            [
             1.0,
             "#f0f921"
            ]
           ],
           "sequentialminus": [
            [
             0.0,
             "#0d0887"
            ],
            [
             0.1111111111111111,
             "#46039f"
            ],
            [
             0.2222222222222222,
             "#7201a8"
            ],
            [
             0.3333333333333333,
             "#9c179e"
            ],
            [
             0.4444444444444444,
             "#bd3786"
            ],
            [
             0.5555555555555556,
             "#d8576b"
            ],
            [
             0.6666666666666666,
             "#ed7953"
            ],
            [
             0.7777777777777778,
             "#fb9f3a"
            ],
            [
             0.8888888888888888,
             "#fdca26"
            ],
            [
             1.0,
             "#f0f921"
            ]
           ],
           "diverging": [
            [
             0,
             "#8e0152"
            ],
            [
             0.1,
             "#c51b7d"
            ],
            [
             0.2,
             "#de77ae"
            ],
            [
             0.3,
             "#f1b6da"
            ],
            [
             0.4,
             "#fde0ef"
            ],
            [
             0.5,
             "#f7f7f7"
            ],
            [
             0.6,
             "#e6f5d0"
            ],
            [
             0.7,
             "#b8e186"
            ],
            [
             0.8,
             "#7fbc41"
            ],
            [
             0.9,
             "#4d9221"
            ],
            [
             1,
             "#276419"
            ]
           ]
          },
          "xaxis": {
           "gridcolor": "#283442",
           "linecolor": "#506784",
           "ticks": "",
           "title": {
            "standoff": 15
           },
           "zerolinecolor": "#283442",
           "automargin": true,
           "zerolinewidth": 2
          },
          "yaxis": {
           "gridcolor": "#283442",
           "linecolor": "#506784",
           "ticks": "",
           "title": {
            "standoff": 15
           },
           "zerolinecolor": "#283442",
           "automargin": true,
           "zerolinewidth": 2
          },
          "scene": {
           "xaxis": {
            "backgroundcolor": "rgb(17,17,17)",
            "gridcolor": "#506784",
            "linecolor": "#506784",
            "showbackground": true,
            "ticks": "",
            "zerolinecolor": "#C8D4E3",
            "gridwidth": 2
           },
           "yaxis": {
            "backgroundcolor": "rgb(17,17,17)",
            "gridcolor": "#506784",
            "linecolor": "#506784",
            "showbackground": true,
            "ticks": "",
            "zerolinecolor": "#C8D4E3",
            "gridwidth": 2
           },
           "zaxis": {
            "backgroundcolor": "rgb(17,17,17)",
            "gridcolor": "#506784",
            "linecolor": "#506784",
            "showbackground": true,
            "ticks": "",
            "zerolinecolor": "#C8D4E3",
            "gridwidth": 2
           }
          },
          "shapedefaults": {
           "line": {
            "color": "#f2f5fa"
           }
          },
          "annotationdefaults": {
           "arrowcolor": "#f2f5fa",
           "arrowhead": 0,
           "arrowwidth": 1
          },
          "geo": {
           "bgcolor": "rgb(17,17,17)",
           "landcolor": "rgb(17,17,17)",
           "subunitcolor": "#506784",
           "showland": true,
           "showlakes": true,
           "lakecolor": "rgb(17,17,17)"
          },
          "title": {
           "x": 0.05
          },
          "updatemenudefaults": {
           "bgcolor": "#506784",
           "borderwidth": 0
          },
          "sliderdefaults": {
           "bgcolor": "#C8D4E3",
           "borderwidth": 1,
           "bordercolor": "rgb(17,17,17)",
           "tickwidth": 0
          },
          "mapbox": {
           "style": "dark"
          }
         }
        },
        "xaxis": {
         "anchor": "y",
         "domain": [
          0.0,
          1.0
         ],
         "title": {
          "text": "Securities Account"
         }
        },
        "yaxis": {
         "anchor": "x",
         "domain": [
          0.0,
          1.0
         ],
         "title": {
          "text": "Counts"
         }
        },
        "legend": {
         "title": {
          "text": "color"
         },
         "tracegroupgap": 0
        },
        "title": {
         "text": "Distribution of Securities Account"
        },
        "barmode": "relative"
       },
       "config": {
        "plotlyServerURL": "https://plot.ly"
       }
      },
      "text/html": "<div>                            <div id=\"28099cff-fdb2-4240-a53e-b54c17e0d63d\" class=\"plotly-graph-div\" style=\"height:525px; width:100%;\"></div>            <script type=\"text/javascript\">                require([\"plotly\"], function(Plotly) {                    window.PLOTLYENV=window.PLOTLYENV || {};                                    if (document.getElementById(\"28099cff-fdb2-4240-a53e-b54c17e0d63d\")) {                    Plotly.newPlot(                        \"28099cff-fdb2-4240-a53e-b54c17e0d63d\",                        [{\"alignmentgroup\":\"True\",\"hovertemplate\":\"color=No\\u003cbr\\u003ex=%{x}\\u003cbr\\u003ey=%{y}\\u003cextra\\u003e\\u003c\\u002fextra\\u003e\",\"legendgroup\":\"No\",\"marker\":{\"color\":\"#636efa\",\"pattern\":{\"shape\":\"\"}},\"name\":\"No\",\"offsetgroup\":\"No\",\"orientation\":\"h\",\"showlegend\":true,\"textposition\":\"auto\",\"texttemplate\":\"%{x}\",\"x\":[4478],\"xaxis\":\"x\",\"y\":[\"No\"],\"yaxis\":\"y\",\"type\":\"bar\"},{\"alignmentgroup\":\"True\",\"hovertemplate\":\"color=Yes\\u003cbr\\u003ex=%{x}\\u003cbr\\u003ey=%{y}\\u003cextra\\u003e\\u003c\\u002fextra\\u003e\",\"legendgroup\":\"Yes\",\"marker\":{\"color\":\"#EF553B\",\"pattern\":{\"shape\":\"\"}},\"name\":\"Yes\",\"offsetgroup\":\"Yes\",\"orientation\":\"h\",\"showlegend\":true,\"textposition\":\"auto\",\"texttemplate\":\"%{x}\",\"x\":[522],\"xaxis\":\"x\",\"y\":[\"Yes\"],\"yaxis\":\"y\",\"type\":\"bar\"}],                        {\"template\":{\"data\":{\"histogram2dcontour\":[{\"type\":\"histogram2dcontour\",\"colorbar\":{\"outlinewidth\":0,\"ticks\":\"\"},\"colorscale\":[[0.0,\"#0d0887\"],[0.1111111111111111,\"#46039f\"],[0.2222222222222222,\"#7201a8\"],[0.3333333333333333,\"#9c179e\"],[0.4444444444444444,\"#bd3786\"],[0.5555555555555556,\"#d8576b\"],[0.6666666666666666,\"#ed7953\"],[0.7777777777777778,\"#fb9f3a\"],[0.8888888888888888,\"#fdca26\"],[1.0,\"#f0f921\"]]}],\"choropleth\":[{\"type\":\"choropleth\",\"colorbar\":{\"outlinewidth\":0,\"ticks\":\"\"}}],\"histogram2d\":[{\"type\":\"histogram2d\",\"colorbar\":{\"outlinewidth\":0,\"ticks\":\"\"},\"colorscale\":[[0.0,\"#0d0887\"],[0.1111111111111111,\"#46039f\"],[0.2222222222222222,\"#7201a8\"],[0.3333333333333333,\"#9c179e\"],[0.4444444444444444,\"#bd3786\"],[0.5555555555555556,\"#d8576b\"],[0.6666666666666666,\"#ed7953\"],[0.7777777777777778,\"#fb9f3a\"],[0.8888888888888888,\"#fdca26\"],[1.0,\"#f0f921\"]]}],\"heatmap\":[{\"type\":\"heatmap\",\"colorbar\":{\"outlinewidth\":0,\"ticks\":\"\"},\"colorscale\":[[0.0,\"#0d0887\"],[0.1111111111111111,\"#46039f\"],[0.2222222222222222,\"#7201a8\"],[0.3333333333333333,\"#9c179e\"],[0.4444444444444444,\"#bd3786\"],[0.5555555555555556,\"#d8576b\"],[0.6666666666666666,\"#ed7953\"],[0.7777777777777778,\"#fb9f3a\"],[0.8888888888888888,\"#fdca26\"],[1.0,\"#f0f921\"]]}],\"heatmapgl\":[{\"type\":\"heatmapgl\",\"colorbar\":{\"outlinewidth\":0,\"ticks\":\"\"},\"colorscale\":[[0.0,\"#0d0887\"],[0.1111111111111111,\"#46039f\"],[0.2222222222222222,\"#7201a8\"],[0.3333333333333333,\"#9c179e\"],[0.4444444444444444,\"#bd3786\"],[0.5555555555555556,\"#d8576b\"],[0.6666666666666666,\"#ed7953\"],[0.7777777777777778,\"#fb9f3a\"],[0.8888888888888888,\"#fdca26\"],[1.0,\"#f0f921\"]]}],\"contourcarpet\":[{\"type\":\"contourcarpet\",\"colorbar\":{\"outlinewidth\":0,\"ticks\":\"\"}}],\"contour\":[{\"type\":\"contour\",\"colorbar\":{\"outlinewidth\":0,\"ticks\":\"\"},\"colorscale\":[[0.0,\"#0d0887\"],[0.1111111111111111,\"#46039f\"],[0.2222222222222222,\"#7201a8\"],[0.3333333333333333,\"#9c179e\"],[0.4444444444444444,\"#bd3786\"],[0.5555555555555556,\"#d8576b\"],[0.6666666666666666,\"#ed7953\"],[0.7777777777777778,\"#fb9f3a\"],[0.8888888888888888,\"#fdca26\"],[1.0,\"#f0f921\"]]}],\"surface\":[{\"type\":\"surface\",\"colorbar\":{\"outlinewidth\":0,\"ticks\":\"\"},\"colorscale\":[[0.0,\"#0d0887\"],[0.1111111111111111,\"#46039f\"],[0.2222222222222222,\"#7201a8\"],[0.3333333333333333,\"#9c179e\"],[0.4444444444444444,\"#bd3786\"],[0.5555555555555556,\"#d8576b\"],[0.6666666666666666,\"#ed7953\"],[0.7777777777777778,\"#fb9f3a\"],[0.8888888888888888,\"#fdca26\"],[1.0,\"#f0f921\"]]}],\"mesh3d\":[{\"type\":\"mesh3d\",\"colorbar\":{\"outlinewidth\":0,\"ticks\":\"\"}}],\"scatter\":[{\"marker\":{\"line\":{\"color\":\"#283442\"}},\"type\":\"scatter\"}],\"parcoords\":[{\"type\":\"parcoords\",\"line\":{\"colorbar\":{\"outlinewidth\":0,\"ticks\":\"\"}}}],\"scatterpolargl\":[{\"type\":\"scatterpolargl\",\"marker\":{\"colorbar\":{\"outlinewidth\":0,\"ticks\":\"\"}}}],\"bar\":[{\"error_x\":{\"color\":\"#f2f5fa\"},\"error_y\":{\"color\":\"#f2f5fa\"},\"marker\":{\"line\":{\"color\":\"rgb(17,17,17)\",\"width\":0.5},\"pattern\":{\"fillmode\":\"overlay\",\"size\":10,\"solidity\":0.2}},\"type\":\"bar\"}],\"scattergeo\":[{\"type\":\"scattergeo\",\"marker\":{\"colorbar\":{\"outlinewidth\":0,\"ticks\":\"\"}}}],\"scatterpolar\":[{\"type\":\"scatterpolar\",\"marker\":{\"colorbar\":{\"outlinewidth\":0,\"ticks\":\"\"}}}],\"histogram\":[{\"marker\":{\"pattern\":{\"fillmode\":\"overlay\",\"size\":10,\"solidity\":0.2}},\"type\":\"histogram\"}],\"scattergl\":[{\"marker\":{\"line\":{\"color\":\"#283442\"}},\"type\":\"scattergl\"}],\"scatter3d\":[{\"type\":\"scatter3d\",\"line\":{\"colorbar\":{\"outlinewidth\":0,\"ticks\":\"\"}},\"marker\":{\"colorbar\":{\"outlinewidth\":0,\"ticks\":\"\"}}}],\"scattermapbox\":[{\"type\":\"scattermapbox\",\"marker\":{\"colorbar\":{\"outlinewidth\":0,\"ticks\":\"\"}}}],\"scatterternary\":[{\"type\":\"scatterternary\",\"marker\":{\"colorbar\":{\"outlinewidth\":0,\"ticks\":\"\"}}}],\"scattercarpet\":[{\"type\":\"scattercarpet\",\"marker\":{\"colorbar\":{\"outlinewidth\":0,\"ticks\":\"\"}}}],\"carpet\":[{\"aaxis\":{\"endlinecolor\":\"#A2B1C6\",\"gridcolor\":\"#506784\",\"linecolor\":\"#506784\",\"minorgridcolor\":\"#506784\",\"startlinecolor\":\"#A2B1C6\"},\"baxis\":{\"endlinecolor\":\"#A2B1C6\",\"gridcolor\":\"#506784\",\"linecolor\":\"#506784\",\"minorgridcolor\":\"#506784\",\"startlinecolor\":\"#A2B1C6\"},\"type\":\"carpet\"}],\"table\":[{\"cells\":{\"fill\":{\"color\":\"#506784\"},\"line\":{\"color\":\"rgb(17,17,17)\"}},\"header\":{\"fill\":{\"color\":\"#2a3f5f\"},\"line\":{\"color\":\"rgb(17,17,17)\"}},\"type\":\"table\"}],\"barpolar\":[{\"marker\":{\"line\":{\"color\":\"rgb(17,17,17)\",\"width\":0.5},\"pattern\":{\"fillmode\":\"overlay\",\"size\":10,\"solidity\":0.2}},\"type\":\"barpolar\"}],\"pie\":[{\"automargin\":true,\"type\":\"pie\"}]},\"layout\":{\"autotypenumbers\":\"strict\",\"colorway\":[\"#636efa\",\"#EF553B\",\"#00cc96\",\"#ab63fa\",\"#FFA15A\",\"#19d3f3\",\"#FF6692\",\"#B6E880\",\"#FF97FF\",\"#FECB52\"],\"font\":{\"color\":\"#f2f5fa\"},\"hovermode\":\"closest\",\"hoverlabel\":{\"align\":\"left\"},\"paper_bgcolor\":\"rgb(17,17,17)\",\"plot_bgcolor\":\"rgb(17,17,17)\",\"polar\":{\"bgcolor\":\"rgb(17,17,17)\",\"angularaxis\":{\"gridcolor\":\"#506784\",\"linecolor\":\"#506784\",\"ticks\":\"\"},\"radialaxis\":{\"gridcolor\":\"#506784\",\"linecolor\":\"#506784\",\"ticks\":\"\"}},\"ternary\":{\"bgcolor\":\"rgb(17,17,17)\",\"aaxis\":{\"gridcolor\":\"#506784\",\"linecolor\":\"#506784\",\"ticks\":\"\"},\"baxis\":{\"gridcolor\":\"#506784\",\"linecolor\":\"#506784\",\"ticks\":\"\"},\"caxis\":{\"gridcolor\":\"#506784\",\"linecolor\":\"#506784\",\"ticks\":\"\"}},\"coloraxis\":{\"colorbar\":{\"outlinewidth\":0,\"ticks\":\"\"}},\"colorscale\":{\"sequential\":[[0.0,\"#0d0887\"],[0.1111111111111111,\"#46039f\"],[0.2222222222222222,\"#7201a8\"],[0.3333333333333333,\"#9c179e\"],[0.4444444444444444,\"#bd3786\"],[0.5555555555555556,\"#d8576b\"],[0.6666666666666666,\"#ed7953\"],[0.7777777777777778,\"#fb9f3a\"],[0.8888888888888888,\"#fdca26\"],[1.0,\"#f0f921\"]],\"sequentialminus\":[[0.0,\"#0d0887\"],[0.1111111111111111,\"#46039f\"],[0.2222222222222222,\"#7201a8\"],[0.3333333333333333,\"#9c179e\"],[0.4444444444444444,\"#bd3786\"],[0.5555555555555556,\"#d8576b\"],[0.6666666666666666,\"#ed7953\"],[0.7777777777777778,\"#fb9f3a\"],[0.8888888888888888,\"#fdca26\"],[1.0,\"#f0f921\"]],\"diverging\":[[0,\"#8e0152\"],[0.1,\"#c51b7d\"],[0.2,\"#de77ae\"],[0.3,\"#f1b6da\"],[0.4,\"#fde0ef\"],[0.5,\"#f7f7f7\"],[0.6,\"#e6f5d0\"],[0.7,\"#b8e186\"],[0.8,\"#7fbc41\"],[0.9,\"#4d9221\"],[1,\"#276419\"]]},\"xaxis\":{\"gridcolor\":\"#283442\",\"linecolor\":\"#506784\",\"ticks\":\"\",\"title\":{\"standoff\":15},\"zerolinecolor\":\"#283442\",\"automargin\":true,\"zerolinewidth\":2},\"yaxis\":{\"gridcolor\":\"#283442\",\"linecolor\":\"#506784\",\"ticks\":\"\",\"title\":{\"standoff\":15},\"zerolinecolor\":\"#283442\",\"automargin\":true,\"zerolinewidth\":2},\"scene\":{\"xaxis\":{\"backgroundcolor\":\"rgb(17,17,17)\",\"gridcolor\":\"#506784\",\"linecolor\":\"#506784\",\"showbackground\":true,\"ticks\":\"\",\"zerolinecolor\":\"#C8D4E3\",\"gridwidth\":2},\"yaxis\":{\"backgroundcolor\":\"rgb(17,17,17)\",\"gridcolor\":\"#506784\",\"linecolor\":\"#506784\",\"showbackground\":true,\"ticks\":\"\",\"zerolinecolor\":\"#C8D4E3\",\"gridwidth\":2},\"zaxis\":{\"backgroundcolor\":\"rgb(17,17,17)\",\"gridcolor\":\"#506784\",\"linecolor\":\"#506784\",\"showbackground\":true,\"ticks\":\"\",\"zerolinecolor\":\"#C8D4E3\",\"gridwidth\":2}},\"shapedefaults\":{\"line\":{\"color\":\"#f2f5fa\"}},\"annotationdefaults\":{\"arrowcolor\":\"#f2f5fa\",\"arrowhead\":0,\"arrowwidth\":1},\"geo\":{\"bgcolor\":\"rgb(17,17,17)\",\"landcolor\":\"rgb(17,17,17)\",\"subunitcolor\":\"#506784\",\"showland\":true,\"showlakes\":true,\"lakecolor\":\"rgb(17,17,17)\"},\"title\":{\"x\":0.05},\"updatemenudefaults\":{\"bgcolor\":\"#506784\",\"borderwidth\":0},\"sliderdefaults\":{\"bgcolor\":\"#C8D4E3\",\"borderwidth\":1,\"bordercolor\":\"rgb(17,17,17)\",\"tickwidth\":0},\"mapbox\":{\"style\":\"dark\"}}},\"xaxis\":{\"anchor\":\"y\",\"domain\":[0.0,1.0],\"title\":{\"text\":\"Securities Account\"}},\"yaxis\":{\"anchor\":\"x\",\"domain\":[0.0,1.0],\"title\":{\"text\":\"Counts\"}},\"legend\":{\"title\":{\"text\":\"color\"},\"tracegroupgap\":0},\"title\":{\"text\":\"Distribution of Securities Account\"},\"barmode\":\"relative\"},                        {\"responsive\": true}                    ).then(function(){\n                            \nvar gd = document.getElementById('28099cff-fdb2-4240-a53e-b54c17e0d63d');\nvar x = new MutationObserver(function (mutations, observer) {{\n        var display = window.getComputedStyle(gd).display;\n        if (!display || display === 'none') {{\n            console.log([gd, 'removed!']);\n            Plotly.purge(gd);\n            observer.disconnect();\n        }}\n}});\n\n// Listen for the removal of the full notebook cells\nvar notebookContainer = gd.closest('#notebook-container');\nif (notebookContainer) {{\n    x.observe(notebookContainer, {childList: true});\n}}\n\n// Listen for the clearing of the current output cell\nvar outputEl = gd.closest('.output');\nif (outputEl) {{\n    x.observe(outputEl, {childList: true});\n}}\n\n                        })                };                });            </script>        </div>"
     },
     "metadata": {},
     "output_type": "display_data"
    }
   ],
   "source": [
    "loan = pd.cut(data['Securities Account'], bins=2)\n",
    "counts = loan.value_counts().sort_index()\n",
    "legend_names = ['No', 'Yes']\n",
    "fig = px.bar(x=counts.values, y=legend_names, title='Distribution of Securities Account', color=legend_names, text_auto=True, orientation='h')\n",
    "fig.update_layout(xaxis_title='Securities Account', yaxis_title='Counts')\n",
    "fig.show()"
   ],
   "metadata": {
    "collapsed": false,
    "ExecuteTime": {
     "end_time": "2024-03-17T08:46:29.985259Z",
     "start_time": "2024-03-17T08:46:29.933827Z"
    }
   },
   "id": "4af5bf86d285e4dd",
   "execution_count": 172
  },
  {
   "cell_type": "code",
   "outputs": [
    {
     "data": {
      "application/vnd.plotly.v1+json": {
       "data": [
        {
         "branchvalues": "total",
         "customdata": [
          [
           "3.0"
          ],
          [
           "2.6"
          ],
          [
           "2.3"
          ],
          [
           "0.5"
          ],
          [
           "2.7"
          ],
          [
           "1.1"
          ],
          [
           "2.1"
          ],
          [
           "3.8"
          ],
          [
           "2.4"
          ],
          [
           "0.3"
          ],
          [
           "5.0"
          ],
          [
           "5.7"
          ],
          [
           "0.2"
          ],
          [
           "5.2"
          ],
          [
           "1.0"
          ],
          [
           "0.7"
          ],
          [
           "0.3"
          ],
          [
           "1.3"
          ],
          [
           "2.3"
          ],
          [
           "1.5"
          ],
          [
           "2.0"
          ],
          [
           "1.0"
          ],
          [
           "1.8"
          ],
          [
           "1.7"
          ],
          [
           "(?)"
          ],
          [
           "1.4"
          ],
          [
           "0.9"
          ],
          [
           "4.0"
          ],
          [
           "0.2"
          ],
          [
           "0.1"
          ],
          [
           "2.9"
          ],
          [
           "1.8"
          ],
          [
           "1.2"
          ],
          [
           "0.9"
          ],
          [
           "2.7"
          ],
          [
           "8.0"
          ],
          [
           "1.6"
          ],
          [
           "0.6"
          ],
          [
           "0.1"
          ],
          [
           "0.3"
          ],
          [
           "0.0"
          ],
          [
           "1.7"
          ],
          [
           "2.8"
          ],
          [
           "(?)"
          ],
          [
           "1.5"
          ],
          [
           "2.2"
          ],
          [
           "0.6"
          ],
          [
           "3.8"
          ],
          [
           "1.3"
          ],
          [
           "0.9"
          ],
          [
           "3.8"
          ],
          [
           "2.4"
          ],
          [
           "(?)"
          ],
          [
           "1.1"
          ],
          [
           "1.8"
          ],
          [
           "0.7"
          ],
          [
           "1.1"
          ],
          [
           "(?)"
          ],
          [
           "0.4"
          ],
          [
           "0.6"
          ],
          [
           "2.0"
          ],
          [
           "5.6"
          ],
          [
           "0.2"
          ],
          [
           "8.1"
          ],
          [
           "3.5"
          ],
          [
           "2.3"
          ],
          [
           "1.5"
          ],
          [
           "3.3"
          ],
          [
           "4.7"
          ],
          [
           "1.2"
          ],
          [
           "3.9"
          ],
          [
           "5.0"
          ],
          [
           "3.3"
          ],
          [
           "0.5"
          ],
          [
           "1.0"
          ],
          [
           "4.6"
          ],
          [
           "8.9"
          ],
          [
           "2.2"
          ],
          [
           "2.8"
          ],
          [
           "0.7"
          ],
          [
           "1.6"
          ],
          [
           "4.5"
          ],
          [
           "2.0"
          ],
          [
           "2.9"
          ],
          [
           "2.5"
          ],
          [
           "0.7"
          ],
          [
           "0.4"
          ]
         ],
         "domain": {
          "x": [
           0.0,
           1.0
          ],
          "y": [
           0.0,
           1.0
          ]
         },
         "hovertemplate": "labels=%{label}<br>value=%{value}<br>parent=%{parent}<br>id=%{id}<br>color=%{customdata[0]}<extra></extra>",
         "ids": [
          "Family(3 people)/3.0",
          "Family(2 people)/2.6",
          "Family(4 people)/2.3",
          "Family(1 person)/0.5",
          "Family(3 people)/2.7",
          "Family(2 people)/1.1",
          "Family(3 people)/2.1",
          "Family(4 people)/3.8",
          "Family(4 people)/2.4",
          "Family(2 people)/0.3",
          "Family(3 people)/5.0",
          "Family(1 person)/5.7",
          "Family(4 people)/0.2",
          "Family(1 person)/5.2",
          "Family(4 people)/1.0",
          "Family(4 people)/0.7",
          "Family(3 people)/0.3",
          "Family(4 people)/1.3",
          "Family(2 people)/2.3",
          "Family(2 people)/1.5",
          "Family(4 people)/2.0",
          "Family(1 person)/1.0",
          "Family(4 people)/1.8",
          "Family(2 people)/1.7",
          "Family(2 people)",
          "Family(1 person)/1.4",
          "Family(1 person)/0.9",
          "Family(1 person)/4.0",
          "Family(2 people)/0.2",
          "Family(3 people)/0.1",
          "Family(4 people)/2.9",
          "Family(3 people)/1.8",
          "Family(2 people)/1.2",
          "Family(4 people)/0.9",
          "Family(1 person)/2.7",
          "Family(2 people)/8.0",
          "Family(3 people)/1.6",
          "Family(3 people)/0.6",
          "Family(1 person)/0.1",
          "Family(1 person)/0.3",
          "Family(4 people)/0.0",
          "Family(3 people)/1.7",
          "Family(2 people)/2.8",
          "Family(3 people)",
          "Family(1 person)/1.5",
          "Family(4 people)/2.2",
          "Family(2 people)/0.6",
          "Family(1 person)/3.8",
          "Family(3 people)/1.3",
          "Family(3 people)/0.9",
          "Family(2 people)/3.8",
          "Family(1 person)/2.4",
          "Family(4 people)",
          "Family(4 people)/1.1",
          "Family(1 person)/1.8",
          "Family(2 people)/0.7",
          "Family(3 people)/1.1",
          "Family(1 person)",
          "Family(4 people)/0.4",
          "Family(1 person)/0.6",
          "Family(3 people)/2.0",
          "Family(4 people)/5.6",
          "Family(1 person)/0.2",
          "Family(2 people)/8.1",
          "Family(1 person)/3.5",
          "Family(3 people)/2.3",
          "Family(3 people)/1.5",
          "Family(1 person)/3.3",
          "Family(4 people)/4.7",
          "Family(1 person)/1.2",
          "Family(2 people)/3.9",
          "Family(1 person)/5.0",
          "Family(2 people)/3.3",
          "Family(3 people)/0.5",
          "Family(3 people)/1.0",
          "Family(1 person)/4.6",
          "Family(1 person)/8.9",
          "Family(1 person)/2.2",
          "Family(1 person)/2.8",
          "Family(1 person)/0.7",
          "Family(4 people)/1.6",
          "Family(2 people)/4.5",
          "Family(1 person)/2.0",
          "Family(1 person)/2.9",
          "Family(4 people)/2.5",
          "Family(3 people)/0.7",
          "Family(2 people)/0.4"
         ],
         "labels": [
          "3.0",
          "2.6",
          "2.3",
          "0.5",
          "2.7",
          "1.1",
          "2.1",
          "3.8",
          "2.4",
          "0.3",
          "5.0",
          "5.7",
          "0.2",
          "5.2",
          "1.0",
          "0.7",
          "0.3",
          "1.3",
          "2.3",
          "1.5",
          "2.0",
          "1.0",
          "1.8",
          "1.7",
          "Family(2 people)",
          "1.4",
          "0.9",
          "4.0",
          "0.2",
          "0.1",
          "2.9",
          "1.8",
          "1.2",
          "0.9",
          "2.7",
          "8.0",
          "1.6",
          "0.6",
          "0.1",
          "0.3",
          "0.0",
          "1.7",
          "2.8",
          "Family(3 people)",
          "1.5",
          "2.2",
          "0.6",
          "3.8",
          "1.3",
          "0.9",
          "3.8",
          "2.4",
          "Family(4 people)",
          "1.1",
          "1.8",
          "0.7",
          "1.1",
          "Family(1 person)",
          "0.4",
          "0.6",
          "2.0",
          "5.6",
          "0.2",
          "8.1",
          "3.5",
          "2.3",
          "1.5",
          "3.3",
          "4.7",
          "1.2",
          "3.9",
          "5.0",
          "3.3",
          "0.5",
          "1.0",
          "4.6",
          "8.9",
          "2.2",
          "2.8",
          "0.7",
          "1.6",
          "4.5",
          "2.0",
          "2.9",
          "2.5",
          "0.7",
          "0.4"
         ],
         "marker": {
          "colors": [
           "#636efa",
           "#EF553B",
           "#00cc96",
           "#ab63fa",
           "#FFA15A",
           "#19d3f3",
           "#FF6692",
           "#B6E880",
           "#FF97FF",
           "#FECB52",
           "#636efa",
           "#EF553B",
           "#00cc96",
           "#ab63fa",
           "#FFA15A",
           "#19d3f3",
           "#FECB52",
           "#FF6692",
           "#00cc96",
           "#B6E880",
           "#FF97FF",
           "#FFA15A",
           "#FECB52",
           "#636efa",
           "#EF553B",
           "#00cc96",
           "#ab63fa",
           "#FFA15A",
           "#00cc96",
           "#19d3f3",
           "#FF6692",
           "#FECB52",
           "#B6E880",
           "#ab63fa",
           "#FFA15A",
           "#FF97FF",
           "#FECB52",
           "#636efa",
           "#19d3f3",
           "#FECB52",
           "#EF553B",
           "#636efa",
           "#00cc96",
           "#EF553B",
           "#B6E880",
           "#ab63fa",
           "#636efa",
           "#B6E880",
           "#FF6692",
           "#ab63fa",
           "#B6E880",
           "#FF97FF",
           "#EF553B",
           "#19d3f3",
           "#FECB52",
           "#19d3f3",
           "#19d3f3",
           "#EF553B",
           "#FFA15A",
           "#636efa",
           "#FF97FF",
           "#19d3f3",
           "#00cc96",
           "#FF6692",
           "#B6E880",
           "#00cc96",
           "#B6E880",
           "#FF97FF",
           "#FECB52",
           "#B6E880",
           "#636efa",
           "#636efa",
           "#FF97FF",
           "#ab63fa",
           "#FFA15A",
           "#EF553B",
           "#00cc96",
           "#ab63fa",
           "#00cc96",
           "#19d3f3",
           "#FECB52",
           "#ab63fa",
           "#FF97FF",
           "#FF6692",
           "#FFA15A",
           "#19d3f3",
           "#FFA15A"
          ]
         },
         "name": "",
         "parents": [
          "Family(3 people)",
          "Family(2 people)",
          "Family(4 people)",
          "Family(1 person)",
          "Family(3 people)",
          "Family(2 people)",
          "Family(3 people)",
          "Family(4 people)",
          "Family(4 people)",
          "Family(2 people)",
          "Family(3 people)",
          "Family(1 person)",
          "Family(4 people)",
          "Family(1 person)",
          "Family(4 people)",
          "Family(4 people)",
          "Family(3 people)",
          "Family(4 people)",
          "Family(2 people)",
          "Family(2 people)",
          "Family(4 people)",
          "Family(1 person)",
          "Family(4 people)",
          "Family(2 people)",
          "",
          "Family(1 person)",
          "Family(1 person)",
          "Family(1 person)",
          "Family(2 people)",
          "Family(3 people)",
          "Family(4 people)",
          "Family(3 people)",
          "Family(2 people)",
          "Family(4 people)",
          "Family(1 person)",
          "Family(2 people)",
          "Family(3 people)",
          "Family(3 people)",
          "Family(1 person)",
          "Family(1 person)",
          "Family(4 people)",
          "Family(3 people)",
          "Family(2 people)",
          "",
          "Family(1 person)",
          "Family(4 people)",
          "Family(2 people)",
          "Family(1 person)",
          "Family(3 people)",
          "Family(3 people)",
          "Family(2 people)",
          "Family(1 person)",
          "",
          "Family(4 people)",
          "Family(1 person)",
          "Family(2 people)",
          "Family(3 people)",
          "",
          "Family(4 people)",
          "Family(1 person)",
          "Family(3 people)",
          "Family(4 people)",
          "Family(1 person)",
          "Family(2 people)",
          "Family(1 person)",
          "Family(3 people)",
          "Family(3 people)",
          "Family(1 person)",
          "Family(4 people)",
          "Family(1 person)",
          "Family(2 people)",
          "Family(1 person)",
          "Family(2 people)",
          "Family(3 people)",
          "Family(3 people)",
          "Family(1 person)",
          "Family(1 person)",
          "Family(1 person)",
          "Family(1 person)",
          "Family(1 person)",
          "Family(4 people)",
          "Family(2 people)",
          "Family(1 person)",
          "Family(1 person)",
          "Family(4 people)",
          "Family(3 people)",
          "Family(2 people)"
         ],
         "values": [
          7.2,
          7.5,
          7.4,
          8.6,
          7.5,
          7.4,
          15.5,
          7.5,
          17.4,
          7.3,
          8.1,
          15.8,
          31.3,
          7.4,
          16.6,
          16.0,
          7.5,
          22.0,
          7.2,
          8.9,
          7.6,
          17.8,
          15.5,
          7.4,
          164.9,
          8.1,
          7.5,
          15.0,
          7.8,
          31.2,
          7.3,
          7.2,
          7.8,
          8.6,
          9.3,
          7.8,
          8.0,
          16.200000000000003,
          7.9,
          16.1,
          7.8,
          7.8,
          14.8,
          226.6,
          16.0,
          7.4,
          8.1,
          7.6,
          7.3,
          8.1,
          8.8,
          15.8,
          239.6,
          15.4,
          8.0,
          8.6,
          7.4,
          317.7,
          9.0,
          7.2,
          8.6,
          7.4,
          7.9,
          8.6,
          7.6,
          8.0,
          10.0,
          8.1,
          8.6,
          24.0,
          8.5,
          7.6,
          15.1,
          23.2,
          21.7,
          7.2,
          8.8,
          8.2,
          7.2,
          15.3,
          10.0,
          15.8,
          24.3,
          23.4,
          16.8,
          16.1,
          7.5
         ],
         "type": "sunburst"
        }
       ],
       "layout": {
        "template": {
         "data": {
          "histogram2dcontour": [
           {
            "type": "histogram2dcontour",
            "colorbar": {
             "outlinewidth": 0,
             "ticks": ""
            },
            "colorscale": [
             [
              0.0,
              "#0d0887"
             ],
             [
              0.1111111111111111,
              "#46039f"
             ],
             [
              0.2222222222222222,
              "#7201a8"
             ],
             [
              0.3333333333333333,
              "#9c179e"
             ],
             [
              0.4444444444444444,
              "#bd3786"
             ],
             [
              0.5555555555555556,
              "#d8576b"
             ],
             [
              0.6666666666666666,
              "#ed7953"
             ],
             [
              0.7777777777777778,
              "#fb9f3a"
             ],
             [
              0.8888888888888888,
              "#fdca26"
             ],
             [
              1.0,
              "#f0f921"
             ]
            ]
           }
          ],
          "choropleth": [
           {
            "type": "choropleth",
            "colorbar": {
             "outlinewidth": 0,
             "ticks": ""
            }
           }
          ],
          "histogram2d": [
           {
            "type": "histogram2d",
            "colorbar": {
             "outlinewidth": 0,
             "ticks": ""
            },
            "colorscale": [
             [
              0.0,
              "#0d0887"
             ],
             [
              0.1111111111111111,
              "#46039f"
             ],
             [
              0.2222222222222222,
              "#7201a8"
             ],
             [
              0.3333333333333333,
              "#9c179e"
             ],
             [
              0.4444444444444444,
              "#bd3786"
             ],
             [
              0.5555555555555556,
              "#d8576b"
             ],
             [
              0.6666666666666666,
              "#ed7953"
             ],
             [
              0.7777777777777778,
              "#fb9f3a"
             ],
             [
              0.8888888888888888,
              "#fdca26"
             ],
             [
              1.0,
              "#f0f921"
             ]
            ]
           }
          ],
          "heatmap": [
           {
            "type": "heatmap",
            "colorbar": {
             "outlinewidth": 0,
             "ticks": ""
            },
            "colorscale": [
             [
              0.0,
              "#0d0887"
             ],
             [
              0.1111111111111111,
              "#46039f"
             ],
             [
              0.2222222222222222,
              "#7201a8"
             ],
             [
              0.3333333333333333,
              "#9c179e"
             ],
             [
              0.4444444444444444,
              "#bd3786"
             ],
             [
              0.5555555555555556,
              "#d8576b"
             ],
             [
              0.6666666666666666,
              "#ed7953"
             ],
             [
              0.7777777777777778,
              "#fb9f3a"
             ],
             [
              0.8888888888888888,
              "#fdca26"
             ],
             [
              1.0,
              "#f0f921"
             ]
            ]
           }
          ],
          "heatmapgl": [
           {
            "type": "heatmapgl",
            "colorbar": {
             "outlinewidth": 0,
             "ticks": ""
            },
            "colorscale": [
             [
              0.0,
              "#0d0887"
             ],
             [
              0.1111111111111111,
              "#46039f"
             ],
             [
              0.2222222222222222,
              "#7201a8"
             ],
             [
              0.3333333333333333,
              "#9c179e"
             ],
             [
              0.4444444444444444,
              "#bd3786"
             ],
             [
              0.5555555555555556,
              "#d8576b"
             ],
             [
              0.6666666666666666,
              "#ed7953"
             ],
             [
              0.7777777777777778,
              "#fb9f3a"
             ],
             [
              0.8888888888888888,
              "#fdca26"
             ],
             [
              1.0,
              "#f0f921"
             ]
            ]
           }
          ],
          "contourcarpet": [
           {
            "type": "contourcarpet",
            "colorbar": {
             "outlinewidth": 0,
             "ticks": ""
            }
           }
          ],
          "contour": [
           {
            "type": "contour",
            "colorbar": {
             "outlinewidth": 0,
             "ticks": ""
            },
            "colorscale": [
             [
              0.0,
              "#0d0887"
             ],
             [
              0.1111111111111111,
              "#46039f"
             ],
             [
              0.2222222222222222,
              "#7201a8"
             ],
             [
              0.3333333333333333,
              "#9c179e"
             ],
             [
              0.4444444444444444,
              "#bd3786"
             ],
             [
              0.5555555555555556,
              "#d8576b"
             ],
             [
              0.6666666666666666,
              "#ed7953"
             ],
             [
              0.7777777777777778,
              "#fb9f3a"
             ],
             [
              0.8888888888888888,
              "#fdca26"
             ],
             [
              1.0,
              "#f0f921"
             ]
            ]
           }
          ],
          "surface": [
           {
            "type": "surface",
            "colorbar": {
             "outlinewidth": 0,
             "ticks": ""
            },
            "colorscale": [
             [
              0.0,
              "#0d0887"
             ],
             [
              0.1111111111111111,
              "#46039f"
             ],
             [
              0.2222222222222222,
              "#7201a8"
             ],
             [
              0.3333333333333333,
              "#9c179e"
             ],
             [
              0.4444444444444444,
              "#bd3786"
             ],
             [
              0.5555555555555556,
              "#d8576b"
             ],
             [
              0.6666666666666666,
              "#ed7953"
             ],
             [
              0.7777777777777778,
              "#fb9f3a"
             ],
             [
              0.8888888888888888,
              "#fdca26"
             ],
             [
              1.0,
              "#f0f921"
             ]
            ]
           }
          ],
          "mesh3d": [
           {
            "type": "mesh3d",
            "colorbar": {
             "outlinewidth": 0,
             "ticks": ""
            }
           }
          ],
          "scatter": [
           {
            "marker": {
             "line": {
              "color": "#283442"
             }
            },
            "type": "scatter"
           }
          ],
          "parcoords": [
           {
            "type": "parcoords",
            "line": {
             "colorbar": {
              "outlinewidth": 0,
              "ticks": ""
             }
            }
           }
          ],
          "scatterpolargl": [
           {
            "type": "scatterpolargl",
            "marker": {
             "colorbar": {
              "outlinewidth": 0,
              "ticks": ""
             }
            }
           }
          ],
          "bar": [
           {
            "error_x": {
             "color": "#f2f5fa"
            },
            "error_y": {
             "color": "#f2f5fa"
            },
            "marker": {
             "line": {
              "color": "rgb(17,17,17)",
              "width": 0.5
             },
             "pattern": {
              "fillmode": "overlay",
              "size": 10,
              "solidity": 0.2
             }
            },
            "type": "bar"
           }
          ],
          "scattergeo": [
           {
            "type": "scattergeo",
            "marker": {
             "colorbar": {
              "outlinewidth": 0,
              "ticks": ""
             }
            }
           }
          ],
          "scatterpolar": [
           {
            "type": "scatterpolar",
            "marker": {
             "colorbar": {
              "outlinewidth": 0,
              "ticks": ""
             }
            }
           }
          ],
          "histogram": [
           {
            "marker": {
             "pattern": {
              "fillmode": "overlay",
              "size": 10,
              "solidity": 0.2
             }
            },
            "type": "histogram"
           }
          ],
          "scattergl": [
           {
            "marker": {
             "line": {
              "color": "#283442"
             }
            },
            "type": "scattergl"
           }
          ],
          "scatter3d": [
           {
            "type": "scatter3d",
            "line": {
             "colorbar": {
              "outlinewidth": 0,
              "ticks": ""
             }
            },
            "marker": {
             "colorbar": {
              "outlinewidth": 0,
              "ticks": ""
             }
            }
           }
          ],
          "scattermapbox": [
           {
            "type": "scattermapbox",
            "marker": {
             "colorbar": {
              "outlinewidth": 0,
              "ticks": ""
             }
            }
           }
          ],
          "scatterternary": [
           {
            "type": "scatterternary",
            "marker": {
             "colorbar": {
              "outlinewidth": 0,
              "ticks": ""
             }
            }
           }
          ],
          "scattercarpet": [
           {
            "type": "scattercarpet",
            "marker": {
             "colorbar": {
              "outlinewidth": 0,
              "ticks": ""
             }
            }
           }
          ],
          "carpet": [
           {
            "aaxis": {
             "endlinecolor": "#A2B1C6",
             "gridcolor": "#506784",
             "linecolor": "#506784",
             "minorgridcolor": "#506784",
             "startlinecolor": "#A2B1C6"
            },
            "baxis": {
             "endlinecolor": "#A2B1C6",
             "gridcolor": "#506784",
             "linecolor": "#506784",
             "minorgridcolor": "#506784",
             "startlinecolor": "#A2B1C6"
            },
            "type": "carpet"
           }
          ],
          "table": [
           {
            "cells": {
             "fill": {
              "color": "#506784"
             },
             "line": {
              "color": "rgb(17,17,17)"
             }
            },
            "header": {
             "fill": {
              "color": "#2a3f5f"
             },
             "line": {
              "color": "rgb(17,17,17)"
             }
            },
            "type": "table"
           }
          ],
          "barpolar": [
           {
            "marker": {
             "line": {
              "color": "rgb(17,17,17)",
              "width": 0.5
             },
             "pattern": {
              "fillmode": "overlay",
              "size": 10,
              "solidity": 0.2
             }
            },
            "type": "barpolar"
           }
          ],
          "pie": [
           {
            "automargin": true,
            "type": "pie"
           }
          ]
         },
         "layout": {
          "autotypenumbers": "strict",
          "colorway": [
           "#636efa",
           "#EF553B",
           "#00cc96",
           "#ab63fa",
           "#FFA15A",
           "#19d3f3",
           "#FF6692",
           "#B6E880",
           "#FF97FF",
           "#FECB52"
          ],
          "font": {
           "color": "#f2f5fa"
          },
          "hovermode": "closest",
          "hoverlabel": {
           "align": "left"
          },
          "paper_bgcolor": "rgb(17,17,17)",
          "plot_bgcolor": "rgb(17,17,17)",
          "polar": {
           "bgcolor": "rgb(17,17,17)",
           "angularaxis": {
            "gridcolor": "#506784",
            "linecolor": "#506784",
            "ticks": ""
           },
           "radialaxis": {
            "gridcolor": "#506784",
            "linecolor": "#506784",
            "ticks": ""
           }
          },
          "ternary": {
           "bgcolor": "rgb(17,17,17)",
           "aaxis": {
            "gridcolor": "#506784",
            "linecolor": "#506784",
            "ticks": ""
           },
           "baxis": {
            "gridcolor": "#506784",
            "linecolor": "#506784",
            "ticks": ""
           },
           "caxis": {
            "gridcolor": "#506784",
            "linecolor": "#506784",
            "ticks": ""
           }
          },
          "coloraxis": {
           "colorbar": {
            "outlinewidth": 0,
            "ticks": ""
           }
          },
          "colorscale": {
           "sequential": [
            [
             0.0,
             "#0d0887"
            ],
            [
             0.1111111111111111,
             "#46039f"
            ],
            [
             0.2222222222222222,
             "#7201a8"
            ],
            [
             0.3333333333333333,
             "#9c179e"
            ],
            [
             0.4444444444444444,
             "#bd3786"
            ],
            [
             0.5555555555555556,
             "#d8576b"
            ],
            [
             0.6666666666666666,
             "#ed7953"
            ],
            [
             0.7777777777777778,
             "#fb9f3a"
            ],
            [
             0.8888888888888888,
             "#fdca26"
            ],
            [
             1.0,
             "#f0f921"
            ]
           ],
           "sequentialminus": [
            [
             0.0,
             "#0d0887"
            ],
            [
             0.1111111111111111,
             "#46039f"
            ],
            [
             0.2222222222222222,
             "#7201a8"
            ],
            [
             0.3333333333333333,
             "#9c179e"
            ],
            [
             0.4444444444444444,
             "#bd3786"
            ],
            [
             0.5555555555555556,
             "#d8576b"
            ],
            [
             0.6666666666666666,
             "#ed7953"
            ],
            [
             0.7777777777777778,
             "#fb9f3a"
            ],
            [
             0.8888888888888888,
             "#fdca26"
            ],
            [
             1.0,
             "#f0f921"
            ]
           ],
           "diverging": [
            [
             0,
             "#8e0152"
            ],
            [
             0.1,
             "#c51b7d"
            ],
            [
             0.2,
             "#de77ae"
            ],
            [
             0.3,
             "#f1b6da"
            ],
            [
             0.4,
             "#fde0ef"
            ],
            [
             0.5,
             "#f7f7f7"
            ],
            [
             0.6,
             "#e6f5d0"
            ],
            [
             0.7,
             "#b8e186"
            ],
            [
             0.8,
             "#7fbc41"
            ],
            [
             0.9,
             "#4d9221"
            ],
            [
             1,
             "#276419"
            ]
           ]
          },
          "xaxis": {
           "gridcolor": "#283442",
           "linecolor": "#506784",
           "ticks": "",
           "title": {
            "standoff": 15
           },
           "zerolinecolor": "#283442",
           "automargin": true,
           "zerolinewidth": 2
          },
          "yaxis": {
           "gridcolor": "#283442",
           "linecolor": "#506784",
           "ticks": "",
           "title": {
            "standoff": 15
           },
           "zerolinecolor": "#283442",
           "automargin": true,
           "zerolinewidth": 2
          },
          "scene": {
           "xaxis": {
            "backgroundcolor": "rgb(17,17,17)",
            "gridcolor": "#506784",
            "linecolor": "#506784",
            "showbackground": true,
            "ticks": "",
            "zerolinecolor": "#C8D4E3",
            "gridwidth": 2
           },
           "yaxis": {
            "backgroundcolor": "rgb(17,17,17)",
            "gridcolor": "#506784",
            "linecolor": "#506784",
            "showbackground": true,
            "ticks": "",
            "zerolinecolor": "#C8D4E3",
            "gridwidth": 2
           },
           "zaxis": {
            "backgroundcolor": "rgb(17,17,17)",
            "gridcolor": "#506784",
            "linecolor": "#506784",
            "showbackground": true,
            "ticks": "",
            "zerolinecolor": "#C8D4E3",
            "gridwidth": 2
           }
          },
          "shapedefaults": {
           "line": {
            "color": "#f2f5fa"
           }
          },
          "annotationdefaults": {
           "arrowcolor": "#f2f5fa",
           "arrowhead": 0,
           "arrowwidth": 1
          },
          "geo": {
           "bgcolor": "rgb(17,17,17)",
           "landcolor": "rgb(17,17,17)",
           "subunitcolor": "#506784",
           "showland": true,
           "showlakes": true,
           "lakecolor": "rgb(17,17,17)"
          },
          "title": {
           "x": 0.05
          },
          "updatemenudefaults": {
           "bgcolor": "#506784",
           "borderwidth": 0
          },
          "sliderdefaults": {
           "bgcolor": "#C8D4E3",
           "borderwidth": 1,
           "bordercolor": "rgb(17,17,17)",
           "tickwidth": 0
          },
          "mapbox": {
           "style": "dark"
          }
         }
        },
        "legend": {
         "tracegroupgap": 0
        },
        "margin": {
         "t": 60
        },
        "title": {
         "text": "Chart of Top 30 CCAvg Values for Each Family Category"
        }
       },
       "config": {
        "plotlyServerURL": "https://plot.ly"
       }
      },
      "text/html": "<div>                            <div id=\"174424d1-2ba2-4e4e-ada5-ebd04f68f18d\" class=\"plotly-graph-div\" style=\"height:525px; width:100%;\"></div>            <script type=\"text/javascript\">                require([\"plotly\"], function(Plotly) {                    window.PLOTLYENV=window.PLOTLYENV || {};                                    if (document.getElementById(\"174424d1-2ba2-4e4e-ada5-ebd04f68f18d\")) {                    Plotly.newPlot(                        \"174424d1-2ba2-4e4e-ada5-ebd04f68f18d\",                        [{\"branchvalues\":\"total\",\"customdata\":[[\"3.0\"],[\"2.6\"],[\"2.3\"],[\"0.5\"],[\"2.7\"],[\"1.1\"],[\"2.1\"],[\"3.8\"],[\"2.4\"],[\"0.3\"],[\"5.0\"],[\"5.7\"],[\"0.2\"],[\"5.2\"],[\"1.0\"],[\"0.7\"],[\"0.3\"],[\"1.3\"],[\"2.3\"],[\"1.5\"],[\"2.0\"],[\"1.0\"],[\"1.8\"],[\"1.7\"],[\"(?)\"],[\"1.4\"],[\"0.9\"],[\"4.0\"],[\"0.2\"],[\"0.1\"],[\"2.9\"],[\"1.8\"],[\"1.2\"],[\"0.9\"],[\"2.7\"],[\"8.0\"],[\"1.6\"],[\"0.6\"],[\"0.1\"],[\"0.3\"],[\"0.0\"],[\"1.7\"],[\"2.8\"],[\"(?)\"],[\"1.5\"],[\"2.2\"],[\"0.6\"],[\"3.8\"],[\"1.3\"],[\"0.9\"],[\"3.8\"],[\"2.4\"],[\"(?)\"],[\"1.1\"],[\"1.8\"],[\"0.7\"],[\"1.1\"],[\"(?)\"],[\"0.4\"],[\"0.6\"],[\"2.0\"],[\"5.6\"],[\"0.2\"],[\"8.1\"],[\"3.5\"],[\"2.3\"],[\"1.5\"],[\"3.3\"],[\"4.7\"],[\"1.2\"],[\"3.9\"],[\"5.0\"],[\"3.3\"],[\"0.5\"],[\"1.0\"],[\"4.6\"],[\"8.9\"],[\"2.2\"],[\"2.8\"],[\"0.7\"],[\"1.6\"],[\"4.5\"],[\"2.0\"],[\"2.9\"],[\"2.5\"],[\"0.7\"],[\"0.4\"]],\"domain\":{\"x\":[0.0,1.0],\"y\":[0.0,1.0]},\"hovertemplate\":\"labels=%{label}\\u003cbr\\u003evalue=%{value}\\u003cbr\\u003eparent=%{parent}\\u003cbr\\u003eid=%{id}\\u003cbr\\u003ecolor=%{customdata[0]}\\u003cextra\\u003e\\u003c\\u002fextra\\u003e\",\"ids\":[\"Family(3 people)\\u002f3.0\",\"Family(2 people)\\u002f2.6\",\"Family(4 people)\\u002f2.3\",\"Family(1 person)\\u002f0.5\",\"Family(3 people)\\u002f2.7\",\"Family(2 people)\\u002f1.1\",\"Family(3 people)\\u002f2.1\",\"Family(4 people)\\u002f3.8\",\"Family(4 people)\\u002f2.4\",\"Family(2 people)\\u002f0.3\",\"Family(3 people)\\u002f5.0\",\"Family(1 person)\\u002f5.7\",\"Family(4 people)\\u002f0.2\",\"Family(1 person)\\u002f5.2\",\"Family(4 people)\\u002f1.0\",\"Family(4 people)\\u002f0.7\",\"Family(3 people)\\u002f0.3\",\"Family(4 people)\\u002f1.3\",\"Family(2 people)\\u002f2.3\",\"Family(2 people)\\u002f1.5\",\"Family(4 people)\\u002f2.0\",\"Family(1 person)\\u002f1.0\",\"Family(4 people)\\u002f1.8\",\"Family(2 people)\\u002f1.7\",\"Family(2 people)\",\"Family(1 person)\\u002f1.4\",\"Family(1 person)\\u002f0.9\",\"Family(1 person)\\u002f4.0\",\"Family(2 people)\\u002f0.2\",\"Family(3 people)\\u002f0.1\",\"Family(4 people)\\u002f2.9\",\"Family(3 people)\\u002f1.8\",\"Family(2 people)\\u002f1.2\",\"Family(4 people)\\u002f0.9\",\"Family(1 person)\\u002f2.7\",\"Family(2 people)\\u002f8.0\",\"Family(3 people)\\u002f1.6\",\"Family(3 people)\\u002f0.6\",\"Family(1 person)\\u002f0.1\",\"Family(1 person)\\u002f0.3\",\"Family(4 people)\\u002f0.0\",\"Family(3 people)\\u002f1.7\",\"Family(2 people)\\u002f2.8\",\"Family(3 people)\",\"Family(1 person)\\u002f1.5\",\"Family(4 people)\\u002f2.2\",\"Family(2 people)\\u002f0.6\",\"Family(1 person)\\u002f3.8\",\"Family(3 people)\\u002f1.3\",\"Family(3 people)\\u002f0.9\",\"Family(2 people)\\u002f3.8\",\"Family(1 person)\\u002f2.4\",\"Family(4 people)\",\"Family(4 people)\\u002f1.1\",\"Family(1 person)\\u002f1.8\",\"Family(2 people)\\u002f0.7\",\"Family(3 people)\\u002f1.1\",\"Family(1 person)\",\"Family(4 people)\\u002f0.4\",\"Family(1 person)\\u002f0.6\",\"Family(3 people)\\u002f2.0\",\"Family(4 people)\\u002f5.6\",\"Family(1 person)\\u002f0.2\",\"Family(2 people)\\u002f8.1\",\"Family(1 person)\\u002f3.5\",\"Family(3 people)\\u002f2.3\",\"Family(3 people)\\u002f1.5\",\"Family(1 person)\\u002f3.3\",\"Family(4 people)\\u002f4.7\",\"Family(1 person)\\u002f1.2\",\"Family(2 people)\\u002f3.9\",\"Family(1 person)\\u002f5.0\",\"Family(2 people)\\u002f3.3\",\"Family(3 people)\\u002f0.5\",\"Family(3 people)\\u002f1.0\",\"Family(1 person)\\u002f4.6\",\"Family(1 person)\\u002f8.9\",\"Family(1 person)\\u002f2.2\",\"Family(1 person)\\u002f2.8\",\"Family(1 person)\\u002f0.7\",\"Family(4 people)\\u002f1.6\",\"Family(2 people)\\u002f4.5\",\"Family(1 person)\\u002f2.0\",\"Family(1 person)\\u002f2.9\",\"Family(4 people)\\u002f2.5\",\"Family(3 people)\\u002f0.7\",\"Family(2 people)\\u002f0.4\"],\"labels\":[\"3.0\",\"2.6\",\"2.3\",\"0.5\",\"2.7\",\"1.1\",\"2.1\",\"3.8\",\"2.4\",\"0.3\",\"5.0\",\"5.7\",\"0.2\",\"5.2\",\"1.0\",\"0.7\",\"0.3\",\"1.3\",\"2.3\",\"1.5\",\"2.0\",\"1.0\",\"1.8\",\"1.7\",\"Family(2 people)\",\"1.4\",\"0.9\",\"4.0\",\"0.2\",\"0.1\",\"2.9\",\"1.8\",\"1.2\",\"0.9\",\"2.7\",\"8.0\",\"1.6\",\"0.6\",\"0.1\",\"0.3\",\"0.0\",\"1.7\",\"2.8\",\"Family(3 people)\",\"1.5\",\"2.2\",\"0.6\",\"3.8\",\"1.3\",\"0.9\",\"3.8\",\"2.4\",\"Family(4 people)\",\"1.1\",\"1.8\",\"0.7\",\"1.1\",\"Family(1 person)\",\"0.4\",\"0.6\",\"2.0\",\"5.6\",\"0.2\",\"8.1\",\"3.5\",\"2.3\",\"1.5\",\"3.3\",\"4.7\",\"1.2\",\"3.9\",\"5.0\",\"3.3\",\"0.5\",\"1.0\",\"4.6\",\"8.9\",\"2.2\",\"2.8\",\"0.7\",\"1.6\",\"4.5\",\"2.0\",\"2.9\",\"2.5\",\"0.7\",\"0.4\"],\"marker\":{\"colors\":[\"#636efa\",\"#EF553B\",\"#00cc96\",\"#ab63fa\",\"#FFA15A\",\"#19d3f3\",\"#FF6692\",\"#B6E880\",\"#FF97FF\",\"#FECB52\",\"#636efa\",\"#EF553B\",\"#00cc96\",\"#ab63fa\",\"#FFA15A\",\"#19d3f3\",\"#FECB52\",\"#FF6692\",\"#00cc96\",\"#B6E880\",\"#FF97FF\",\"#FFA15A\",\"#FECB52\",\"#636efa\",\"#EF553B\",\"#00cc96\",\"#ab63fa\",\"#FFA15A\",\"#00cc96\",\"#19d3f3\",\"#FF6692\",\"#FECB52\",\"#B6E880\",\"#ab63fa\",\"#FFA15A\",\"#FF97FF\",\"#FECB52\",\"#636efa\",\"#19d3f3\",\"#FECB52\",\"#EF553B\",\"#636efa\",\"#00cc96\",\"#EF553B\",\"#B6E880\",\"#ab63fa\",\"#636efa\",\"#B6E880\",\"#FF6692\",\"#ab63fa\",\"#B6E880\",\"#FF97FF\",\"#EF553B\",\"#19d3f3\",\"#FECB52\",\"#19d3f3\",\"#19d3f3\",\"#EF553B\",\"#FFA15A\",\"#636efa\",\"#FF97FF\",\"#19d3f3\",\"#00cc96\",\"#FF6692\",\"#B6E880\",\"#00cc96\",\"#B6E880\",\"#FF97FF\",\"#FECB52\",\"#B6E880\",\"#636efa\",\"#636efa\",\"#FF97FF\",\"#ab63fa\",\"#FFA15A\",\"#EF553B\",\"#00cc96\",\"#ab63fa\",\"#00cc96\",\"#19d3f3\",\"#FECB52\",\"#ab63fa\",\"#FF97FF\",\"#FF6692\",\"#FFA15A\",\"#19d3f3\",\"#FFA15A\"]},\"name\":\"\",\"parents\":[\"Family(3 people)\",\"Family(2 people)\",\"Family(4 people)\",\"Family(1 person)\",\"Family(3 people)\",\"Family(2 people)\",\"Family(3 people)\",\"Family(4 people)\",\"Family(4 people)\",\"Family(2 people)\",\"Family(3 people)\",\"Family(1 person)\",\"Family(4 people)\",\"Family(1 person)\",\"Family(4 people)\",\"Family(4 people)\",\"Family(3 people)\",\"Family(4 people)\",\"Family(2 people)\",\"Family(2 people)\",\"Family(4 people)\",\"Family(1 person)\",\"Family(4 people)\",\"Family(2 people)\",\"\",\"Family(1 person)\",\"Family(1 person)\",\"Family(1 person)\",\"Family(2 people)\",\"Family(3 people)\",\"Family(4 people)\",\"Family(3 people)\",\"Family(2 people)\",\"Family(4 people)\",\"Family(1 person)\",\"Family(2 people)\",\"Family(3 people)\",\"Family(3 people)\",\"Family(1 person)\",\"Family(1 person)\",\"Family(4 people)\",\"Family(3 people)\",\"Family(2 people)\",\"\",\"Family(1 person)\",\"Family(4 people)\",\"Family(2 people)\",\"Family(1 person)\",\"Family(3 people)\",\"Family(3 people)\",\"Family(2 people)\",\"Family(1 person)\",\"\",\"Family(4 people)\",\"Family(1 person)\",\"Family(2 people)\",\"Family(3 people)\",\"\",\"Family(4 people)\",\"Family(1 person)\",\"Family(3 people)\",\"Family(4 people)\",\"Family(1 person)\",\"Family(2 people)\",\"Family(1 person)\",\"Family(3 people)\",\"Family(3 people)\",\"Family(1 person)\",\"Family(4 people)\",\"Family(1 person)\",\"Family(2 people)\",\"Family(1 person)\",\"Family(2 people)\",\"Family(3 people)\",\"Family(3 people)\",\"Family(1 person)\",\"Family(1 person)\",\"Family(1 person)\",\"Family(1 person)\",\"Family(1 person)\",\"Family(4 people)\",\"Family(2 people)\",\"Family(1 person)\",\"Family(1 person)\",\"Family(4 people)\",\"Family(3 people)\",\"Family(2 people)\"],\"values\":[7.2,7.5,7.4,8.6,7.5,7.4,15.5,7.5,17.4,7.3,8.1,15.8,31.3,7.4,16.6,16.0,7.5,22.0,7.2,8.9,7.6,17.8,15.5,7.4,164.9,8.1,7.5,15.0,7.8,31.2,7.3,7.2,7.8,8.6,9.3,7.8,8.0,16.200000000000003,7.9,16.1,7.8,7.8,14.8,226.6,16.0,7.4,8.1,7.6,7.3,8.1,8.8,15.8,239.6,15.4,8.0,8.6,7.4,317.7,9.0,7.2,8.6,7.4,7.9,8.6,7.6,8.0,10.0,8.1,8.6,24.0,8.5,7.6,15.1,23.2,21.7,7.2,8.8,8.2,7.2,15.3,10.0,15.8,24.3,23.4,16.8,16.1,7.5],\"type\":\"sunburst\"}],                        {\"template\":{\"data\":{\"histogram2dcontour\":[{\"type\":\"histogram2dcontour\",\"colorbar\":{\"outlinewidth\":0,\"ticks\":\"\"},\"colorscale\":[[0.0,\"#0d0887\"],[0.1111111111111111,\"#46039f\"],[0.2222222222222222,\"#7201a8\"],[0.3333333333333333,\"#9c179e\"],[0.4444444444444444,\"#bd3786\"],[0.5555555555555556,\"#d8576b\"],[0.6666666666666666,\"#ed7953\"],[0.7777777777777778,\"#fb9f3a\"],[0.8888888888888888,\"#fdca26\"],[1.0,\"#f0f921\"]]}],\"choropleth\":[{\"type\":\"choropleth\",\"colorbar\":{\"outlinewidth\":0,\"ticks\":\"\"}}],\"histogram2d\":[{\"type\":\"histogram2d\",\"colorbar\":{\"outlinewidth\":0,\"ticks\":\"\"},\"colorscale\":[[0.0,\"#0d0887\"],[0.1111111111111111,\"#46039f\"],[0.2222222222222222,\"#7201a8\"],[0.3333333333333333,\"#9c179e\"],[0.4444444444444444,\"#bd3786\"],[0.5555555555555556,\"#d8576b\"],[0.6666666666666666,\"#ed7953\"],[0.7777777777777778,\"#fb9f3a\"],[0.8888888888888888,\"#fdca26\"],[1.0,\"#f0f921\"]]}],\"heatmap\":[{\"type\":\"heatmap\",\"colorbar\":{\"outlinewidth\":0,\"ticks\":\"\"},\"colorscale\":[[0.0,\"#0d0887\"],[0.1111111111111111,\"#46039f\"],[0.2222222222222222,\"#7201a8\"],[0.3333333333333333,\"#9c179e\"],[0.4444444444444444,\"#bd3786\"],[0.5555555555555556,\"#d8576b\"],[0.6666666666666666,\"#ed7953\"],[0.7777777777777778,\"#fb9f3a\"],[0.8888888888888888,\"#fdca26\"],[1.0,\"#f0f921\"]]}],\"heatmapgl\":[{\"type\":\"heatmapgl\",\"colorbar\":{\"outlinewidth\":0,\"ticks\":\"\"},\"colorscale\":[[0.0,\"#0d0887\"],[0.1111111111111111,\"#46039f\"],[0.2222222222222222,\"#7201a8\"],[0.3333333333333333,\"#9c179e\"],[0.4444444444444444,\"#bd3786\"],[0.5555555555555556,\"#d8576b\"],[0.6666666666666666,\"#ed7953\"],[0.7777777777777778,\"#fb9f3a\"],[0.8888888888888888,\"#fdca26\"],[1.0,\"#f0f921\"]]}],\"contourcarpet\":[{\"type\":\"contourcarpet\",\"colorbar\":{\"outlinewidth\":0,\"ticks\":\"\"}}],\"contour\":[{\"type\":\"contour\",\"colorbar\":{\"outlinewidth\":0,\"ticks\":\"\"},\"colorscale\":[[0.0,\"#0d0887\"],[0.1111111111111111,\"#46039f\"],[0.2222222222222222,\"#7201a8\"],[0.3333333333333333,\"#9c179e\"],[0.4444444444444444,\"#bd3786\"],[0.5555555555555556,\"#d8576b\"],[0.6666666666666666,\"#ed7953\"],[0.7777777777777778,\"#fb9f3a\"],[0.8888888888888888,\"#fdca26\"],[1.0,\"#f0f921\"]]}],\"surface\":[{\"type\":\"surface\",\"colorbar\":{\"outlinewidth\":0,\"ticks\":\"\"},\"colorscale\":[[0.0,\"#0d0887\"],[0.1111111111111111,\"#46039f\"],[0.2222222222222222,\"#7201a8\"],[0.3333333333333333,\"#9c179e\"],[0.4444444444444444,\"#bd3786\"],[0.5555555555555556,\"#d8576b\"],[0.6666666666666666,\"#ed7953\"],[0.7777777777777778,\"#fb9f3a\"],[0.8888888888888888,\"#fdca26\"],[1.0,\"#f0f921\"]]}],\"mesh3d\":[{\"type\":\"mesh3d\",\"colorbar\":{\"outlinewidth\":0,\"ticks\":\"\"}}],\"scatter\":[{\"marker\":{\"line\":{\"color\":\"#283442\"}},\"type\":\"scatter\"}],\"parcoords\":[{\"type\":\"parcoords\",\"line\":{\"colorbar\":{\"outlinewidth\":0,\"ticks\":\"\"}}}],\"scatterpolargl\":[{\"type\":\"scatterpolargl\",\"marker\":{\"colorbar\":{\"outlinewidth\":0,\"ticks\":\"\"}}}],\"bar\":[{\"error_x\":{\"color\":\"#f2f5fa\"},\"error_y\":{\"color\":\"#f2f5fa\"},\"marker\":{\"line\":{\"color\":\"rgb(17,17,17)\",\"width\":0.5},\"pattern\":{\"fillmode\":\"overlay\",\"size\":10,\"solidity\":0.2}},\"type\":\"bar\"}],\"scattergeo\":[{\"type\":\"scattergeo\",\"marker\":{\"colorbar\":{\"outlinewidth\":0,\"ticks\":\"\"}}}],\"scatterpolar\":[{\"type\":\"scatterpolar\",\"marker\":{\"colorbar\":{\"outlinewidth\":0,\"ticks\":\"\"}}}],\"histogram\":[{\"marker\":{\"pattern\":{\"fillmode\":\"overlay\",\"size\":10,\"solidity\":0.2}},\"type\":\"histogram\"}],\"scattergl\":[{\"marker\":{\"line\":{\"color\":\"#283442\"}},\"type\":\"scattergl\"}],\"scatter3d\":[{\"type\":\"scatter3d\",\"line\":{\"colorbar\":{\"outlinewidth\":0,\"ticks\":\"\"}},\"marker\":{\"colorbar\":{\"outlinewidth\":0,\"ticks\":\"\"}}}],\"scattermapbox\":[{\"type\":\"scattermapbox\",\"marker\":{\"colorbar\":{\"outlinewidth\":0,\"ticks\":\"\"}}}],\"scatterternary\":[{\"type\":\"scatterternary\",\"marker\":{\"colorbar\":{\"outlinewidth\":0,\"ticks\":\"\"}}}],\"scattercarpet\":[{\"type\":\"scattercarpet\",\"marker\":{\"colorbar\":{\"outlinewidth\":0,\"ticks\":\"\"}}}],\"carpet\":[{\"aaxis\":{\"endlinecolor\":\"#A2B1C6\",\"gridcolor\":\"#506784\",\"linecolor\":\"#506784\",\"minorgridcolor\":\"#506784\",\"startlinecolor\":\"#A2B1C6\"},\"baxis\":{\"endlinecolor\":\"#A2B1C6\",\"gridcolor\":\"#506784\",\"linecolor\":\"#506784\",\"minorgridcolor\":\"#506784\",\"startlinecolor\":\"#A2B1C6\"},\"type\":\"carpet\"}],\"table\":[{\"cells\":{\"fill\":{\"color\":\"#506784\"},\"line\":{\"color\":\"rgb(17,17,17)\"}},\"header\":{\"fill\":{\"color\":\"#2a3f5f\"},\"line\":{\"color\":\"rgb(17,17,17)\"}},\"type\":\"table\"}],\"barpolar\":[{\"marker\":{\"line\":{\"color\":\"rgb(17,17,17)\",\"width\":0.5},\"pattern\":{\"fillmode\":\"overlay\",\"size\":10,\"solidity\":0.2}},\"type\":\"barpolar\"}],\"pie\":[{\"automargin\":true,\"type\":\"pie\"}]},\"layout\":{\"autotypenumbers\":\"strict\",\"colorway\":[\"#636efa\",\"#EF553B\",\"#00cc96\",\"#ab63fa\",\"#FFA15A\",\"#19d3f3\",\"#FF6692\",\"#B6E880\",\"#FF97FF\",\"#FECB52\"],\"font\":{\"color\":\"#f2f5fa\"},\"hovermode\":\"closest\",\"hoverlabel\":{\"align\":\"left\"},\"paper_bgcolor\":\"rgb(17,17,17)\",\"plot_bgcolor\":\"rgb(17,17,17)\",\"polar\":{\"bgcolor\":\"rgb(17,17,17)\",\"angularaxis\":{\"gridcolor\":\"#506784\",\"linecolor\":\"#506784\",\"ticks\":\"\"},\"radialaxis\":{\"gridcolor\":\"#506784\",\"linecolor\":\"#506784\",\"ticks\":\"\"}},\"ternary\":{\"bgcolor\":\"rgb(17,17,17)\",\"aaxis\":{\"gridcolor\":\"#506784\",\"linecolor\":\"#506784\",\"ticks\":\"\"},\"baxis\":{\"gridcolor\":\"#506784\",\"linecolor\":\"#506784\",\"ticks\":\"\"},\"caxis\":{\"gridcolor\":\"#506784\",\"linecolor\":\"#506784\",\"ticks\":\"\"}},\"coloraxis\":{\"colorbar\":{\"outlinewidth\":0,\"ticks\":\"\"}},\"colorscale\":{\"sequential\":[[0.0,\"#0d0887\"],[0.1111111111111111,\"#46039f\"],[0.2222222222222222,\"#7201a8\"],[0.3333333333333333,\"#9c179e\"],[0.4444444444444444,\"#bd3786\"],[0.5555555555555556,\"#d8576b\"],[0.6666666666666666,\"#ed7953\"],[0.7777777777777778,\"#fb9f3a\"],[0.8888888888888888,\"#fdca26\"],[1.0,\"#f0f921\"]],\"sequentialminus\":[[0.0,\"#0d0887\"],[0.1111111111111111,\"#46039f\"],[0.2222222222222222,\"#7201a8\"],[0.3333333333333333,\"#9c179e\"],[0.4444444444444444,\"#bd3786\"],[0.5555555555555556,\"#d8576b\"],[0.6666666666666666,\"#ed7953\"],[0.7777777777777778,\"#fb9f3a\"],[0.8888888888888888,\"#fdca26\"],[1.0,\"#f0f921\"]],\"diverging\":[[0,\"#8e0152\"],[0.1,\"#c51b7d\"],[0.2,\"#de77ae\"],[0.3,\"#f1b6da\"],[0.4,\"#fde0ef\"],[0.5,\"#f7f7f7\"],[0.6,\"#e6f5d0\"],[0.7,\"#b8e186\"],[0.8,\"#7fbc41\"],[0.9,\"#4d9221\"],[1,\"#276419\"]]},\"xaxis\":{\"gridcolor\":\"#283442\",\"linecolor\":\"#506784\",\"ticks\":\"\",\"title\":{\"standoff\":15},\"zerolinecolor\":\"#283442\",\"automargin\":true,\"zerolinewidth\":2},\"yaxis\":{\"gridcolor\":\"#283442\",\"linecolor\":\"#506784\",\"ticks\":\"\",\"title\":{\"standoff\":15},\"zerolinecolor\":\"#283442\",\"automargin\":true,\"zerolinewidth\":2},\"scene\":{\"xaxis\":{\"backgroundcolor\":\"rgb(17,17,17)\",\"gridcolor\":\"#506784\",\"linecolor\":\"#506784\",\"showbackground\":true,\"ticks\":\"\",\"zerolinecolor\":\"#C8D4E3\",\"gridwidth\":2},\"yaxis\":{\"backgroundcolor\":\"rgb(17,17,17)\",\"gridcolor\":\"#506784\",\"linecolor\":\"#506784\",\"showbackground\":true,\"ticks\":\"\",\"zerolinecolor\":\"#C8D4E3\",\"gridwidth\":2},\"zaxis\":{\"backgroundcolor\":\"rgb(17,17,17)\",\"gridcolor\":\"#506784\",\"linecolor\":\"#506784\",\"showbackground\":true,\"ticks\":\"\",\"zerolinecolor\":\"#C8D4E3\",\"gridwidth\":2}},\"shapedefaults\":{\"line\":{\"color\":\"#f2f5fa\"}},\"annotationdefaults\":{\"arrowcolor\":\"#f2f5fa\",\"arrowhead\":0,\"arrowwidth\":1},\"geo\":{\"bgcolor\":\"rgb(17,17,17)\",\"landcolor\":\"rgb(17,17,17)\",\"subunitcolor\":\"#506784\",\"showland\":true,\"showlakes\":true,\"lakecolor\":\"rgb(17,17,17)\"},\"title\":{\"x\":0.05},\"updatemenudefaults\":{\"bgcolor\":\"#506784\",\"borderwidth\":0},\"sliderdefaults\":{\"bgcolor\":\"#C8D4E3\",\"borderwidth\":1,\"bordercolor\":\"rgb(17,17,17)\",\"tickwidth\":0},\"mapbox\":{\"style\":\"dark\"}}},\"legend\":{\"tracegroupgap\":0},\"margin\":{\"t\":60},\"title\":{\"text\":\"Chart of Top 30 CCAvg Values for Each Family Category\"}},                        {\"responsive\": true}                    ).then(function(){\n                            \nvar gd = document.getElementById('174424d1-2ba2-4e4e-ada5-ebd04f68f18d');\nvar x = new MutationObserver(function (mutations, observer) {{\n        var display = window.getComputedStyle(gd).display;\n        if (!display || display === 'none') {{\n            console.log([gd, 'removed!']);\n            Plotly.purge(gd);\n            observer.disconnect();\n        }}\n}});\n\n// Listen for the removal of the full notebook cells\nvar notebookContainer = gd.closest('#notebook-container');\nif (notebookContainer) {{\n    x.observe(notebookContainer, {childList: true});\n}}\n\n// Listen for the clearing of the current output cell\nvar outputEl = gd.closest('.output');\nif (outputEl) {{\n    x.observe(outputEl, {childList: true});\n}}\n\n                        })                };                });            </script>        </div>"
     },
     "metadata": {},
     "output_type": "display_data"
    }
   ],
   "source": [
    "data4 = data.copy()\n",
    "value = data4['CCAvg'].sort_values(ascending=False).head(120)\n",
    "color = data4['CCAvg'].astype(str).head(120)\n",
    "data4['Family'] = data4['Family'].replace({1: 'Family(1 person)', 2:'Family(2 people)', 3: 'Family(3 people)', 4: 'Family(4 people)'}).head(120)\n",
    "path_1 = data4['Family'].astype(str).head(120)\n",
    "\n",
    "fig = px.sunburst(data4, path=[path_1, color], values=value, color=color)\n",
    "fig.update_layout(title_text='Chart of Top 30 CCAvg Values for Each Family Category')\n",
    "fig.show()"
   ],
   "metadata": {
    "collapsed": false,
    "ExecuteTime": {
     "end_time": "2024-03-17T08:45:28.602655Z",
     "start_time": "2024-03-17T08:45:28.515365Z"
    }
   },
   "id": "dad81bef8960296a",
   "execution_count": 171
  },
  {
   "cell_type": "code",
   "outputs": [
    {
     "data": {
      "application/vnd.plotly.v1+json": {
       "data": [
        {
         "alignmentgroup": "True",
         "bingroup": "x",
         "histfunc": "sum",
         "hovertemplate": "CreditCard=0<br>Experience=%{x}<br>sum of Income=%{y}<extra></extra>",
         "legendgroup": "0",
         "marker": {
          "color": "#636efa",
          "pattern": {
           "shape": ""
          }
         },
         "name": "0",
         "offsetgroup": "0",
         "orientation": "v",
         "showlegend": true,
         "texttemplate": "%{value}",
         "x": [
          "Less than 5",
          "Between 5 and 10",
          "Between 10 and 20",
          "Between 20 and 30",
          "More than 30"
         ],
         "xaxis": "x",
         "y": [
          78.81052631578947,
          77.08035714285714,
          74.75112612612612,
          73.48249452954047,
          69.68349753694581
         ],
         "yaxis": "y",
         "type": "histogram"
        },
        {
         "alignmentgroup": "True",
         "bingroup": "x",
         "histfunc": "sum",
         "hovertemplate": "CreditCard=1<br>Experience=%{x}<br>sum of Income=%{y}<extra></extra>",
         "legendgroup": "1",
         "marker": {
          "color": "#EF553B",
          "pattern": {
           "shape": ""
          }
         },
         "name": "1",
         "offsetgroup": "1",
         "orientation": "v",
         "showlegend": true,
         "texttemplate": "%{value}",
         "x": [
          "Less than 5",
          "Between 5 and 10",
          "Between 10 and 20",
          "Between 20 and 30",
          "More than 30"
         ],
         "xaxis": "x",
         "y": [
          75.18562874251496,
          69.0909090909091,
          81.87123287671233,
          69.95607235142118,
          70.6086956521739
         ],
         "yaxis": "y",
         "type": "histogram"
        }
       ],
       "layout": {
        "template": {
         "data": {
          "histogram2dcontour": [
           {
            "type": "histogram2dcontour",
            "colorbar": {
             "outlinewidth": 0,
             "ticks": ""
            },
            "colorscale": [
             [
              0.0,
              "#0d0887"
             ],
             [
              0.1111111111111111,
              "#46039f"
             ],
             [
              0.2222222222222222,
              "#7201a8"
             ],
             [
              0.3333333333333333,
              "#9c179e"
             ],
             [
              0.4444444444444444,
              "#bd3786"
             ],
             [
              0.5555555555555556,
              "#d8576b"
             ],
             [
              0.6666666666666666,
              "#ed7953"
             ],
             [
              0.7777777777777778,
              "#fb9f3a"
             ],
             [
              0.8888888888888888,
              "#fdca26"
             ],
             [
              1.0,
              "#f0f921"
             ]
            ]
           }
          ],
          "choropleth": [
           {
            "type": "choropleth",
            "colorbar": {
             "outlinewidth": 0,
             "ticks": ""
            }
           }
          ],
          "histogram2d": [
           {
            "type": "histogram2d",
            "colorbar": {
             "outlinewidth": 0,
             "ticks": ""
            },
            "colorscale": [
             [
              0.0,
              "#0d0887"
             ],
             [
              0.1111111111111111,
              "#46039f"
             ],
             [
              0.2222222222222222,
              "#7201a8"
             ],
             [
              0.3333333333333333,
              "#9c179e"
             ],
             [
              0.4444444444444444,
              "#bd3786"
             ],
             [
              0.5555555555555556,
              "#d8576b"
             ],
             [
              0.6666666666666666,
              "#ed7953"
             ],
             [
              0.7777777777777778,
              "#fb9f3a"
             ],
             [
              0.8888888888888888,
              "#fdca26"
             ],
             [
              1.0,
              "#f0f921"
             ]
            ]
           }
          ],
          "heatmap": [
           {
            "type": "heatmap",
            "colorbar": {
             "outlinewidth": 0,
             "ticks": ""
            },
            "colorscale": [
             [
              0.0,
              "#0d0887"
             ],
             [
              0.1111111111111111,
              "#46039f"
             ],
             [
              0.2222222222222222,
              "#7201a8"
             ],
             [
              0.3333333333333333,
              "#9c179e"
             ],
             [
              0.4444444444444444,
              "#bd3786"
             ],
             [
              0.5555555555555556,
              "#d8576b"
             ],
             [
              0.6666666666666666,
              "#ed7953"
             ],
             [
              0.7777777777777778,
              "#fb9f3a"
             ],
             [
              0.8888888888888888,
              "#fdca26"
             ],
             [
              1.0,
              "#f0f921"
             ]
            ]
           }
          ],
          "heatmapgl": [
           {
            "type": "heatmapgl",
            "colorbar": {
             "outlinewidth": 0,
             "ticks": ""
            },
            "colorscale": [
             [
              0.0,
              "#0d0887"
             ],
             [
              0.1111111111111111,
              "#46039f"
             ],
             [
              0.2222222222222222,
              "#7201a8"
             ],
             [
              0.3333333333333333,
              "#9c179e"
             ],
             [
              0.4444444444444444,
              "#bd3786"
             ],
             [
              0.5555555555555556,
              "#d8576b"
             ],
             [
              0.6666666666666666,
              "#ed7953"
             ],
             [
              0.7777777777777778,
              "#fb9f3a"
             ],
             [
              0.8888888888888888,
              "#fdca26"
             ],
             [
              1.0,
              "#f0f921"
             ]
            ]
           }
          ],
          "contourcarpet": [
           {
            "type": "contourcarpet",
            "colorbar": {
             "outlinewidth": 0,
             "ticks": ""
            }
           }
          ],
          "contour": [
           {
            "type": "contour",
            "colorbar": {
             "outlinewidth": 0,
             "ticks": ""
            },
            "colorscale": [
             [
              0.0,
              "#0d0887"
             ],
             [
              0.1111111111111111,
              "#46039f"
             ],
             [
              0.2222222222222222,
              "#7201a8"
             ],
             [
              0.3333333333333333,
              "#9c179e"
             ],
             [
              0.4444444444444444,
              "#bd3786"
             ],
             [
              0.5555555555555556,
              "#d8576b"
             ],
             [
              0.6666666666666666,
              "#ed7953"
             ],
             [
              0.7777777777777778,
              "#fb9f3a"
             ],
             [
              0.8888888888888888,
              "#fdca26"
             ],
             [
              1.0,
              "#f0f921"
             ]
            ]
           }
          ],
          "surface": [
           {
            "type": "surface",
            "colorbar": {
             "outlinewidth": 0,
             "ticks": ""
            },
            "colorscale": [
             [
              0.0,
              "#0d0887"
             ],
             [
              0.1111111111111111,
              "#46039f"
             ],
             [
              0.2222222222222222,
              "#7201a8"
             ],
             [
              0.3333333333333333,
              "#9c179e"
             ],
             [
              0.4444444444444444,
              "#bd3786"
             ],
             [
              0.5555555555555556,
              "#d8576b"
             ],
             [
              0.6666666666666666,
              "#ed7953"
             ],
             [
              0.7777777777777778,
              "#fb9f3a"
             ],
             [
              0.8888888888888888,
              "#fdca26"
             ],
             [
              1.0,
              "#f0f921"
             ]
            ]
           }
          ],
          "mesh3d": [
           {
            "type": "mesh3d",
            "colorbar": {
             "outlinewidth": 0,
             "ticks": ""
            }
           }
          ],
          "scatter": [
           {
            "marker": {
             "line": {
              "color": "#283442"
             }
            },
            "type": "scatter"
           }
          ],
          "parcoords": [
           {
            "type": "parcoords",
            "line": {
             "colorbar": {
              "outlinewidth": 0,
              "ticks": ""
             }
            }
           }
          ],
          "scatterpolargl": [
           {
            "type": "scatterpolargl",
            "marker": {
             "colorbar": {
              "outlinewidth": 0,
              "ticks": ""
             }
            }
           }
          ],
          "bar": [
           {
            "error_x": {
             "color": "#f2f5fa"
            },
            "error_y": {
             "color": "#f2f5fa"
            },
            "marker": {
             "line": {
              "color": "rgb(17,17,17)",
              "width": 0.5
             },
             "pattern": {
              "fillmode": "overlay",
              "size": 10,
              "solidity": 0.2
             }
            },
            "type": "bar"
           }
          ],
          "scattergeo": [
           {
            "type": "scattergeo",
            "marker": {
             "colorbar": {
              "outlinewidth": 0,
              "ticks": ""
             }
            }
           }
          ],
          "scatterpolar": [
           {
            "type": "scatterpolar",
            "marker": {
             "colorbar": {
              "outlinewidth": 0,
              "ticks": ""
             }
            }
           }
          ],
          "histogram": [
           {
            "marker": {
             "pattern": {
              "fillmode": "overlay",
              "size": 10,
              "solidity": 0.2
             }
            },
            "type": "histogram"
           }
          ],
          "scattergl": [
           {
            "marker": {
             "line": {
              "color": "#283442"
             }
            },
            "type": "scattergl"
           }
          ],
          "scatter3d": [
           {
            "type": "scatter3d",
            "line": {
             "colorbar": {
              "outlinewidth": 0,
              "ticks": ""
             }
            },
            "marker": {
             "colorbar": {
              "outlinewidth": 0,
              "ticks": ""
             }
            }
           }
          ],
          "scattermapbox": [
           {
            "type": "scattermapbox",
            "marker": {
             "colorbar": {
              "outlinewidth": 0,
              "ticks": ""
             }
            }
           }
          ],
          "scatterternary": [
           {
            "type": "scatterternary",
            "marker": {
             "colorbar": {
              "outlinewidth": 0,
              "ticks": ""
             }
            }
           }
          ],
          "scattercarpet": [
           {
            "type": "scattercarpet",
            "marker": {
             "colorbar": {
              "outlinewidth": 0,
              "ticks": ""
             }
            }
           }
          ],
          "carpet": [
           {
            "aaxis": {
             "endlinecolor": "#A2B1C6",
             "gridcolor": "#506784",
             "linecolor": "#506784",
             "minorgridcolor": "#506784",
             "startlinecolor": "#A2B1C6"
            },
            "baxis": {
             "endlinecolor": "#A2B1C6",
             "gridcolor": "#506784",
             "linecolor": "#506784",
             "minorgridcolor": "#506784",
             "startlinecolor": "#A2B1C6"
            },
            "type": "carpet"
           }
          ],
          "table": [
           {
            "cells": {
             "fill": {
              "color": "#506784"
             },
             "line": {
              "color": "rgb(17,17,17)"
             }
            },
            "header": {
             "fill": {
              "color": "#2a3f5f"
             },
             "line": {
              "color": "rgb(17,17,17)"
             }
            },
            "type": "table"
           }
          ],
          "barpolar": [
           {
            "marker": {
             "line": {
              "color": "rgb(17,17,17)",
              "width": 0.5
             },
             "pattern": {
              "fillmode": "overlay",
              "size": 10,
              "solidity": 0.2
             }
            },
            "type": "barpolar"
           }
          ],
          "pie": [
           {
            "automargin": true,
            "type": "pie"
           }
          ]
         },
         "layout": {
          "autotypenumbers": "strict",
          "colorway": [
           "#636efa",
           "#EF553B",
           "#00cc96",
           "#ab63fa",
           "#FFA15A",
           "#19d3f3",
           "#FF6692",
           "#B6E880",
           "#FF97FF",
           "#FECB52"
          ],
          "font": {
           "color": "#f2f5fa"
          },
          "hovermode": "closest",
          "hoverlabel": {
           "align": "left"
          },
          "paper_bgcolor": "rgb(17,17,17)",
          "plot_bgcolor": "rgb(17,17,17)",
          "polar": {
           "bgcolor": "rgb(17,17,17)",
           "angularaxis": {
            "gridcolor": "#506784",
            "linecolor": "#506784",
            "ticks": ""
           },
           "radialaxis": {
            "gridcolor": "#506784",
            "linecolor": "#506784",
            "ticks": ""
           }
          },
          "ternary": {
           "bgcolor": "rgb(17,17,17)",
           "aaxis": {
            "gridcolor": "#506784",
            "linecolor": "#506784",
            "ticks": ""
           },
           "baxis": {
            "gridcolor": "#506784",
            "linecolor": "#506784",
            "ticks": ""
           },
           "caxis": {
            "gridcolor": "#506784",
            "linecolor": "#506784",
            "ticks": ""
           }
          },
          "coloraxis": {
           "colorbar": {
            "outlinewidth": 0,
            "ticks": ""
           }
          },
          "colorscale": {
           "sequential": [
            [
             0.0,
             "#0d0887"
            ],
            [
             0.1111111111111111,
             "#46039f"
            ],
            [
             0.2222222222222222,
             "#7201a8"
            ],
            [
             0.3333333333333333,
             "#9c179e"
            ],
            [
             0.4444444444444444,
             "#bd3786"
            ],
            [
             0.5555555555555556,
             "#d8576b"
            ],
            [
             0.6666666666666666,
             "#ed7953"
            ],
            [
             0.7777777777777778,
             "#fb9f3a"
            ],
            [
             0.8888888888888888,
             "#fdca26"
            ],
            [
             1.0,
             "#f0f921"
            ]
           ],
           "sequentialminus": [
            [
             0.0,
             "#0d0887"
            ],
            [
             0.1111111111111111,
             "#46039f"
            ],
            [
             0.2222222222222222,
             "#7201a8"
            ],
            [
             0.3333333333333333,
             "#9c179e"
            ],
            [
             0.4444444444444444,
             "#bd3786"
            ],
            [
             0.5555555555555556,
             "#d8576b"
            ],
            [
             0.6666666666666666,
             "#ed7953"
            ],
            [
             0.7777777777777778,
             "#fb9f3a"
            ],
            [
             0.8888888888888888,
             "#fdca26"
            ],
            [
             1.0,
             "#f0f921"
            ]
           ],
           "diverging": [
            [
             0,
             "#8e0152"
            ],
            [
             0.1,
             "#c51b7d"
            ],
            [
             0.2,
             "#de77ae"
            ],
            [
             0.3,
             "#f1b6da"
            ],
            [
             0.4,
             "#fde0ef"
            ],
            [
             0.5,
             "#f7f7f7"
            ],
            [
             0.6,
             "#e6f5d0"
            ],
            [
             0.7,
             "#b8e186"
            ],
            [
             0.8,
             "#7fbc41"
            ],
            [
             0.9,
             "#4d9221"
            ],
            [
             1,
             "#276419"
            ]
           ]
          },
          "xaxis": {
           "gridcolor": "#283442",
           "linecolor": "#506784",
           "ticks": "",
           "title": {
            "standoff": 15
           },
           "zerolinecolor": "#283442",
           "automargin": true,
           "zerolinewidth": 2
          },
          "yaxis": {
           "gridcolor": "#283442",
           "linecolor": "#506784",
           "ticks": "",
           "title": {
            "standoff": 15
           },
           "zerolinecolor": "#283442",
           "automargin": true,
           "zerolinewidth": 2
          },
          "scene": {
           "xaxis": {
            "backgroundcolor": "rgb(17,17,17)",
            "gridcolor": "#506784",
            "linecolor": "#506784",
            "showbackground": true,
            "ticks": "",
            "zerolinecolor": "#C8D4E3",
            "gridwidth": 2
           },
           "yaxis": {
            "backgroundcolor": "rgb(17,17,17)",
            "gridcolor": "#506784",
            "linecolor": "#506784",
            "showbackground": true,
            "ticks": "",
            "zerolinecolor": "#C8D4E3",
            "gridwidth": 2
           },
           "zaxis": {
            "backgroundcolor": "rgb(17,17,17)",
            "gridcolor": "#506784",
            "linecolor": "#506784",
            "showbackground": true,
            "ticks": "",
            "zerolinecolor": "#C8D4E3",
            "gridwidth": 2
           }
          },
          "shapedefaults": {
           "line": {
            "color": "#f2f5fa"
           }
          },
          "annotationdefaults": {
           "arrowcolor": "#f2f5fa",
           "arrowhead": 0,
           "arrowwidth": 1
          },
          "geo": {
           "bgcolor": "rgb(17,17,17)",
           "landcolor": "rgb(17,17,17)",
           "subunitcolor": "#506784",
           "showland": true,
           "showlakes": true,
           "lakecolor": "rgb(17,17,17)"
          },
          "title": {
           "x": 0.05
          },
          "updatemenudefaults": {
           "bgcolor": "#506784",
           "borderwidth": 0
          },
          "sliderdefaults": {
           "bgcolor": "#C8D4E3",
           "borderwidth": 1,
           "bordercolor": "rgb(17,17,17)",
           "tickwidth": 0
          },
          "mapbox": {
           "style": "dark"
          }
         }
        },
        "xaxis": {
         "anchor": "y",
         "domain": [
          0.0,
          1.0
         ],
         "title": {
          "text": "Experience"
         }
        },
        "yaxis": {
         "anchor": "x",
         "domain": [
          0.0,
          1.0
         ],
         "title": {
          "text": "Income"
         }
        },
        "legend": {
         "title": {
          "text": "CreditCard"
         },
         "tracegroupgap": 0
        },
        "margin": {
         "t": 60
        },
        "barmode": "group",
        "title": {
         "text": "Statistics of clients by Experience and Credit Card"
        }
       },
       "config": {
        "plotlyServerURL": "https://plot.ly"
       }
      },
      "text/html": "<div>                            <div id=\"9aeae911-e06f-4efe-b629-e8a0479bcdf2\" class=\"plotly-graph-div\" style=\"height:525px; width:100%;\"></div>            <script type=\"text/javascript\">                require([\"plotly\"], function(Plotly) {                    window.PLOTLYENV=window.PLOTLYENV || {};                                    if (document.getElementById(\"9aeae911-e06f-4efe-b629-e8a0479bcdf2\")) {                    Plotly.newPlot(                        \"9aeae911-e06f-4efe-b629-e8a0479bcdf2\",                        [{\"alignmentgroup\":\"True\",\"bingroup\":\"x\",\"histfunc\":\"sum\",\"hovertemplate\":\"CreditCard=0\\u003cbr\\u003eExperience=%{x}\\u003cbr\\u003esum of Income=%{y}\\u003cextra\\u003e\\u003c\\u002fextra\\u003e\",\"legendgroup\":\"0\",\"marker\":{\"color\":\"#636efa\",\"pattern\":{\"shape\":\"\"}},\"name\":\"0\",\"offsetgroup\":\"0\",\"orientation\":\"v\",\"showlegend\":true,\"texttemplate\":\"%{value}\",\"x\":[\"Less than 5\",\"Between 5 and 10\",\"Between 10 and 20\",\"Between 20 and 30\",\"More than 30\"],\"xaxis\":\"x\",\"y\":[78.81052631578947,77.08035714285714,74.75112612612612,73.48249452954047,69.68349753694581],\"yaxis\":\"y\",\"type\":\"histogram\"},{\"alignmentgroup\":\"True\",\"bingroup\":\"x\",\"histfunc\":\"sum\",\"hovertemplate\":\"CreditCard=1\\u003cbr\\u003eExperience=%{x}\\u003cbr\\u003esum of Income=%{y}\\u003cextra\\u003e\\u003c\\u002fextra\\u003e\",\"legendgroup\":\"1\",\"marker\":{\"color\":\"#EF553B\",\"pattern\":{\"shape\":\"\"}},\"name\":\"1\",\"offsetgroup\":\"1\",\"orientation\":\"v\",\"showlegend\":true,\"texttemplate\":\"%{value}\",\"x\":[\"Less than 5\",\"Between 5 and 10\",\"Between 10 and 20\",\"Between 20 and 30\",\"More than 30\"],\"xaxis\":\"x\",\"y\":[75.18562874251496,69.0909090909091,81.87123287671233,69.95607235142118,70.6086956521739],\"yaxis\":\"y\",\"type\":\"histogram\"}],                        {\"template\":{\"data\":{\"histogram2dcontour\":[{\"type\":\"histogram2dcontour\",\"colorbar\":{\"outlinewidth\":0,\"ticks\":\"\"},\"colorscale\":[[0.0,\"#0d0887\"],[0.1111111111111111,\"#46039f\"],[0.2222222222222222,\"#7201a8\"],[0.3333333333333333,\"#9c179e\"],[0.4444444444444444,\"#bd3786\"],[0.5555555555555556,\"#d8576b\"],[0.6666666666666666,\"#ed7953\"],[0.7777777777777778,\"#fb9f3a\"],[0.8888888888888888,\"#fdca26\"],[1.0,\"#f0f921\"]]}],\"choropleth\":[{\"type\":\"choropleth\",\"colorbar\":{\"outlinewidth\":0,\"ticks\":\"\"}}],\"histogram2d\":[{\"type\":\"histogram2d\",\"colorbar\":{\"outlinewidth\":0,\"ticks\":\"\"},\"colorscale\":[[0.0,\"#0d0887\"],[0.1111111111111111,\"#46039f\"],[0.2222222222222222,\"#7201a8\"],[0.3333333333333333,\"#9c179e\"],[0.4444444444444444,\"#bd3786\"],[0.5555555555555556,\"#d8576b\"],[0.6666666666666666,\"#ed7953\"],[0.7777777777777778,\"#fb9f3a\"],[0.8888888888888888,\"#fdca26\"],[1.0,\"#f0f921\"]]}],\"heatmap\":[{\"type\":\"heatmap\",\"colorbar\":{\"outlinewidth\":0,\"ticks\":\"\"},\"colorscale\":[[0.0,\"#0d0887\"],[0.1111111111111111,\"#46039f\"],[0.2222222222222222,\"#7201a8\"],[0.3333333333333333,\"#9c179e\"],[0.4444444444444444,\"#bd3786\"],[0.5555555555555556,\"#d8576b\"],[0.6666666666666666,\"#ed7953\"],[0.7777777777777778,\"#fb9f3a\"],[0.8888888888888888,\"#fdca26\"],[1.0,\"#f0f921\"]]}],\"heatmapgl\":[{\"type\":\"heatmapgl\",\"colorbar\":{\"outlinewidth\":0,\"ticks\":\"\"},\"colorscale\":[[0.0,\"#0d0887\"],[0.1111111111111111,\"#46039f\"],[0.2222222222222222,\"#7201a8\"],[0.3333333333333333,\"#9c179e\"],[0.4444444444444444,\"#bd3786\"],[0.5555555555555556,\"#d8576b\"],[0.6666666666666666,\"#ed7953\"],[0.7777777777777778,\"#fb9f3a\"],[0.8888888888888888,\"#fdca26\"],[1.0,\"#f0f921\"]]}],\"contourcarpet\":[{\"type\":\"contourcarpet\",\"colorbar\":{\"outlinewidth\":0,\"ticks\":\"\"}}],\"contour\":[{\"type\":\"contour\",\"colorbar\":{\"outlinewidth\":0,\"ticks\":\"\"},\"colorscale\":[[0.0,\"#0d0887\"],[0.1111111111111111,\"#46039f\"],[0.2222222222222222,\"#7201a8\"],[0.3333333333333333,\"#9c179e\"],[0.4444444444444444,\"#bd3786\"],[0.5555555555555556,\"#d8576b\"],[0.6666666666666666,\"#ed7953\"],[0.7777777777777778,\"#fb9f3a\"],[0.8888888888888888,\"#fdca26\"],[1.0,\"#f0f921\"]]}],\"surface\":[{\"type\":\"surface\",\"colorbar\":{\"outlinewidth\":0,\"ticks\":\"\"},\"colorscale\":[[0.0,\"#0d0887\"],[0.1111111111111111,\"#46039f\"],[0.2222222222222222,\"#7201a8\"],[0.3333333333333333,\"#9c179e\"],[0.4444444444444444,\"#bd3786\"],[0.5555555555555556,\"#d8576b\"],[0.6666666666666666,\"#ed7953\"],[0.7777777777777778,\"#fb9f3a\"],[0.8888888888888888,\"#fdca26\"],[1.0,\"#f0f921\"]]}],\"mesh3d\":[{\"type\":\"mesh3d\",\"colorbar\":{\"outlinewidth\":0,\"ticks\":\"\"}}],\"scatter\":[{\"marker\":{\"line\":{\"color\":\"#283442\"}},\"type\":\"scatter\"}],\"parcoords\":[{\"type\":\"parcoords\",\"line\":{\"colorbar\":{\"outlinewidth\":0,\"ticks\":\"\"}}}],\"scatterpolargl\":[{\"type\":\"scatterpolargl\",\"marker\":{\"colorbar\":{\"outlinewidth\":0,\"ticks\":\"\"}}}],\"bar\":[{\"error_x\":{\"color\":\"#f2f5fa\"},\"error_y\":{\"color\":\"#f2f5fa\"},\"marker\":{\"line\":{\"color\":\"rgb(17,17,17)\",\"width\":0.5},\"pattern\":{\"fillmode\":\"overlay\",\"size\":10,\"solidity\":0.2}},\"type\":\"bar\"}],\"scattergeo\":[{\"type\":\"scattergeo\",\"marker\":{\"colorbar\":{\"outlinewidth\":0,\"ticks\":\"\"}}}],\"scatterpolar\":[{\"type\":\"scatterpolar\",\"marker\":{\"colorbar\":{\"outlinewidth\":0,\"ticks\":\"\"}}}],\"histogram\":[{\"marker\":{\"pattern\":{\"fillmode\":\"overlay\",\"size\":10,\"solidity\":0.2}},\"type\":\"histogram\"}],\"scattergl\":[{\"marker\":{\"line\":{\"color\":\"#283442\"}},\"type\":\"scattergl\"}],\"scatter3d\":[{\"type\":\"scatter3d\",\"line\":{\"colorbar\":{\"outlinewidth\":0,\"ticks\":\"\"}},\"marker\":{\"colorbar\":{\"outlinewidth\":0,\"ticks\":\"\"}}}],\"scattermapbox\":[{\"type\":\"scattermapbox\",\"marker\":{\"colorbar\":{\"outlinewidth\":0,\"ticks\":\"\"}}}],\"scatterternary\":[{\"type\":\"scatterternary\",\"marker\":{\"colorbar\":{\"outlinewidth\":0,\"ticks\":\"\"}}}],\"scattercarpet\":[{\"type\":\"scattercarpet\",\"marker\":{\"colorbar\":{\"outlinewidth\":0,\"ticks\":\"\"}}}],\"carpet\":[{\"aaxis\":{\"endlinecolor\":\"#A2B1C6\",\"gridcolor\":\"#506784\",\"linecolor\":\"#506784\",\"minorgridcolor\":\"#506784\",\"startlinecolor\":\"#A2B1C6\"},\"baxis\":{\"endlinecolor\":\"#A2B1C6\",\"gridcolor\":\"#506784\",\"linecolor\":\"#506784\",\"minorgridcolor\":\"#506784\",\"startlinecolor\":\"#A2B1C6\"},\"type\":\"carpet\"}],\"table\":[{\"cells\":{\"fill\":{\"color\":\"#506784\"},\"line\":{\"color\":\"rgb(17,17,17)\"}},\"header\":{\"fill\":{\"color\":\"#2a3f5f\"},\"line\":{\"color\":\"rgb(17,17,17)\"}},\"type\":\"table\"}],\"barpolar\":[{\"marker\":{\"line\":{\"color\":\"rgb(17,17,17)\",\"width\":0.5},\"pattern\":{\"fillmode\":\"overlay\",\"size\":10,\"solidity\":0.2}},\"type\":\"barpolar\"}],\"pie\":[{\"automargin\":true,\"type\":\"pie\"}]},\"layout\":{\"autotypenumbers\":\"strict\",\"colorway\":[\"#636efa\",\"#EF553B\",\"#00cc96\",\"#ab63fa\",\"#FFA15A\",\"#19d3f3\",\"#FF6692\",\"#B6E880\",\"#FF97FF\",\"#FECB52\"],\"font\":{\"color\":\"#f2f5fa\"},\"hovermode\":\"closest\",\"hoverlabel\":{\"align\":\"left\"},\"paper_bgcolor\":\"rgb(17,17,17)\",\"plot_bgcolor\":\"rgb(17,17,17)\",\"polar\":{\"bgcolor\":\"rgb(17,17,17)\",\"angularaxis\":{\"gridcolor\":\"#506784\",\"linecolor\":\"#506784\",\"ticks\":\"\"},\"radialaxis\":{\"gridcolor\":\"#506784\",\"linecolor\":\"#506784\",\"ticks\":\"\"}},\"ternary\":{\"bgcolor\":\"rgb(17,17,17)\",\"aaxis\":{\"gridcolor\":\"#506784\",\"linecolor\":\"#506784\",\"ticks\":\"\"},\"baxis\":{\"gridcolor\":\"#506784\",\"linecolor\":\"#506784\",\"ticks\":\"\"},\"caxis\":{\"gridcolor\":\"#506784\",\"linecolor\":\"#506784\",\"ticks\":\"\"}},\"coloraxis\":{\"colorbar\":{\"outlinewidth\":0,\"ticks\":\"\"}},\"colorscale\":{\"sequential\":[[0.0,\"#0d0887\"],[0.1111111111111111,\"#46039f\"],[0.2222222222222222,\"#7201a8\"],[0.3333333333333333,\"#9c179e\"],[0.4444444444444444,\"#bd3786\"],[0.5555555555555556,\"#d8576b\"],[0.6666666666666666,\"#ed7953\"],[0.7777777777777778,\"#fb9f3a\"],[0.8888888888888888,\"#fdca26\"],[1.0,\"#f0f921\"]],\"sequentialminus\":[[0.0,\"#0d0887\"],[0.1111111111111111,\"#46039f\"],[0.2222222222222222,\"#7201a8\"],[0.3333333333333333,\"#9c179e\"],[0.4444444444444444,\"#bd3786\"],[0.5555555555555556,\"#d8576b\"],[0.6666666666666666,\"#ed7953\"],[0.7777777777777778,\"#fb9f3a\"],[0.8888888888888888,\"#fdca26\"],[1.0,\"#f0f921\"]],\"diverging\":[[0,\"#8e0152\"],[0.1,\"#c51b7d\"],[0.2,\"#de77ae\"],[0.3,\"#f1b6da\"],[0.4,\"#fde0ef\"],[0.5,\"#f7f7f7\"],[0.6,\"#e6f5d0\"],[0.7,\"#b8e186\"],[0.8,\"#7fbc41\"],[0.9,\"#4d9221\"],[1,\"#276419\"]]},\"xaxis\":{\"gridcolor\":\"#283442\",\"linecolor\":\"#506784\",\"ticks\":\"\",\"title\":{\"standoff\":15},\"zerolinecolor\":\"#283442\",\"automargin\":true,\"zerolinewidth\":2},\"yaxis\":{\"gridcolor\":\"#283442\",\"linecolor\":\"#506784\",\"ticks\":\"\",\"title\":{\"standoff\":15},\"zerolinecolor\":\"#283442\",\"automargin\":true,\"zerolinewidth\":2},\"scene\":{\"xaxis\":{\"backgroundcolor\":\"rgb(17,17,17)\",\"gridcolor\":\"#506784\",\"linecolor\":\"#506784\",\"showbackground\":true,\"ticks\":\"\",\"zerolinecolor\":\"#C8D4E3\",\"gridwidth\":2},\"yaxis\":{\"backgroundcolor\":\"rgb(17,17,17)\",\"gridcolor\":\"#506784\",\"linecolor\":\"#506784\",\"showbackground\":true,\"ticks\":\"\",\"zerolinecolor\":\"#C8D4E3\",\"gridwidth\":2},\"zaxis\":{\"backgroundcolor\":\"rgb(17,17,17)\",\"gridcolor\":\"#506784\",\"linecolor\":\"#506784\",\"showbackground\":true,\"ticks\":\"\",\"zerolinecolor\":\"#C8D4E3\",\"gridwidth\":2}},\"shapedefaults\":{\"line\":{\"color\":\"#f2f5fa\"}},\"annotationdefaults\":{\"arrowcolor\":\"#f2f5fa\",\"arrowhead\":0,\"arrowwidth\":1},\"geo\":{\"bgcolor\":\"rgb(17,17,17)\",\"landcolor\":\"rgb(17,17,17)\",\"subunitcolor\":\"#506784\",\"showland\":true,\"showlakes\":true,\"lakecolor\":\"rgb(17,17,17)\"},\"title\":{\"x\":0.05},\"updatemenudefaults\":{\"bgcolor\":\"#506784\",\"borderwidth\":0},\"sliderdefaults\":{\"bgcolor\":\"#C8D4E3\",\"borderwidth\":1,\"bordercolor\":\"rgb(17,17,17)\",\"tickwidth\":0},\"mapbox\":{\"style\":\"dark\"}}},\"xaxis\":{\"anchor\":\"y\",\"domain\":[0.0,1.0],\"title\":{\"text\":\"Experience\"}},\"yaxis\":{\"anchor\":\"x\",\"domain\":[0.0,1.0],\"title\":{\"text\":\"Income\"}},\"legend\":{\"title\":{\"text\":\"CreditCard\"},\"tracegroupgap\":0},\"margin\":{\"t\":60},\"barmode\":\"group\",\"title\":{\"text\":\"Statistics of clients by Experience and Credit Card\"}},                        {\"responsive\": true}                    ).then(function(){\n                            \nvar gd = document.getElementById('9aeae911-e06f-4efe-b629-e8a0479bcdf2');\nvar x = new MutationObserver(function (mutations, observer) {{\n        var display = window.getComputedStyle(gd).display;\n        if (!display || display === 'none') {{\n            console.log([gd, 'removed!']);\n            Plotly.purge(gd);\n            observer.disconnect();\n        }}\n}});\n\n// Listen for the removal of the full notebook cells\nvar notebookContainer = gd.closest('#notebook-container');\nif (notebookContainer) {{\n    x.observe(notebookContainer, {childList: true});\n}}\n\n// Listen for the clearing of the current output cell\nvar outputEl = gd.closest('.output');\nif (outputEl) {{\n    x.observe(outputEl, {childList: true});\n}}\n\n                        })                };                });            </script>        </div>"
     },
     "metadata": {},
     "output_type": "display_data"
    }
   ],
   "source": [
    "bins = [0, 5, 10, 20, 30, float('inf')]\n",
    "labels = ['Less than 5', 'Between 5 and 10', 'Between 10 and 20', 'Between 20 and 30', 'More than 30']\n",
    "data2 = data.copy()\n",
    "data2['Experience'] = pd.cut(data['Experience'], bins=bins, labels=labels)\n",
    "data2 = data2.groupby(['CreditCard', 'Experience'])['Income'].mean().reset_index()\n",
    "\n",
    "fig = px.histogram(data2, x='Experience', y='Income', color='CreditCard', barmode='group', text_auto=True)\n",
    "fig.update_layout(title='Statistics of clients by Experience and Credit Card', yaxis_title='Income')\n",
    "fig.show()"
   ],
   "metadata": {
    "collapsed": false,
    "ExecuteTime": {
     "end_time": "2024-03-17T06:40:08.392386Z",
     "start_time": "2024-03-17T06:40:08.319411Z"
    }
   },
   "id": "cd585ecf3373dbca",
   "execution_count": 74
  },
  {
   "cell_type": "code",
   "outputs": [
    {
     "data": {
      "application/vnd.plotly.v1+json": {
       "data": [
        {
         "alignmentgroup": "True",
         "hovertemplate": "ZIP Code=%{x}<br>Count=%{y}<extra></extra>",
         "legendgroup": "94720",
         "marker": {
          "color": "#636efa",
          "pattern": {
           "shape": ""
          }
         },
         "name": "94720",
         "offsetgroup": "94720",
         "orientation": "v",
         "showlegend": true,
         "textposition": "auto",
         "texttemplate": "%{y}",
         "x": [
          "94720"
         ],
         "xaxis": "x",
         "y": [
          169
         ],
         "yaxis": "y",
         "type": "bar"
        },
        {
         "alignmentgroup": "True",
         "hovertemplate": "ZIP Code=%{x}<br>Count=%{y}<extra></extra>",
         "legendgroup": "94305",
         "marker": {
          "color": "#EF553B",
          "pattern": {
           "shape": ""
          }
         },
         "name": "94305",
         "offsetgroup": "94305",
         "orientation": "v",
         "showlegend": true,
         "textposition": "auto",
         "texttemplate": "%{y}",
         "x": [
          "94305"
         ],
         "xaxis": "x",
         "y": [
          127
         ],
         "yaxis": "y",
         "type": "bar"
        },
        {
         "alignmentgroup": "True",
         "hovertemplate": "ZIP Code=%{x}<br>Count=%{y}<extra></extra>",
         "legendgroup": "95616",
         "marker": {
          "color": "#00cc96",
          "pattern": {
           "shape": ""
          }
         },
         "name": "95616",
         "offsetgroup": "95616",
         "orientation": "v",
         "showlegend": true,
         "textposition": "auto",
         "texttemplate": "%{y}",
         "x": [
          "95616"
         ],
         "xaxis": "x",
         "y": [
          116
         ],
         "yaxis": "y",
         "type": "bar"
        },
        {
         "alignmentgroup": "True",
         "hovertemplate": "ZIP Code=%{x}<br>Count=%{y}<extra></extra>",
         "legendgroup": "90095",
         "marker": {
          "color": "#ab63fa",
          "pattern": {
           "shape": ""
          }
         },
         "name": "90095",
         "offsetgroup": "90095",
         "orientation": "v",
         "showlegend": true,
         "textposition": "auto",
         "texttemplate": "%{y}",
         "x": [
          "90095"
         ],
         "xaxis": "x",
         "y": [
          71
         ],
         "yaxis": "y",
         "type": "bar"
        },
        {
         "alignmentgroup": "True",
         "hovertemplate": "ZIP Code=%{x}<br>Count=%{y}<extra></extra>",
         "legendgroup": "93106",
         "marker": {
          "color": "#FFA15A",
          "pattern": {
           "shape": ""
          }
         },
         "name": "93106",
         "offsetgroup": "93106",
         "orientation": "v",
         "showlegend": true,
         "textposition": "auto",
         "texttemplate": "%{y}",
         "x": [
          "93106"
         ],
         "xaxis": "x",
         "y": [
          57
         ],
         "yaxis": "y",
         "type": "bar"
        },
        {
         "alignmentgroup": "True",
         "hovertemplate": "ZIP Code=%{x}<br>Count=%{y}<extra></extra>",
         "legendgroup": "92037",
         "marker": {
          "color": "#19d3f3",
          "pattern": {
           "shape": ""
          }
         },
         "name": "92037",
         "offsetgroup": "92037",
         "orientation": "v",
         "showlegend": true,
         "textposition": "auto",
         "texttemplate": "%{y}",
         "x": [
          "92037"
         ],
         "xaxis": "x",
         "y": [
          54
         ],
         "yaxis": "y",
         "type": "bar"
        },
        {
         "alignmentgroup": "True",
         "hovertemplate": "ZIP Code=%{x}<br>Count=%{y}<extra></extra>",
         "legendgroup": "93943",
         "marker": {
          "color": "#FF6692",
          "pattern": {
           "shape": ""
          }
         },
         "name": "93943",
         "offsetgroup": "93943",
         "orientation": "v",
         "showlegend": true,
         "textposition": "auto",
         "texttemplate": "%{y}",
         "x": [
          "93943"
         ],
         "xaxis": "x",
         "y": [
          54
         ],
         "yaxis": "y",
         "type": "bar"
        },
        {
         "alignmentgroup": "True",
         "hovertemplate": "ZIP Code=%{x}<br>Count=%{y}<extra></extra>",
         "legendgroup": "91320",
         "marker": {
          "color": "#B6E880",
          "pattern": {
           "shape": ""
          }
         },
         "name": "91320",
         "offsetgroup": "91320",
         "orientation": "v",
         "showlegend": true,
         "textposition": "auto",
         "texttemplate": "%{y}",
         "x": [
          "91320"
         ],
         "xaxis": "x",
         "y": [
          53
         ],
         "yaxis": "y",
         "type": "bar"
        },
        {
         "alignmentgroup": "True",
         "hovertemplate": "ZIP Code=%{x}<br>Count=%{y}<extra></extra>",
         "legendgroup": "94025",
         "marker": {
          "color": "#FF97FF",
          "pattern": {
           "shape": ""
          }
         },
         "name": "94025",
         "offsetgroup": "94025",
         "orientation": "v",
         "showlegend": true,
         "textposition": "auto",
         "texttemplate": "%{y}",
         "x": [
          "94025"
         ],
         "xaxis": "x",
         "y": [
          52
         ],
         "yaxis": "y",
         "type": "bar"
        },
        {
         "alignmentgroup": "True",
         "hovertemplate": "ZIP Code=%{x}<br>Count=%{y}<extra></extra>",
         "legendgroup": "91711",
         "marker": {
          "color": "#FECB52",
          "pattern": {
           "shape": ""
          }
         },
         "name": "91711",
         "offsetgroup": "91711",
         "orientation": "v",
         "showlegend": true,
         "textposition": "auto",
         "texttemplate": "%{y}",
         "x": [
          "91711"
         ],
         "xaxis": "x",
         "y": [
          52
         ],
         "yaxis": "y",
         "type": "bar"
        },
        {
         "alignmentgroup": "True",
         "hovertemplate": "ZIP Code=%{x}<br>Count=%{y}<extra></extra>",
         "legendgroup": "92093",
         "marker": {
          "color": "#636efa",
          "pattern": {
           "shape": ""
          }
         },
         "name": "92093",
         "offsetgroup": "92093",
         "orientation": "v",
         "showlegend": true,
         "textposition": "auto",
         "texttemplate": "%{y}",
         "x": [
          "92093"
         ],
         "xaxis": "x",
         "y": [
          51
         ],
         "yaxis": "y",
         "type": "bar"
        },
        {
         "alignmentgroup": "True",
         "hovertemplate": "ZIP Code=%{x}<br>Count=%{y}<extra></extra>",
         "legendgroup": "90024",
         "marker": {
          "color": "#EF553B",
          "pattern": {
           "shape": ""
          }
         },
         "name": "90024",
         "offsetgroup": "90024",
         "orientation": "v",
         "showlegend": true,
         "textposition": "auto",
         "texttemplate": "%{y}",
         "x": [
          "90024"
         ],
         "xaxis": "x",
         "y": [
          50
         ],
         "yaxis": "y",
         "type": "bar"
        },
        {
         "alignmentgroup": "True",
         "hovertemplate": "ZIP Code=%{x}<br>Count=%{y}<extra></extra>",
         "legendgroup": "90245",
         "marker": {
          "color": "#00cc96",
          "pattern": {
           "shape": ""
          }
         },
         "name": "90245",
         "offsetgroup": "90245",
         "orientation": "v",
         "showlegend": true,
         "textposition": "auto",
         "texttemplate": "%{y}",
         "x": [
          "90245"
         ],
         "xaxis": "x",
         "y": [
          50
         ],
         "yaxis": "y",
         "type": "bar"
        },
        {
         "alignmentgroup": "True",
         "hovertemplate": "ZIP Code=%{x}<br>Count=%{y}<extra></extra>",
         "legendgroup": "91330",
         "marker": {
          "color": "#ab63fa",
          "pattern": {
           "shape": ""
          }
         },
         "name": "91330",
         "offsetgroup": "91330",
         "orientation": "v",
         "showlegend": true,
         "textposition": "auto",
         "texttemplate": "%{y}",
         "x": [
          "91330"
         ],
         "xaxis": "x",
         "y": [
          46
         ],
         "yaxis": "y",
         "type": "bar"
        },
        {
         "alignmentgroup": "True",
         "hovertemplate": "ZIP Code=%{x}<br>Count=%{y}<extra></extra>",
         "legendgroup": "90089",
         "marker": {
          "color": "#FFA15A",
          "pattern": {
           "shape": ""
          }
         },
         "name": "90089",
         "offsetgroup": "90089",
         "orientation": "v",
         "showlegend": true,
         "textposition": "auto",
         "texttemplate": "%{y}",
         "x": [
          "90089"
         ],
         "xaxis": "x",
         "y": [
          46
         ],
         "yaxis": "y",
         "type": "bar"
        },
        {
         "alignmentgroup": "True",
         "hovertemplate": "ZIP Code=%{x}<br>Count=%{y}<extra></extra>",
         "legendgroup": "92121",
         "marker": {
          "color": "#19d3f3",
          "pattern": {
           "shape": ""
          }
         },
         "name": "92121",
         "offsetgroup": "92121",
         "orientation": "v",
         "showlegend": true,
         "textposition": "auto",
         "texttemplate": "%{y}",
         "x": [
          "92121"
         ],
         "xaxis": "x",
         "y": [
          45
         ],
         "yaxis": "y",
         "type": "bar"
        },
        {
         "alignmentgroup": "True",
         "hovertemplate": "ZIP Code=%{x}<br>Count=%{y}<extra></extra>",
         "legendgroup": "94304",
         "marker": {
          "color": "#FF6692",
          "pattern": {
           "shape": ""
          }
         },
         "name": "94304",
         "offsetgroup": "94304",
         "orientation": "v",
         "showlegend": true,
         "textposition": "auto",
         "texttemplate": "%{y}",
         "x": [
          "94304"
         ],
         "xaxis": "x",
         "y": [
          45
         ],
         "yaxis": "y",
         "type": "bar"
        },
        {
         "alignmentgroup": "True",
         "hovertemplate": "ZIP Code=%{x}<br>Count=%{y}<extra></extra>",
         "legendgroup": "94143",
         "marker": {
          "color": "#B6E880",
          "pattern": {
           "shape": ""
          }
         },
         "name": "94143",
         "offsetgroup": "94143",
         "orientation": "v",
         "showlegend": true,
         "textposition": "auto",
         "texttemplate": "%{y}",
         "x": [
          "94143"
         ],
         "xaxis": "x",
         "y": [
          37
         ],
         "yaxis": "y",
         "type": "bar"
        },
        {
         "alignmentgroup": "True",
         "hovertemplate": "ZIP Code=%{x}<br>Count=%{y}<extra></extra>",
         "legendgroup": "94608",
         "marker": {
          "color": "#FF97FF",
          "pattern": {
           "shape": ""
          }
         },
         "name": "94608",
         "offsetgroup": "94608",
         "orientation": "v",
         "showlegend": true,
         "textposition": "auto",
         "texttemplate": "%{y}",
         "x": [
          "94608"
         ],
         "xaxis": "x",
         "y": [
          34
         ],
         "yaxis": "y",
         "type": "bar"
        },
        {
         "alignmentgroup": "True",
         "hovertemplate": "ZIP Code=%{x}<br>Count=%{y}<extra></extra>",
         "legendgroup": "95051",
         "marker": {
          "color": "#FECB52",
          "pattern": {
           "shape": ""
          }
         },
         "name": "95051",
         "offsetgroup": "95051",
         "orientation": "v",
         "showlegend": true,
         "textposition": "auto",
         "texttemplate": "%{y}",
         "x": [
          "95051"
         ],
         "xaxis": "x",
         "y": [
          34
         ],
         "yaxis": "y",
         "type": "bar"
        },
        {
         "alignmentgroup": "True",
         "hovertemplate": "ZIP Code=%{x}<br>Count=%{y}<extra></extra>",
         "legendgroup": "92028",
         "marker": {
          "color": "#636efa",
          "pattern": {
           "shape": ""
          }
         },
         "name": "92028",
         "offsetgroup": "92028",
         "orientation": "v",
         "showlegend": true,
         "textposition": "auto",
         "texttemplate": "%{y}",
         "x": [
          "92028"
         ],
         "xaxis": "x",
         "y": [
          32
         ],
         "yaxis": "y",
         "type": "bar"
        },
        {
         "alignmentgroup": "True",
         "hovertemplate": "ZIP Code=%{x}<br>Count=%{y}<extra></extra>",
         "legendgroup": "92521",
         "marker": {
          "color": "#EF553B",
          "pattern": {
           "shape": ""
          }
         },
         "name": "92521",
         "offsetgroup": "92521",
         "orientation": "v",
         "showlegend": true,
         "textposition": "auto",
         "texttemplate": "%{y}",
         "x": [
          "92521"
         ],
         "xaxis": "x",
         "y": [
          32
         ],
         "yaxis": "y",
         "type": "bar"
        },
        {
         "alignmentgroup": "True",
         "hovertemplate": "ZIP Code=%{x}<br>Count=%{y}<extra></extra>",
         "legendgroup": "92182",
         "marker": {
          "color": "#00cc96",
          "pattern": {
           "shape": ""
          }
         },
         "name": "92182",
         "offsetgroup": "92182",
         "orientation": "v",
         "showlegend": true,
         "textposition": "auto",
         "texttemplate": "%{y}",
         "x": [
          "92182"
         ],
         "xaxis": "x",
         "y": [
          32
         ],
         "yaxis": "y",
         "type": "bar"
        },
        {
         "alignmentgroup": "True",
         "hovertemplate": "ZIP Code=%{x}<br>Count=%{y}<extra></extra>",
         "legendgroup": "95054",
         "marker": {
          "color": "#ab63fa",
          "pattern": {
           "shape": ""
          }
         },
         "name": "95054",
         "offsetgroup": "95054",
         "orientation": "v",
         "showlegend": true,
         "textposition": "auto",
         "texttemplate": "%{y}",
         "x": [
          "95054"
         ],
         "xaxis": "x",
         "y": [
          31
         ],
         "yaxis": "y",
         "type": "bar"
        },
        {
         "alignmentgroup": "True",
         "hovertemplate": "ZIP Code=%{x}<br>Count=%{y}<extra></extra>",
         "legendgroup": "95814",
         "marker": {
          "color": "#FFA15A",
          "pattern": {
           "shape": ""
          }
         },
         "name": "95814",
         "offsetgroup": "95814",
         "orientation": "v",
         "showlegend": true,
         "textposition": "auto",
         "texttemplate": "%{y}",
         "x": [
          "95814"
         ],
         "xaxis": "x",
         "y": [
          30
         ],
         "yaxis": "y",
         "type": "bar"
        },
        {
         "alignmentgroup": "True",
         "hovertemplate": "ZIP Code=%{x}<br>Count=%{y}<extra></extra>",
         "legendgroup": "95014",
         "marker": {
          "color": "#19d3f3",
          "pattern": {
           "shape": ""
          }
         },
         "name": "95014",
         "offsetgroup": "95014",
         "orientation": "v",
         "showlegend": true,
         "textposition": "auto",
         "texttemplate": "%{y}",
         "x": [
          "95014"
         ],
         "xaxis": "x",
         "y": [
          29
         ],
         "yaxis": "y",
         "type": "bar"
        },
        {
         "alignmentgroup": "True",
         "hovertemplate": "ZIP Code=%{x}<br>Count=%{y}<extra></extra>",
         "legendgroup": "94550",
         "marker": {
          "color": "#FF6692",
          "pattern": {
           "shape": ""
          }
         },
         "name": "94550",
         "offsetgroup": "94550",
         "orientation": "v",
         "showlegend": true,
         "textposition": "auto",
         "texttemplate": "%{y}",
         "x": [
          "94550"
         ],
         "xaxis": "x",
         "y": [
          27
         ],
         "yaxis": "y",
         "type": "bar"
        },
        {
         "alignmentgroup": "True",
         "hovertemplate": "ZIP Code=%{x}<br>Count=%{y}<extra></extra>",
         "legendgroup": "94301",
         "marker": {
          "color": "#B6E880",
          "pattern": {
           "shape": ""
          }
         },
         "name": "94301",
         "offsetgroup": "94301",
         "orientation": "v",
         "showlegend": true,
         "textposition": "auto",
         "texttemplate": "%{y}",
         "x": [
          "94301"
         ],
         "xaxis": "x",
         "y": [
          27
         ],
         "yaxis": "y",
         "type": "bar"
        },
        {
         "alignmentgroup": "True",
         "hovertemplate": "ZIP Code=%{x}<br>Count=%{y}<extra></extra>",
         "legendgroup": "94542",
         "marker": {
          "color": "#FF97FF",
          "pattern": {
           "shape": ""
          }
         },
         "name": "94542",
         "offsetgroup": "94542",
         "orientation": "v",
         "showlegend": true,
         "textposition": "auto",
         "texttemplate": "%{y}",
         "x": [
          "94542"
         ],
         "xaxis": "x",
         "y": [
          27
         ],
         "yaxis": "y",
         "type": "bar"
        },
        {
         "alignmentgroup": "True",
         "hovertemplate": "ZIP Code=%{x}<br>Count=%{y}<extra></extra>",
         "legendgroup": "93407",
         "marker": {
          "color": "#FECB52",
          "pattern": {
           "shape": ""
          }
         },
         "name": "93407",
         "offsetgroup": "93407",
         "orientation": "v",
         "showlegend": true,
         "textposition": "auto",
         "texttemplate": "%{y}",
         "x": [
          "93407"
         ],
         "xaxis": "x",
         "y": [
          26
         ],
         "yaxis": "y",
         "type": "bar"
        }
       ],
       "layout": {
        "template": {
         "data": {
          "histogram2dcontour": [
           {
            "type": "histogram2dcontour",
            "colorbar": {
             "outlinewidth": 0,
             "ticks": ""
            },
            "colorscale": [
             [
              0.0,
              "#0d0887"
             ],
             [
              0.1111111111111111,
              "#46039f"
             ],
             [
              0.2222222222222222,
              "#7201a8"
             ],
             [
              0.3333333333333333,
              "#9c179e"
             ],
             [
              0.4444444444444444,
              "#bd3786"
             ],
             [
              0.5555555555555556,
              "#d8576b"
             ],
             [
              0.6666666666666666,
              "#ed7953"
             ],
             [
              0.7777777777777778,
              "#fb9f3a"
             ],
             [
              0.8888888888888888,
              "#fdca26"
             ],
             [
              1.0,
              "#f0f921"
             ]
            ]
           }
          ],
          "choropleth": [
           {
            "type": "choropleth",
            "colorbar": {
             "outlinewidth": 0,
             "ticks": ""
            }
           }
          ],
          "histogram2d": [
           {
            "type": "histogram2d",
            "colorbar": {
             "outlinewidth": 0,
             "ticks": ""
            },
            "colorscale": [
             [
              0.0,
              "#0d0887"
             ],
             [
              0.1111111111111111,
              "#46039f"
             ],
             [
              0.2222222222222222,
              "#7201a8"
             ],
             [
              0.3333333333333333,
              "#9c179e"
             ],
             [
              0.4444444444444444,
              "#bd3786"
             ],
             [
              0.5555555555555556,
              "#d8576b"
             ],
             [
              0.6666666666666666,
              "#ed7953"
             ],
             [
              0.7777777777777778,
              "#fb9f3a"
             ],
             [
              0.8888888888888888,
              "#fdca26"
             ],
             [
              1.0,
              "#f0f921"
             ]
            ]
           }
          ],
          "heatmap": [
           {
            "type": "heatmap",
            "colorbar": {
             "outlinewidth": 0,
             "ticks": ""
            },
            "colorscale": [
             [
              0.0,
              "#0d0887"
             ],
             [
              0.1111111111111111,
              "#46039f"
             ],
             [
              0.2222222222222222,
              "#7201a8"
             ],
             [
              0.3333333333333333,
              "#9c179e"
             ],
             [
              0.4444444444444444,
              "#bd3786"
             ],
             [
              0.5555555555555556,
              "#d8576b"
             ],
             [
              0.6666666666666666,
              "#ed7953"
             ],
             [
              0.7777777777777778,
              "#fb9f3a"
             ],
             [
              0.8888888888888888,
              "#fdca26"
             ],
             [
              1.0,
              "#f0f921"
             ]
            ]
           }
          ],
          "heatmapgl": [
           {
            "type": "heatmapgl",
            "colorbar": {
             "outlinewidth": 0,
             "ticks": ""
            },
            "colorscale": [
             [
              0.0,
              "#0d0887"
             ],
             [
              0.1111111111111111,
              "#46039f"
             ],
             [
              0.2222222222222222,
              "#7201a8"
             ],
             [
              0.3333333333333333,
              "#9c179e"
             ],
             [
              0.4444444444444444,
              "#bd3786"
             ],
             [
              0.5555555555555556,
              "#d8576b"
             ],
             [
              0.6666666666666666,
              "#ed7953"
             ],
             [
              0.7777777777777778,
              "#fb9f3a"
             ],
             [
              0.8888888888888888,
              "#fdca26"
             ],
             [
              1.0,
              "#f0f921"
             ]
            ]
           }
          ],
          "contourcarpet": [
           {
            "type": "contourcarpet",
            "colorbar": {
             "outlinewidth": 0,
             "ticks": ""
            }
           }
          ],
          "contour": [
           {
            "type": "contour",
            "colorbar": {
             "outlinewidth": 0,
             "ticks": ""
            },
            "colorscale": [
             [
              0.0,
              "#0d0887"
             ],
             [
              0.1111111111111111,
              "#46039f"
             ],
             [
              0.2222222222222222,
              "#7201a8"
             ],
             [
              0.3333333333333333,
              "#9c179e"
             ],
             [
              0.4444444444444444,
              "#bd3786"
             ],
             [
              0.5555555555555556,
              "#d8576b"
             ],
             [
              0.6666666666666666,
              "#ed7953"
             ],
             [
              0.7777777777777778,
              "#fb9f3a"
             ],
             [
              0.8888888888888888,
              "#fdca26"
             ],
             [
              1.0,
              "#f0f921"
             ]
            ]
           }
          ],
          "surface": [
           {
            "type": "surface",
            "colorbar": {
             "outlinewidth": 0,
             "ticks": ""
            },
            "colorscale": [
             [
              0.0,
              "#0d0887"
             ],
             [
              0.1111111111111111,
              "#46039f"
             ],
             [
              0.2222222222222222,
              "#7201a8"
             ],
             [
              0.3333333333333333,
              "#9c179e"
             ],
             [
              0.4444444444444444,
              "#bd3786"
             ],
             [
              0.5555555555555556,
              "#d8576b"
             ],
             [
              0.6666666666666666,
              "#ed7953"
             ],
             [
              0.7777777777777778,
              "#fb9f3a"
             ],
             [
              0.8888888888888888,
              "#fdca26"
             ],
             [
              1.0,
              "#f0f921"
             ]
            ]
           }
          ],
          "mesh3d": [
           {
            "type": "mesh3d",
            "colorbar": {
             "outlinewidth": 0,
             "ticks": ""
            }
           }
          ],
          "scatter": [
           {
            "marker": {
             "line": {
              "color": "#283442"
             }
            },
            "type": "scatter"
           }
          ],
          "parcoords": [
           {
            "type": "parcoords",
            "line": {
             "colorbar": {
              "outlinewidth": 0,
              "ticks": ""
             }
            }
           }
          ],
          "scatterpolargl": [
           {
            "type": "scatterpolargl",
            "marker": {
             "colorbar": {
              "outlinewidth": 0,
              "ticks": ""
             }
            }
           }
          ],
          "bar": [
           {
            "error_x": {
             "color": "#f2f5fa"
            },
            "error_y": {
             "color": "#f2f5fa"
            },
            "marker": {
             "line": {
              "color": "rgb(17,17,17)",
              "width": 0.5
             },
             "pattern": {
              "fillmode": "overlay",
              "size": 10,
              "solidity": 0.2
             }
            },
            "type": "bar"
           }
          ],
          "scattergeo": [
           {
            "type": "scattergeo",
            "marker": {
             "colorbar": {
              "outlinewidth": 0,
              "ticks": ""
             }
            }
           }
          ],
          "scatterpolar": [
           {
            "type": "scatterpolar",
            "marker": {
             "colorbar": {
              "outlinewidth": 0,
              "ticks": ""
             }
            }
           }
          ],
          "histogram": [
           {
            "marker": {
             "pattern": {
              "fillmode": "overlay",
              "size": 10,
              "solidity": 0.2
             }
            },
            "type": "histogram"
           }
          ],
          "scattergl": [
           {
            "marker": {
             "line": {
              "color": "#283442"
             }
            },
            "type": "scattergl"
           }
          ],
          "scatter3d": [
           {
            "type": "scatter3d",
            "line": {
             "colorbar": {
              "outlinewidth": 0,
              "ticks": ""
             }
            },
            "marker": {
             "colorbar": {
              "outlinewidth": 0,
              "ticks": ""
             }
            }
           }
          ],
          "scattermapbox": [
           {
            "type": "scattermapbox",
            "marker": {
             "colorbar": {
              "outlinewidth": 0,
              "ticks": ""
             }
            }
           }
          ],
          "scatterternary": [
           {
            "type": "scatterternary",
            "marker": {
             "colorbar": {
              "outlinewidth": 0,
              "ticks": ""
             }
            }
           }
          ],
          "scattercarpet": [
           {
            "type": "scattercarpet",
            "marker": {
             "colorbar": {
              "outlinewidth": 0,
              "ticks": ""
             }
            }
           }
          ],
          "carpet": [
           {
            "aaxis": {
             "endlinecolor": "#A2B1C6",
             "gridcolor": "#506784",
             "linecolor": "#506784",
             "minorgridcolor": "#506784",
             "startlinecolor": "#A2B1C6"
            },
            "baxis": {
             "endlinecolor": "#A2B1C6",
             "gridcolor": "#506784",
             "linecolor": "#506784",
             "minorgridcolor": "#506784",
             "startlinecolor": "#A2B1C6"
            },
            "type": "carpet"
           }
          ],
          "table": [
           {
            "cells": {
             "fill": {
              "color": "#506784"
             },
             "line": {
              "color": "rgb(17,17,17)"
             }
            },
            "header": {
             "fill": {
              "color": "#2a3f5f"
             },
             "line": {
              "color": "rgb(17,17,17)"
             }
            },
            "type": "table"
           }
          ],
          "barpolar": [
           {
            "marker": {
             "line": {
              "color": "rgb(17,17,17)",
              "width": 0.5
             },
             "pattern": {
              "fillmode": "overlay",
              "size": 10,
              "solidity": 0.2
             }
            },
            "type": "barpolar"
           }
          ],
          "pie": [
           {
            "automargin": true,
            "type": "pie"
           }
          ]
         },
         "layout": {
          "autotypenumbers": "strict",
          "colorway": [
           "#636efa",
           "#EF553B",
           "#00cc96",
           "#ab63fa",
           "#FFA15A",
           "#19d3f3",
           "#FF6692",
           "#B6E880",
           "#FF97FF",
           "#FECB52"
          ],
          "font": {
           "color": "#f2f5fa"
          },
          "hovermode": "closest",
          "hoverlabel": {
           "align": "left"
          },
          "paper_bgcolor": "rgb(17,17,17)",
          "plot_bgcolor": "rgb(17,17,17)",
          "polar": {
           "bgcolor": "rgb(17,17,17)",
           "angularaxis": {
            "gridcolor": "#506784",
            "linecolor": "#506784",
            "ticks": ""
           },
           "radialaxis": {
            "gridcolor": "#506784",
            "linecolor": "#506784",
            "ticks": ""
           }
          },
          "ternary": {
           "bgcolor": "rgb(17,17,17)",
           "aaxis": {
            "gridcolor": "#506784",
            "linecolor": "#506784",
            "ticks": ""
           },
           "baxis": {
            "gridcolor": "#506784",
            "linecolor": "#506784",
            "ticks": ""
           },
           "caxis": {
            "gridcolor": "#506784",
            "linecolor": "#506784",
            "ticks": ""
           }
          },
          "coloraxis": {
           "colorbar": {
            "outlinewidth": 0,
            "ticks": ""
           }
          },
          "colorscale": {
           "sequential": [
            [
             0.0,
             "#0d0887"
            ],
            [
             0.1111111111111111,
             "#46039f"
            ],
            [
             0.2222222222222222,
             "#7201a8"
            ],
            [
             0.3333333333333333,
             "#9c179e"
            ],
            [
             0.4444444444444444,
             "#bd3786"
            ],
            [
             0.5555555555555556,
             "#d8576b"
            ],
            [
             0.6666666666666666,
             "#ed7953"
            ],
            [
             0.7777777777777778,
             "#fb9f3a"
            ],
            [
             0.8888888888888888,
             "#fdca26"
            ],
            [
             1.0,
             "#f0f921"
            ]
           ],
           "sequentialminus": [
            [
             0.0,
             "#0d0887"
            ],
            [
             0.1111111111111111,
             "#46039f"
            ],
            [
             0.2222222222222222,
             "#7201a8"
            ],
            [
             0.3333333333333333,
             "#9c179e"
            ],
            [
             0.4444444444444444,
             "#bd3786"
            ],
            [
             0.5555555555555556,
             "#d8576b"
            ],
            [
             0.6666666666666666,
             "#ed7953"
            ],
            [
             0.7777777777777778,
             "#fb9f3a"
            ],
            [
             0.8888888888888888,
             "#fdca26"
            ],
            [
             1.0,
             "#f0f921"
            ]
           ],
           "diverging": [
            [
             0,
             "#8e0152"
            ],
            [
             0.1,
             "#c51b7d"
            ],
            [
             0.2,
             "#de77ae"
            ],
            [
             0.3,
             "#f1b6da"
            ],
            [
             0.4,
             "#fde0ef"
            ],
            [
             0.5,
             "#f7f7f7"
            ],
            [
             0.6,
             "#e6f5d0"
            ],
            [
             0.7,
             "#b8e186"
            ],
            [
             0.8,
             "#7fbc41"
            ],
            [
             0.9,
             "#4d9221"
            ],
            [
             1,
             "#276419"
            ]
           ]
          },
          "xaxis": {
           "gridcolor": "#283442",
           "linecolor": "#506784",
           "ticks": "",
           "title": {
            "standoff": 15
           },
           "zerolinecolor": "#283442",
           "automargin": true,
           "zerolinewidth": 2
          },
          "yaxis": {
           "gridcolor": "#283442",
           "linecolor": "#506784",
           "ticks": "",
           "title": {
            "standoff": 15
           },
           "zerolinecolor": "#283442",
           "automargin": true,
           "zerolinewidth": 2
          },
          "scene": {
           "xaxis": {
            "backgroundcolor": "rgb(17,17,17)",
            "gridcolor": "#506784",
            "linecolor": "#506784",
            "showbackground": true,
            "ticks": "",
            "zerolinecolor": "#C8D4E3",
            "gridwidth": 2
           },
           "yaxis": {
            "backgroundcolor": "rgb(17,17,17)",
            "gridcolor": "#506784",
            "linecolor": "#506784",
            "showbackground": true,
            "ticks": "",
            "zerolinecolor": "#C8D4E3",
            "gridwidth": 2
           },
           "zaxis": {
            "backgroundcolor": "rgb(17,17,17)",
            "gridcolor": "#506784",
            "linecolor": "#506784",
            "showbackground": true,
            "ticks": "",
            "zerolinecolor": "#C8D4E3",
            "gridwidth": 2
           }
          },
          "shapedefaults": {
           "line": {
            "color": "#f2f5fa"
           }
          },
          "annotationdefaults": {
           "arrowcolor": "#f2f5fa",
           "arrowhead": 0,
           "arrowwidth": 1
          },
          "geo": {
           "bgcolor": "rgb(17,17,17)",
           "landcolor": "rgb(17,17,17)",
           "subunitcolor": "#506784",
           "showland": true,
           "showlakes": true,
           "lakecolor": "rgb(17,17,17)"
          },
          "title": {
           "x": 0.05
          },
          "updatemenudefaults": {
           "bgcolor": "#506784",
           "borderwidth": 0
          },
          "sliderdefaults": {
           "bgcolor": "#C8D4E3",
           "borderwidth": 1,
           "bordercolor": "rgb(17,17,17)",
           "tickwidth": 0
          },
          "mapbox": {
           "style": "dark"
          }
         }
        },
        "xaxis": {
         "anchor": "y",
         "domain": [
          0.0,
          1.0
         ],
         "title": {
          "text": "ZIP Code"
         },
         "categoryorder": "array",
         "categoryarray": [
          "94720",
          "94305",
          "95616",
          "90095",
          "93106",
          "92037",
          "93943",
          "91320",
          "94025",
          "91711",
          "92093",
          "90024",
          "90245",
          "91330",
          "90089",
          "92121",
          "94304",
          "94143",
          "94608",
          "95051",
          "92028",
          "92521",
          "92182",
          "95054",
          "95814",
          "95014",
          "94550",
          "94301",
          "94542",
          "93407"
         ]
        },
        "yaxis": {
         "anchor": "x",
         "domain": [
          0.0,
          1.0
         ],
         "title": {
          "text": "Count"
         }
        },
        "legend": {
         "title": {
          "text": "ZIP Code"
         },
         "tracegroupgap": 0
        },
        "margin": {
         "t": 60
        },
        "barmode": "relative",
        "title": {
         "text": "Number of clients by Zip Code location"
        }
       },
       "config": {
        "plotlyServerURL": "https://plot.ly"
       }
      },
      "text/html": "<div>                            <div id=\"4e214b25-f1e2-4236-9b20-117873385000\" class=\"plotly-graph-div\" style=\"height:525px; width:100%;\"></div>            <script type=\"text/javascript\">                require([\"plotly\"], function(Plotly) {                    window.PLOTLYENV=window.PLOTLYENV || {};                                    if (document.getElementById(\"4e214b25-f1e2-4236-9b20-117873385000\")) {                    Plotly.newPlot(                        \"4e214b25-f1e2-4236-9b20-117873385000\",                        [{\"alignmentgroup\":\"True\",\"hovertemplate\":\"ZIP Code=%{x}\\u003cbr\\u003eCount=%{y}\\u003cextra\\u003e\\u003c\\u002fextra\\u003e\",\"legendgroup\":\"94720\",\"marker\":{\"color\":\"#636efa\",\"pattern\":{\"shape\":\"\"}},\"name\":\"94720\",\"offsetgroup\":\"94720\",\"orientation\":\"v\",\"showlegend\":true,\"textposition\":\"auto\",\"texttemplate\":\"%{y}\",\"x\":[\"94720\"],\"xaxis\":\"x\",\"y\":[169],\"yaxis\":\"y\",\"type\":\"bar\"},{\"alignmentgroup\":\"True\",\"hovertemplate\":\"ZIP Code=%{x}\\u003cbr\\u003eCount=%{y}\\u003cextra\\u003e\\u003c\\u002fextra\\u003e\",\"legendgroup\":\"94305\",\"marker\":{\"color\":\"#EF553B\",\"pattern\":{\"shape\":\"\"}},\"name\":\"94305\",\"offsetgroup\":\"94305\",\"orientation\":\"v\",\"showlegend\":true,\"textposition\":\"auto\",\"texttemplate\":\"%{y}\",\"x\":[\"94305\"],\"xaxis\":\"x\",\"y\":[127],\"yaxis\":\"y\",\"type\":\"bar\"},{\"alignmentgroup\":\"True\",\"hovertemplate\":\"ZIP Code=%{x}\\u003cbr\\u003eCount=%{y}\\u003cextra\\u003e\\u003c\\u002fextra\\u003e\",\"legendgroup\":\"95616\",\"marker\":{\"color\":\"#00cc96\",\"pattern\":{\"shape\":\"\"}},\"name\":\"95616\",\"offsetgroup\":\"95616\",\"orientation\":\"v\",\"showlegend\":true,\"textposition\":\"auto\",\"texttemplate\":\"%{y}\",\"x\":[\"95616\"],\"xaxis\":\"x\",\"y\":[116],\"yaxis\":\"y\",\"type\":\"bar\"},{\"alignmentgroup\":\"True\",\"hovertemplate\":\"ZIP Code=%{x}\\u003cbr\\u003eCount=%{y}\\u003cextra\\u003e\\u003c\\u002fextra\\u003e\",\"legendgroup\":\"90095\",\"marker\":{\"color\":\"#ab63fa\",\"pattern\":{\"shape\":\"\"}},\"name\":\"90095\",\"offsetgroup\":\"90095\",\"orientation\":\"v\",\"showlegend\":true,\"textposition\":\"auto\",\"texttemplate\":\"%{y}\",\"x\":[\"90095\"],\"xaxis\":\"x\",\"y\":[71],\"yaxis\":\"y\",\"type\":\"bar\"},{\"alignmentgroup\":\"True\",\"hovertemplate\":\"ZIP Code=%{x}\\u003cbr\\u003eCount=%{y}\\u003cextra\\u003e\\u003c\\u002fextra\\u003e\",\"legendgroup\":\"93106\",\"marker\":{\"color\":\"#FFA15A\",\"pattern\":{\"shape\":\"\"}},\"name\":\"93106\",\"offsetgroup\":\"93106\",\"orientation\":\"v\",\"showlegend\":true,\"textposition\":\"auto\",\"texttemplate\":\"%{y}\",\"x\":[\"93106\"],\"xaxis\":\"x\",\"y\":[57],\"yaxis\":\"y\",\"type\":\"bar\"},{\"alignmentgroup\":\"True\",\"hovertemplate\":\"ZIP Code=%{x}\\u003cbr\\u003eCount=%{y}\\u003cextra\\u003e\\u003c\\u002fextra\\u003e\",\"legendgroup\":\"92037\",\"marker\":{\"color\":\"#19d3f3\",\"pattern\":{\"shape\":\"\"}},\"name\":\"92037\",\"offsetgroup\":\"92037\",\"orientation\":\"v\",\"showlegend\":true,\"textposition\":\"auto\",\"texttemplate\":\"%{y}\",\"x\":[\"92037\"],\"xaxis\":\"x\",\"y\":[54],\"yaxis\":\"y\",\"type\":\"bar\"},{\"alignmentgroup\":\"True\",\"hovertemplate\":\"ZIP Code=%{x}\\u003cbr\\u003eCount=%{y}\\u003cextra\\u003e\\u003c\\u002fextra\\u003e\",\"legendgroup\":\"93943\",\"marker\":{\"color\":\"#FF6692\",\"pattern\":{\"shape\":\"\"}},\"name\":\"93943\",\"offsetgroup\":\"93943\",\"orientation\":\"v\",\"showlegend\":true,\"textposition\":\"auto\",\"texttemplate\":\"%{y}\",\"x\":[\"93943\"],\"xaxis\":\"x\",\"y\":[54],\"yaxis\":\"y\",\"type\":\"bar\"},{\"alignmentgroup\":\"True\",\"hovertemplate\":\"ZIP Code=%{x}\\u003cbr\\u003eCount=%{y}\\u003cextra\\u003e\\u003c\\u002fextra\\u003e\",\"legendgroup\":\"91320\",\"marker\":{\"color\":\"#B6E880\",\"pattern\":{\"shape\":\"\"}},\"name\":\"91320\",\"offsetgroup\":\"91320\",\"orientation\":\"v\",\"showlegend\":true,\"textposition\":\"auto\",\"texttemplate\":\"%{y}\",\"x\":[\"91320\"],\"xaxis\":\"x\",\"y\":[53],\"yaxis\":\"y\",\"type\":\"bar\"},{\"alignmentgroup\":\"True\",\"hovertemplate\":\"ZIP Code=%{x}\\u003cbr\\u003eCount=%{y}\\u003cextra\\u003e\\u003c\\u002fextra\\u003e\",\"legendgroup\":\"94025\",\"marker\":{\"color\":\"#FF97FF\",\"pattern\":{\"shape\":\"\"}},\"name\":\"94025\",\"offsetgroup\":\"94025\",\"orientation\":\"v\",\"showlegend\":true,\"textposition\":\"auto\",\"texttemplate\":\"%{y}\",\"x\":[\"94025\"],\"xaxis\":\"x\",\"y\":[52],\"yaxis\":\"y\",\"type\":\"bar\"},{\"alignmentgroup\":\"True\",\"hovertemplate\":\"ZIP Code=%{x}\\u003cbr\\u003eCount=%{y}\\u003cextra\\u003e\\u003c\\u002fextra\\u003e\",\"legendgroup\":\"91711\",\"marker\":{\"color\":\"#FECB52\",\"pattern\":{\"shape\":\"\"}},\"name\":\"91711\",\"offsetgroup\":\"91711\",\"orientation\":\"v\",\"showlegend\":true,\"textposition\":\"auto\",\"texttemplate\":\"%{y}\",\"x\":[\"91711\"],\"xaxis\":\"x\",\"y\":[52],\"yaxis\":\"y\",\"type\":\"bar\"},{\"alignmentgroup\":\"True\",\"hovertemplate\":\"ZIP Code=%{x}\\u003cbr\\u003eCount=%{y}\\u003cextra\\u003e\\u003c\\u002fextra\\u003e\",\"legendgroup\":\"92093\",\"marker\":{\"color\":\"#636efa\",\"pattern\":{\"shape\":\"\"}},\"name\":\"92093\",\"offsetgroup\":\"92093\",\"orientation\":\"v\",\"showlegend\":true,\"textposition\":\"auto\",\"texttemplate\":\"%{y}\",\"x\":[\"92093\"],\"xaxis\":\"x\",\"y\":[51],\"yaxis\":\"y\",\"type\":\"bar\"},{\"alignmentgroup\":\"True\",\"hovertemplate\":\"ZIP Code=%{x}\\u003cbr\\u003eCount=%{y}\\u003cextra\\u003e\\u003c\\u002fextra\\u003e\",\"legendgroup\":\"90024\",\"marker\":{\"color\":\"#EF553B\",\"pattern\":{\"shape\":\"\"}},\"name\":\"90024\",\"offsetgroup\":\"90024\",\"orientation\":\"v\",\"showlegend\":true,\"textposition\":\"auto\",\"texttemplate\":\"%{y}\",\"x\":[\"90024\"],\"xaxis\":\"x\",\"y\":[50],\"yaxis\":\"y\",\"type\":\"bar\"},{\"alignmentgroup\":\"True\",\"hovertemplate\":\"ZIP Code=%{x}\\u003cbr\\u003eCount=%{y}\\u003cextra\\u003e\\u003c\\u002fextra\\u003e\",\"legendgroup\":\"90245\",\"marker\":{\"color\":\"#00cc96\",\"pattern\":{\"shape\":\"\"}},\"name\":\"90245\",\"offsetgroup\":\"90245\",\"orientation\":\"v\",\"showlegend\":true,\"textposition\":\"auto\",\"texttemplate\":\"%{y}\",\"x\":[\"90245\"],\"xaxis\":\"x\",\"y\":[50],\"yaxis\":\"y\",\"type\":\"bar\"},{\"alignmentgroup\":\"True\",\"hovertemplate\":\"ZIP Code=%{x}\\u003cbr\\u003eCount=%{y}\\u003cextra\\u003e\\u003c\\u002fextra\\u003e\",\"legendgroup\":\"91330\",\"marker\":{\"color\":\"#ab63fa\",\"pattern\":{\"shape\":\"\"}},\"name\":\"91330\",\"offsetgroup\":\"91330\",\"orientation\":\"v\",\"showlegend\":true,\"textposition\":\"auto\",\"texttemplate\":\"%{y}\",\"x\":[\"91330\"],\"xaxis\":\"x\",\"y\":[46],\"yaxis\":\"y\",\"type\":\"bar\"},{\"alignmentgroup\":\"True\",\"hovertemplate\":\"ZIP Code=%{x}\\u003cbr\\u003eCount=%{y}\\u003cextra\\u003e\\u003c\\u002fextra\\u003e\",\"legendgroup\":\"90089\",\"marker\":{\"color\":\"#FFA15A\",\"pattern\":{\"shape\":\"\"}},\"name\":\"90089\",\"offsetgroup\":\"90089\",\"orientation\":\"v\",\"showlegend\":true,\"textposition\":\"auto\",\"texttemplate\":\"%{y}\",\"x\":[\"90089\"],\"xaxis\":\"x\",\"y\":[46],\"yaxis\":\"y\",\"type\":\"bar\"},{\"alignmentgroup\":\"True\",\"hovertemplate\":\"ZIP Code=%{x}\\u003cbr\\u003eCount=%{y}\\u003cextra\\u003e\\u003c\\u002fextra\\u003e\",\"legendgroup\":\"92121\",\"marker\":{\"color\":\"#19d3f3\",\"pattern\":{\"shape\":\"\"}},\"name\":\"92121\",\"offsetgroup\":\"92121\",\"orientation\":\"v\",\"showlegend\":true,\"textposition\":\"auto\",\"texttemplate\":\"%{y}\",\"x\":[\"92121\"],\"xaxis\":\"x\",\"y\":[45],\"yaxis\":\"y\",\"type\":\"bar\"},{\"alignmentgroup\":\"True\",\"hovertemplate\":\"ZIP Code=%{x}\\u003cbr\\u003eCount=%{y}\\u003cextra\\u003e\\u003c\\u002fextra\\u003e\",\"legendgroup\":\"94304\",\"marker\":{\"color\":\"#FF6692\",\"pattern\":{\"shape\":\"\"}},\"name\":\"94304\",\"offsetgroup\":\"94304\",\"orientation\":\"v\",\"showlegend\":true,\"textposition\":\"auto\",\"texttemplate\":\"%{y}\",\"x\":[\"94304\"],\"xaxis\":\"x\",\"y\":[45],\"yaxis\":\"y\",\"type\":\"bar\"},{\"alignmentgroup\":\"True\",\"hovertemplate\":\"ZIP Code=%{x}\\u003cbr\\u003eCount=%{y}\\u003cextra\\u003e\\u003c\\u002fextra\\u003e\",\"legendgroup\":\"94143\",\"marker\":{\"color\":\"#B6E880\",\"pattern\":{\"shape\":\"\"}},\"name\":\"94143\",\"offsetgroup\":\"94143\",\"orientation\":\"v\",\"showlegend\":true,\"textposition\":\"auto\",\"texttemplate\":\"%{y}\",\"x\":[\"94143\"],\"xaxis\":\"x\",\"y\":[37],\"yaxis\":\"y\",\"type\":\"bar\"},{\"alignmentgroup\":\"True\",\"hovertemplate\":\"ZIP Code=%{x}\\u003cbr\\u003eCount=%{y}\\u003cextra\\u003e\\u003c\\u002fextra\\u003e\",\"legendgroup\":\"94608\",\"marker\":{\"color\":\"#FF97FF\",\"pattern\":{\"shape\":\"\"}},\"name\":\"94608\",\"offsetgroup\":\"94608\",\"orientation\":\"v\",\"showlegend\":true,\"textposition\":\"auto\",\"texttemplate\":\"%{y}\",\"x\":[\"94608\"],\"xaxis\":\"x\",\"y\":[34],\"yaxis\":\"y\",\"type\":\"bar\"},{\"alignmentgroup\":\"True\",\"hovertemplate\":\"ZIP Code=%{x}\\u003cbr\\u003eCount=%{y}\\u003cextra\\u003e\\u003c\\u002fextra\\u003e\",\"legendgroup\":\"95051\",\"marker\":{\"color\":\"#FECB52\",\"pattern\":{\"shape\":\"\"}},\"name\":\"95051\",\"offsetgroup\":\"95051\",\"orientation\":\"v\",\"showlegend\":true,\"textposition\":\"auto\",\"texttemplate\":\"%{y}\",\"x\":[\"95051\"],\"xaxis\":\"x\",\"y\":[34],\"yaxis\":\"y\",\"type\":\"bar\"},{\"alignmentgroup\":\"True\",\"hovertemplate\":\"ZIP Code=%{x}\\u003cbr\\u003eCount=%{y}\\u003cextra\\u003e\\u003c\\u002fextra\\u003e\",\"legendgroup\":\"92028\",\"marker\":{\"color\":\"#636efa\",\"pattern\":{\"shape\":\"\"}},\"name\":\"92028\",\"offsetgroup\":\"92028\",\"orientation\":\"v\",\"showlegend\":true,\"textposition\":\"auto\",\"texttemplate\":\"%{y}\",\"x\":[\"92028\"],\"xaxis\":\"x\",\"y\":[32],\"yaxis\":\"y\",\"type\":\"bar\"},{\"alignmentgroup\":\"True\",\"hovertemplate\":\"ZIP Code=%{x}\\u003cbr\\u003eCount=%{y}\\u003cextra\\u003e\\u003c\\u002fextra\\u003e\",\"legendgroup\":\"92521\",\"marker\":{\"color\":\"#EF553B\",\"pattern\":{\"shape\":\"\"}},\"name\":\"92521\",\"offsetgroup\":\"92521\",\"orientation\":\"v\",\"showlegend\":true,\"textposition\":\"auto\",\"texttemplate\":\"%{y}\",\"x\":[\"92521\"],\"xaxis\":\"x\",\"y\":[32],\"yaxis\":\"y\",\"type\":\"bar\"},{\"alignmentgroup\":\"True\",\"hovertemplate\":\"ZIP Code=%{x}\\u003cbr\\u003eCount=%{y}\\u003cextra\\u003e\\u003c\\u002fextra\\u003e\",\"legendgroup\":\"92182\",\"marker\":{\"color\":\"#00cc96\",\"pattern\":{\"shape\":\"\"}},\"name\":\"92182\",\"offsetgroup\":\"92182\",\"orientation\":\"v\",\"showlegend\":true,\"textposition\":\"auto\",\"texttemplate\":\"%{y}\",\"x\":[\"92182\"],\"xaxis\":\"x\",\"y\":[32],\"yaxis\":\"y\",\"type\":\"bar\"},{\"alignmentgroup\":\"True\",\"hovertemplate\":\"ZIP Code=%{x}\\u003cbr\\u003eCount=%{y}\\u003cextra\\u003e\\u003c\\u002fextra\\u003e\",\"legendgroup\":\"95054\",\"marker\":{\"color\":\"#ab63fa\",\"pattern\":{\"shape\":\"\"}},\"name\":\"95054\",\"offsetgroup\":\"95054\",\"orientation\":\"v\",\"showlegend\":true,\"textposition\":\"auto\",\"texttemplate\":\"%{y}\",\"x\":[\"95054\"],\"xaxis\":\"x\",\"y\":[31],\"yaxis\":\"y\",\"type\":\"bar\"},{\"alignmentgroup\":\"True\",\"hovertemplate\":\"ZIP Code=%{x}\\u003cbr\\u003eCount=%{y}\\u003cextra\\u003e\\u003c\\u002fextra\\u003e\",\"legendgroup\":\"95814\",\"marker\":{\"color\":\"#FFA15A\",\"pattern\":{\"shape\":\"\"}},\"name\":\"95814\",\"offsetgroup\":\"95814\",\"orientation\":\"v\",\"showlegend\":true,\"textposition\":\"auto\",\"texttemplate\":\"%{y}\",\"x\":[\"95814\"],\"xaxis\":\"x\",\"y\":[30],\"yaxis\":\"y\",\"type\":\"bar\"},{\"alignmentgroup\":\"True\",\"hovertemplate\":\"ZIP Code=%{x}\\u003cbr\\u003eCount=%{y}\\u003cextra\\u003e\\u003c\\u002fextra\\u003e\",\"legendgroup\":\"95014\",\"marker\":{\"color\":\"#19d3f3\",\"pattern\":{\"shape\":\"\"}},\"name\":\"95014\",\"offsetgroup\":\"95014\",\"orientation\":\"v\",\"showlegend\":true,\"textposition\":\"auto\",\"texttemplate\":\"%{y}\",\"x\":[\"95014\"],\"xaxis\":\"x\",\"y\":[29],\"yaxis\":\"y\",\"type\":\"bar\"},{\"alignmentgroup\":\"True\",\"hovertemplate\":\"ZIP Code=%{x}\\u003cbr\\u003eCount=%{y}\\u003cextra\\u003e\\u003c\\u002fextra\\u003e\",\"legendgroup\":\"94550\",\"marker\":{\"color\":\"#FF6692\",\"pattern\":{\"shape\":\"\"}},\"name\":\"94550\",\"offsetgroup\":\"94550\",\"orientation\":\"v\",\"showlegend\":true,\"textposition\":\"auto\",\"texttemplate\":\"%{y}\",\"x\":[\"94550\"],\"xaxis\":\"x\",\"y\":[27],\"yaxis\":\"y\",\"type\":\"bar\"},{\"alignmentgroup\":\"True\",\"hovertemplate\":\"ZIP Code=%{x}\\u003cbr\\u003eCount=%{y}\\u003cextra\\u003e\\u003c\\u002fextra\\u003e\",\"legendgroup\":\"94301\",\"marker\":{\"color\":\"#B6E880\",\"pattern\":{\"shape\":\"\"}},\"name\":\"94301\",\"offsetgroup\":\"94301\",\"orientation\":\"v\",\"showlegend\":true,\"textposition\":\"auto\",\"texttemplate\":\"%{y}\",\"x\":[\"94301\"],\"xaxis\":\"x\",\"y\":[27],\"yaxis\":\"y\",\"type\":\"bar\"},{\"alignmentgroup\":\"True\",\"hovertemplate\":\"ZIP Code=%{x}\\u003cbr\\u003eCount=%{y}\\u003cextra\\u003e\\u003c\\u002fextra\\u003e\",\"legendgroup\":\"94542\",\"marker\":{\"color\":\"#FF97FF\",\"pattern\":{\"shape\":\"\"}},\"name\":\"94542\",\"offsetgroup\":\"94542\",\"orientation\":\"v\",\"showlegend\":true,\"textposition\":\"auto\",\"texttemplate\":\"%{y}\",\"x\":[\"94542\"],\"xaxis\":\"x\",\"y\":[27],\"yaxis\":\"y\",\"type\":\"bar\"},{\"alignmentgroup\":\"True\",\"hovertemplate\":\"ZIP Code=%{x}\\u003cbr\\u003eCount=%{y}\\u003cextra\\u003e\\u003c\\u002fextra\\u003e\",\"legendgroup\":\"93407\",\"marker\":{\"color\":\"#FECB52\",\"pattern\":{\"shape\":\"\"}},\"name\":\"93407\",\"offsetgroup\":\"93407\",\"orientation\":\"v\",\"showlegend\":true,\"textposition\":\"auto\",\"texttemplate\":\"%{y}\",\"x\":[\"93407\"],\"xaxis\":\"x\",\"y\":[26],\"yaxis\":\"y\",\"type\":\"bar\"}],                        {\"template\":{\"data\":{\"histogram2dcontour\":[{\"type\":\"histogram2dcontour\",\"colorbar\":{\"outlinewidth\":0,\"ticks\":\"\"},\"colorscale\":[[0.0,\"#0d0887\"],[0.1111111111111111,\"#46039f\"],[0.2222222222222222,\"#7201a8\"],[0.3333333333333333,\"#9c179e\"],[0.4444444444444444,\"#bd3786\"],[0.5555555555555556,\"#d8576b\"],[0.6666666666666666,\"#ed7953\"],[0.7777777777777778,\"#fb9f3a\"],[0.8888888888888888,\"#fdca26\"],[1.0,\"#f0f921\"]]}],\"choropleth\":[{\"type\":\"choropleth\",\"colorbar\":{\"outlinewidth\":0,\"ticks\":\"\"}}],\"histogram2d\":[{\"type\":\"histogram2d\",\"colorbar\":{\"outlinewidth\":0,\"ticks\":\"\"},\"colorscale\":[[0.0,\"#0d0887\"],[0.1111111111111111,\"#46039f\"],[0.2222222222222222,\"#7201a8\"],[0.3333333333333333,\"#9c179e\"],[0.4444444444444444,\"#bd3786\"],[0.5555555555555556,\"#d8576b\"],[0.6666666666666666,\"#ed7953\"],[0.7777777777777778,\"#fb9f3a\"],[0.8888888888888888,\"#fdca26\"],[1.0,\"#f0f921\"]]}],\"heatmap\":[{\"type\":\"heatmap\",\"colorbar\":{\"outlinewidth\":0,\"ticks\":\"\"},\"colorscale\":[[0.0,\"#0d0887\"],[0.1111111111111111,\"#46039f\"],[0.2222222222222222,\"#7201a8\"],[0.3333333333333333,\"#9c179e\"],[0.4444444444444444,\"#bd3786\"],[0.5555555555555556,\"#d8576b\"],[0.6666666666666666,\"#ed7953\"],[0.7777777777777778,\"#fb9f3a\"],[0.8888888888888888,\"#fdca26\"],[1.0,\"#f0f921\"]]}],\"heatmapgl\":[{\"type\":\"heatmapgl\",\"colorbar\":{\"outlinewidth\":0,\"ticks\":\"\"},\"colorscale\":[[0.0,\"#0d0887\"],[0.1111111111111111,\"#46039f\"],[0.2222222222222222,\"#7201a8\"],[0.3333333333333333,\"#9c179e\"],[0.4444444444444444,\"#bd3786\"],[0.5555555555555556,\"#d8576b\"],[0.6666666666666666,\"#ed7953\"],[0.7777777777777778,\"#fb9f3a\"],[0.8888888888888888,\"#fdca26\"],[1.0,\"#f0f921\"]]}],\"contourcarpet\":[{\"type\":\"contourcarpet\",\"colorbar\":{\"outlinewidth\":0,\"ticks\":\"\"}}],\"contour\":[{\"type\":\"contour\",\"colorbar\":{\"outlinewidth\":0,\"ticks\":\"\"},\"colorscale\":[[0.0,\"#0d0887\"],[0.1111111111111111,\"#46039f\"],[0.2222222222222222,\"#7201a8\"],[0.3333333333333333,\"#9c179e\"],[0.4444444444444444,\"#bd3786\"],[0.5555555555555556,\"#d8576b\"],[0.6666666666666666,\"#ed7953\"],[0.7777777777777778,\"#fb9f3a\"],[0.8888888888888888,\"#fdca26\"],[1.0,\"#f0f921\"]]}],\"surface\":[{\"type\":\"surface\",\"colorbar\":{\"outlinewidth\":0,\"ticks\":\"\"},\"colorscale\":[[0.0,\"#0d0887\"],[0.1111111111111111,\"#46039f\"],[0.2222222222222222,\"#7201a8\"],[0.3333333333333333,\"#9c179e\"],[0.4444444444444444,\"#bd3786\"],[0.5555555555555556,\"#d8576b\"],[0.6666666666666666,\"#ed7953\"],[0.7777777777777778,\"#fb9f3a\"],[0.8888888888888888,\"#fdca26\"],[1.0,\"#f0f921\"]]}],\"mesh3d\":[{\"type\":\"mesh3d\",\"colorbar\":{\"outlinewidth\":0,\"ticks\":\"\"}}],\"scatter\":[{\"marker\":{\"line\":{\"color\":\"#283442\"}},\"type\":\"scatter\"}],\"parcoords\":[{\"type\":\"parcoords\",\"line\":{\"colorbar\":{\"outlinewidth\":0,\"ticks\":\"\"}}}],\"scatterpolargl\":[{\"type\":\"scatterpolargl\",\"marker\":{\"colorbar\":{\"outlinewidth\":0,\"ticks\":\"\"}}}],\"bar\":[{\"error_x\":{\"color\":\"#f2f5fa\"},\"error_y\":{\"color\":\"#f2f5fa\"},\"marker\":{\"line\":{\"color\":\"rgb(17,17,17)\",\"width\":0.5},\"pattern\":{\"fillmode\":\"overlay\",\"size\":10,\"solidity\":0.2}},\"type\":\"bar\"}],\"scattergeo\":[{\"type\":\"scattergeo\",\"marker\":{\"colorbar\":{\"outlinewidth\":0,\"ticks\":\"\"}}}],\"scatterpolar\":[{\"type\":\"scatterpolar\",\"marker\":{\"colorbar\":{\"outlinewidth\":0,\"ticks\":\"\"}}}],\"histogram\":[{\"marker\":{\"pattern\":{\"fillmode\":\"overlay\",\"size\":10,\"solidity\":0.2}},\"type\":\"histogram\"}],\"scattergl\":[{\"marker\":{\"line\":{\"color\":\"#283442\"}},\"type\":\"scattergl\"}],\"scatter3d\":[{\"type\":\"scatter3d\",\"line\":{\"colorbar\":{\"outlinewidth\":0,\"ticks\":\"\"}},\"marker\":{\"colorbar\":{\"outlinewidth\":0,\"ticks\":\"\"}}}],\"scattermapbox\":[{\"type\":\"scattermapbox\",\"marker\":{\"colorbar\":{\"outlinewidth\":0,\"ticks\":\"\"}}}],\"scatterternary\":[{\"type\":\"scatterternary\",\"marker\":{\"colorbar\":{\"outlinewidth\":0,\"ticks\":\"\"}}}],\"scattercarpet\":[{\"type\":\"scattercarpet\",\"marker\":{\"colorbar\":{\"outlinewidth\":0,\"ticks\":\"\"}}}],\"carpet\":[{\"aaxis\":{\"endlinecolor\":\"#A2B1C6\",\"gridcolor\":\"#506784\",\"linecolor\":\"#506784\",\"minorgridcolor\":\"#506784\",\"startlinecolor\":\"#A2B1C6\"},\"baxis\":{\"endlinecolor\":\"#A2B1C6\",\"gridcolor\":\"#506784\",\"linecolor\":\"#506784\",\"minorgridcolor\":\"#506784\",\"startlinecolor\":\"#A2B1C6\"},\"type\":\"carpet\"}],\"table\":[{\"cells\":{\"fill\":{\"color\":\"#506784\"},\"line\":{\"color\":\"rgb(17,17,17)\"}},\"header\":{\"fill\":{\"color\":\"#2a3f5f\"},\"line\":{\"color\":\"rgb(17,17,17)\"}},\"type\":\"table\"}],\"barpolar\":[{\"marker\":{\"line\":{\"color\":\"rgb(17,17,17)\",\"width\":0.5},\"pattern\":{\"fillmode\":\"overlay\",\"size\":10,\"solidity\":0.2}},\"type\":\"barpolar\"}],\"pie\":[{\"automargin\":true,\"type\":\"pie\"}]},\"layout\":{\"autotypenumbers\":\"strict\",\"colorway\":[\"#636efa\",\"#EF553B\",\"#00cc96\",\"#ab63fa\",\"#FFA15A\",\"#19d3f3\",\"#FF6692\",\"#B6E880\",\"#FF97FF\",\"#FECB52\"],\"font\":{\"color\":\"#f2f5fa\"},\"hovermode\":\"closest\",\"hoverlabel\":{\"align\":\"left\"},\"paper_bgcolor\":\"rgb(17,17,17)\",\"plot_bgcolor\":\"rgb(17,17,17)\",\"polar\":{\"bgcolor\":\"rgb(17,17,17)\",\"angularaxis\":{\"gridcolor\":\"#506784\",\"linecolor\":\"#506784\",\"ticks\":\"\"},\"radialaxis\":{\"gridcolor\":\"#506784\",\"linecolor\":\"#506784\",\"ticks\":\"\"}},\"ternary\":{\"bgcolor\":\"rgb(17,17,17)\",\"aaxis\":{\"gridcolor\":\"#506784\",\"linecolor\":\"#506784\",\"ticks\":\"\"},\"baxis\":{\"gridcolor\":\"#506784\",\"linecolor\":\"#506784\",\"ticks\":\"\"},\"caxis\":{\"gridcolor\":\"#506784\",\"linecolor\":\"#506784\",\"ticks\":\"\"}},\"coloraxis\":{\"colorbar\":{\"outlinewidth\":0,\"ticks\":\"\"}},\"colorscale\":{\"sequential\":[[0.0,\"#0d0887\"],[0.1111111111111111,\"#46039f\"],[0.2222222222222222,\"#7201a8\"],[0.3333333333333333,\"#9c179e\"],[0.4444444444444444,\"#bd3786\"],[0.5555555555555556,\"#d8576b\"],[0.6666666666666666,\"#ed7953\"],[0.7777777777777778,\"#fb9f3a\"],[0.8888888888888888,\"#fdca26\"],[1.0,\"#f0f921\"]],\"sequentialminus\":[[0.0,\"#0d0887\"],[0.1111111111111111,\"#46039f\"],[0.2222222222222222,\"#7201a8\"],[0.3333333333333333,\"#9c179e\"],[0.4444444444444444,\"#bd3786\"],[0.5555555555555556,\"#d8576b\"],[0.6666666666666666,\"#ed7953\"],[0.7777777777777778,\"#fb9f3a\"],[0.8888888888888888,\"#fdca26\"],[1.0,\"#f0f921\"]],\"diverging\":[[0,\"#8e0152\"],[0.1,\"#c51b7d\"],[0.2,\"#de77ae\"],[0.3,\"#f1b6da\"],[0.4,\"#fde0ef\"],[0.5,\"#f7f7f7\"],[0.6,\"#e6f5d0\"],[0.7,\"#b8e186\"],[0.8,\"#7fbc41\"],[0.9,\"#4d9221\"],[1,\"#276419\"]]},\"xaxis\":{\"gridcolor\":\"#283442\",\"linecolor\":\"#506784\",\"ticks\":\"\",\"title\":{\"standoff\":15},\"zerolinecolor\":\"#283442\",\"automargin\":true,\"zerolinewidth\":2},\"yaxis\":{\"gridcolor\":\"#283442\",\"linecolor\":\"#506784\",\"ticks\":\"\",\"title\":{\"standoff\":15},\"zerolinecolor\":\"#283442\",\"automargin\":true,\"zerolinewidth\":2},\"scene\":{\"xaxis\":{\"backgroundcolor\":\"rgb(17,17,17)\",\"gridcolor\":\"#506784\",\"linecolor\":\"#506784\",\"showbackground\":true,\"ticks\":\"\",\"zerolinecolor\":\"#C8D4E3\",\"gridwidth\":2},\"yaxis\":{\"backgroundcolor\":\"rgb(17,17,17)\",\"gridcolor\":\"#506784\",\"linecolor\":\"#506784\",\"showbackground\":true,\"ticks\":\"\",\"zerolinecolor\":\"#C8D4E3\",\"gridwidth\":2},\"zaxis\":{\"backgroundcolor\":\"rgb(17,17,17)\",\"gridcolor\":\"#506784\",\"linecolor\":\"#506784\",\"showbackground\":true,\"ticks\":\"\",\"zerolinecolor\":\"#C8D4E3\",\"gridwidth\":2}},\"shapedefaults\":{\"line\":{\"color\":\"#f2f5fa\"}},\"annotationdefaults\":{\"arrowcolor\":\"#f2f5fa\",\"arrowhead\":0,\"arrowwidth\":1},\"geo\":{\"bgcolor\":\"rgb(17,17,17)\",\"landcolor\":\"rgb(17,17,17)\",\"subunitcolor\":\"#506784\",\"showland\":true,\"showlakes\":true,\"lakecolor\":\"rgb(17,17,17)\"},\"title\":{\"x\":0.05},\"updatemenudefaults\":{\"bgcolor\":\"#506784\",\"borderwidth\":0},\"sliderdefaults\":{\"bgcolor\":\"#C8D4E3\",\"borderwidth\":1,\"bordercolor\":\"rgb(17,17,17)\",\"tickwidth\":0},\"mapbox\":{\"style\":\"dark\"}}},\"xaxis\":{\"anchor\":\"y\",\"domain\":[0.0,1.0],\"title\":{\"text\":\"ZIP Code\"},\"categoryorder\":\"array\",\"categoryarray\":[\"94720\",\"94305\",\"95616\",\"90095\",\"93106\",\"92037\",\"93943\",\"91320\",\"94025\",\"91711\",\"92093\",\"90024\",\"90245\",\"91330\",\"90089\",\"92121\",\"94304\",\"94143\",\"94608\",\"95051\",\"92028\",\"92521\",\"92182\",\"95054\",\"95814\",\"95014\",\"94550\",\"94301\",\"94542\",\"93407\"]},\"yaxis\":{\"anchor\":\"x\",\"domain\":[0.0,1.0],\"title\":{\"text\":\"Count\"}},\"legend\":{\"title\":{\"text\":\"ZIP Code\"},\"tracegroupgap\":0},\"margin\":{\"t\":60},\"barmode\":\"relative\",\"title\":{\"text\":\"Number of clients by Zip Code location\"}},                        {\"responsive\": true}                    ).then(function(){\n                            \nvar gd = document.getElementById('4e214b25-f1e2-4236-9b20-117873385000');\nvar x = new MutationObserver(function (mutations, observer) {{\n        var display = window.getComputedStyle(gd).display;\n        if (!display || display === 'none') {{\n            console.log([gd, 'removed!']);\n            Plotly.purge(gd);\n            observer.disconnect();\n        }}\n}});\n\n// Listen for the removal of the full notebook cells\nvar notebookContainer = gd.closest('#notebook-container');\nif (notebookContainer) {{\n    x.observe(notebookContainer, {childList: true});\n}}\n\n// Listen for the clearing of the current output cell\nvar outputEl = gd.closest('.output');\nif (outputEl) {{\n    x.observe(outputEl, {childList: true});\n}}\n\n                        })                };                });            </script>        </div>"
     },
     "metadata": {},
     "output_type": "display_data"
    }
   ],
   "source": [
    "data3 = data.copy()\n",
    "data3['ZIP Code'] = data3['ZIP Code'].astype(str)\n",
    "zip_counts = data3.groupby('ZIP Code').size().reset_index(name='Count')\n",
    "zip_counts_sorted = zip_counts.sort_values(by='Count', ascending=False).head(30)\n",
    "fig = px.bar(zip_counts_sorted, x='ZIP Code', y='Count', color='ZIP Code', text_auto=True)\n",
    "fig.update_layout(title='Number of clients by Zip Code location')\n",
    "fig.show()"
   ],
   "metadata": {
    "collapsed": false,
    "ExecuteTime": {
     "end_time": "2024-03-17T07:08:37.875971Z",
     "start_time": "2024-03-17T07:08:37.759640Z"
    }
   },
   "id": "f89aed6ddbd54f4e",
   "execution_count": 104
  },
  {
   "cell_type": "markdown",
   "source": [
    "## Machine Learning "
   ],
   "metadata": {
    "collapsed": false
   },
   "id": "5d500e5cb7b0225a"
  },
  {
   "cell_type": "code",
   "outputs": [],
   "source": [
    "X = data.drop('Personal Loan', axis=1)\n",
    "y = data['Personal Loan']\n",
    "X_train, X_test, y_train, y_test = train_test_split(X, y, test_size=0.2, random_state=42)"
   ],
   "metadata": {
    "collapsed": false,
    "ExecuteTime": {
     "end_time": "2024-03-17T09:08:40.819096Z",
     "start_time": "2024-03-17T09:08:40.811636Z"
    }
   },
   "id": "6f8a4b2119dd7214",
   "execution_count": 173
  },
  {
   "cell_type": "code",
   "outputs": [],
   "source": [
    "def fit_model(model):\n",
    "    model.fit(X_train, y_train)\n",
    "    y_pred = model.predict(X_test)\n",
    "    print('Model name: ', str(model))\n",
    "    print(f'Accurance Score: {int(accuracy_score(y_test, y_pred) * 100)}%')\n",
    "    print(f'Mean Squared Error: {round(mean_squared_error(y_test, y_pred), 3) * 100}%')\n",
    "    print(f'Cross Validation Score: {int(np.mean(cross_val_score(model, X_train, y_train, cv=10)) * 100)}%')\n",
    "    print(f'Confusion Matrix:')\n",
    "    cm = confusion_matrix(y_test, y_pred)\n",
    "    disp = ConfusionMatrixDisplay(confusion_matrix=cm)\n",
    "    disp.plot()\n",
    "    plt.show()"
   ],
   "metadata": {
    "collapsed": false,
    "ExecuteTime": {
     "end_time": "2024-03-17T11:08:34.146047Z",
     "start_time": "2024-03-17T11:08:34.142230Z"
    }
   },
   "id": "4e03cc3eccb1149c",
   "execution_count": 187
  },
  {
   "cell_type": "markdown",
   "source": [
    "## Logistic Regression"
   ],
   "metadata": {
    "collapsed": false
   },
   "id": "dd80a093cbbebb9c"
  },
  {
   "cell_type": "code",
   "outputs": [
    {
     "name": "stdout",
     "output_type": "stream",
     "text": [
      "Model name:  LogisticRegression()\n",
      "Accurance Score: 95%\n",
      "Mean Squared Error: 4.9%\n",
      "Cross Validation Score: 92%\n",
      "Confusion Matrix:\n"
     ]
    },
    {
     "data": {
      "text/plain": "<Figure size 640x480 with 2 Axes>",
      "image/png": "[encoded data removed]"
     },
     "metadata": {},
     "output_type": "display_data"
    }
   ],
   "source": [
    "model = LogisticRegression()\n",
    "fit_model(model)"
   ],
   "metadata": {
    "collapsed": false,
    "ExecuteTime": {
     "end_time": "2024-03-17T11:08:35.648563Z",
     "start_time": "2024-03-17T11:08:34.602702Z"
    }
   },
   "id": "7ef509083c2272df",
   "execution_count": 188
  },
  {
   "cell_type": "markdown",
   "source": [
    "## Decision Tree Classifier"
   ],
   "metadata": {
    "collapsed": false
   },
   "id": "acaae4391dbff123"
  },
  {
   "cell_type": "code",
   "outputs": [
    {
     "name": "stdout",
     "output_type": "stream",
     "text": [
      "Model name:  DecisionTreeClassifier()\n",
      "Accurance Score: 98%\n",
      "Mean Squared Error: 1.2%\n",
      "Cross Validation Score: 98%\n",
      "Confusion Matrix:\n"
     ]
    },
    {
     "data": {
      "text/plain": "<Figure size 640x480 with 2 Axes>",
      "image/png": "[encoded data removed]"
     },
     "metadata": {},
     "output_type": "display_data"
    }
   ],
   "source": [
    "model = DecisionTreeClassifier()\n",
    "fit_model(model)"
   ],
   "metadata": {
    "collapsed": false,
    "ExecuteTime": {
     "end_time": "2024-03-17T11:08:35.904848Z",
     "start_time": "2024-03-17T11:08:35.649758Z"
    }
   },
   "id": "c936e18be7b28156",
   "execution_count": 189
  },
  {
   "cell_type": "markdown",
   "source": [
    "## Random Forest Classifier"
   ],
   "metadata": {
    "collapsed": false
   },
   "id": "44c3975b4ffefc33"
  },
  {
   "cell_type": "code",
   "outputs": [
    {
     "name": "stdout",
     "output_type": "stream",
     "text": [
      "Model name:  RandomForestClassifier()\n",
      "Accurance Score: 99%\n",
      "Mean Squared Error: 1.0%\n",
      "Cross Validation Score: 98%\n",
      "Confusion Matrix:\n"
     ]
    },
    {
     "data": {
      "text/plain": "<Figure size 640x480 with 2 Axes>",
      "image/png": "[encoded data removed]"
     },
     "metadata": {},
     "output_type": "display_data"
    }
   ],
   "source": [
    "model = RandomForestClassifier()\n",
    "fit_model(model)"
   ],
   "metadata": {
    "collapsed": false,
    "ExecuteTime": {
     "end_time": "2024-03-17T11:08:38.956305Z",
     "start_time": "2024-03-17T11:08:35.906175Z"
    }
   },
   "id": "c681cb2cb37ba71a",
   "execution_count": 190
  },
  {
   "cell_type": "markdown",
   "source": [
    "## SVC"
   ],
   "metadata": {
    "collapsed": false
   },
   "id": "1cb664fce009c45f"
  },
  {
   "cell_type": "code",
   "outputs": [
    {
     "name": "stdout",
     "output_type": "stream",
     "text": [
      "Model name:  SVC()\n",
      "Accurance Score: 89%\n",
      "Mean Squared Error: 10.5%\n",
      "Cross Validation Score: 90%\n",
      "Confusion Matrix:\n"
     ]
    },
    {
     "data": {
      "text/plain": "<Figure size 640x480 with 2 Axes>",
      "image/png": "[encoded data removed]"
     },
     "metadata": {},
     "output_type": "display_data"
    }
   ],
   "source": [
    "model = SVC()\n",
    "fit_model(model)"
   ],
   "metadata": {
    "collapsed": false,
    "ExecuteTime": {
     "end_time": "2024-03-17T11:08:39.922727Z",
     "start_time": "2024-03-17T11:08:38.957544Z"
    }
   },
   "id": "dbb2920a4988e413",
   "execution_count": 191
  },
  {
   "cell_type": "markdown",
   "source": [
    "## KNN"
   ],
   "metadata": {
    "collapsed": false
   },
   "id": "d078e3c20c9ed010"
  },
  {
   "cell_type": "code",
   "outputs": [
    {
     "name": "stdout",
     "output_type": "stream",
     "text": [
      "Model name:  KNeighborsClassifier()\n",
      "Accurance Score: 89%\n",
      "Mean Squared Error: 10.5%\n",
      "Cross Validation Score: 90%\n",
      "Confusion Matrix:\n"
     ]
    },
    {
     "data": {
      "text/plain": "<Figure size 640x480 with 2 Axes>",
      "image/png": "[encoded data removed]"
     },
     "metadata": {},
     "output_type": "display_data"
    }
   ],
   "source": [
    "model = KNeighborsClassifier()\n",
    "fit_model(model)"
   ],
   "metadata": {
    "collapsed": false,
    "ExecuteTime": {
     "end_time": "2024-03-17T11:08:40.280749Z",
     "start_time": "2024-03-17T11:08:39.923666Z"
    }
   },
   "id": "1ec2272d80e90a18",
   "execution_count": 192
  },
  {
   "cell_type": "markdown",
   "source": [
    "## Linear Discriminant Analysis"
   ],
   "metadata": {
    "collapsed": false
   },
   "id": "e3db1cd9a7bb08a0"
  },
  {
   "cell_type": "code",
   "outputs": [
    {
     "name": "stdout",
     "output_type": "stream",
     "text": [
      "Model name:  LinearDiscriminantAnalysis()\n",
      "Accurance Score: 94%\n",
      "Mean Squared Error: 5.3%\n",
      "Cross Validation Score: 94%\n",
      "Confusion Matrix:\n"
     ]
    },
    {
     "data": {
      "text/plain": "<Figure size 640x480 with 2 Axes>",
      "image/png": "[encoded data removed]"
     },
     "metadata": {},
     "output_type": "display_data"
    }
   ],
   "source": [
    "model = LinearDiscriminantAnalysis()\n",
    "fit_model(model)"
   ],
   "metadata": {
    "collapsed": false,
    "ExecuteTime": {
     "end_time": "2024-03-17T11:08:40.526811Z",
     "start_time": "2024-03-17T11:08:40.281535Z"
    }
   },
   "id": "388a72490a846377",
   "execution_count": 193
  },
  {
   "cell_type": "markdown",
   "source": [
    "## GaussianNB"
   ],
   "metadata": {
    "collapsed": false
   },
   "id": "c33d30b332a507e3"
  },
  {
   "cell_type": "code",
   "outputs": [
    {
     "name": "stdout",
     "output_type": "stream",
     "text": [
      "Model name:  GaussianNB()\n",
      "Accurance Score: 90%\n",
      "Mean Squared Error: 9.3%\n",
      "Cross Validation Score: 89%\n",
      "Confusion Matrix:\n"
     ]
    },
    {
     "data": {
      "text/plain": "<Figure size 640x480 with 2 Axes>",
      "image/png": "[encoded data removed]"
     },
     "metadata": {},
     "output_type": "display_data"
    }
   ],
   "source": [
    "model = GaussianNB()\n",
    "fit_model(model)"
   ],
   "metadata": {
    "collapsed": false,
    "ExecuteTime": {
     "end_time": "2024-03-17T11:15:15.675880Z",
     "start_time": "2024-03-17T11:15:15.515839Z"
    }
   },
   "id": "b86467fe4a6250e",
   "execution_count": 195
  },
  {
   "cell_type": "code",
   "outputs": [],
   "source": [],
   "metadata": {
    "collapsed": false
   },
   "id": "687cf81c28646abe"
  }
 ],
 "metadata": {
  "kernelspec": {
   "display_name": "Python 3",
   "language": "python",
   "name": "python3"
  },
  "language_info": {
   "codemirror_mode": {
    "name": "ipython",
    "version": 2
   },
   "file_extension": ".py",
   "mimetype": "text/x-python",
   "name": "python",
   "nbconvert_exporter": "python",
   "pygments_lexer": "ipython2",
   "version": "2.7.6"
  }
 },
 "nbformat": 4,
 "nbformat_minor": 5
}
